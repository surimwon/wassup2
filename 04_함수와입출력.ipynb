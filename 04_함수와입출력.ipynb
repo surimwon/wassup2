{
 "cells": [
  {
   "cell_type": "markdown",
   "id": "39033744",
   "metadata": {},
   "source": [
    "# 파이썬의 입출력"
   ]
  },
  {
   "cell_type": "markdown",
   "id": "a3371747",
   "metadata": {},
   "source": [
    "## 함수"
   ]
  },
  {
   "cell_type": "markdown",
   "id": "1470d096",
   "metadata": {},
   "source": [
    "### 함수의 구조"
   ]
  },
  {
   "cell_type": "code",
   "execution_count": null,
   "id": "2f0d51fd",
   "metadata": {
    "ExecuteTime": {
     "end_time": "2024-03-07T00:27:03.149148Z",
     "start_time": "2024-03-07T00:27:03.146755Z"
    }
   },
   "outputs": [],
   "source": [
    "def add(a, b): # 매개 변수 \n",
    "    return a + b"
   ]
  },
  {
   "cell_type": "code",
   "execution_count": null,
   "id": "fe653cec",
   "metadata": {
    "ExecuteTime": {
     "end_time": "2024-03-07T00:32:03.664623Z",
     "start_time": "2024-03-07T00:32:03.660980Z"
    }
   },
   "outputs": [],
   "source": [
    "c = 3\n",
    "d = 4\n",
    "add(c, d) #인수 "
   ]
  },
  {
   "cell_type": "code",
   "execution_count": null,
   "id": "7d677ddd",
   "metadata": {
    "ExecuteTime": {
     "end_time": "2024-03-07T00:32:04.825694Z",
     "start_time": "2024-03-07T00:32:04.822109Z"
    }
   },
   "outputs": [],
   "source": [
    "e = add(c, d)\n",
    "e"
   ]
  },
  {
   "cell_type": "markdown",
   "id": "e9315452",
   "metadata": {},
   "source": [
    "### 매개변수와 인수"
   ]
  },
  {
   "cell_type": "code",
   "execution_count": null,
   "id": "345415fa",
   "metadata": {
    "ExecuteTime": {
     "end_time": "2024-03-07T00:32:37.154160Z",
     "start_time": "2024-03-07T00:32:37.150574Z"
    }
   },
   "outputs": [],
   "source": [
    "add(5, 7)"
   ]
  },
  {
   "cell_type": "markdown",
   "id": "508cf75a",
   "metadata": {},
   "source": [
    "### 입력값과 리턴값에 따른 함수의 형태"
   ]
  },
  {
   "cell_type": "code",
   "execution_count": null,
   "id": "af2985ab",
   "metadata": {
    "ExecuteTime": {
     "end_time": "2024-03-07T00:34:55.358166Z",
     "start_time": "2024-03-07T00:34:55.355365Z"
    }
   },
   "outputs": [],
   "source": [
    "#일반적인 함수\n",
    "def add(a, b): \n",
    "    result = a + b \n",
    "    return result"
   ]
  },
  {
   "cell_type": "code",
   "execution_count": null,
   "id": "d7186ff3",
   "metadata": {
    "ExecuteTime": {
     "end_time": "2024-03-07T00:35:05.634324Z",
     "start_time": "2024-03-07T00:35:05.631359Z"
    }
   },
   "outputs": [],
   "source": [
    "a = add(3, 4)\n",
    "print(a)"
   ]
  },
  {
   "cell_type": "code",
   "execution_count": null,
   "id": "711647ec",
   "metadata": {
    "ExecuteTime": {
     "end_time": "2024-03-07T00:36:02.859202Z",
     "start_time": "2024-03-07T00:36:02.854812Z"
    }
   },
   "outputs": [],
   "source": [
    "# 입력값이 없는 함수\n",
    "def say(): \n",
    "    return 'Hi' "
   ]
  },
  {
   "cell_type": "code",
   "execution_count": null,
   "id": "544e1ed9",
   "metadata": {
    "ExecuteTime": {
     "end_time": "2024-03-07T00:36:16.639624Z",
     "start_time": "2024-03-07T00:36:16.635440Z"
    }
   },
   "outputs": [],
   "source": [
    "a = say()\n",
    "print(a)"
   ]
  },
  {
   "cell_type": "code",
   "execution_count": null,
   "id": "2cfb134f",
   "metadata": {
    "ExecuteTime": {
     "end_time": "2024-03-07T00:38:26.681055Z",
     "start_time": "2024-03-07T00:38:26.678366Z"
    }
   },
   "outputs": [],
   "source": [
    "#리턴값이 없는 함수\n",
    "def add(a, b): \n",
    "    #정의만 내려진 상태이므로 \n",
    "    #print(c)를 써도 에러가 발생하지 않음\n",
    "    print(\"%d, %d의 합은 %d입니다.\" % (a, b, a+b))"
   ]
  },
  {
   "cell_type": "code",
   "execution_count": null,
   "id": "6428e65f",
   "metadata": {
    "ExecuteTime": {
     "end_time": "2024-03-07T00:38:25.862253Z",
     "start_time": "2024-03-07T00:38:25.858180Z"
    }
   },
   "outputs": [],
   "source": [
    "add(3, 4)"
   ]
  },
  {
   "cell_type": "code",
   "execution_count": null,
   "id": "f9dcf59c",
   "metadata": {
    "ExecuteTime": {
     "end_time": "2024-03-07T00:38:51.522693Z",
     "start_time": "2024-03-07T00:38:51.519420Z"
    }
   },
   "outputs": [],
   "source": [
    "a = add(3, 4)\n",
    "print(a)"
   ]
  },
  {
   "cell_type": "code",
   "execution_count": null,
   "id": "ce1772c4",
   "metadata": {
    "ExecuteTime": {
     "end_time": "2024-03-07T00:46:49.123583Z",
     "start_time": "2024-03-07T00:46:49.119862Z"
    }
   },
   "outputs": [],
   "source": [
    "#입력값과 리턴\n",
    "c = 'hi'"
   ]
  },
  {
   "cell_type": "code",
   "execution_count": null,
   "id": "6507f8c9",
   "metadata": {
    "ExecuteTime": {
     "end_time": "2024-03-07T00:46:59.144529Z",
     "start_time": "2024-03-07T00:46:59.141117Z"
    }
   },
   "outputs": [],
   "source": [
    "c"
   ]
  },
  {
   "cell_type": "code",
   "execution_count": null,
   "id": "996c6f79",
   "metadata": {
    "ExecuteTime": {
     "end_time": "2024-03-07T00:47:16.570887Z",
     "start_time": "2024-03-07T00:47:16.568660Z"
    }
   },
   "outputs": [],
   "source": [
    "#입력값도, 리턴값도 없는 함수\n",
    "def say(): \n",
    "    print('Hi')"
   ]
  },
  {
   "cell_type": "code",
   "execution_count": null,
   "id": "604dcb83",
   "metadata": {
    "ExecuteTime": {
     "end_time": "2024-03-07T00:47:23.332799Z",
     "start_time": "2024-03-07T00:47:23.328626Z"
    }
   },
   "outputs": [],
   "source": [
    "say()"
   ]
  },
  {
   "cell_type": "code",
   "execution_count": null,
   "id": "49838840",
   "metadata": {
    "ExecuteTime": {
     "end_time": "2024-03-07T00:47:29.874199Z",
     "start_time": "2024-03-07T00:47:29.870849Z"
    }
   },
   "outputs": [],
   "source": [
    "a = say()"
   ]
  },
  {
   "cell_type": "code",
   "execution_count": null,
   "id": "fa26b487",
   "metadata": {
    "ExecuteTime": {
     "end_time": "2024-03-07T00:47:34.011412Z",
     "start_time": "2024-03-07T00:47:34.008049Z"
    }
   },
   "outputs": [],
   "source": [
    "a"
   ]
  },
  {
   "cell_type": "markdown",
   "id": "ec276819",
   "metadata": {},
   "source": [
    "### 매개변수를 지정하여 호출하기"
   ]
  },
  {
   "cell_type": "code",
   "execution_count": null,
   "id": "b9a6eeb6",
   "metadata": {
    "ExecuteTime": {
     "end_time": "2024-03-07T01:12:01.939162Z",
     "start_time": "2024-03-07T01:12:01.936024Z"
    }
   },
   "outputs": [],
   "source": [
    "def sub(a, b):\n",
    "    return a - b"
   ]
  },
  {
   "cell_type": "code",
   "execution_count": null,
   "id": "6ad2281d",
   "metadata": {
    "ExecuteTime": {
     "end_time": "2024-03-07T01:12:41.910440Z",
     "start_time": "2024-03-07T01:12:41.906244Z"
    }
   },
   "outputs": [],
   "source": [
    "sub(7, 3)"
   ]
  },
  {
   "cell_type": "code",
   "execution_count": null,
   "id": "bb5ee6eb",
   "metadata": {
    "ExecuteTime": {
     "end_time": "2024-03-07T01:13:06.285225Z",
     "start_time": "2024-03-07T01:13:06.280677Z"
    }
   },
   "outputs": [],
   "source": [
    "a = 7\n",
    "b = 3\n",
    "sub(a, b)"
   ]
  },
  {
   "cell_type": "code",
   "execution_count": null,
   "id": "52cc86be",
   "metadata": {
    "ExecuteTime": {
     "end_time": "2024-03-07T01:12:14.120280Z",
     "start_time": "2024-03-07T01:12:14.116310Z"
    }
   },
   "outputs": [],
   "source": [
    "result = sub(a=7, b=3)  # a에 7, b에 3을 전달\n",
    "print(result)"
   ]
  },
  {
   "cell_type": "code",
   "execution_count": null,
   "id": "6b010c16",
   "metadata": {
    "ExecuteTime": {
     "end_time": "2024-03-07T01:13:29.878604Z",
     "start_time": "2024-03-07T01:13:29.874458Z"
    },
    "scrolled": true
   },
   "outputs": [],
   "source": [
    "sub(b=3, a=7)"
   ]
  },
  {
   "cell_type": "markdown",
   "id": "f24b798a",
   "metadata": {},
   "source": [
    "### 입력값이 몇 개가 될 지 모를 때 "
   ]
  },
  {
   "cell_type": "code",
   "execution_count": null,
   "id": "ddc2586a",
   "metadata": {
    "ExecuteTime": {
     "end_time": "2024-03-07T01:18:35.203757Z",
     "start_time": "2024-03-07T01:18:35.200260Z"
    }
   },
   "outputs": [],
   "source": [
    "def add_many(*args): \n",
    "    result = 0 \n",
    "    print(args)\n",
    "    for i in args: \n",
    "        result = result + i   # *args에 입력받은 모든 값을 더한다.\n",
    "    return result "
   ]
  },
  {
   "cell_type": "code",
   "execution_count": null,
   "id": "4064c8e9",
   "metadata": {
    "ExecuteTime": {
     "end_time": "2024-03-07T01:18:04.209375Z",
     "start_time": "2024-03-07T01:18:04.205930Z"
    }
   },
   "outputs": [],
   "source": [
    "result = add_many(1,2,3)\n",
    "print(result)"
   ]
  },
  {
   "cell_type": "code",
   "execution_count": null,
   "id": "85e74ddf",
   "metadata": {
    "ExecuteTime": {
     "end_time": "2024-03-07T01:18:15.001824Z",
     "start_time": "2024-03-07T01:18:14.997823Z"
    }
   },
   "outputs": [],
   "source": [
    "result = add_many(1,2,3,4,5,6,7,8,9,10)\n",
    "print(result)"
   ]
  },
  {
   "cell_type": "code",
   "execution_count": null,
   "id": "135be521",
   "metadata": {
    "ExecuteTime": {
     "end_time": "2024-03-07T01:20:30.312415Z",
     "start_time": "2024-03-07T01:20:30.308576Z"
    }
   },
   "outputs": [],
   "source": [
    "#choice라는 매개변수를 하나 더 받음\n",
    "def add_mul(choice, *args): \n",
    "    if choice == \"add\":   # 매개변수 choice에 \"add\"를 입력받았을 때\n",
    "        result = 0 \n",
    "        for i in args: \n",
    "            result = result + i \n",
    "    elif choice == \"mul\":   # 매개변수 choice에 \"mul\"을 입력받았을 때\n",
    "        result = 1 \n",
    "        for i in args: \n",
    "            result = result * i \n",
    "    return result "
   ]
  },
  {
   "cell_type": "code",
   "execution_count": null,
   "id": "b5bae357",
   "metadata": {
    "ExecuteTime": {
     "end_time": "2024-03-07T01:20:58.266444Z",
     "start_time": "2024-03-07T01:20:58.263673Z"
    }
   },
   "outputs": [],
   "source": [
    "result = add_mul('add', 1,2,3,4,5)\n",
    "print(result)"
   ]
  },
  {
   "cell_type": "code",
   "execution_count": null,
   "id": "725664c1",
   "metadata": {
    "ExecuteTime": {
     "end_time": "2024-03-07T01:21:23.538597Z",
     "start_time": "2024-03-07T01:21:23.534844Z"
    }
   },
   "outputs": [],
   "source": [
    "result = add_mul('mul', 1,2,3,4,5)\n",
    "print(result)"
   ]
  },
  {
   "cell_type": "markdown",
   "id": "d8ae7451",
   "metadata": {},
   "source": [
    "### 키워드 매개변수, kwargs"
   ]
  },
  {
   "cell_type": "code",
   "execution_count": null,
   "id": "7ad8c0ff",
   "metadata": {
    "ExecuteTime": {
     "end_time": "2024-03-07T01:25:29.559243Z",
     "start_time": "2024-03-07T01:25:29.555235Z"
    }
   },
   "outputs": [],
   "source": [
    "def print_kwargs(**kwargs):\n",
    "    print(kwargs)"
   ]
  },
  {
   "cell_type": "code",
   "execution_count": null,
   "id": "8d86a37a",
   "metadata": {
    "ExecuteTime": {
     "end_time": "2024-03-07T01:25:49.381399Z",
     "start_time": "2024-03-07T01:25:49.377896Z"
    }
   },
   "outputs": [],
   "source": [
    "print_kwargs(a=1)"
   ]
  },
  {
   "cell_type": "code",
   "execution_count": null,
   "id": "437e1ee0",
   "metadata": {
    "ExecuteTime": {
     "end_time": "2024-03-07T01:26:01.736559Z",
     "start_time": "2024-03-07T01:26:01.733899Z"
    }
   },
   "outputs": [],
   "source": [
    "print_kwargs(name='foo', age=3)"
   ]
  },
  {
   "cell_type": "markdown",
   "id": "ccd4c8cc",
   "metadata": {
    "ExecuteTime": {
     "end_time": "2024-03-07T01:27:51.217062Z",
     "start_time": "2024-03-07T01:27:51.214104Z"
    }
   },
   "source": [
    "### 함수의 리턴값은 언제나 하나"
   ]
  },
  {
   "cell_type": "code",
   "execution_count": null,
   "id": "bd7357eb",
   "metadata": {
    "ExecuteTime": {
     "end_time": "2024-03-07T01:29:20.662980Z",
     "start_time": "2024-03-07T01:29:20.660319Z"
    }
   },
   "outputs": [],
   "source": [
    "def add_and_mul(a,b): \n",
    "    return a+b, a*b"
   ]
  },
  {
   "cell_type": "code",
   "execution_count": null,
   "id": "a49c63c5",
   "metadata": {
    "ExecuteTime": {
     "end_time": "2024-03-07T01:32:42.699564Z",
     "start_time": "2024-03-07T01:32:42.694727Z"
    }
   },
   "outputs": [],
   "source": [
    "result = add_and_mul(3,4)\n",
    "result"
   ]
  },
  {
   "cell_type": "code",
   "execution_count": null,
   "id": "302c2d00",
   "metadata": {
    "ExecuteTime": {
     "end_time": "2024-03-07T01:33:30.650175Z",
     "start_time": "2024-03-07T01:33:30.646671Z"
    }
   },
   "outputs": [],
   "source": [
    "result1, result2 = add_and_mul(3, 4)\n",
    "result1"
   ]
  },
  {
   "cell_type": "code",
   "execution_count": null,
   "id": "3f173359",
   "metadata": {
    "ExecuteTime": {
     "end_time": "2024-03-07T01:33:33.904984Z",
     "start_time": "2024-03-07T01:33:33.901560Z"
    }
   },
   "outputs": [],
   "source": [
    "result2"
   ]
  },
  {
   "cell_type": "code",
   "execution_count": null,
   "id": "21d4db10",
   "metadata": {},
   "outputs": [],
   "source": [
    "def add_and_mul(a,b): \n",
    "    return a+b\n",
    "    return a*b"
   ]
  },
  {
   "cell_type": "code",
   "execution_count": null,
   "id": "e2dfcb04",
   "metadata": {
    "ExecuteTime": {
     "end_time": "2024-03-07T01:34:08.087414Z",
     "start_time": "2024-03-07T01:34:08.084122Z"
    }
   },
   "outputs": [],
   "source": [
    "result = add_and_mul(2,3)\n",
    "print(result)"
   ]
  },
  {
   "cell_type": "code",
   "execution_count": null,
   "id": "4ac788f4",
   "metadata": {
    "ExecuteTime": {
     "end_time": "2024-03-07T01:36:05.933849Z",
     "start_time": "2024-03-07T01:36:05.929633Z"
    }
   },
   "outputs": [],
   "source": [
    "def say_nick(nick): \n",
    "    if nick == \"바보\": \n",
    "        return \n",
    "    print(\"나의 별명은 %s 입니다.\" % nick)"
   ]
  },
  {
   "cell_type": "code",
   "execution_count": null,
   "id": "1893fc4b",
   "metadata": {
    "ExecuteTime": {
     "end_time": "2024-03-07T01:37:03.954616Z",
     "start_time": "2024-03-07T01:37:03.951853Z"
    }
   },
   "outputs": [],
   "source": [
    "say_nick('야호')"
   ]
  },
  {
   "cell_type": "code",
   "execution_count": null,
   "id": "3b84e434",
   "metadata": {
    "ExecuteTime": {
     "end_time": "2024-03-07T01:37:18.450704Z",
     "start_time": "2024-03-07T01:37:18.447898Z"
    }
   },
   "outputs": [],
   "source": [
    "# 오류는 발생하지 않지만,값이 출력되지도 않는다 \n",
    "say_nick('바보')"
   ]
  },
  {
   "cell_type": "markdown",
   "id": "c8ebeba6",
   "metadata": {},
   "source": [
    "### 매개변수에 초기 값 미리 설정하기"
   ]
  },
  {
   "cell_type": "code",
   "execution_count": null,
   "id": "ed92f558",
   "metadata": {
    "ExecuteTime": {
     "end_time": "2024-03-07T01:39:42.017871Z",
     "start_time": "2024-03-07T01:39:42.015023Z"
    }
   },
   "outputs": [],
   "source": [
    "# default1.py\n",
    "def say_myself(name, age, man=True): \n",
    "    print(\"나의 이름은 %s 입니다.\" % name) \n",
    "    print(\"나이는 %d살입니다.\" % age) \n",
    "    if man: \n",
    "        print(\"남자입니다.\")\n",
    "    else: \n",
    "        print(\"여자입니다.\")"
   ]
  },
  {
   "cell_type": "code",
   "execution_count": null,
   "id": "46833e66",
   "metadata": {
    "ExecuteTime": {
     "end_time": "2024-03-07T01:40:49.678120Z",
     "start_time": "2024-03-07T01:40:49.674793Z"
    }
   },
   "outputs": [],
   "source": [
    "say_myself(\"원수림\", 20)"
   ]
  },
  {
   "cell_type": "code",
   "execution_count": null,
   "id": "7e6faa6b",
   "metadata": {
    "ExecuteTime": {
     "end_time": "2024-03-07T01:41:08.191477Z",
     "start_time": "2024-03-07T01:41:08.187266Z"
    }
   },
   "outputs": [],
   "source": [
    "#man이 True니까 남자로 출력 \n",
    "say_myself(\"이은경\", 20)"
   ]
  },
  {
   "cell_type": "code",
   "execution_count": null,
   "id": "8ad4f9d6",
   "metadata": {
    "ExecuteTime": {
     "end_time": "2024-03-07T01:41:44.591908Z",
     "start_time": "2024-03-07T01:41:44.588423Z"
    }
   },
   "outputs": [],
   "source": [
    "#False로 지정해주면 여자로 변환 \n",
    "say_myself(\"이은경\", 20, False)"
   ]
  },
  {
   "cell_type": "markdown",
   "id": "79e8f090",
   "metadata": {},
   "source": [
    "### 함수 안에서 선언한 변수의 효력 범위"
   ]
  },
  {
   "cell_type": "code",
   "execution_count": null,
   "id": "9b8ef87f",
   "metadata": {
    "ExecuteTime": {
     "end_time": "2024-03-07T01:43:10.600814Z",
     "start_time": "2024-03-07T01:43:10.596910Z"
    }
   },
   "outputs": [],
   "source": [
    "# vartest.py\n",
    "a = 1\n",
    "\n",
    "def vartest(a):\n",
    "    a = a +1\n",
    "\n",
    "vartest(a)\n",
    "print(a)\n",
    "\n",
    "#왜 1이 됐지? \n",
    "#로컬에서 만든 변수는 글로벌로 갈 수 없다. 가려면 반드시 return 해야 한다"
   ]
  },
  {
   "cell_type": "code",
   "execution_count": null,
   "id": "808f5249",
   "metadata": {
    "ExecuteTime": {
     "end_time": "2024-03-07T01:44:00.357153Z",
     "start_time": "2024-03-07T01:44:00.353340Z"
    }
   },
   "outputs": [],
   "source": [
    "#로컬 안에서만 할당했기 때문에 none 출력\n",
    "print(vartest(a))"
   ]
  },
  {
   "cell_type": "code",
   "execution_count": null,
   "id": "4e890175",
   "metadata": {
    "ExecuteTime": {
     "end_time": "2024-03-07T01:44:51.511077Z",
     "start_time": "2024-03-07T01:44:51.507476Z"
    }
   },
   "outputs": [],
   "source": [
    "# vartest_error.py\n",
    "def vartest(a):\n",
    "    a = a + 1\n",
    "\n",
    "vartest(3)\n",
    "print(a)"
   ]
  },
  {
   "cell_type": "markdown",
   "id": "29cc3e4f",
   "metadata": {
    "ExecuteTime": {
     "end_time": "2024-03-07T02:26:51.207421Z",
     "start_time": "2024-03-07T02:26:51.202440Z"
    }
   },
   "source": [
    "### 함수 안에서 함수 밖의 변수를 변경하는 방법"
   ]
  },
  {
   "cell_type": "code",
   "execution_count": null,
   "id": "d90e73cf",
   "metadata": {
    "ExecuteTime": {
     "end_time": "2024-03-07T02:26:51.207421Z",
     "start_time": "2024-03-07T02:26:51.202440Z"
    }
   },
   "outputs": [],
   "source": [
    "# return 사용하기\n",
    "a = 1 \n",
    "def vartest(a): \n",
    "    a = a +1 \n",
    "    return a\n",
    "\n",
    "a = vartest(a) \n",
    "print(a)"
   ]
  },
  {
   "cell_type": "code",
   "execution_count": null,
   "id": "c622cbae",
   "metadata": {
    "ExecuteTime": {
     "end_time": "2024-03-07T01:46:05.112725Z",
     "start_time": "2024-03-07T01:46:05.109469Z"
    }
   },
   "outputs": [],
   "source": [
    "# global 명령어 사용하기\n",
    "a = 1 \n",
    "def vartest(): \n",
    "    global a \n",
    "    a = a+1\n",
    "\n",
    "vartest() \n",
    "print(a)"
   ]
  },
  {
   "cell_type": "code",
   "execution_count": null,
   "id": "600d3166",
   "metadata": {
    "ExecuteTime": {
     "end_time": "2024-03-07T01:49:23.091994Z",
     "start_time": "2024-03-07T01:49:23.086725Z"
    }
   },
   "outputs": [],
   "source": [
    "# lambda 예약어\n",
    "add = lambda a, b: a+b\n",
    "result = add(3, 4)\n",
    "print(result)"
   ]
  },
  {
   "cell_type": "code",
   "execution_count": null,
   "id": "8b2d8f99",
   "metadata": {
    "ExecuteTime": {
     "end_time": "2024-03-07T02:26:51.207421Z",
     "start_time": "2024-03-07T02:26:51.202440Z"
    }
   },
   "outputs": [],
   "source": [
    "def add(a, b):\n",
    "    return a+b"
   ]
  },
  {
   "cell_type": "code",
   "execution_count": null,
   "id": "54ef05fd",
   "metadata": {
    "ExecuteTime": {
     "end_time": "2024-03-07T02:26:51.207421Z",
     "start_time": "2024-03-07T02:26:51.202440Z"
    }
   },
   "outputs": [],
   "source": [
    "result = add(3, 4)\n",
    "print(result)"
   ]
  },
  {
   "cell_type": "markdown",
   "id": "56439c1c",
   "metadata": {
    "ExecuteTime": {
     "end_time": "2024-03-07T02:26:51.207421Z",
     "start_time": "2024-03-07T02:26:51.202440Z"
    }
   },
   "source": [
    "## 사용자 입출력"
   ]
  },
  {
   "cell_type": "markdown",
   "id": "71568424",
   "metadata": {
    "ExecuteTime": {
     "end_time": "2024-03-07T02:26:51.207421Z",
     "start_time": "2024-03-07T02:26:51.202440Z"
    }
   },
   "source": [
    "### input 사용"
   ]
  },
  {
   "cell_type": "code",
   "execution_count": null,
   "id": "c54abac0",
   "metadata": {
    "ExecuteTime": {
     "start_time": "2024-03-07T02:05:26.555Z"
    }
   },
   "outputs": [],
   "source": [
    "a = input()\n",
    "a"
   ]
  },
  {
   "cell_type": "code",
   "execution_count": null,
   "id": "4bd37ef0",
   "metadata": {
    "ExecuteTime": {
     "start_time": "2024-03-07T02:05:56.992Z"
    }
   },
   "outputs": [],
   "source": [
    "# 프롬프트 띄우기\n",
    "number = input(\"숫자를 입력하세요: \")\n",
    "number"
   ]
  },
  {
   "cell_type": "code",
   "execution_count": null,
   "id": "0cb9a024",
   "metadata": {},
   "outputs": [],
   "source": [
    "type(number)"
   ]
  },
  {
   "cell_type": "code",
   "execution_count": 1,
   "id": "0ad3e795",
   "metadata": {
    "ExecuteTime": {
     "end_time": "2024-03-07T02:07:04.495650Z",
     "start_time": "2024-03-07T02:07:04.479658Z"
    }
   },
   "outputs": [
    {
     "name": "stdout",
     "output_type": "stream",
     "text": [
      "lifeistoo short\n"
     ]
    }
   ],
   "source": [
    "#print 자세히 알기\n",
    "print(\"life\" \"is\" \"too short\")"
   ]
  },
  {
   "cell_type": "code",
   "execution_count": null,
   "id": "bd6ad505",
   "metadata": {
    "ExecuteTime": {
     "end_time": "2024-03-07T02:07:05.139144Z",
     "start_time": "2024-03-07T02:07:05.139144Z"
    }
   },
   "outputs": [],
   "source": [
    "print(\"life\"+\"is\"+\"too short\")"
   ]
  },
  {
   "cell_type": "markdown",
   "id": "126d1acc",
   "metadata": {},
   "source": [
    "## 파일 읽고 쓰기"
   ]
  },
  {
   "cell_type": "markdown",
   "id": "b1e1a27b",
   "metadata": {
    "ExecuteTime": {
     "end_time": "2024-03-07T02:26:51.207421Z",
     "start_time": "2024-03-07T02:26:51.202440Z"
    }
   },
   "source": [
    "### 파일 생성하기"
   ]
  },
  {
   "cell_type": "code",
   "execution_count": 5,
   "id": "d3097727",
   "metadata": {
    "ExecuteTime": {
     "end_time": "2024-03-07T02:08:55.497780Z",
     "start_time": "2024-03-07T02:08:55.491523Z"
    }
   },
   "outputs": [
    {
     "data": {
      "text/plain": [
       "<_io.TextIOWrapper name='새파일.txt' mode='w' encoding='cp949'>"
      ]
     },
     "execution_count": 5,
     "metadata": {},
     "output_type": "execute_result"
    }
   ],
   "source": [
    "f = open(\"새파일.txt\", 'w')\n",
    "# f 는 객체 \n",
    "f"
   ]
  },
  {
   "cell_type": "code",
   "execution_count": 6,
   "id": "ae6ffbf9",
   "metadata": {
    "ExecuteTime": {
     "end_time": "2024-03-07T02:08:59.693880Z",
     "start_time": "2024-03-07T02:08:59.690571Z"
    }
   },
   "outputs": [],
   "source": [
    "f.close()"
   ]
  },
  {
   "cell_type": "code",
   "execution_count": 3,
   "id": "9817564c",
   "metadata": {
    "ExecuteTime": {
     "end_time": "2024-03-07T02:08:11.680032Z",
     "start_time": "2024-03-07T02:08:11.674588Z"
    }
   },
   "outputs": [],
   "source": [
    "open?"
   ]
  },
  {
   "cell_type": "code",
   "execution_count": 7,
   "id": "d9178fc9",
   "metadata": {
    "ExecuteTime": {
     "end_time": "2024-03-07T02:09:26.501124Z",
     "start_time": "2024-03-07T02:09:26.498287Z"
    }
   },
   "outputs": [],
   "source": [
    "f = open(\"새파일.txt\", 'r')"
   ]
  },
  {
   "cell_type": "code",
   "execution_count": null,
   "id": "3c3eb052",
   "metadata": {},
   "outputs": [],
   "source": [
    "f = open(\"C:/doit/새파일.txt\", 'w')\n",
    "f.close()"
   ]
  },
  {
   "cell_type": "markdown",
   "id": "e47395e8",
   "metadata": {},
   "source": [
    "### 파일을 쓰기 모드로 열어 내용 쓰기"
   ]
  },
  {
   "cell_type": "code",
   "execution_count": 8,
   "id": "1756cf25",
   "metadata": {
    "ExecuteTime": {
     "end_time": "2024-03-07T02:15:22.938318Z",
     "start_time": "2024-03-07T02:15:22.933532Z"
    }
   },
   "outputs": [
    {
     "data": {
      "text/plain": [
       "'C:\\\\workspace\\\\wassup2\\\\python'"
      ]
     },
     "execution_count": 8,
     "metadata": {},
     "output_type": "execute_result"
    }
   ],
   "source": [
    "pwd"
   ]
  },
  {
   "cell_type": "code",
   "execution_count": 19,
   "id": "c4d9411d",
   "metadata": {
    "ExecuteTime": {
     "end_time": "2024-03-07T02:23:43.658584Z",
     "start_time": "2024-03-07T02:23:43.654401Z"
    }
   },
   "outputs": [],
   "source": [
    "#현재 경로는 생략 가능 -> 새파일만 써도 되긴 함\n",
    "f = open('새파일.txt', 'w')\n",
    "for i in range(1, 11):\n",
    "    data = \"%d번째 줄입니다.\\n\" % i\n",
    "    f.write(data)\n",
    "f.close()"
   ]
  },
  {
   "cell_type": "markdown",
   "id": "facfc92d",
   "metadata": {},
   "source": [
    "### 파일을 읽는 여러 가지 방법"
   ]
  },
  {
   "cell_type": "code",
   "execution_count": 20,
   "id": "95273c1a",
   "metadata": {
    "ExecuteTime": {
     "end_time": "2024-03-07T02:24:13.909582Z",
     "start_time": "2024-03-07T02:24:13.904758Z"
    }
   },
   "outputs": [
    {
     "name": "stdout",
     "output_type": "stream",
     "text": [
      "1번째 줄입니다.\n",
      "\n"
     ]
    }
   ],
   "source": [
    "#readline 함수 이용하기\n",
    "f = open(\"새파일.txt\", 'r')\n",
    "line = f.readline()\n",
    "print(line)\n",
    "f.close()"
   ]
  },
  {
   "cell_type": "code",
   "execution_count": 21,
   "id": "a1b47bf2",
   "metadata": {
    "ExecuteTime": {
     "end_time": "2024-03-07T02:24:15.407631Z",
     "start_time": "2024-03-07T02:24:15.403680Z"
    }
   },
   "outputs": [
    {
     "name": "stdout",
     "output_type": "stream",
     "text": [
      "['1번째 줄입니다.\\n', '2번째 줄입니다.\\n', '3번째 줄입니다.\\n', '4번째 줄입니다.\\n', '5번째 줄입니다.\\n', '6번째 줄입니다.\\n', '7번째 줄입니다.\\n', '8번째 줄입니다.\\n', '9번째 줄입니다.\\n', '10번째 줄입니다.\\n']\n",
      "==========\n",
      "1번째 줄입니다.\n",
      "\n",
      "2번째 줄입니다.\n",
      "\n",
      "3번째 줄입니다.\n",
      "\n",
      "4번째 줄입니다.\n",
      "\n",
      "5번째 줄입니다.\n",
      "\n",
      "6번째 줄입니다.\n",
      "\n",
      "7번째 줄입니다.\n",
      "\n",
      "8번째 줄입니다.\n",
      "\n",
      "9번째 줄입니다.\n",
      "\n",
      "10번째 줄입니다.\n",
      "\n"
     ]
    }
   ],
   "source": [
    "# readlines 함수 사용하기\n",
    "f = open(\"새파일.txt\", 'r')\n",
    "lines = f.readlines()\n",
    "print(lines)\n",
    "print('='*10)\n",
    "\n",
    "for line in lines:\n",
    "    print(line)\n",
    "f.close()"
   ]
  },
  {
   "cell_type": "code",
   "execution_count": 22,
   "id": "976e3a82",
   "metadata": {
    "ExecuteTime": {
     "end_time": "2024-03-07T02:24:43.237886Z",
     "start_time": "2024-03-07T02:24:43.232909Z"
    }
   },
   "outputs": [
    {
     "name": "stdout",
     "output_type": "stream",
     "text": [
      "1번째 줄입니다.\n",
      "2번째 줄입니다.\n",
      "3번째 줄입니다.\n",
      "4번째 줄입니다.\n",
      "5번째 줄입니다.\n",
      "6번째 줄입니다.\n",
      "7번째 줄입니다.\n",
      "8번째 줄입니다.\n",
      "9번째 줄입니다.\n",
      "10번째 줄입니다.\n"
     ]
    }
   ],
   "source": [
    "#줄 바꿈 문자 \\n 제거하기\n",
    "f = open(\"새파일.txt\", 'r')\n",
    "lines = f.readlines()\n",
    "for line in lines:\n",
    "    line = line.strip()  # 줄 끝의 줄 바꿈 문자를 제거한다.\n",
    "    print(line)\n",
    "f.close()\n",
    "\n",
    "#print 자체가 줄 바꿈을 포함하고 있어서 위랑 다르게 나옴"
   ]
  },
  {
   "cell_type": "code",
   "execution_count": 24,
   "id": "5a1a3993",
   "metadata": {
    "ExecuteTime": {
     "end_time": "2024-03-07T02:26:51.207421Z",
     "start_time": "2024-03-07T02:26:51.202440Z"
    }
   },
   "outputs": [
    {
     "name": "stdout",
     "output_type": "stream",
     "text": [
      "1번째 줄입니다.\n",
      "2번째 줄입니다.\n",
      "3번째 줄입니다.\n",
      "4번째 줄입니다.\n",
      "5번째 줄입니다.\n",
      "6번째 줄입니다.\n",
      "7번째 줄입니다.\n",
      "8번째 줄입니다.\n",
      "9번째 줄입니다.\n",
      "10번째 줄입니다.\n",
      "\n",
      "<class 'str'>\n"
     ]
    }
   ],
   "source": [
    "#read 함수\n",
    "f = open(\"새파일.txt\", 'r')\n",
    "data = f.read()\n",
    "print(data)\n",
    "print(type(data))\n",
    "f.close()\n",
    "\n",
    "#이 전체가 하나의 str "
   ]
  },
  {
   "cell_type": "markdown",
   "id": "3e5b41fe",
   "metadata": {
    "ExecuteTime": {
     "end_time": "2024-03-07T02:26:51.207421Z",
     "start_time": "2024-03-07T02:26:51.202440Z"
    }
   },
   "source": [
    "### 파일에 새로운 내용 추가하기"
   ]
  },
  {
   "cell_type": "code",
   "execution_count": 25,
   "id": "89458b3c",
   "metadata": {
    "ExecuteTime": {
     "end_time": "2024-03-07T02:30:09.369817Z",
     "start_time": "2024-03-07T02:30:09.365726Z"
    }
   },
   "outputs": [],
   "source": [
    "f = open(\"새파일.txt\",'a')\n",
    "for i in range(11, 20):\n",
    "    data = \"%d번째 줄입니다.\\n\" % i\n",
    "    f.write(data)\n",
    "f.close()"
   ]
  },
  {
   "cell_type": "markdown",
   "id": "50fe2a0b",
   "metadata": {},
   "source": [
    "### with 문과 함께 사용하기"
   ]
  },
  {
   "cell_type": "code",
   "execution_count": 26,
   "id": "e927b248",
   "metadata": {
    "ExecuteTime": {
     "end_time": "2024-03-07T02:32:55.987641Z",
     "start_time": "2024-03-07T02:32:55.983379Z"
    }
   },
   "outputs": [],
   "source": [
    "# 원래는 f 객체로 할당해줘야 하는데, 한 번에 작성까지 해버려서 간편함\n",
    "# with 문 로컬 영역 안에서 해결 \n",
    "with open(\"foo.txt\", \"w\") as f:\n",
    "    f.write(\"Life is too short, you need python\")\n",
    "\n",
    "# 작성이 끝나면 자동으로 close "
   ]
  },
  {
   "cell_type": "markdown",
   "id": "24291bf3",
   "metadata": {},
   "source": []
  },
  {
   "cell_type": "code",
   "execution_count": null,
   "id": "ba6cadec",
   "metadata": {},
   "outputs": [],
   "source": []
  },
  {
   "cell_type": "code",
   "execution_count": null,
   "id": "7f9cea78",
   "metadata": {},
   "outputs": [],
   "source": []
  },
  {
   "cell_type": "code",
   "execution_count": null,
   "id": "2ea1a174",
   "metadata": {},
   "outputs": [],
   "source": []
  },
  {
   "cell_type": "code",
   "execution_count": null,
   "id": "92fbe166",
   "metadata": {},
   "outputs": [],
   "source": []
  },
  {
   "cell_type": "code",
   "execution_count": null,
   "id": "fa3f61ae",
   "metadata": {
    "ExecuteTime": {
     "end_time": "2024-03-07T02:26:51.207421Z",
     "start_time": "2024-03-07T02:26:51.202440Z"
    }
   },
   "outputs": [],
   "source": []
  }
 ],
 "metadata": {
  "kernelspec": {
   "display_name": "Python 3 (ipykernel)",
   "language": "python",
   "name": "python3"
  },
  "language_info": {
   "codemirror_mode": {
    "name": "ipython",
    "version": 3
   },
   "file_extension": ".py",
   "mimetype": "text/x-python",
   "name": "python",
   "nbconvert_exporter": "python",
   "pygments_lexer": "ipython3",
   "version": "3.11.5"
  },
  "toc": {
   "base_numbering": 1,
   "nav_menu": {},
   "number_sections": true,
   "sideBar": true,
   "skip_h1_title": false,
   "title_cell": "Table of Contents",
   "title_sidebar": "Contents",
   "toc_cell": false,
   "toc_position": {},
   "toc_section_display": true,
   "toc_window_display": false
  },
  "varInspector": {
   "cols": {
    "lenName": 16,
    "lenType": 16,
    "lenVar": 40
   },
   "kernels_config": {
    "python": {
     "delete_cmd_postfix": "",
     "delete_cmd_prefix": "del ",
     "library": "var_list.py",
     "varRefreshCmd": "print(var_dic_list())"
    },
    "r": {
     "delete_cmd_postfix": ") ",
     "delete_cmd_prefix": "rm(",
     "library": "var_list.r",
     "varRefreshCmd": "cat(var_dic_list()) "
    }
   },
   "types_to_exclude": [
    "module",
    "function",
    "builtin_function_or_method",
    "instance",
    "_Feature"
   ],
   "window_display": false
  }
 },
 "nbformat": 4,
 "nbformat_minor": 5
}
