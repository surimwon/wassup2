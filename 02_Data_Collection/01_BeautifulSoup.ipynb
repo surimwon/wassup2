{
 "cells": [
  {
   "cell_type": "markdown",
   "id": "6ebacf20",
   "metadata": {},
   "source": [
    "# BeautifulSoup \n",
    "pip install bs4   \n",
    "[BeatufulSoup](https://www.crummy.com/software/BeautifulSoup/bs4/doc/)\n",
    "## 프로세스\n",
    "1. **웹 접속 및 HTML코드 (str) 추출**\n",
    "* request library : 정적페이지(html구조)에 활용\n",
    "* selenium library : 동적페이지(javascript 구조)에 활용\n",
    "2. **계층구조(DOM)로 변환 : DOM이란?**\n",
    "* BeutifulSoup(소스코드, 파서-해석기)\n",
    "3. **검색 후 추출**\n",
    "* find와 select의 차이, select는 css 구분자 사용, 관계 연결 가능\n",
    "* find와 select와 조건 방식이 다름\n",
    "* soup.find /.find_all(‘태그’, id=’orange’, class_= ‘fruit’)  , class는 예약어이기 때문\n",
    "* soup.select /select_one  (‘태그’, ‘#orange’, ‘.fruit’)\n",
    "* find 와 select_one은 단일 태그값 만 반환\n",
    "* find_all과 select는 모든 tag를 list로 반환\n",
    "4. **가공**\n"
   ]
  },
  {
   "cell_type": "markdown",
   "id": "f8c9a99f",
   "metadata": {},
   "source": [
    "## Parser\n",
    "pip install lxml"
   ]
  },
  {
   "cell_type": "code",
   "execution_count": 1,
   "id": "d798dee9",
   "metadata": {
    "ExecuteTime": {
     "end_time": "2024-03-14T00:44:06.040724Z",
     "start_time": "2024-03-14T00:43:57.701403Z"
    }
   },
   "outputs": [
    {
     "name": "stdout",
     "output_type": "stream",
     "text": [
      "Requirement already satisfied: lxml in c:\\users\\user\\anaconda3\\lib\\site-packages (4.9.3)\n",
      "Note: you may need to restart the kernel to use updated packages.\n"
     ]
    }
   ],
   "source": [
    "pip install lxml"
   ]
  },
  {
   "cell_type": "code",
   "execution_count": 2,
   "id": "9588595c",
   "metadata": {
    "ExecuteTime": {
     "end_time": "2024-03-14T00:44:35.230213Z",
     "start_time": "2024-03-14T00:44:35.076689Z"
    }
   },
   "outputs": [],
   "source": [
    "from bs4 import BeautifulSoup\n",
    "import lxml                  "
   ]
  },
  {
   "cell_type": "code",
   "execution_count": 3,
   "id": "17e2b4a6",
   "metadata": {
    "ExecuteTime": {
     "end_time": "2024-03-14T00:44:42.549888Z",
     "start_time": "2024-03-14T00:44:42.503477Z"
    }
   },
   "outputs": [],
   "source": [
    "BeautifulSoup?"
   ]
  },
  {
   "cell_type": "code",
   "execution_count": 4,
   "id": "41a1ab34",
   "metadata": {
    "ExecuteTime": {
     "end_time": "2024-03-14T00:45:32.115616Z",
     "start_time": "2024-03-14T00:45:32.111805Z"
    }
   },
   "outputs": [],
   "source": [
    "# sample\n",
    "html = '''\n",
    "<div id=prices >\n",
    "    <table >\n",
    "        <tr class=bb>\n",
    "            <th class=\"bb lm lft\">Date\n",
    "            <th class=\"rgt bb\">Open\n",
    "            <th class=\"rgt bb\">High\n",
    "            <th class=\"rgt bb\">Low\n",
    "            <th class=\"rgt bb\">Close\n",
    "            <th class=\"rgt bb rm\">Volume\n",
    "        <tr>\n",
    "            <td class=\"lm\">Feb 28, 2014\n",
    "            <td class=\"rgt\">100.71\n",
    "            <td class=\"rgt\">100.71\n",
    "            <td class=\"rgt\">100.71\n",
    "            <td class=\"rgt\">100.71\n",
    "            <td class=\"rgt rm\">0\n",
    "     </table>\n",
    "'''"
   ]
  },
  {
   "cell_type": "code",
   "execution_count": 5,
   "id": "c4688737",
   "metadata": {
    "ExecuteTime": {
     "end_time": "2024-03-14T00:45:53.378184Z",
     "start_time": "2024-03-14T00:45:53.369965Z"
    }
   },
   "outputs": [
    {
     "data": {
      "text/plain": [
       "<html><body><div id=\"prices\">\n",
       "<table>\n",
       "<tr class=\"bb\">\n",
       "<th class=\"bb lm lft\">Date\n",
       "            </th><th class=\"rgt bb\">Open\n",
       "            </th><th class=\"rgt bb\">High\n",
       "            </th><th class=\"rgt bb\">Low\n",
       "            </th><th class=\"rgt bb\">Close\n",
       "            </th><th class=\"rgt bb rm\">Volume\n",
       "        </th></tr><tr>\n",
       "<td class=\"lm\">Feb 28, 2014\n",
       "            </td><td class=\"rgt\">100.71\n",
       "            </td><td class=\"rgt\">100.71\n",
       "            </td><td class=\"rgt\">100.71\n",
       "            </td><td class=\"rgt\">100.71\n",
       "            </td><td class=\"rgt rm\">0\n",
       "     </td></tr></table>\n",
       "</div></body></html>"
      ]
     },
     "execution_count": 5,
     "metadata": {},
     "output_type": "execute_result"
    }
   ],
   "source": [
    " #lxml의 HTML파서\n",
    "BeautifulSoup(html, 'lxml')"
   ]
  },
  {
   "cell_type": "code",
   "execution_count": 6,
   "id": "eed5de73",
   "metadata": {
    "ExecuteTime": {
     "end_time": "2024-03-14T00:48:52.616276Z",
     "start_time": "2024-03-14T00:48:52.610065Z"
    },
    "scrolled": true
   },
   "outputs": [
    {
     "data": {
      "text/plain": [
       "\n",
       "<div id=\"prices\">\n",
       "<table>\n",
       "<tr class=\"bb\">\n",
       "<th class=\"bb lm lft\">Date\n",
       "            <th class=\"rgt bb\">Open\n",
       "            <th class=\"rgt bb\">High\n",
       "            <th class=\"rgt bb\">Low\n",
       "            <th class=\"rgt bb\">Close\n",
       "            <th class=\"rgt bb rm\">Volume\n",
       "        <tr>\n",
       "<td class=\"lm\">Feb 28, 2014\n",
       "            <td class=\"rgt\">100.71\n",
       "            <td class=\"rgt\">100.71\n",
       "            <td class=\"rgt\">100.71\n",
       "            <td class=\"rgt\">100.71\n",
       "            <td class=\"rgt rm\">0\n",
       "     </td></td></td></td></td></td></tr></th></th></th></th></th></th></tr></table>\n",
       "</div>"
      ]
     },
     "execution_count": 6,
     "metadata": {},
     "output_type": "execute_result"
    }
   ],
   "source": [
    "# 파이썬 표준 html파서\n",
    "BeautifulSoup(html, 'html.parser') "
   ]
  },
  {
   "cell_type": "markdown",
   "id": "e35ac02c",
   "metadata": {},
   "source": [
    "## BS4 객체의 속성과 메서드"
   ]
  },
  {
   "cell_type": "code",
   "execution_count": 10,
   "id": "4b89207c",
   "metadata": {
    "ExecuteTime": {
     "end_time": "2024-03-14T01:03:46.484465Z",
     "start_time": "2024-03-14T01:03:46.479889Z"
    }
   },
   "outputs": [],
   "source": [
    "html_file = open('sample/market.html', encoding='utf-8')\n",
    "html_src = html_file.read()\n",
    "html_file.close()"
   ]
  },
  {
   "cell_type": "code",
   "execution_count": 11,
   "id": "1b61c23b",
   "metadata": {
    "ExecuteTime": {
     "end_time": "2024-03-14T01:03:50.584089Z",
     "start_time": "2024-03-14T01:03:50.579060Z"
    }
   },
   "outputs": [
    {
     "data": {
      "text/plain": [
       "'<html>\\n    <body>\\n        <h1> 과일 목록 </h1>\\n        <div>\\n                <p id=\\'banana\\' class=\\'fruit\\' title=\\'바나나\\'>\\n                      <span class = \\'price\\'> 3000원 </span>\\n                      <span class = \\'count\\'> 10개 </span>\\n                      <span class = \\'store\\'> 바나나가게 </span>\\n                      <a href = \\'https://www.banana.com\\'> banana.com </a>\\n                </p>\\n                <p id=\\'cherry\\' class=\\'fruit\\' title=\\'체리\\'>\\n                    <span class = \\'price\\'> 100원 </span>\\n                    <span class = \\'count\\'> 50개 </span>\\n                    <span class = \\'store\\'> 체리가게</span>\\n                    <a href = \\'https://www.cherry.com\\'> cherry.com </a>\\n                </p>\\n                <p id=\\'orange\\' class=\\'fruit best\\' title=\\'오렌지\\'>\\n                    <span class = \\'price\\'> 500원 </span>\\n                    <span class = \\'count\\'> 20개 </span>\\n                    <span class = \\'store\\'> 오렌지가게</span>\\n                    <a href = \\'https://www.orange.com\\'> orange.com </a>\\n                    <span>\\n                        <a href=\"https://www.orange.blog/\">오렌지 효능</a>\\n                    </span>\\n                </p>\\n        </div>\\n    </body> \\n</html>'"
      ]
     },
     "execution_count": 11,
     "metadata": {},
     "output_type": "execute_result"
    }
   ],
   "source": [
    "html_src"
   ]
  },
  {
   "cell_type": "code",
   "execution_count": 12,
   "id": "e6c7123c",
   "metadata": {
    "ExecuteTime": {
     "end_time": "2024-03-14T01:03:53.960169Z",
     "start_time": "2024-03-14T01:03:53.956342Z"
    }
   },
   "outputs": [
    {
     "name": "stdout",
     "output_type": "stream",
     "text": [
      "<html>\n",
      "    <body>\n",
      "        <h1> 과일 목록 </h1>\n",
      "        <div>\n",
      "                <p id='banana' class='fruit' title='바나나'>\n",
      "                      <span class = 'price'> 3000원 </span>\n",
      "                      <span class = 'count'> 10개 </span>\n",
      "                      <span class = 'store'> 바나나가게 </span>\n",
      "                      <a href = 'https://www.banana.com'> banana.com </a>\n",
      "                </p>\n",
      "                <p id='cherry' class='fruit' title='체리'>\n",
      "                    <span class = 'price'> 100원 </span>\n",
      "                    <span class = 'count'> 50개 </span>\n",
      "                    <span class = 'store'> 체리가게</span>\n",
      "                    <a href = 'https://www.cherry.com'> cherry.com </a>\n",
      "                </p>\n",
      "                <p id='orange' class='fruit best' title='오렌지'>\n",
      "                    <span class = 'price'> 500원 </span>\n",
      "                    <span class = 'count'> 20개 </span>\n",
      "                    <span class = 'store'> 오렌지가게</span>\n",
      "                    <a href = 'https://www.orange.com'> orange.com </a>\n",
      "                    <span>\n",
      "                        <a href=\"https://www.orange.blog/\">오렌지 효능</a>\n",
      "                    </span>\n",
      "                </p>\n",
      "        </div>\n",
      "    </body> \n",
      "</html>\n"
     ]
    }
   ],
   "source": [
    "print(html_src)"
   ]
  },
  {
   "cell_type": "code",
   "execution_count": 13,
   "id": "cc7cd17a",
   "metadata": {
    "ExecuteTime": {
     "end_time": "2024-03-14T01:03:58.234607Z",
     "start_time": "2024-03-14T01:03:58.230907Z"
    }
   },
   "outputs": [],
   "source": [
    "# DOM구조로 변환(구문 분석)\n",
    "soup = BeautifulSoup(html_src, 'lxml')"
   ]
  },
  {
   "cell_type": "code",
   "execution_count": 14,
   "id": "990448e6",
   "metadata": {
    "ExecuteTime": {
     "end_time": "2024-03-14T01:04:02.887109Z",
     "start_time": "2024-03-14T01:04:02.883561Z"
    }
   },
   "outputs": [
    {
     "data": {
      "text/plain": [
       "bs4.BeautifulSoup"
      ]
     },
     "execution_count": 14,
     "metadata": {},
     "output_type": "execute_result"
    }
   ],
   "source": [
    "type(soup)"
   ]
  },
  {
   "cell_type": "code",
   "execution_count": 15,
   "id": "99877cef",
   "metadata": {
    "ExecuteTime": {
     "end_time": "2024-03-14T01:04:07.052305Z",
     "start_time": "2024-03-14T01:04:07.044618Z"
    },
    "scrolled": true
   },
   "outputs": [
    {
     "data": {
      "text/plain": [
       "<html>\n",
       "<body>\n",
       "<h1> 과일 목록 </h1>\n",
       "<div>\n",
       "<p class=\"fruit\" id=\"banana\" title=\"바나나\">\n",
       "<span class=\"price\"> 3000원 </span>\n",
       "<span class=\"count\"> 10개 </span>\n",
       "<span class=\"store\"> 바나나가게 </span>\n",
       "<a href=\"https://www.banana.com\"> banana.com </a>\n",
       "</p>\n",
       "<p class=\"fruit\" id=\"cherry\" title=\"체리\">\n",
       "<span class=\"price\"> 100원 </span>\n",
       "<span class=\"count\"> 50개 </span>\n",
       "<span class=\"store\"> 체리가게</span>\n",
       "<a href=\"https://www.cherry.com\"> cherry.com </a>\n",
       "</p>\n",
       "<p class=\"fruit best\" id=\"orange\" title=\"오렌지\">\n",
       "<span class=\"price\"> 500원 </span>\n",
       "<span class=\"count\"> 20개 </span>\n",
       "<span class=\"store\"> 오렌지가게</span>\n",
       "<a href=\"https://www.orange.com\"> orange.com </a>\n",
       "<span>\n",
       "<a href=\"https://www.orange.blog/\">오렌지 효능</a>\n",
       "</span>\n",
       "</p>\n",
       "</div>\n",
       "</body>\n",
       "</html>"
      ]
     },
     "execution_count": 15,
     "metadata": {},
     "output_type": "execute_result"
    }
   ],
   "source": [
    "soup"
   ]
  },
  {
   "cell_type": "markdown",
   "id": "d25562f1",
   "metadata": {},
   "source": [
    "### 메서드를 사용한 요소 탐색\n",
    "#### find\n",
    "```\n",
    "soup.find/find_all(태그, id=orange, class_= ‘fruit)\n",
    "# class는 예약어이기 때문에 class_으로 매개변수명을 구분함\n",
    "```\n",
    "* soup.find(name = \"요소명\") : 첫번째 요소 찾기  \n",
    "* soup.find(attrs = {\"속성\":\"값\"}) \n",
    "* soup.find(속성 = \"값\") # 키워드 가변 인수\n",
    "* soup.find(string = \"텍스트\")\n",
    "* soup.find(recursive = \"True\")  # 기본값, 후손 요소 전체에서 검색\n",
    "* soup.find(reculsive = \"False\") # 직계 자식 내에서만 검색\n",
    "* soup.find_all() : 모든 요소 찾기\n",
    "    * name, attrs, string, **kwargs, recursive, limit(final_all에서만 가능, limit=2는 2개만 찾기)"
   ]
  },
  {
   "cell_type": "code",
   "execution_count": 16,
   "id": "4518576c",
   "metadata": {
    "ExecuteTime": {
     "end_time": "2024-03-14T01:06:32.494293Z",
     "start_time": "2024-03-14T01:06:32.489130Z"
    }
   },
   "outputs": [],
   "source": [
    "soup.find?"
   ]
  },
  {
   "cell_type": "code",
   "execution_count": 17,
   "id": "d5264f55",
   "metadata": {
    "ExecuteTime": {
     "end_time": "2024-03-14T01:06:42.644251Z",
     "start_time": "2024-03-14T01:06:42.638671Z"
    },
    "hide_input": false
   },
   "outputs": [
    {
     "data": {
      "text/plain": [
       "<p class=\"fruit\" id=\"banana\" title=\"바나나\">\n",
       "<span class=\"price\"> 3000원 </span>\n",
       "<span class=\"count\"> 10개 </span>\n",
       "<span class=\"store\"> 바나나가게 </span>\n",
       "<a href=\"https://www.banana.com\"> banana.com </a>\n",
       "</p>"
      ]
     },
     "execution_count": 17,
     "metadata": {},
     "output_type": "execute_result"
    }
   ],
   "source": [
    "soup.find('p')"
   ]
  },
  {
   "cell_type": "code",
   "execution_count": 18,
   "id": "2dd8fb4b",
   "metadata": {
    "ExecuteTime": {
     "end_time": "2024-03-14T01:07:18.871877Z",
     "start_time": "2024-03-14T01:07:18.868003Z"
    }
   },
   "outputs": [
    {
     "data": {
      "text/plain": [
       "bs4.element.Tag"
      ]
     },
     "execution_count": 18,
     "metadata": {},
     "output_type": "execute_result"
    }
   ],
   "source": [
    "type(soup.find('p'))"
   ]
  },
  {
   "cell_type": "code",
   "execution_count": 19,
   "id": "8675e7b2",
   "metadata": {
    "ExecuteTime": {
     "end_time": "2024-03-14T01:07:21.482361Z",
     "start_time": "2024-03-14T01:07:21.477723Z"
    }
   },
   "outputs": [
    {
     "data": {
      "text/plain": [
       "[<p class=\"fruit\" id=\"banana\" title=\"바나나\">\n",
       " <span class=\"price\"> 3000원 </span>\n",
       " <span class=\"count\"> 10개 </span>\n",
       " <span class=\"store\"> 바나나가게 </span>\n",
       " <a href=\"https://www.banana.com\"> banana.com </a>\n",
       " </p>,\n",
       " <p class=\"fruit\" id=\"cherry\" title=\"체리\">\n",
       " <span class=\"price\"> 100원 </span>\n",
       " <span class=\"count\"> 50개 </span>\n",
       " <span class=\"store\"> 체리가게</span>\n",
       " <a href=\"https://www.cherry.com\"> cherry.com </a>\n",
       " </p>,\n",
       " <p class=\"fruit best\" id=\"orange\" title=\"오렌지\">\n",
       " <span class=\"price\"> 500원 </span>\n",
       " <span class=\"count\"> 20개 </span>\n",
       " <span class=\"store\"> 오렌지가게</span>\n",
       " <a href=\"https://www.orange.com\"> orange.com </a>\n",
       " <span>\n",
       " <a href=\"https://www.orange.blog/\">오렌지 효능</a>\n",
       " </span>\n",
       " </p>]"
      ]
     },
     "execution_count": 19,
     "metadata": {},
     "output_type": "execute_result"
    }
   ],
   "source": [
    "soup.find_all('p')"
   ]
  },
  {
   "cell_type": "code",
   "execution_count": 20,
   "id": "8a893d0f",
   "metadata": {
    "ExecuteTime": {
     "end_time": "2024-03-14T01:08:15.555298Z",
     "start_time": "2024-03-14T01:08:15.550475Z"
    }
   },
   "outputs": [
    {
     "data": {
      "text/plain": [
       "<p class=\"fruit best\" id=\"orange\" title=\"오렌지\">\n",
       "<span class=\"price\"> 500원 </span>\n",
       "<span class=\"count\"> 20개 </span>\n",
       "<span class=\"store\"> 오렌지가게</span>\n",
       "<a href=\"https://www.orange.com\"> orange.com </a>\n",
       "<span>\n",
       "<a href=\"https://www.orange.blog/\">오렌지 효능</a>\n",
       "</span>\n",
       "</p>"
      ]
     },
     "execution_count": 20,
     "metadata": {},
     "output_type": "execute_result"
    }
   ],
   "source": [
    "soup.find('p', id=\"orange\")"
   ]
  },
  {
   "cell_type": "code",
   "execution_count": 21,
   "id": "b619cc5e",
   "metadata": {
    "ExecuteTime": {
     "end_time": "2024-03-14T01:10:28.324416Z",
     "start_time": "2024-03-14T01:10:28.319770Z"
    }
   },
   "outputs": [
    {
     "data": {
      "text/plain": [
       "[<p class=\"fruit\" id=\"banana\" title=\"바나나\">\n",
       " <span class=\"price\"> 3000원 </span>\n",
       " <span class=\"count\"> 10개 </span>\n",
       " <span class=\"store\"> 바나나가게 </span>\n",
       " <a href=\"https://www.banana.com\"> banana.com </a>\n",
       " </p>,\n",
       " <p class=\"fruit\" id=\"cherry\" title=\"체리\">\n",
       " <span class=\"price\"> 100원 </span>\n",
       " <span class=\"count\"> 50개 </span>\n",
       " <span class=\"store\"> 체리가게</span>\n",
       " <a href=\"https://www.cherry.com\"> cherry.com </a>\n",
       " </p>,\n",
       " <p class=\"fruit best\" id=\"orange\" title=\"오렌지\">\n",
       " <span class=\"price\"> 500원 </span>\n",
       " <span class=\"count\"> 20개 </span>\n",
       " <span class=\"store\"> 오렌지가게</span>\n",
       " <a href=\"https://www.orange.com\"> orange.com </a>\n",
       " <span>\n",
       " <a href=\"https://www.orange.blog/\">오렌지 효능</a>\n",
       " </span>\n",
       " </p>]"
      ]
     },
     "execution_count": 21,
     "metadata": {},
     "output_type": "execute_result"
    }
   ],
   "source": [
    "soup.find_all(class_='fruit') "
   ]
  },
  {
   "cell_type": "markdown",
   "id": "d78be75d",
   "metadata": {},
   "source": [
    "#### select\n",
    "* find와 select의 차이, select는 css선택자 사용, 관계 연결 가능\n",
    "* find와 select와 조건 방식이 다름\n",
    "* find 와 select_one은 단일 태그값 만 반환\n",
    "* find_all과 select는 모든 tag를 list로 반환\n",
    "```\n",
    "soup.select/select_one(태그, '#orange', '.fruit')\n",
    "```\n",
    "* soup.select() : 모든 요소 찾기        --> CSS 선택자  * soup.select_one() : 첫번째 요소 찾기  "
   ]
  },
  {
   "cell_type": "code",
   "execution_count": 22,
   "id": "28726513",
   "metadata": {
    "ExecuteTime": {
     "end_time": "2024-03-14T01:12:46.830766Z",
     "start_time": "2024-03-14T01:12:46.825972Z"
    }
   },
   "outputs": [],
   "source": [
    "soup.select?"
   ]
  },
  {
   "cell_type": "code",
   "execution_count": 23,
   "id": "31a2d931",
   "metadata": {
    "ExecuteTime": {
     "end_time": "2024-03-14T01:12:56.226594Z",
     "start_time": "2024-03-14T01:12:56.221995Z"
    }
   },
   "outputs": [
    {
     "data": {
      "text/plain": [
       "[<p class=\"fruit\" id=\"banana\" title=\"바나나\">\n",
       " <span class=\"price\"> 3000원 </span>\n",
       " <span class=\"count\"> 10개 </span>\n",
       " <span class=\"store\"> 바나나가게 </span>\n",
       " <a href=\"https://www.banana.com\"> banana.com </a>\n",
       " </p>,\n",
       " <p class=\"fruit\" id=\"cherry\" title=\"체리\">\n",
       " <span class=\"price\"> 100원 </span>\n",
       " <span class=\"count\"> 50개 </span>\n",
       " <span class=\"store\"> 체리가게</span>\n",
       " <a href=\"https://www.cherry.com\"> cherry.com </a>\n",
       " </p>,\n",
       " <p class=\"fruit best\" id=\"orange\" title=\"오렌지\">\n",
       " <span class=\"price\"> 500원 </span>\n",
       " <span class=\"count\"> 20개 </span>\n",
       " <span class=\"store\"> 오렌지가게</span>\n",
       " <a href=\"https://www.orange.com\"> orange.com </a>\n",
       " <span>\n",
       " <a href=\"https://www.orange.blog/\">오렌지 효능</a>\n",
       " </span>\n",
       " </p>]"
      ]
     },
     "execution_count": 23,
     "metadata": {},
     "output_type": "execute_result"
    }
   ],
   "source": [
    "soup.select('p')"
   ]
  },
  {
   "cell_type": "code",
   "execution_count": 24,
   "id": "f12b4d06",
   "metadata": {
    "ExecuteTime": {
     "end_time": "2024-03-14T01:13:11.005552Z",
     "start_time": "2024-03-14T01:13:11.000449Z"
    }
   },
   "outputs": [
    {
     "data": {
      "text/plain": [
       "<p class=\"fruit\" id=\"banana\" title=\"바나나\">\n",
       "<span class=\"price\"> 3000원 </span>\n",
       "<span class=\"count\"> 10개 </span>\n",
       "<span class=\"store\"> 바나나가게 </span>\n",
       "<a href=\"https://www.banana.com\"> banana.com </a>\n",
       "</p>"
      ]
     },
     "execution_count": 24,
     "metadata": {},
     "output_type": "execute_result"
    }
   ],
   "source": [
    "soup.select_one('p')"
   ]
  },
  {
   "cell_type": "code",
   "execution_count": 25,
   "id": "6663a709",
   "metadata": {
    "ExecuteTime": {
     "end_time": "2024-03-14T01:13:35.630360Z",
     "start_time": "2024-03-14T01:13:35.626231Z"
    }
   },
   "outputs": [
    {
     "data": {
      "text/plain": [
       "[<p class=\"fruit best\" id=\"orange\" title=\"오렌지\">\n",
       " <span class=\"price\"> 500원 </span>\n",
       " <span class=\"count\"> 20개 </span>\n",
       " <span class=\"store\"> 오렌지가게</span>\n",
       " <a href=\"https://www.orange.com\"> orange.com </a>\n",
       " <span>\n",
       " <a href=\"https://www.orange.blog/\">오렌지 효능</a>\n",
       " </span>\n",
       " </p>]"
      ]
     },
     "execution_count": 25,
     "metadata": {},
     "output_type": "execute_result"
    }
   ],
   "source": [
    "# css셀렉터 문법\n",
    "soup.select('#orange') # id 속성"
   ]
  },
  {
   "cell_type": "code",
   "execution_count": 26,
   "id": "5c73af92",
   "metadata": {
    "ExecuteTime": {
     "end_time": "2024-03-14T01:14:06.603193Z",
     "start_time": "2024-03-14T01:14:06.597461Z"
    }
   },
   "outputs": [
    {
     "data": {
      "text/plain": [
       "<p class=\"fruit best\" id=\"orange\" title=\"오렌지\">\n",
       "<span class=\"price\"> 500원 </span>\n",
       "<span class=\"count\"> 20개 </span>\n",
       "<span class=\"store\"> 오렌지가게</span>\n",
       "<a href=\"https://www.orange.com\"> orange.com </a>\n",
       "<span>\n",
       "<a href=\"https://www.orange.blog/\">오렌지 효능</a>\n",
       "</span>\n",
       "</p>"
      ]
     },
     "execution_count": 26,
     "metadata": {},
     "output_type": "execute_result"
    }
   ],
   "source": [
    "soup.select_one('#orange')"
   ]
  },
  {
   "cell_type": "code",
   "execution_count": 27,
   "id": "80c24c1a",
   "metadata": {
    "ExecuteTime": {
     "end_time": "2024-03-14T01:14:09.476575Z",
     "start_time": "2024-03-14T01:14:09.472600Z"
    }
   },
   "outputs": [
    {
     "data": {
      "text/plain": [
       "[<span class=\"price\"> 3000원 </span>,\n",
       " <span class=\"price\"> 100원 </span>,\n",
       " <span class=\"price\"> 500원 </span>]"
      ]
     },
     "execution_count": 27,
     "metadata": {},
     "output_type": "execute_result"
    }
   ],
   "source": [
    "soup.select('.price') # class 속성"
   ]
  },
  {
   "cell_type": "code",
   "execution_count": 28,
   "id": "bdd625c5",
   "metadata": {
    "ExecuteTime": {
     "end_time": "2024-03-14T01:14:11.934799Z",
     "start_time": "2024-03-14T01:14:11.930261Z"
    }
   },
   "outputs": [
    {
     "data": {
      "text/plain": [
       "[<p class=\"fruit best\" id=\"orange\" title=\"오렌지\">\n",
       " <span class=\"price\"> 500원 </span>\n",
       " <span class=\"count\"> 20개 </span>\n",
       " <span class=\"store\"> 오렌지가게</span>\n",
       " <a href=\"https://www.orange.com\"> orange.com </a>\n",
       " <span>\n",
       " <a href=\"https://www.orange.blog/\">오렌지 효능</a>\n",
       " </span>\n",
       " </p>]"
      ]
     },
     "execution_count": 28,
     "metadata": {},
     "output_type": "execute_result"
    }
   ],
   "source": [
    "soup.select('p#orange') #AND관계"
   ]
  },
  {
   "cell_type": "code",
   "execution_count": 29,
   "id": "8ed2e83a",
   "metadata": {
    "ExecuteTime": {
     "end_time": "2024-03-14T01:15:40.582953Z",
     "start_time": "2024-03-14T01:15:40.576869Z"
    }
   },
   "outputs": [
    {
     "data": {
      "text/plain": [
       "[<span class=\"store\"> 바나나가게 </span>,\n",
       " <a href=\"https://www.banana.com\"> banana.com </a>,\n",
       " <span class=\"store\"> 체리가게</span>,\n",
       " <a href=\"https://www.cherry.com\"> cherry.com </a>,\n",
       " <span class=\"store\"> 오렌지가게</span>,\n",
       " <a href=\"https://www.orange.com\"> orange.com </a>,\n",
       " <a href=\"https://www.orange.blog/\">오렌지 효능</a>]"
      ]
     },
     "execution_count": 29,
     "metadata": {},
     "output_type": "execute_result"
    }
   ],
   "source": [
    "# a태그 또는 스토어클래스에 해당하는 요소를 찾아줘\n",
    "soup.select('a, .store')  # , = OR 관계"
   ]
  },
  {
   "cell_type": "code",
   "execution_count": 34,
   "id": "b21f0647",
   "metadata": {
    "ExecuteTime": {
     "end_time": "2024-03-14T01:16:51.638981Z",
     "start_time": "2024-03-14T01:16:51.634426Z"
    }
   },
   "outputs": [
    {
     "data": {
      "text/plain": [
       "[<p class=\"fruit best\" id=\"orange\" title=\"오렌지\">\n",
       " <span class=\"price\"> 500원 </span>\n",
       " <span class=\"count\"> 20개 </span>\n",
       " <span class=\"store\"> 오렌지가게</span>\n",
       " <a href=\"https://www.orange.com\"> orange.com </a>\n",
       " <span>\n",
       " <a href=\"https://www.orange.blog/\">오렌지 효능</a>\n",
       " </span>\n",
       " </p>]"
      ]
     },
     "execution_count": 34,
     "metadata": {},
     "output_type": "execute_result"
    }
   ],
   "source": [
    "soup.select('.fruit.best') # 클래스값이 2개인 태그"
   ]
  },
  {
   "cell_type": "code",
   "execution_count": 31,
   "id": "239eb8a4",
   "metadata": {
    "ExecuteTime": {
     "end_time": "2024-03-14T01:16:09.268131Z",
     "start_time": "2024-03-14T01:16:09.262890Z"
    }
   },
   "outputs": [
    {
     "data": {
      "text/plain": [
       "[<a href=\"https://www.orange.com\"> orange.com </a>]"
      ]
     },
     "execution_count": 31,
     "metadata": {},
     "output_type": "execute_result"
    }
   ],
   "source": [
    "soup.select('.fruit.best>a')"
   ]
  },
  {
   "cell_type": "code",
   "execution_count": 32,
   "id": "f90c9853",
   "metadata": {
    "ExecuteTime": {
     "end_time": "2024-03-14T01:16:11.075864Z",
     "start_time": "2024-03-14T01:16:11.070644Z"
    }
   },
   "outputs": [
    {
     "data": {
      "text/plain": [
       "[<a href=\"https://www.orange.com\"> orange.com </a>]"
      ]
     },
     "execution_count": 32,
     "metadata": {},
     "output_type": "execute_result"
    }
   ],
   "source": [
    "soup.select('.fruit.best > a') # > 자식관계(공백주의) )"
   ]
  },
  {
   "cell_type": "code",
   "execution_count": 33,
   "id": "1b14bc99",
   "metadata": {
    "ExecuteTime": {
     "end_time": "2024-03-14T01:16:12.094118Z",
     "start_time": "2024-03-14T01:16:12.088553Z"
    }
   },
   "outputs": [
    {
     "data": {
      "text/plain": [
       "[<a href=\"https://www.orange.com\"> orange.com </a>,\n",
       " <a href=\"https://www.orange.blog/\">오렌지 효능</a>]"
      ]
     },
     "execution_count": 33,
     "metadata": {},
     "output_type": "execute_result"
    }
   ],
   "source": [
    "soup.select('.fruit.best a')# 공백 자손 관계"
   ]
  },
  {
   "cell_type": "code",
   "execution_count": 35,
   "id": "b2793802",
   "metadata": {
    "ExecuteTime": {
     "end_time": "2024-03-14T01:20:27.051777Z",
     "start_time": "2024-03-14T01:20:27.047839Z"
    }
   },
   "outputs": [
    {
     "data": {
      "text/plain": [
       "[<a href=\"https://www.orange.blog/\">오렌지 효능</a>]"
      ]
     },
     "execution_count": 35,
     "metadata": {},
     "output_type": "execute_result"
    }
   ],
   "source": [
    "soup.select('.fruit.best > span > a')"
   ]
  },
  {
   "cell_type": "code",
   "execution_count": 36,
   "id": "9373a9e9",
   "metadata": {
    "ExecuteTime": {
     "end_time": "2024-03-14T01:20:28.137939Z",
     "start_time": "2024-03-14T01:20:28.133350Z"
    }
   },
   "outputs": [
    {
     "data": {
      "text/plain": [
       "[<a href=\"https://www.orange.com\"> orange.com </a>,\n",
       " <a href=\"https://www.orange.blog/\">오렌지 효능</a>]"
      ]
     },
     "execution_count": 36,
     "metadata": {},
     "output_type": "execute_result"
    }
   ],
   "source": [
    "soup.select('.fruit.best a')"
   ]
  },
  {
   "cell_type": "code",
   "execution_count": 37,
   "id": "61014d36",
   "metadata": {
    "ExecuteTime": {
     "end_time": "2024-03-14T01:22:45.847470Z",
     "start_time": "2024-03-14T01:22:45.843317Z"
    }
   },
   "outputs": [
    {
     "data": {
      "text/plain": [
       "bs4.element.ResultSet"
      ]
     },
     "execution_count": 37,
     "metadata": {},
     "output_type": "execute_result"
    }
   ],
   "source": [
    "mylist = soup.select('.fruit.best a')\n",
    "type(mylist)"
   ]
  },
  {
   "cell_type": "code",
   "execution_count": 38,
   "id": "3abde3e7",
   "metadata": {
    "ExecuteTime": {
     "end_time": "2024-03-14T01:23:01.148084Z",
     "start_time": "2024-03-14T01:23:01.142522Z"
    }
   },
   "outputs": [
    {
     "data": {
      "text/plain": [
       "bs4.element.Tag"
      ]
     },
     "execution_count": 38,
     "metadata": {},
     "output_type": "execute_result"
    }
   ],
   "source": [
    "type(mylist[0])"
   ]
  },
  {
   "cell_type": "code",
   "execution_count": 41,
   "id": "d846d285",
   "metadata": {
    "ExecuteTime": {
     "end_time": "2024-03-14T01:26:34.690263Z",
     "start_time": "2024-03-14T01:26:34.686191Z"
    }
   },
   "outputs": [
    {
     "data": {
      "text/plain": [
       "' orange.com '"
      ]
     },
     "execution_count": 41,
     "metadata": {},
     "output_type": "execute_result"
    }
   ],
   "source": [
    "mylist[0].text"
   ]
  },
  {
   "cell_type": "code",
   "execution_count": 39,
   "id": "5e843760",
   "metadata": {
    "ExecuteTime": {
     "end_time": "2024-03-14T01:23:02.757340Z",
     "start_time": "2024-03-14T01:23:02.753372Z"
    }
   },
   "outputs": [
    {
     "name": "stdout",
     "output_type": "stream",
     "text": [
      " orange.com \n",
      "오렌지 효능\n"
     ]
    }
   ],
   "source": [
    "for tagItem in mylist :\n",
    "    print(tagItem.text)"
   ]
  },
  {
   "cell_type": "code",
   "execution_count": 42,
   "id": "8ce469cc",
   "metadata": {
    "ExecuteTime": {
     "end_time": "2024-03-14T01:27:20.349529Z",
     "start_time": "2024-03-14T01:27:20.345745Z"
    }
   },
   "outputs": [
    {
     "name": "stdout",
     "output_type": "stream",
     "text": [
      "<a href=\"https://www.orange.blog/\">오렌지 효능</a>\n"
     ]
    }
   ],
   "source": [
    "print(tagItem)"
   ]
  },
  {
   "cell_type": "code",
   "execution_count": 44,
   "id": "35654f4c",
   "metadata": {
    "ExecuteTime": {
     "end_time": "2024-03-14T01:28:01.305462Z",
     "start_time": "2024-03-14T01:28:01.301769Z"
    }
   },
   "outputs": [
    {
     "name": "stdout",
     "output_type": "stream",
     "text": [
      "https://www.orange.com\n",
      "https://www.orange.blog/\n"
     ]
    }
   ],
   "source": [
    "for item in mylist :\n",
    "    print(item['href'])"
   ]
  },
  {
   "cell_type": "code",
   "execution_count": 45,
   "id": "fc97d424",
   "metadata": {
    "ExecuteTime": {
     "end_time": "2024-03-14T01:28:54.896908Z",
     "start_time": "2024-03-14T01:28:54.893424Z"
    }
   },
   "outputs": [],
   "source": [
    "items = soup.select('.fruit')"
   ]
  },
  {
   "cell_type": "code",
   "execution_count": 46,
   "id": "76d36ac8",
   "metadata": {
    "ExecuteTime": {
     "end_time": "2024-03-14T01:28:59.954058Z",
     "start_time": "2024-03-14T01:28:59.949852Z"
    }
   },
   "outputs": [
    {
     "name": "stdout",
     "output_type": "stream",
     "text": [
      "[<p class=\"fruit\" id=\"banana\" title=\"바나나\">\n",
      "<span class=\"price\"> 3000원 </span>\n",
      "<span class=\"count\"> 10개 </span>\n",
      "<span class=\"store\"> 바나나가게 </span>\n",
      "<a href=\"https://www.banana.com\"> banana.com </a>\n",
      "</p>, <p class=\"fruit\" id=\"cherry\" title=\"체리\">\n",
      "<span class=\"price\"> 100원 </span>\n",
      "<span class=\"count\"> 50개 </span>\n",
      "<span class=\"store\"> 체리가게</span>\n",
      "<a href=\"https://www.cherry.com\"> cherry.com </a>\n",
      "</p>, <p class=\"fruit best\" id=\"orange\" title=\"오렌지\">\n",
      "<span class=\"price\"> 500원 </span>\n",
      "<span class=\"count\"> 20개 </span>\n",
      "<span class=\"store\"> 오렌지가게</span>\n",
      "<a href=\"https://www.orange.com\"> orange.com </a>\n",
      "<span>\n",
      "<a href=\"https://www.orange.blog/\">오렌지 효능</a>\n",
      "</span>\n",
      "</p>]\n"
     ]
    }
   ],
   "source": [
    "print(items)"
   ]
  },
  {
   "cell_type": "code",
   "execution_count": 47,
   "id": "a78281c7",
   "metadata": {
    "ExecuteTime": {
     "end_time": "2024-03-14T01:29:08.959791Z",
     "start_time": "2024-03-14T01:29:08.955049Z"
    }
   },
   "outputs": [
    {
     "name": "stdout",
     "output_type": "stream",
     "text": [
      "바나나  3000원   10개   바나나가게 \n",
      "체리  100원   50개   체리가게\n",
      "오렌지  500원   20개   오렌지가게\n"
     ]
    }
   ],
   "source": [
    "for item in items:    \n",
    "    name = item['title']\n",
    "    price = item.find('span','price').text\n",
    "    count = item.find('span','count').text\n",
    "    store = item.find('span', 'store').text\n",
    "    print(name, price, count, store) "
   ]
  },
  {
   "cell_type": "markdown",
   "id": "10dace91",
   "metadata": {},
   "source": [
    "### 요소의 속성 및 텍스트 반환\n",
    "e.name : 요소의 이름 얻기     \n",
    "e['속성명'] : 요소의 속성 얻기      \n",
    "e.attrs : 요소의 속성 목록(dict)     \n",
    "e.string : 요소의 텍스트     \n",
    "e.strings : 자식과 후손 요소 텍스트 목록(iter)    \n",
    "e.text : 자식과 후손 요소의 텍스트를 문자열로 얻기"
   ]
  },
  {
   "cell_type": "code",
   "execution_count": 50,
   "id": "0dc09216",
   "metadata": {
    "ExecuteTime": {
     "end_time": "2024-03-14T01:33:31.160963Z",
     "start_time": "2024-03-14T01:33:31.155957Z"
    }
   },
   "outputs": [
    {
     "data": {
      "text/plain": [
       "<p class=\"fruit best\" id=\"orange\" title=\"오렌지\">\n",
       "<span class=\"price\"> 500원 </span>\n",
       "<span class=\"count\"> 20개 </span>\n",
       "<span class=\"store\"> 오렌지가게</span>\n",
       "<a href=\"https://www.orange.com\"> orange.com </a>\n",
       "<span>\n",
       "<a href=\"https://www.orange.blog/\">오렌지 효능</a>\n",
       "</span>\n",
       "</p>"
      ]
     },
     "execution_count": 50,
     "metadata": {},
     "output_type": "execute_result"
    }
   ],
   "source": [
    "soup.find('p', id=\"orange\")"
   ]
  },
  {
   "cell_type": "code",
   "execution_count": 52,
   "id": "8a0a840f",
   "metadata": {
    "ExecuteTime": {
     "end_time": "2024-03-14T01:33:49.105129Z",
     "start_time": "2024-03-14T01:33:49.101629Z"
    }
   },
   "outputs": [],
   "source": [
    "e = soup.find('p', id=\"orange\")"
   ]
  },
  {
   "cell_type": "code",
   "execution_count": 53,
   "id": "8968aa53",
   "metadata": {
    "ExecuteTime": {
     "end_time": "2024-03-14T01:33:55.196617Z",
     "start_time": "2024-03-14T01:33:55.192791Z"
    }
   },
   "outputs": [
    {
     "data": {
      "text/plain": [
       "bs4.element.Tag"
      ]
     },
     "execution_count": 53,
     "metadata": {},
     "output_type": "execute_result"
    }
   ],
   "source": [
    "type(e)"
   ]
  },
  {
   "cell_type": "code",
   "execution_count": null,
   "id": "5b2f8df1",
   "metadata": {},
   "outputs": [],
   "source": [
    "e."
   ]
  },
  {
   "cell_type": "code",
   "execution_count": 54,
   "id": "63b2e3d3",
   "metadata": {
    "ExecuteTime": {
     "end_time": "2024-03-14T01:33:58.843123Z",
     "start_time": "2024-03-14T01:33:58.838464Z"
    }
   },
   "outputs": [
    {
     "data": {
      "text/plain": [
       "'p'"
      ]
     },
     "execution_count": 54,
     "metadata": {},
     "output_type": "execute_result"
    }
   ],
   "source": [
    "e.name"
   ]
  },
  {
   "cell_type": "code",
   "execution_count": 55,
   "id": "082f335d",
   "metadata": {
    "ExecuteTime": {
     "end_time": "2024-03-14T01:34:19.962897Z",
     "start_time": "2024-03-14T01:34:19.959247Z"
    }
   },
   "outputs": [
    {
     "data": {
      "text/plain": [
       "{'id': 'orange', 'class': ['fruit', 'best'], 'title': '오렌지'}"
      ]
     },
     "execution_count": 55,
     "metadata": {},
     "output_type": "execute_result"
    }
   ],
   "source": [
    "e.attrs"
   ]
  },
  {
   "cell_type": "code",
   "execution_count": 56,
   "id": "7b8e41f4",
   "metadata": {
    "ExecuteTime": {
     "end_time": "2024-03-14T01:34:21.969739Z",
     "start_time": "2024-03-14T01:34:21.966261Z"
    }
   },
   "outputs": [
    {
     "data": {
      "text/plain": [
       "'오렌지'"
      ]
     },
     "execution_count": 56,
     "metadata": {},
     "output_type": "execute_result"
    }
   ],
   "source": [
    "e['title']"
   ]
  },
  {
   "cell_type": "code",
   "execution_count": 63,
   "id": "ad718583",
   "metadata": {
    "ExecuteTime": {
     "end_time": "2024-03-14T01:36:13.476312Z",
     "start_time": "2024-03-14T01:36:13.472624Z"
    }
   },
   "outputs": [],
   "source": [
    "e.string"
   ]
  },
  {
   "cell_type": "code",
   "execution_count": 64,
   "id": "2ccd774e",
   "metadata": {
    "ExecuteTime": {
     "end_time": "2024-03-14T01:36:14.560337Z",
     "start_time": "2024-03-14T01:36:14.557313Z"
    }
   },
   "outputs": [
    {
     "name": "stdout",
     "output_type": "stream",
     "text": [
      "None\n"
     ]
    }
   ],
   "source": [
    "print(e.string)"
   ]
  },
  {
   "cell_type": "code",
   "execution_count": 65,
   "id": "d7680c6c",
   "metadata": {
    "ExecuteTime": {
     "end_time": "2024-03-14T01:36:15.420730Z",
     "start_time": "2024-03-14T01:36:15.416640Z"
    }
   },
   "outputs": [
    {
     "data": {
      "text/plain": [
       "<generator object Tag._all_strings at 0x000002450F657740>"
      ]
     },
     "execution_count": 65,
     "metadata": {},
     "output_type": "execute_result"
    }
   ],
   "source": [
    "e.strings"
   ]
  },
  {
   "cell_type": "code",
   "execution_count": 61,
   "id": "bab1ea1d",
   "metadata": {
    "ExecuteTime": {
     "end_time": "2024-03-14T01:35:28.167807Z",
     "start_time": "2024-03-14T01:35:28.165194Z"
    }
   },
   "outputs": [
    {
     "name": "stdout",
     "output_type": "stream",
     "text": [
      "\n",
      "\n",
      " 500원 \n",
      "\n",
      "\n",
      " 20개 \n",
      "\n",
      "\n",
      " 오렌지가게\n",
      "\n",
      "\n",
      " orange.com \n",
      "\n",
      "\n",
      "\n",
      "\n",
      "오렌지 효능\n",
      "\n",
      "\n",
      "\n",
      "\n"
     ]
    }
   ],
   "source": [
    "for item in e.strings:\n",
    "    print(item)"
   ]
  },
  {
   "cell_type": "code",
   "execution_count": 62,
   "id": "962ce532",
   "metadata": {
    "ExecuteTime": {
     "end_time": "2024-03-14T01:35:31.360695Z",
     "start_time": "2024-03-14T01:35:31.356671Z"
    }
   },
   "outputs": [
    {
     "data": {
      "text/plain": [
       "'\\n 500원 \\n 20개 \\n 오렌지가게\\n orange.com \\n\\n오렌지 효능\\n\\n'"
      ]
     },
     "execution_count": 62,
     "metadata": {},
     "output_type": "execute_result"
    }
   ],
   "source": [
    "e.text"
   ]
  },
  {
   "cell_type": "markdown",
   "id": "66ef21d2",
   "metadata": {},
   "source": [
    "### 트리 구조를 활용한 요소 탐색\n",
    "* e.요소명 : e 하위의 첫번째 요소\n",
    "* e.parent : 부모 요소\n",
    "* e.parents : 모든 조상 요소(iter)\n",
    "* e.contents : 모든 자식 요소(list)\n",
    "* e.children : 모든 자식 요소(iter)\n",
    "* e.descendants : 모든 후손 요소(iter)\n",
    "* e.previous_sibling : 바로 앞의 형제 요소\n",
    "* e.previous_siblings : 모든 앞의 형제 요소(iter)\n",
    "* e.next_sibling : 바로 뒤의 형제 요소\n",
    "* e.next_siblings : 모든 뒤의 형제 요소(iter)\n",
    "* e.previous_element : 바로 앞의 요소 \n",
    "* e.previous_elements : 모든 앞에 있는 요소(iter)\n",
    "* e.next_element : 바로 뒤의 요소 \n",
    "* e.next_elements : 모든 뒤에 있는 요소(iter)"
   ]
  },
  {
   "cell_type": "code",
   "execution_count": 66,
   "id": "e48b5883",
   "metadata": {
    "ExecuteTime": {
     "end_time": "2024-03-14T01:38:20.886065Z",
     "start_time": "2024-03-14T01:38:20.879057Z"
    }
   },
   "outputs": [
    {
     "data": {
      "text/plain": [
       "<div>\n",
       "<p class=\"fruit\" id=\"banana\" title=\"바나나\">\n",
       "<span class=\"price\"> 3000원 </span>\n",
       "<span class=\"count\"> 10개 </span>\n",
       "<span class=\"store\"> 바나나가게 </span>\n",
       "<a href=\"https://www.banana.com\"> banana.com </a>\n",
       "</p>\n",
       "<p class=\"fruit\" id=\"cherry\" title=\"체리\">\n",
       "<span class=\"price\"> 100원 </span>\n",
       "<span class=\"count\"> 50개 </span>\n",
       "<span class=\"store\"> 체리가게</span>\n",
       "<a href=\"https://www.cherry.com\"> cherry.com </a>\n",
       "</p>\n",
       "<p class=\"fruit best\" id=\"orange\" title=\"오렌지\">\n",
       "<span class=\"price\"> 500원 </span>\n",
       "<span class=\"count\"> 20개 </span>\n",
       "<span class=\"store\"> 오렌지가게</span>\n",
       "<a href=\"https://www.orange.com\"> orange.com </a>\n",
       "<span>\n",
       "<a href=\"https://www.orange.blog/\">오렌지 효능</a>\n",
       "</span>\n",
       "</p>\n",
       "</div>"
      ]
     },
     "execution_count": 66,
     "metadata": {},
     "output_type": "execute_result"
    }
   ],
   "source": [
    "# 부모 요소\n",
    "e.parent"
   ]
  },
  {
   "cell_type": "code",
   "execution_count": 67,
   "id": "52bb3ad1",
   "metadata": {
    "ExecuteTime": {
     "end_time": "2024-03-14T01:38:52.306536Z",
     "start_time": "2024-03-14T01:38:52.301725Z"
    }
   },
   "outputs": [
    {
     "data": {
      "text/plain": [
       "<generator object PageElement.parents at 0x000002450F5362C0>"
      ]
     },
     "execution_count": 67,
     "metadata": {},
     "output_type": "execute_result"
    }
   ],
   "source": [
    "# 모든 조상 요소\n",
    "e.parents"
   ]
  },
  {
   "cell_type": "code",
   "execution_count": 68,
   "id": "27ccb30f",
   "metadata": {
    "ExecuteTime": {
     "end_time": "2024-03-14T01:39:00.782191Z",
     "start_time": "2024-03-14T01:39:00.777927Z"
    }
   },
   "outputs": [
    {
     "name": "stdout",
     "output_type": "stream",
     "text": [
      "div\n",
      "body\n",
      "html\n",
      "[document]\n"
     ]
    }
   ],
   "source": [
    "for item in e.parents:\n",
    "    print(item.name)"
   ]
  },
  {
   "cell_type": "code",
   "execution_count": 69,
   "id": "955cd1bb",
   "metadata": {
    "ExecuteTime": {
     "end_time": "2024-03-14T01:39:22.104291Z",
     "start_time": "2024-03-14T01:39:22.099174Z"
    }
   },
   "outputs": [
    {
     "data": {
      "text/plain": [
       "['\\n',\n",
       " <span class=\"price\"> 500원 </span>,\n",
       " '\\n',\n",
       " <span class=\"count\"> 20개 </span>,\n",
       " '\\n',\n",
       " <span class=\"store\"> 오렌지가게</span>,\n",
       " '\\n',\n",
       " <a href=\"https://www.orange.com\"> orange.com </a>,\n",
       " '\\n',\n",
       " <span>\n",
       " <a href=\"https://www.orange.blog/\">오렌지 효능</a>\n",
       " </span>,\n",
       " '\\n']"
      ]
     },
     "execution_count": 69,
     "metadata": {},
     "output_type": "execute_result"
    }
   ],
   "source": [
    "# 모든 자손 요소(list)\n",
    "e.contents"
   ]
  },
  {
   "cell_type": "code",
   "execution_count": 70,
   "id": "41978f87",
   "metadata": {
    "ExecuteTime": {
     "end_time": "2024-03-14T01:39:25.157477Z",
     "start_time": "2024-03-14T01:39:25.153569Z"
    }
   },
   "outputs": [
    {
     "data": {
      "text/plain": [
       "<list_iterator at 0x2450e56b520>"
      ]
     },
     "execution_count": 70,
     "metadata": {},
     "output_type": "execute_result"
    }
   ],
   "source": [
    "# 모든 자식 요소(eter)\n",
    "e.children"
   ]
  },
  {
   "cell_type": "code",
   "execution_count": 71,
   "id": "2e7e40f2",
   "metadata": {
    "ExecuteTime": {
     "end_time": "2024-03-14T01:39:26.556463Z",
     "start_time": "2024-03-14T01:39:26.553353Z"
    }
   },
   "outputs": [
    {
     "name": "stdout",
     "output_type": "stream",
     "text": [
      "None\n",
      "span\n",
      "None\n",
      "span\n",
      "None\n",
      "span\n",
      "None\n",
      "a\n",
      "None\n",
      "span\n",
      "None\n"
     ]
    }
   ],
   "source": [
    "for item in e.children:\n",
    "    print(item.name)"
   ]
  }
 ],
 "metadata": {
  "kernelspec": {
   "display_name": "Python 3 (ipykernel)",
   "language": "python",
   "name": "python3"
  },
  "language_info": {
   "codemirror_mode": {
    "name": "ipython",
    "version": 3
   },
   "file_extension": ".py",
   "mimetype": "text/x-python",
   "name": "python",
   "nbconvert_exporter": "python",
   "pygments_lexer": "ipython3",
   "version": "3.11.5"
  },
  "toc": {
   "base_numbering": 1,
   "nav_menu": {},
   "number_sections": true,
   "sideBar": true,
   "skip_h1_title": false,
   "title_cell": "Table of Contents",
   "title_sidebar": "Contents",
   "toc_cell": false,
   "toc_position": {
    "height": "calc(100% - 180px)",
    "left": "10px",
    "top": "150px",
    "width": "307.2px"
   },
   "toc_section_display": true,
   "toc_window_display": false
  },
  "varInspector": {
   "cols": {
    "lenName": 16,
    "lenType": 16,
    "lenVar": 40
   },
   "kernels_config": {
    "python": {
     "delete_cmd_postfix": "",
     "delete_cmd_prefix": "del ",
     "library": "var_list.py",
     "varRefreshCmd": "print(var_dic_list())"
    },
    "r": {
     "delete_cmd_postfix": ") ",
     "delete_cmd_prefix": "rm(",
     "library": "var_list.r",
     "varRefreshCmd": "cat(var_dic_list()) "
    }
   },
   "types_to_exclude": [
    "module",
    "function",
    "builtin_function_or_method",
    "instance",
    "_Feature"
   ],
   "window_display": false
  }
 },
 "nbformat": 4,
 "nbformat_minor": 5
}
