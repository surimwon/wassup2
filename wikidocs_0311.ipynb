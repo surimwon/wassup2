{
 "cells": [
  {
   "cell_type": "markdown",
   "id": "c84984d1",
   "metadata": {},
   "source": [
    "# 파이썬 시작하기"
   ]
  },
  {
   "cell_type": "code",
   "execution_count": null,
   "id": "9d747b4c",
   "metadata": {
    "ExecuteTime": {
     "start_time": "2024-03-05T13:04:53.342Z"
    }
   },
   "outputs": [],
   "source": [
    "#01\n",
    "print(\"Hello World\")\n",
    "print('Hello World')\n",
    "\n",
    "#문자열은 따옴표, 혹은 작은 따옴표로 print 한다"
   ]
  },
  {
   "cell_type": "code",
   "execution_count": null,
   "id": "f98f89da",
   "metadata": {
    "ExecuteTime": {
     "start_time": "2024-03-05T13:04:53.344Z"
    }
   },
   "outputs": [],
   "source": [
    "#02\n",
    "print(\"Mary's cosmetics\")\n",
    "#문자열 내에 작은 따옴표가 있을 경우 큰 따옴표로 print 한다"
   ]
  },
  {
   "cell_type": "code",
   "execution_count": null,
   "id": "fec06463",
   "metadata": {
    "ExecuteTime": {
     "start_time": "2024-03-05T13:04:53.345Z"
    }
   },
   "outputs": [],
   "source": [
    "#03\n",
    "print('신씨가 소리질렀다. \"도둑이야\".')\n",
    "#문자열 내에 큰 따옴표가 있을 경우 작은 따옴표로 print 한다"
   ]
  },
  {
   "cell_type": "code",
   "execution_count": null,
   "id": "7485f5d6",
   "metadata": {
    "ExecuteTime": {
     "start_time": "2024-03-05T13:04:53.346Z"
    }
   },
   "outputs": [],
   "source": [
    "#04\n",
    "print('C:\\Windows')\n",
    "#운영체제에 따라 역슬래시(\\)가 원화로 표현될 수 있음"
   ]
  },
  {
   "cell_type": "code",
   "execution_count": null,
   "id": "c765e1c5",
   "metadata": {
    "ExecuteTime": {
     "start_time": "2024-03-05T13:04:53.348Z"
    }
   },
   "outputs": [],
   "source": [
    "#05\n",
    "print(\"안녕하세요.\\n만나서\\t\\t반갑습니다.\")\n",
    "#'\\n'은 줄바꿈, '\\t'는 탭 "
   ]
  },
  {
   "cell_type": "code",
   "execution_count": null,
   "id": "38c1de5c",
   "metadata": {
    "ExecuteTime": {
     "start_time": "2024-03-05T13:04:53.349Z"
    }
   },
   "outputs": [],
   "source": [
    "#06\n",
    "print (\"오늘은\", \"일요일\")\n",
    "#여러 개 print 하고 싶을 경우 쉼표(,)로 구분하기"
   ]
  },
  {
   "cell_type": "code",
   "execution_count": null,
   "id": "97c86ae0",
   "metadata": {
    "ExecuteTime": {
     "start_time": "2024-03-05T13:04:53.350Z"
    }
   },
   "outputs": [],
   "source": [
    "#07\n",
    "#내가 생각한 답\n",
    "print(\"naver\"\";kakao\"\";sk\"\";samsung\")\n",
    "#교안 답안 \n",
    "print(\"naver\", \"kakao\", \"sk\", \"samsung\", sep=\";\")\n",
    "#sep=\";\"은 공백 대신 세미콜론(;) 출력해달라는 인자 "
   ]
  },
  {
   "cell_type": "code",
   "execution_count": null,
   "id": "71634de3",
   "metadata": {
    "ExecuteTime": {
     "start_time": "2024-03-05T13:04:53.352Z"
    }
   },
   "outputs": [],
   "source": [
    "#08\n",
    "print(\"naver\", \"kakao\", \"sk\", \"samsung\", sep=\"/\")"
   ]
  },
  {
   "cell_type": "code",
   "execution_count": null,
   "id": "307efdb8",
   "metadata": {
    "ExecuteTime": {
     "start_time": "2024-03-05T13:04:53.354Z"
    }
   },
   "outputs": [],
   "source": [
    "#09\n",
    "print(\"first\", end=\" \"); print(\"second\")\n",
    "#줄바꿈없이 여러 문자열을 출력할 경우 end=\"\" 써주기 "
   ]
  },
  {
   "cell_type": "code",
   "execution_count": null,
   "id": "860b97e1",
   "metadata": {
    "ExecuteTime": {
     "start_time": "2024-03-05T13:04:53.356Z"
    }
   },
   "outputs": [],
   "source": [
    "#10\n",
    "print(5/3)"
   ]
  },
  {
   "cell_type": "markdown",
   "id": "4b146d93",
   "metadata": {
    "ExecuteTime": {
     "end_time": "2024-03-03T12:12:55.052212Z",
     "start_time": "2024-03-03T12:12:55.050022Z"
    }
   },
   "source": [
    "# 파이썬 변수"
   ]
  },
  {
   "cell_type": "code",
   "execution_count": null,
   "id": "89bea47b",
   "metadata": {
    "ExecuteTime": {
     "start_time": "2024-03-05T13:04:53.357Z"
    }
   },
   "outputs": [],
   "source": [
    "#11\n",
    "삼성전자 = 50000\n",
    "총평가금액 = 삼성전자 * 10\n",
    "print(총평가금액)\n",
    "\n",
    "#'총 평가금액'이라고 띄어서 작성하면 에러 발생\n",
    "# 바인딩 = 변수의 값을 지정해준다(선언)"
   ]
  },
  {
   "cell_type": "code",
   "execution_count": null,
   "id": "dd864f91",
   "metadata": {
    "ExecuteTime": {
     "start_time": "2024-03-05T13:04:53.359Z"
    }
   },
   "outputs": [],
   "source": [
    "#12\n",
    "시가총액 = 298000000000000\n",
    "현재가 = 50000\n",
    "PER = 15.79"
   ]
  },
  {
   "cell_type": "code",
   "execution_count": null,
   "id": "f882c442",
   "metadata": {
    "ExecuteTime": {
     "start_time": "2024-03-05T13:04:53.360Z"
    }
   },
   "outputs": [],
   "source": [
    "#13\n",
    "#내가 쓴 정답\n",
    "s = \"hello!\"\n",
    "t = \" python\"\n",
    "print(s + t)\n",
    "\n",
    "#교안 정답\n",
    "s = \"hello\"\n",
    "t = \"python\"\n",
    "print(s+\"!\", t)"
   ]
  },
  {
   "cell_type": "code",
   "execution_count": null,
   "id": "6d44cc88",
   "metadata": {
    "ExecuteTime": {
     "start_time": "2024-03-05T13:04:53.362Z"
    }
   },
   "outputs": [],
   "source": [
    "#14\n",
    "#예상 정답 = 8 \n",
    "2 + 2 * 3 "
   ]
  },
  {
   "cell_type": "code",
   "execution_count": null,
   "id": "93dfee0a",
   "metadata": {
    "ExecuteTime": {
     "start_time": "2024-03-05T13:04:53.363Z"
    }
   },
   "outputs": [],
   "source": [
    "#15\n",
    "a = \"132\"\n",
    "print(type(a))\n",
    "# int = 정수, str = string = 문자열 = 텍스트 "
   ]
  },
  {
   "cell_type": "code",
   "execution_count": null,
   "id": "30b4c7b4",
   "metadata": {
    "ExecuteTime": {
     "start_time": "2024-03-05T13:04:53.364Z"
    }
   },
   "outputs": [],
   "source": [
    "#16\n",
    "num_str = \"720\"  #형변환이라고 한다\n",
    "num_int = int(num_str)\n",
    "#문자열인 num_str을 정수로 변환해주고, 그걸 num_int라고 선언할게 \n",
    "print(num_int+1, type(num_int))\n",
    "#정수로 바뀌었기 때문에 +1과 같은 연산도 가능하다 "
   ]
  },
  {
   "cell_type": "code",
   "execution_count": null,
   "id": "9588faa7",
   "metadata": {
    "ExecuteTime": {
     "start_time": "2024-03-05T13:04:53.366Z"
    }
   },
   "outputs": [],
   "source": [
    "#17\n",
    "num = 100\n",
    "num_str = str(num)\n",
    "#num_str이 문자열로 잘 바뀌었는지 type을 찍어보자 \n",
    "print(num_str, type(num_str))"
   ]
  },
  {
   "cell_type": "code",
   "execution_count": null,
   "id": "22b97dbc",
   "metadata": {
    "ExecuteTime": {
     "start_time": "2024-03-05T13:04:53.367Z"
    }
   },
   "outputs": [],
   "source": [
    "#18\n",
    "str = \"15.79\"print\n",
    "result = float(str)\n",
    "print(result, type(result))"
   ]
  },
  {
   "cell_type": "code",
   "execution_count": null,
   "id": "c4586a91",
   "metadata": {
    "ExecuteTime": {
     "start_time": "2024-03-05T13:04:53.369Z"
    }
   },
   "outputs": [],
   "source": [
    "#19\n",
    "year = \"2020\"\n",
    "int_year = int(year)\n",
    "#1차 정답 print(year, year+1, year-2) 오답!\n",
    "#2차 정답 \n",
    "print(int_year, int_year-1, int_year-2)\n",
    "#교안 정답 \n",
    "print(int(year)-3)  # 2017\n",
    "print(int(year)-2)  # 2018\n",
    "print(int(year)-1)  # 2019"
   ]
  },
  {
   "cell_type": "code",
   "execution_count": null,
   "id": "18fee8e5",
   "metadata": {
    "ExecuteTime": {
     "start_time": "2024-03-05T13:04:53.370Z"
    }
   },
   "outputs": [],
   "source": [
    "#20\n",
    "에어컨 = 48584\n",
    "총금액 = (에어컨 * 36)\n",
    "print(총금액)"
   ]
  },
  {
   "cell_type": "markdown",
   "id": "12dd53d1",
   "metadata": {},
   "source": [
    "# 파이썬 문자열"
   ]
  },
  {
   "cell_type": "code",
   "execution_count": null,
   "id": "04836a3c",
   "metadata": {
    "ExecuteTime": {
     "start_time": "2024-03-05T13:04:53.372Z"
    }
   },
   "outputs": [],
   "source": [
    "#21\n",
    "letters = \"python\"\n",
    "letters[0], letters[2]\n",
    "#교안 정답\n",
    "print(letters[0], letters[2])"
   ]
  },
  {
   "cell_type": "code",
   "execution_count": null,
   "id": "21b1dd9f",
   "metadata": {
    "ExecuteTime": {
     "start_time": "2024-03-05T13:04:53.373Z"
    }
   },
   "outputs": [],
   "source": [
    "#22\n",
    "license_plate = \"24가 2210\"\n",
    "#1차 정답 (오답) license_plate[-4:-1]\n",
    "license_plate[-4:]\n",
    "#교안 정답\n",
    "print(license_plate[-4:])"
   ]
  },
  {
   "cell_type": "code",
   "execution_count": null,
   "id": "5af0d2eb",
   "metadata": {
    "ExecuteTime": {
     "start_time": "2024-03-05T13:04:53.375Z"
    }
   },
   "outputs": [],
   "source": [
    "#23\n",
    "string = \"홀짝홀짝홀짝\"\n",
    "print(string[0], string[2], string[4], sep=\"\")\n",
    "#교안 정답\n",
    "print(string[::2])\n",
    "#슬라이싱 할 때 '시작 인덱스 : 끝 인덱스 : 오프셋' 지정 가능 "
   ]
  },
  {
   "cell_type": "code",
   "execution_count": null,
   "id": "365f9d4d",
   "metadata": {
    "ExecuteTime": {
     "start_time": "2024-03-05T13:04:53.376Z"
    }
   },
   "outputs": [],
   "source": [
    "#24\n",
    "string = \"PHTHON\"\n",
    "reverse = string[::-1]\n",
    "print(reverse)\n",
    "\n",
    "#교안 정답\n",
    "string = \"PHTHON\"\n",
    "print(string[::-1])"
   ]
  },
  {
   "cell_type": "code",
   "execution_count": null,
   "id": "dd852340",
   "metadata": {
    "ExecuteTime": {
     "start_time": "2024-03-05T13:04:53.378Z"
    }
   },
   "outputs": [],
   "source": [
    "#25\n",
    "phone_number = \"010-1111-2222\"\n",
    "replace_number = phone_number.replace(\"-\", \" \")\n",
    "print(replace_number)"
   ]
  },
  {
   "cell_type": "code",
   "execution_count": null,
   "id": "a2f3e4ac",
   "metadata": {
    "ExecuteTime": {
     "start_time": "2024-03-05T13:04:53.379Z"
    }
   },
   "outputs": [],
   "source": [
    "#연습용\n",
    "a = '1234'\n",
    "a1 = a.replace(\"1\", \"5\")\n",
    "print(a1)"
   ]
  },
  {
   "cell_type": "code",
   "execution_count": null,
   "id": "f2574f16",
   "metadata": {
    "ExecuteTime": {
     "start_time": "2024-03-05T13:04:53.380Z"
    }
   },
   "outputs": [],
   "source": [
    "#26\n",
    "phone_number = \"010-1111-2222\"\n",
    "replace_number = phone_number.replace(\"-\", \"\")\n",
    "print(replace_number)"
   ]
  },
  {
   "cell_type": "code",
   "execution_count": null,
   "id": "5ff70d8a",
   "metadata": {
    "ExecuteTime": {
     "start_time": "2024-03-05T13:04:53.381Z"
    }
   },
   "outputs": [],
   "source": [
    "#27\n",
    "url = \"http://sharebook.kr\"\n",
    "#내가 제출한 정답\n",
    "print(url[-2:])\n",
    "#교안 정답\n",
    "url_split = url.split('.')\n",
    "print(url_split[-1])"
   ]
  },
  {
   "cell_type": "code",
   "execution_count": null,
   "id": "275c2453",
   "metadata": {
    "ExecuteTime": {
     "start_time": "2024-03-05T13:04:53.382Z"
    }
   },
   "outputs": [],
   "source": [
    "#28\n",
    "lang = 'python'\n",
    "lang[0] = 'P'\n",
    "print(lang)\n",
    "#한 번 선언(바인딩)이 되면, 바꿀 수 없다. 고로 'p'로 이미 선언 되었기 떄문에 'P'로 다시 선언할 수 없다"
   ]
  },
  {
   "cell_type": "code",
   "execution_count": null,
   "id": "8e5d25f3",
   "metadata": {
    "ExecuteTime": {
     "start_time": "2024-03-05T13:04:53.384Z"
    }
   },
   "outputs": [],
   "source": [
    "#29\n",
    "string = 'abcdfe2a354a32a'\n",
    "string = string.replace('a', 'A')\n",
    "print(string)"
   ]
  },
  {
   "cell_type": "code",
   "execution_count": null,
   "id": "e1df8b52",
   "metadata": {
    "ExecuteTime": {
     "start_time": "2024-03-05T13:04:53.386Z"
    }
   },
   "outputs": [],
   "source": [
    "#30\n",
    "#string = string.replace('b', 'B')라고 선언하지 않아서 오류 발생할 것 같다\n",
    "string = 'abcd'\n",
    "string.replace('b', 'B')\n",
    "print(string)\n",
    "#문자열은 변경할 수 없는 자료형이어서 원본 그대로 출력해준다\n",
    "\n",
    "string = 'abcd'\n",
    "string = string.replace('b', 'B')\n",
    "print(string)\n",
    "#예상대로 이렇게 하니까 B로 출력이 된다"
   ]
  },
  {
   "cell_type": "code",
   "execution_count": null,
   "id": "63008a98",
   "metadata": {
    "ExecuteTime": {
     "start_time": "2024-03-05T13:04:53.387Z"
    }
   },
   "outputs": [],
   "source": [
    "#31\n",
    "a = \"3\"\n",
    "b = \"4\"\n",
    "print(a + b)\n",
    "#예상 : 3 4 라고 출력 될 것이다"
   ]
  },
  {
   "cell_type": "code",
   "execution_count": null,
   "id": "ed830cb8",
   "metadata": {
    "ExecuteTime": {
     "start_time": "2024-03-05T13:04:53.389Z"
    }
   },
   "outputs": [],
   "source": [
    "#32\n",
    "print(\"Hi\" * 3)\n",
    "# 예상 : HiHiHI 라고 출력 될 것이다"
   ]
  },
  {
   "cell_type": "code",
   "execution_count": null,
   "id": "9ae83051",
   "metadata": {
    "ExecuteTime": {
     "start_time": "2024-03-05T13:04:53.390Z"
    }
   },
   "outputs": [],
   "source": [
    "#33\n",
    "print(\"-\" * 80)"
   ]
  },
  {
   "cell_type": "code",
   "execution_count": null,
   "id": "e9c3775e",
   "metadata": {
    "ExecuteTime": {
     "start_time": "2024-03-05T13:04:53.392Z"
    }
   },
   "outputs": [],
   "source": [
    "#34\n",
    "t1 = \"python\"\n",
    "t2 = \"java\"\n",
    "t = t1 + \" \" + t2 + \" \"\n",
    "print(t * 5)\n"
   ]
  },
  {
   "cell_type": "code",
   "execution_count": null,
   "id": "24c64290",
   "metadata": {
    "ExecuteTime": {
     "start_time": "2024-03-05T13:04:53.394Z"
    }
   },
   "outputs": [],
   "source": [
    "#35\n",
    "name1 = \"김민수\" \n",
    "age1 = 10\n",
    "name2 = \"이철희\"\n",
    "age2 = 13\n",
    "print(\"이름: %s 나이: %d\" % (name1, age1))\n",
    "print(\"이름: %s 나이: %d\" % (name2, age2))"
   ]
  },
  {
   "cell_type": "code",
   "execution_count": null,
   "id": "c80aa8d6",
   "metadata": {
    "ExecuteTime": {
     "start_time": "2024-03-05T13:04:53.395Z"
    }
   },
   "outputs": [],
   "source": [
    "#36\n",
    "name1 = \"김민수\" \n",
    "age1 = 10\n",
    "name2 = \"이철희\"\n",
    "age2 = 13\n",
    "print(\"이름: {0} 나이: {1}\".format(name1, age1))\n",
    "print(\"이름: {0} 나이: {1}\".format(name2, age2))"
   ]
  },
  {
   "cell_type": "code",
   "execution_count": null,
   "id": "86ced0a8",
   "metadata": {
    "ExecuteTime": {
     "start_time": "2024-03-05T13:04:53.397Z"
    }
   },
   "outputs": [],
   "source": [
    "#37\n",
    "name1 = \"김민수\" \n",
    "age1 = 10\n",
    "name2 = \"이철희\"\n",
    "age2 = 13\n",
    "print(f'이름: {name1} 나이: {age1}')\n",
    "print(f'이름: {name2} 나이: {age2}')"
   ]
  },
  {
   "cell_type": "code",
   "execution_count": null,
   "id": "400de443",
   "metadata": {
    "ExecuteTime": {
     "start_time": "2024-03-05T13:04:53.398Z"
    }
   },
   "outputs": [],
   "source": [
    "#38 \n",
    "상장주식수 = \"5,969,782,550\"\n",
    "콤마없애기 = 상장주식수.replace(\",\", \"\")\n",
    "print(콤마없애기)\n",
    "정수타입 = int(콤마없애기)\n",
    "print(정수타입, type(정수타입))"
   ]
  },
  {
   "cell_type": "code",
   "execution_count": null,
   "id": "cddc17a1",
   "metadata": {
    "ExecuteTime": {
     "start_time": "2024-03-05T13:04:53.399Z"
    }
   },
   "outputs": [],
   "source": [
    "#39\n",
    "분기 = \"2020/03(E) (IFRS연결)\"\n",
    "print(분기[:7])"
   ]
  },
  {
   "cell_type": "code",
   "execution_count": null,
   "id": "d687cfd7",
   "metadata": {
    "ExecuteTime": {
     "start_time": "2024-03-05T13:04:53.400Z"
    }
   },
   "outputs": [],
   "source": [
    "#40\n",
    "data = \"   삼성전자    \"\n",
    "공백없음 = data.strip()\n",
    "print(공백없음)"
   ]
  },
  {
   "cell_type": "code",
   "execution_count": null,
   "id": "c1882372",
   "metadata": {
    "ExecuteTime": {
     "start_time": "2024-03-05T13:04:53.402Z"
    }
   },
   "outputs": [],
   "source": [
    "#41\n",
    "ticker = \"btc_krw\"\n",
    "ticker1 = ticker.upper\n",
    "print(ticker.upper())"
   ]
  },
  {
   "cell_type": "code",
   "execution_count": null,
   "id": "feb7de58",
   "metadata": {
    "ExecuteTime": {
     "start_time": "2024-03-05T13:04:53.403Z"
    }
   },
   "outputs": [],
   "source": [
    "#42\n",
    "ticker = \"BTC_KRW\"\n",
    "ticker2 = ticker.lower\n",
    "print(ticker.lower())"
   ]
  },
  {
   "cell_type": "code",
   "execution_count": null,
   "id": "0f5254e3",
   "metadata": {
    "ExecuteTime": {
     "start_time": "2024-03-05T13:04:53.405Z"
    }
   },
   "outputs": [],
   "source": [
    "#43\n",
    "a = \"hello\"\n",
    "#내가 쓴 정답\n",
    "a1 = a.replace(\"h\", \"H\")\n",
    "print(a1)\n",
    "#교안 정답\n",
    "a2 = a.capitalize()\n",
    "print(a2)"
   ]
  },
  {
   "cell_type": "code",
   "execution_count": null,
   "id": "1d2bdb22",
   "metadata": {
    "ExecuteTime": {
     "start_time": "2024-03-05T13:04:53.407Z"
    }
   },
   "outputs": [],
   "source": [
    "#44\n",
    "file_name = \"보고서.xlsx\"\n",
    "file_name.endswith(\"xlsx\")\n",
    "#몰라서 찾아봤음!"
   ]
  },
  {
   "cell_type": "code",
   "execution_count": null,
   "id": "be467299",
   "metadata": {
    "ExecuteTime": {
     "start_time": "2024-03-05T13:04:53.409Z"
    }
   },
   "outputs": [],
   "source": [
    "#45\n",
    "file_name = \"보고서.xlsx\"\n",
    "#내가 쓴 정답\n",
    "file_name.endswith(\"xlsx\" or \"xls\")\n",
    "#교안 정답\n",
    "file_name.endswith((\"xlsx\", \"xls\"))"
   ]
  },
  {
   "cell_type": "code",
   "execution_count": null,
   "id": "1a8b26ba",
   "metadata": {
    "ExecuteTime": {
     "start_time": "2024-03-05T13:04:53.410Z"
    }
   },
   "outputs": [],
   "source": [
    "#46\n",
    "file_name = \"2020_보고서.xlsx\"\n",
    "file_name.startswith(\"2020\")"
   ]
  },
  {
   "cell_type": "code",
   "execution_count": null,
   "id": "1b588362",
   "metadata": {
    "ExecuteTime": {
     "start_time": "2024-03-05T13:04:53.412Z"
    }
   },
   "outputs": [],
   "source": [
    "#47\n",
    "a = \"hello world\"\n",
    "a.split()"
   ]
  },
  {
   "cell_type": "code",
   "execution_count": null,
   "id": "30f8de75",
   "metadata": {
    "ExecuteTime": {
     "start_time": "2024-03-05T13:04:53.413Z"
    }
   },
   "outputs": [],
   "source": [
    "#48\n",
    "ticker = \"btc_krw\"\n",
    "ticker.split(\"_\")"
   ]
  },
  {
   "cell_type": "code",
   "execution_count": null,
   "id": "95f18168",
   "metadata": {
    "ExecuteTime": {
     "start_time": "2024-03-05T13:04:53.415Z"
    }
   },
   "outputs": [],
   "source": [
    "#49\n",
    "date = \"2020-05-01\"\n",
    "date.split(\"-\")"
   ]
  },
  {
   "cell_type": "code",
   "execution_count": null,
   "id": "166afaa8",
   "metadata": {
    "ExecuteTime": {
     "start_time": "2024-03-05T13:04:53.416Z"
    }
   },
   "outputs": [],
   "source": [
    "#50\n",
    "data = \"039490     \"\n",
    "data.rstrip()"
   ]
  },
  {
   "cell_type": "markdown",
   "id": "b0e7c334",
   "metadata": {},
   "source": [
    "# 파이썬 리스트"
   ]
  },
  {
   "cell_type": "markdown",
   "id": "fe86eb5c",
   "metadata": {},
   "source": [
    "## 리스트 생성"
   ]
  },
  {
   "cell_type": "code",
   "execution_count": null,
   "id": "bb3770b2",
   "metadata": {
    "ExecuteTime": {
     "start_time": "2024-03-05T13:04:53.418Z"
    }
   },
   "outputs": [],
   "source": [
    "#51\n",
    "movie_rank = [\"닥터 스트레인지\", \"스플릿\", \"럭키\"]"
   ]
  },
  {
   "cell_type": "code",
   "execution_count": null,
   "id": "99192857",
   "metadata": {
    "ExecuteTime": {
     "start_time": "2024-03-05T13:04:53.419Z"
    }
   },
   "outputs": [],
   "source": [
    "#52\n",
    "movie_rank = [\"닥터 스트레인지\", \"스플릿\", \"럭키\"]\n",
    "movie_rank.append(\"배트맨\")\n",
    "print(movie_rank)"
   ]
  },
  {
   "cell_type": "code",
   "execution_count": null,
   "id": "1d454e0e",
   "metadata": {
    "ExecuteTime": {
     "start_time": "2024-03-05T13:04:53.420Z"
    }
   },
   "outputs": [],
   "source": [
    "#53\n",
    "movie_rank = [\"닥터 스트레인지\", \"스플릿\", \"럭키\"]\n",
    "movie_rank.insert(1, \"슈퍼맨\")\n",
    "print(movie_rank)"
   ]
  },
  {
   "cell_type": "code",
   "execution_count": null,
   "id": "28422747",
   "metadata": {
    "ExecuteTime": {
     "start_time": "2024-03-05T13:04:53.422Z"
    }
   },
   "outputs": [],
   "source": [
    "#54\n",
    "#방법1\n",
    "movie_rank = ['닥터 스트레인지', '슈퍼맨', '스플릿', '럭키', '배트맨']\n",
    "movie_rank.remove(\"럭키\")\n",
    "print(movie_rank)\n",
    "#방법2\n",
    "movie_rank = ['닥터 스트레인지', '슈퍼맨', '스플릿', '럭키', '배트맨']\n",
    "del movie_rank[3]\n",
    "print(movie_rank)"
   ]
  },
  {
   "cell_type": "code",
   "execution_count": null,
   "id": "d3500ae6",
   "metadata": {
    "ExecuteTime": {
     "start_time": "2024-03-05T13:04:53.423Z"
    }
   },
   "outputs": [],
   "source": [
    "#55\n",
    "#내가 작성한 답안 = 결과는 동일한데, 틀린 건지 점검 필요\n",
    "movie_rank = ['닥터 스트레인지', '슈퍼맨', '스플릿', '배트맨']\n",
    "del movie_rank[2:]\n",
    "print(movie_rank)\n",
    "#교안 답안\n",
    "movie_rank = ['닥터 스트레인지', '슈퍼맨', '스플릿', '배트맨']\n",
    "del movie_rank[2]\n",
    "del movie_rank[2]\n",
    "print(movie_rank)"
   ]
  },
  {
   "cell_type": "code",
   "execution_count": null,
   "id": "cf32068d",
   "metadata": {
    "ExecuteTime": {
     "start_time": "2024-03-05T13:04:53.424Z"
    }
   },
   "outputs": [],
   "source": [
    "#56\n",
    "lang1 = [\"C\", \"C++\", \"JAVA\"]\n",
    "lang2 = [\"Python\", \"Go\", \"C#\"]\n",
    "langs = lang1 + lang2\n",
    "print(langs)"
   ]
  },
  {
   "cell_type": "code",
   "execution_count": null,
   "id": "670d44f8",
   "metadata": {
    "ExecuteTime": {
     "start_time": "2024-03-05T13:04:53.425Z"
    }
   },
   "outputs": [],
   "source": [
    "#57\n",
    "nums = [1, 2, 3, 4, 5, 6, 7]\n",
    "print(\"max:\", max(nums))\n",
    "print(\"min:\", min(nums))"
   ]
  },
  {
   "cell_type": "code",
   "execution_count": null,
   "id": "0de56439",
   "metadata": {
    "ExecuteTime": {
     "start_time": "2024-03-05T13:04:53.426Z"
    }
   },
   "outputs": [],
   "source": [
    "#58\n",
    "nums = [1, 2, 3, 4, 5]\n",
    "print(sum(nums))"
   ]
  },
  {
   "cell_type": "code",
   "execution_count": null,
   "id": "9b5404fc",
   "metadata": {
    "ExecuteTime": {
     "start_time": "2024-03-05T13:04:53.427Z"
    }
   },
   "outputs": [],
   "source": [
    "#59\n",
    "cook = [\"피자\", \"김밥\", \"만두\", \"양념치킨\", \"족발\", \"피자\", \"김치만두\", \"쫄면\", \"소시지\", \"라면\", \"팥빙수\", \"김치전\"]\n",
    "#1차 답안 (오답)\n",
    "#print(count(cook))\n",
    "\n",
    "#2차 답안\n",
    "print(len(cook))"
   ]
  },
  {
   "cell_type": "code",
   "execution_count": null,
   "id": "8d0da1e6",
   "metadata": {
    "ExecuteTime": {
     "start_time": "2024-03-05T13:04:53.428Z"
    }
   },
   "outputs": [],
   "source": [
    "#60\n",
    "nums = [1, 2, 3, 4, 5]\n",
    "print(sum(nums)/len(nums))"
   ]
  },
  {
   "cell_type": "code",
   "execution_count": null,
   "id": "337d169a",
   "metadata": {
    "ExecuteTime": {
     "start_time": "2024-03-05T13:04:53.429Z"
    }
   },
   "outputs": [],
   "source": [
    "#61\n",
    "price = ['20180728', 100, 130, 140, 150, 160, 170]\n",
    "print(price[1:])"
   ]
  },
  {
   "cell_type": "code",
   "execution_count": null,
   "id": "8e093b14",
   "metadata": {
    "ExecuteTime": {
     "start_time": "2024-03-05T13:04:53.430Z"
    }
   },
   "outputs": [],
   "source": [
    "#62\n",
    "nums = [1, 2, 3, 4, 5, 6, 7, 8, 9, 10]\n",
    "print(nums[::2])"
   ]
  },
  {
   "cell_type": "code",
   "execution_count": null,
   "id": "f8c9436c",
   "metadata": {
    "ExecuteTime": {
     "start_time": "2024-03-05T13:04:53.431Z"
    }
   },
   "outputs": [],
   "source": [
    "#63 \n",
    "#외워서 풀었는데 이해는 잘 안 됐음 \n",
    "nums = [1, 2, 3, 4, 5, 6, 7, 8, 9, 10]\n",
    "print(nums[1::2])"
   ]
  },
  {
   "cell_type": "code",
   "execution_count": null,
   "id": "3ba44457",
   "metadata": {
    "ExecuteTime": {
     "start_time": "2024-03-05T13:04:53.432Z"
    }
   },
   "outputs": [],
   "source": [
    "#64\n",
    "nums = [1, 2, 3, 4, 5]\n",
    "nums.reverse()\n",
    "print(nums)"
   ]
  },
  {
   "cell_type": "code",
   "execution_count": null,
   "id": "26f44866",
   "metadata": {
    "ExecuteTime": {
     "start_time": "2024-03-05T13:04:53.433Z"
    }
   },
   "outputs": [],
   "source": [
    "#65\n",
    "interest = ['삼성전자', 'LG전자', 'Naver']\n",
    "print(interest[0], interest[2])"
   ]
  },
  {
   "cell_type": "code",
   "execution_count": null,
   "id": "b33757f4",
   "metadata": {
    "ExecuteTime": {
     "start_time": "2024-03-05T13:04:53.435Z"
    }
   },
   "outputs": [],
   "source": [
    "#66\n",
    "interest = ['삼성전자', 'LG전자', 'Naver', 'SK하이닉스', '미래에셋대우']\n",
    "#내가 쓴 정답 (오답)\n",
    "#print(\" \".join(interest))\n",
    "print(\" \".join(interest))"
   ]
  },
  {
   "cell_type": "code",
   "execution_count": null,
   "id": "143119e9",
   "metadata": {
    "ExecuteTime": {
     "start_time": "2024-03-05T13:04:53.436Z"
    }
   },
   "outputs": [],
   "source": [
    "#67\n",
    "interest = ['삼성전자', 'LG전자', 'Naver', 'SK하이닉스', '미래에셋대우']\n",
    "print(\"/\".join(interest))"
   ]
  },
  {
   "cell_type": "code",
   "execution_count": null,
   "id": "798c6d31",
   "metadata": {
    "ExecuteTime": {
     "start_time": "2024-03-05T13:04:53.437Z"
    }
   },
   "outputs": [],
   "source": [
    "#68\n",
    "interest = ['삼성전자', 'LG전자', 'Naver', 'SK하이닉스', '미래에셋대우']\n",
    "print(\"\\n\".join(interest))"
   ]
  },
  {
   "cell_type": "code",
   "execution_count": null,
   "id": "d877cf54",
   "metadata": {
    "ExecuteTime": {
     "start_time": "2024-03-05T13:04:53.438Z"
    }
   },
   "outputs": [],
   "source": [
    "#69\n",
    "string = \"삼성전자/LG전자/Naver\"\n",
    "interest = string.split(\"/\")\n",
    "print(interest)"
   ]
  },
  {
   "cell_type": "code",
   "execution_count": null,
   "id": "571e4124",
   "metadata": {
    "ExecuteTime": {
     "start_time": "2024-03-05T13:04:53.439Z"
    }
   },
   "outputs": [],
   "source": [
    "#70\n",
    "data = [2, 4, 3, 1, 5, 10, 9]\n",
    "data.sort(reverse=True)\n",
    "print(data)"
   ]
  },
  {
   "cell_type": "markdown",
   "id": "3d950e3b",
   "metadata": {},
   "source": [
    "# 파이썬 튜플"
   ]
  },
  {
   "cell_type": "code",
   "execution_count": null,
   "id": "0b9cd73d",
   "metadata": {
    "ExecuteTime": {
     "start_time": "2024-03-05T13:04:53.440Z"
    }
   },
   "outputs": [],
   "source": [
    "#71\n",
    "my_variable = ()\n",
    "print(type(my_variable))"
   ]
  },
  {
   "cell_type": "code",
   "execution_count": null,
   "id": "4113a8fa",
   "metadata": {
    "ExecuteTime": {
     "start_time": "2024-03-05T13:04:53.442Z"
    }
   },
   "outputs": [],
   "source": [
    "#72\n",
    "movie_rank = ('닥터 스트레인지', '스플릿', '럭키')"
   ]
  },
  {
   "cell_type": "code",
   "execution_count": null,
   "id": "e92c534b",
   "metadata": {
    "ExecuteTime": {
     "start_time": "2024-03-05T13:04:53.443Z"
    }
   },
   "outputs": [],
   "source": [
    "#73\n",
    "#내가 쓴 답안 (오답) -> 1만 쓰면 정수로 인식함\n",
    "#t = (1)\n",
    "#type(t)\n",
    "t = (1,)\n",
    "type(t)"
   ]
  },
  {
   "cell_type": "code",
   "execution_count": null,
   "id": "0c38d3e4",
   "metadata": {
    "ExecuteTime": {
     "start_time": "2024-03-05T13:04:53.444Z"
    }
   },
   "outputs": [],
   "source": [
    "#74\n",
    "#오류 발생 원인 추측 : 튜플은 값을 변경할 수 없다 \n",
    "t = (1, 2, 3)\n",
    "t[0] = 'a'"
   ]
  },
  {
   "cell_type": "code",
   "execution_count": null,
   "id": "d8e72b56",
   "metadata": {
    "ExecuteTime": {
     "start_time": "2024-03-05T13:04:53.445Z"
    }
   },
   "outputs": [],
   "source": [
    "#75\n",
    "#원칙적으로는 튜플에 괄호를 함께 데이터를 정의해야 하지만, 편의상 괄호 없이도 동작함!\n",
    "t = 1, 2, 3, 4\n",
    "type(t)"
   ]
  },
  {
   "cell_type": "code",
   "execution_count": null,
   "id": "37ef237b",
   "metadata": {
    "ExecuteTime": {
     "start_time": "2024-03-05T13:04:53.446Z"
    }
   },
   "outputs": [],
   "source": [
    "#76\n",
    "# 튜플은 값을 변경할 수 없으니, 리스트와 달리 t.upper 함수가 동작하지 않는다.\n",
    "# 새로운 튜플을 만들고 t라는 변수를 업데이트 하면 기존의 튜플은 자동으로 삭제된다.\n",
    "t = ('a', 'b', 'c')\n",
    "t = ('A', 'B', 'C')\n",
    "print(t)"
   ]
  },
  {
   "cell_type": "code",
   "execution_count": null,
   "id": "cc43708a",
   "metadata": {
    "ExecuteTime": {
     "start_time": "2024-03-05T13:04:53.447Z"
    }
   },
   "outputs": [],
   "source": [
    "#77\n",
    "interest = ('삼성전자', 'LG전자', 'SK Hynix')\n",
    "data = list(interest)\n",
    "print(data)"
   ]
  },
  {
   "cell_type": "code",
   "execution_count": null,
   "id": "c062150a",
   "metadata": {
    "ExecuteTime": {
     "start_time": "2024-03-05T13:04:53.448Z"
    }
   },
   "outputs": [],
   "source": [
    "#78\n",
    "interest = ['삼성전자', 'LG전자', 'SK Hynix']\n",
    "data = tuple(interest)\n",
    "print(data)"
   ]
  },
  {
   "cell_type": "code",
   "execution_count": null,
   "id": "5f98876f",
   "metadata": {
    "ExecuteTime": {
     "start_time": "2024-03-05T13:04:53.449Z"
    }
   },
   "outputs": [],
   "source": [
    "#79\n",
    "#오류 발생할 줄 알았는데 아니었음 \n",
    "temp = ('apple', 'banana', 'cake')\n",
    "a, b, c = temp\n",
    "print(a, b, c)"
   ]
  },
  {
   "cell_type": "code",
   "execution_count": null,
   "id": "d11d5f57",
   "metadata": {
    "ExecuteTime": {
     "start_time": "2024-03-05T13:04:53.451Z"
    }
   },
   "outputs": [],
   "source": [
    "#80\n",
    "#몰라서 정답 참고함!\n",
    "a = range(2, 99, 2)\n",
    "print(tuple(a))"
   ]
  },
  {
   "cell_type": "markdown",
   "id": "ea51d601",
   "metadata": {},
   "source": [
    "# 파이썬 딕셔너리"
   ]
  },
  {
   "cell_type": "code",
   "execution_count": null,
   "id": "70e3ebee",
   "metadata": {
    "ExecuteTime": {
     "start_time": "2024-03-05T13:04:53.453Z"
    }
   },
   "outputs": [],
   "source": [
    "#81\n",
    "#몰라서 구글링함!!!!\n",
    "scores = [8.8, 8.9, 8.7, 9.2, 9.3, 9.7, 9.9, 9.5, 7.8, 9.4]\n",
    "*valid_score, a, b = scores\n",
    "print(valid_score)"
   ]
  },
  {
   "cell_type": "code",
   "execution_count": null,
   "id": "752b3e73",
   "metadata": {
    "ExecuteTime": {
     "start_time": "2024-03-05T13:04:53.454Z"
    }
   },
   "outputs": [],
   "source": [
    "#82\n",
    "#맞긴 했는데 제대로 이해는 못함 그냥 외웠음\n",
    "scores = [8.8, 8.9, 8.7, 9.2, 9.3, 9.7, 9.9, 9.5, 7.8, 9.4]\n",
    "a, b, *valid_score = scores\n",
    "print(valid_score)"
   ]
  },
  {
   "cell_type": "code",
   "execution_count": null,
   "id": "2d89983d",
   "metadata": {
    "ExecuteTime": {
     "start_time": "2024-03-05T13:04:53.455Z"
    }
   },
   "outputs": [],
   "source": [
    "#83\n",
    "scores = [8.8, 8.9, 8.7, 9.2, 9.3, 9.7, 9.9, 9.5, 7.8, 9.4]\n",
    "a, *valid_score, b = scores\n",
    "print(valid_score)"
   ]
  },
  {
   "cell_type": "code",
   "execution_count": null,
   "id": "24b620fd",
   "metadata": {
    "ExecuteTime": {
     "start_time": "2024-03-05T13:04:53.457Z"
    }
   },
   "outputs": [],
   "source": [
    "#84\n",
    "temp = {}\n",
    "type(temp)"
   ]
  },
  {
   "cell_type": "code",
   "execution_count": null,
   "id": "184a6596",
   "metadata": {
    "ExecuteTime": {
     "start_time": "2024-03-05T13:04:53.458Z"
    }
   },
   "outputs": [],
   "source": [
    "#85\n",
    "temp = {'메로나': '1000', '폴라포': '1200', '빵빠레': '1800'}\n",
    "type(temp)"
   ]
  },
  {
   "cell_type": "code",
   "execution_count": null,
   "id": "c9fe1c2c",
   "metadata": {
    "ExecuteTime": {
     "start_time": "2024-03-05T13:04:53.463Z"
    }
   },
   "outputs": [],
   "source": [
    "#86\n",
    "temp = {'메로나': '1000', '폴라포': '1200', '빵빠레': '1800'}\n",
    "temp['죠스바'] = '1200'\n",
    "temp['월드콘'] = '1500'\n",
    "print(temp)"
   ]
  },
  {
   "cell_type": "code",
   "execution_count": null,
   "id": "5e583772",
   "metadata": {
    "ExecuteTime": {
     "start_time": "2024-03-05T13:04:53.469Z"
    }
   },
   "outputs": [],
   "source": [
    "#87\n",
    "ice = {'메로나': 1000,\n",
    "       '폴로포': 1200,\n",
    "       '빵빠레': 1800,\n",
    "       '죠스바': 1200,\n",
    "       '월드콘': 1500}\n",
    "#내가 쓴 정답\n",
    "print('메로나 가격: ', ice.get('메로나')) \n",
    "#교안 정답\n",
    "print(\"메로나 가격: \", ice[\"메로나\"])"
   ]
  },
  {
   "cell_type": "code",
   "execution_count": null,
   "id": "e0676892",
   "metadata": {
    "ExecuteTime": {
     "start_time": "2024-03-05T13:04:53.475Z"
    }
   },
   "outputs": [],
   "source": [
    "#88\n",
    "ice = {'메로나': 1000,\n",
    "       '폴로포': 1200,\n",
    "       '빵빠레': 1800,\n",
    "       '죠스바': 1200,\n",
    "       '월드콘': 1500}\n",
    "ice['메로나'] = 1300\n",
    "print(ice)"
   ]
  },
  {
   "cell_type": "code",
   "execution_count": null,
   "id": "e13f38ef",
   "metadata": {
    "ExecuteTime": {
     "start_time": "2024-03-05T13:04:53.477Z"
    }
   },
   "outputs": [],
   "source": [
    "#89\n",
    "ice = {'메로나': 1000,\n",
    "       '폴로포': 1200,\n",
    "       '빵빠레': 1800,\n",
    "       '죠스바': 1200,\n",
    "       '월드콘': 1500}\n",
    "del ice['메로나']\n",
    "print(ice)"
   ]
  },
  {
   "cell_type": "code",
   "execution_count": null,
   "id": "f2504cd7",
   "metadata": {
    "ExecuteTime": {
     "start_time": "2024-03-05T13:04:53.479Z"
    }
   },
   "outputs": [],
   "source": [
    "#90\n",
    "#오류 발생 원인 추측 : 가격이 선언이 안 되어서 ?\n",
    "icecream = {'폴라포': 1200, '빵빠레': 1800, '월드콘': 1500, '메로나': 1000}\n",
    "#가격을 임의로 지정해주니 오류가 발생하지 않는다 \n",
    "icecream['누가바'] = 1500\n",
    "print(icecream)"
   ]
  },
  {
   "cell_type": "code",
   "execution_count": null,
   "id": "d0c3ed8d",
   "metadata": {
    "ExecuteTime": {
     "start_time": "2024-03-05T13:04:53.481Z"
    }
   },
   "outputs": [],
   "source": [
    "#91\n",
    "inventory = {\"메로나\": [300, 20], \"비비빅\":[400, 3], \"죠스바\":[250, 100]}\n",
    "type(inventory)"
   ]
  },
  {
   "cell_type": "code",
   "execution_count": null,
   "id": "7a7b483c",
   "metadata": {
    "ExecuteTime": {
     "start_time": "2024-03-05T13:04:53.482Z"
    }
   },
   "outputs": [],
   "source": [
    "#92\n",
    "inventory = {\"메로나\": [300, 20],\n",
    "              \"비비빅\": [400, 3],\n",
    "              \"죠스바\": [250, 100]}\n",
    "#거의 근접했는데 대괄호 위치 때문에 오답\n",
    "#print(inventory[\"메로나\"[0]], \"원\")\n",
    "print(inventory[\"메로나\"][0], \"원\")"
   ]
  },
  {
   "cell_type": "code",
   "execution_count": null,
   "id": "38dc08c3",
   "metadata": {
    "ExecuteTime": {
     "start_time": "2024-03-05T13:04:53.483Z"
    }
   },
   "outputs": [],
   "source": [
    "#93\n",
    "inventory = {\"메로나\": [300, 20],\n",
    "              \"비비빅\": [400, 3],\n",
    "              \"죠스바\": [250, 100]}\n",
    "print(inventory[\"메로나\"][1], \"개\")"
   ]
  },
  {
   "cell_type": "code",
   "execution_count": null,
   "id": "83e684ad",
   "metadata": {
    "ExecuteTime": {
     "start_time": "2024-03-05T13:04:53.485Z"
    }
   },
   "outputs": [],
   "source": [
    "#94\n",
    "inventory = {\"메로나\": [300, 20],\n",
    "              \"비비빅\": [400, 3],\n",
    "              \"죠스바\": [250, 100]}\n",
    "inventory[\"월드콘\"] = [500, 7]\n",
    "print(inventory)"
   ]
  },
  {
   "cell_type": "code",
   "execution_count": null,
   "id": "f2a4d032",
   "metadata": {
    "ExecuteTime": {
     "start_time": "2024-03-05T13:04:53.486Z"
    }
   },
   "outputs": [],
   "source": [
    "#95\n",
    "icecream = {'탱크보이': 1200, '폴라포': 1200, '빵빠레': 1800, '월드콘': 1500, '메로나': 1000}\n",
    "#내가 쓴 정답\n",
    "print(icecream.keys())\n",
    "#교안 정답\n",
    "ice = list(icecream.keys())\n",
    "print(ice)"
   ]
  },
  {
   "cell_type": "code",
   "execution_count": null,
   "id": "a437ae4a",
   "metadata": {
    "ExecuteTime": {
     "start_time": "2024-03-05T13:04:53.487Z"
    }
   },
   "outputs": [],
   "source": [
    "#96\n",
    "icecream = {'탱크보이': 1200, '폴라포': 1200, '빵빠레': 1800, '월드콘': 1500, '메로나': 1000}\n",
    "ice = list(icecream.values())\n",
    "print(ice)"
   ]
  },
  {
   "cell_type": "code",
   "execution_count": null,
   "id": "c5955c32",
   "metadata": {
    "ExecuteTime": {
     "start_time": "2024-03-05T13:04:53.491Z"
    }
   },
   "outputs": [],
   "source": [
    "#97\n",
    "icecream = {'탱크보이': 1200, '폴라포': 1200, '빵빠레': 1800, '월드콘': 1500, '메로나': 1000}\n",
    "ice = list(icecream.values())\n",
    "print(sum(ice))\n",
    "#교안 정답 = 선언하지않고 바로 출력\n",
    "print(sum(icecream.values()))"
   ]
  },
  {
   "cell_type": "code",
   "execution_count": null,
   "id": "c28cedd4",
   "metadata": {
    "ExecuteTime": {
     "start_time": "2024-03-05T13:04:53.492Z"
    }
   },
   "outputs": [],
   "source": [
    "#98\n",
    "#구글링해서 알았음!\n",
    "icecream = {'탱크보이': 1200, '폴라포': 1200, '빵빠레': 1800, '월드콘': 1500, '메로나': 1000}\n",
    "new_product = {'팥빙수':2700, '아맛나':1000}\n",
    "icecream.update(new_product)\n",
    "print(icecream)"
   ]
  },
  {
   "cell_type": "code",
   "execution_count": null,
   "id": "9b5f7cc2",
   "metadata": {
    "ExecuteTime": {
     "start_time": "2024-03-05T13:04:53.493Z"
    }
   },
   "outputs": [],
   "source": [
    "#99\n",
    "keys = (\"apple\", \"pear\", \"peach\")\n",
    "vals = (300, 250, 400)\n",
    "#내가 쓴 정답 (오답) -> 그냥 묶으면 될 줄 알았지만, 오답\n",
    "result = {keys : vals}\n",
    "print(result)\n",
    "#교안 정답\n",
    "result = dict(zip(keys, vals))\n",
    "print(result)"
   ]
  },
  {
   "cell_type": "code",
   "execution_count": null,
   "id": "7e614caa",
   "metadata": {
    "ExecuteTime": {
     "start_time": "2024-03-05T13:04:53.494Z"
    }
   },
   "outputs": [],
   "source": [
    "#100\n",
    "date = ['09/05', '09/06', '09/07', '09/08', '09/09']\n",
    "close_price = [10500, 10300, 10100, 10800, 11000]\n",
    "close_table = dict(zip(date, close_price))\n",
    "print(close_table)"
   ]
  },
  {
   "cell_type": "markdown",
   "id": "e3dddb61",
   "metadata": {},
   "source": [
    "# 파이썬 분기문"
   ]
  },
  {
   "cell_type": "code",
   "execution_count": null,
   "id": "ef08024c",
   "metadata": {
    "ExecuteTime": {
     "start_time": "2024-03-05T13:04:53.496Z"
    }
   },
   "outputs": [],
   "source": [
    "#101\n",
    "#파이썬에서 True 혹은 False를 갖는 데이터 타입은 무엇인가?\n",
    "#bool 타입!"
   ]
  },
  {
   "cell_type": "code",
   "execution_count": null,
   "id": "e8b22ac0",
   "metadata": {
    "ExecuteTime": {
     "start_time": "2024-03-05T13:04:53.497Z"
    }
   },
   "outputs": [],
   "source": [
    "#102\n",
    "#출력 결과 예상 : False (정답)\n",
    "print(3 == 5)"
   ]
  },
  {
   "cell_type": "code",
   "execution_count": null,
   "id": "6c6efb05",
   "metadata": {
    "ExecuteTime": {
     "start_time": "2024-03-05T13:04:53.498Z"
    }
   },
   "outputs": [],
   "source": [
    "#103\n",
    "#출력 결과 예상 : True (정답)\n",
    "print(3 < 5)"
   ]
  },
  {
   "cell_type": "code",
   "execution_count": null,
   "id": "1bf701f4",
   "metadata": {
    "ExecuteTime": {
     "start_time": "2024-03-05T13:04:53.499Z"
    }
   },
   "outputs": [],
   "source": [
    "#104\n",
    "#출력 결과 예상 : True (정답)\n",
    "x = 4\n",
    "print(1 < x < 5)"
   ]
  },
  {
   "cell_type": "code",
   "execution_count": null,
   "id": "25d78f0a",
   "metadata": {
    "ExecuteTime": {
     "start_time": "2024-03-05T13:04:53.500Z"
    }
   },
   "outputs": [],
   "source": [
    "#105\n",
    "#출력 결과 예상 : True (정답)\n",
    "print ((3 == 3) and (4 != 3))"
   ]
  },
  {
   "cell_type": "code",
   "execution_count": null,
   "id": "88e39848",
   "metadata": {
    "ExecuteTime": {
     "start_time": "2024-03-05T13:04:53.501Z"
    }
   },
   "outputs": [],
   "source": [
    "#106\n",
    "#에러 발생 원인 설명 : 지원하지 않는 연산자\n",
    "print(3 => 4)"
   ]
  },
  {
   "cell_type": "code",
   "execution_count": null,
   "id": "f63d1d35",
   "metadata": {
    "ExecuteTime": {
     "start_time": "2024-03-05T13:04:53.503Z"
    }
   },
   "outputs": [],
   "source": [
    "#107\n",
    "#코드 출력 결과 예상 : False (오답)\n",
    "if 4 < 3:\n",
    "    print(\"Hello World\")\n",
    "# 조건을 만족하지 않아 아무 결과도 출력되지 않는다. "
   ]
  },
  {
   "cell_type": "code",
   "execution_count": null,
   "id": "c017d621",
   "metadata": {
    "ExecuteTime": {
     "start_time": "2024-03-05T13:04:53.504Z"
    }
   },
   "outputs": [],
   "source": [
    "#108\n",
    "#코드 출력 결과 예상 : Hi, there (정답)\n",
    "if 4 < 3:\n",
    "    print(\"Hello World.\")\n",
    "else:\n",
    "    print(\"Hi, there.\")"
   ]
  },
  {
   "cell_type": "code",
   "execution_count": null,
   "id": "a4de9700",
   "metadata": {
    "ExecuteTime": {
     "start_time": "2024-03-05T13:04:53.506Z"
    }
   },
   "outputs": [],
   "source": [
    "#109\n",
    "#코드 출력 결과 예상 : 열이 맞지 않아 에러 발생 (오답)\n",
    "if True :\n",
    "    print (\"1\")\n",
    "    print (\"2\")\n",
    "else :\n",
    "    print(\"3\")\n",
    "#여기까지가 if 문인데, True라고 이미 명시되어 있으니, 1과 2를 print하고 else 문은 생략\n",
    "print(\"4\")\n",
    "#4를 출력하라고 했으니 1, 2, 4가 출력되는 것"
   ]
  },
  {
   "cell_type": "code",
   "execution_count": null,
   "id": "7c8cc4eb",
   "metadata": {
    "ExecuteTime": {
     "start_time": "2024-03-05T13:04:53.507Z"
    }
   },
   "outputs": [],
   "source": [
    "#110\n",
    "#코드 출력 결과 예상 : 5 (오답)\n",
    "if True :\n",
    "    if False:\n",
    "        print(\"1\")\n",
    "        print(\"2\")\n",
    "    else:\n",
    "        print(\"3\")\n",
    "else :\n",
    "    print(\"4\")\n",
    "print(\"5\")\n",
    "#3이 출력되는 이유 = if True라고 해서 들어가봤더니 if False가 나옴. 고로 else에 해당하는 3이 출력되는 것이고 1, 2는 출력되지 않는다"
   ]
  },
  {
   "cell_type": "code",
   "execution_count": null,
   "id": "34aba6ca",
   "metadata": {
    "ExecuteTime": {
     "start_time": "2024-03-05T13:04:53.508Z"
    }
   },
   "outputs": [],
   "source": [
    "#111\n",
    "#내가 쓴 정답 : 출력하라는 말이 아니었다 (오답)\n",
    "a = \"안녕하세요\"\n",
    "print(a * 2)\n",
    "#교안 정답\n",
    "user = input(\"입력:\")\n",
    "print(user * 2)"
   ]
  },
  {
   "cell_type": "code",
   "execution_count": null,
   "id": "e59eaf78",
   "metadata": {
    "ExecuteTime": {
     "start_time": "2024-03-05T13:04:53.510Z"
    }
   },
   "outputs": [],
   "source": [
    "#해설 영상 정답\n",
    "data = input(\"\")\n",
    "print(data * 2)"
   ]
  },
  {
   "cell_type": "code",
   "execution_count": null,
   "id": "7377a5f9",
   "metadata": {
    "ExecuteTime": {
     "start_time": "2024-03-05T13:04:53.511Z"
    }
   },
   "outputs": [],
   "source": [
    "#112\n",
    "#내가 쓴 정답 : 에러 발생(정수가 아니어서 안 된다고 한다)\n",
    "#data = input(\"숫자를 입력하세요:\")\n",
    "#print(data +10)\n",
    "\n",
    "#교안 정답\n",
    "user = input(\"숫자를 입력하세요: \")\n",
    "print(10 + int(user))"
   ]
  },
  {
   "cell_type": "code",
   "execution_count": null,
   "id": "607303b5",
   "metadata": {
    "ExecuteTime": {
     "start_time": "2024-03-05T13:04:53.513Z"
    }
   },
   "outputs": [],
   "source": [
    "#113\n",
    "user = input(\"\")\n",
    "if int(user) % 2 == 0:\n",
    "    print(\"짝수\")\n",
    "else:\n",
    "    print(\"홀수\")"
   ]
  },
  {
   "cell_type": "code",
   "execution_count": null,
   "id": "bd48f51a",
   "metadata": {
    "ExecuteTime": {
     "start_time": "2024-03-05T13:04:53.514Z"
    }
   },
   "outputs": [],
   "source": [
    "#114\n",
    "#내가 쓴 정답 : 동일하게 작동함\n",
    "user = input(\"입력값: \")\n",
    "if int(user) + 20 > 255:\n",
    "    print(\"255\")\n",
    "else:\n",
    "    print(20 + int(user))"
   ]
  },
  {
   "cell_type": "code",
   "execution_count": null,
   "id": "46046079",
   "metadata": {
    "ExecuteTime": {
     "start_time": "2024-03-05T13:04:53.515Z"
    }
   },
   "outputs": [],
   "source": [
    "#교안 정답\n",
    "user = input(\"입력값: \")\n",
    "num = 20 + int(user)\n",
    "if num > 255:\n",
    "    print(255)\n",
    "else:\n",
    "    print(num)"
   ]
  },
  {
   "cell_type": "code",
   "execution_count": null,
   "id": "92c2b25c",
   "metadata": {
    "ExecuteTime": {
     "start_time": "2024-03-05T13:04:53.516Z"
    }
   },
   "outputs": [],
   "source": [
    "#115\n",
    "user = input(\"입력값: \")\n",
    "num = int(user) - 20\n",
    "if num > 255:\n",
    "    print(255)\n",
    "elif num < 0:\n",
    "    print(0)\n",
    "else :\n",
    "    print(num)"
   ]
  },
  {
   "cell_type": "code",
   "execution_count": null,
   "id": "994d8667",
   "metadata": {
    "ExecuteTime": {
     "start_time": "2024-03-05T13:04:53.517Z"
    }
   },
   "outputs": [],
   "source": [
    "#116\n",
    "\n",
    "#내가 쓴 if 문 -> 얼렁뚱땅 썼는데 역시나 오답\n",
    "#if time(user) == \"%h:00\" :\n",
    "#if time[user] == \"%h:00\":\n",
    "\n",
    "#교안 정답\n",
    "time = input(\"현재시간: \")\n",
    "if time[-2:] == \"00\":\n",
    "    print(\"정각 입니다.\")\n",
    "else:\n",
    "    print(\"정각이 아닙니다.\")\n"
   ]
  },
  {
   "cell_type": "code",
   "execution_count": null,
   "id": "18be5a9a",
   "metadata": {
    "ExecuteTime": {
     "start_time": "2024-03-05T13:04:53.518Z"
    }
   },
   "outputs": [],
   "source": [
    "#117\n",
    "#1차 시도 = input을 두 번 하게 설계되었다. 왜지???\n",
    "fruit = [\"사과\", \"포도\", \"홍시\"]\n",
    "user = input(\"좋아하는 과일은? \")\n",
    "if input(user) in fruit:\n",
    "    print(\"정답입니다.\")\n",
    "else:\n",
    "    print(\"오답입니다.\")"
   ]
  },
  {
   "cell_type": "code",
   "execution_count": null,
   "id": "040cf132",
   "metadata": {
    "ExecuteTime": {
     "start_time": "2024-03-05T13:04:53.519Z"
    }
   },
   "outputs": [],
   "source": [
    "#2차 시도 (정답)\n",
    "fruit = [\"사과\", \"포도\", \"홍시\"]\n",
    "user = input(\"좋아하는 과일은? \")\n",
    "if user in fruit:\n",
    "    print(\"정답입니다.\")\n",
    "else:\n",
    "    print(\"오답입니다.\")"
   ]
  },
  {
   "cell_type": "code",
   "execution_count": null,
   "id": "8ae17077",
   "metadata": {
    "ExecuteTime": {
     "start_time": "2024-03-05T13:04:53.520Z"
    }
   },
   "outputs": [],
   "source": [
    "#118\n",
    "warn_investment_list = [\"Microsoft\", \"Google\", \"Naver\", \"Kakao\", \"SAMSUNG\", \"LG\"]\n",
    "user = input(\"종목명: \")\n",
    "if user in warn_investment_list:\n",
    "    print(\"투자 경고 종목입니다.\")\n",
    "else:\n",
    "    print(\"투자 경고 종목이 아닙니다.\")"
   ]
  },
  {
   "cell_type": "code",
   "execution_count": null,
   "id": "f563615c",
   "metadata": {
    "ExecuteTime": {
     "start_time": "2024-03-05T13:04:53.522Z"
    }
   },
   "outputs": [],
   "source": [
    "#119\n",
    "#딕셔너리라고 user(keys)라고 작성해야 하나 싶었는데 그대로 작성하면 되는 거였음!\n",
    "fruit = {\"봄\" : \"딸기\", \"여름\" : \"토마토\", \"가을\" : \"사과\"}\n",
    "user = input(\"제가 좋아하는 계절은: \")\n",
    "if user in fruit:\n",
    "    print(\"정답입니다.\")\n",
    "else:\n",
    "    print(\"오답입니다.\")"
   ]
  },
  {
   "cell_type": "code",
   "execution_count": null,
   "id": "af71d6f6",
   "metadata": {
    "ExecuteTime": {
     "start_time": "2024-03-05T13:04:53.523Z"
    }
   },
   "outputs": [],
   "source": [
    "#120\n",
    "fruit = {\"봄\" : \"딸기\", \"여름\" : \"토마토\", \"가을\" : \"사과\"}\n",
    "user = input(\"좋아하는 과일은? \")\n",
    "if user in fruit.values():\n",
    "    print(\"정답입니다.\")\n",
    "else:\n",
    "    print(\"오답입니다.\")"
   ]
  },
  {
   "cell_type": "code",
   "execution_count": null,
   "id": "cbdaedde",
   "metadata": {
    "ExecuteTime": {
     "end_time": "2024-03-05T13:06:12.795437Z",
     "start_time": "2024-03-05T13:06:11.105526Z"
    }
   },
   "outputs": [],
   "source": [
    "#121\n",
    "user = input(\"\")\n",
    "if user.islower():\n",
    "    print(user.upper())\n",
    "else:\n",
    "    print(user.lower())"
   ]
  },
  {
   "cell_type": "code",
   "execution_count": null,
   "id": "3257f016",
   "metadata": {
    "ExecuteTime": {
     "end_time": "2024-03-05T13:06:18.633145Z",
     "start_time": "2024-03-05T13:06:15.266142Z"
    }
   },
   "outputs": [],
   "source": [
    "#122\n",
    "score = input(\"score: \")\n",
    "score = int(score)\n",
    "if 81 <= score <= 100:\n",
    "    print(\"grade is A\")\n",
    "elif 61 <= score <= 80:\n",
    "    print(\"grade is B\")\n",
    "elif 41 <= score <= 60:\n",
    "    print(\"grade is C\")\n",
    "elif 21 <= score <= 40:\n",
    "    print(\"grade is D\")\n",
    "else:\n",
    "    print(\"grade is E\")"
   ]
  },
  {
   "cell_type": "code",
   "execution_count": null,
   "id": "e3f763e1",
   "metadata": {
    "ExecuteTime": {
     "end_time": "2024-03-05T13:07:53.798662Z",
     "start_time": "2024-03-05T13:06:38.401927Z"
    }
   },
   "outputs": [],
   "source": [
    "#123\n",
    "환율 = {\"달러\": 1167, \n",
    "        \"엔\": 1.096, \n",
    "        \"유로\": 1268, \n",
    "        \"위안\": 171}\n",
    "user = input(\"입력: \")\n",
    "num, currency = user.split()\n",
    "print(float(num) * 환율[currency], \"원\")"
   ]
  },
  {
   "cell_type": "code",
   "execution_count": null,
   "id": "a9d28048",
   "metadata": {},
   "outputs": [],
   "source": [
    "#124\n",
    "num1 = input(\"input number1: \")\n",
    "num2 = input(\"input number2: \")\n",
    "num3 = input(\"input number3: \")\n",
    "num1 = int(num1)\n",
    "num2 = int(num2)\n",
    "num3 = int(num3)\n",
    "\n",
    "if num1 >= num2 and num1 >= num3:\n",
    "    print(num1)\n",
    "elif num2 >= num1 and num2 >= num3:\n",
    "    print(num2)\n",
    "else:\n",
    "    print(num3)"
   ]
  },
  {
   "cell_type": "code",
   "execution_count": null,
   "id": "8e71e34e",
   "metadata": {},
   "outputs": [],
   "source": [
    "#125\n",
    "number = input(\"휴대전화 번호 입력: \")\n",
    "num = number.split(\"-\")[0]\n",
    "if num == \"011\":\n",
    "    com = \"SKT\"\n",
    "elif num == \"016\":\n",
    "    com = \"KT\"\n",
    "elif num == \"019\":\n",
    "    com = \"LGU\"\n",
    "else:\n",
    "    com = \"알수없음\"\n",
    "print(f\"당신은 {com} 사용자입니다.\")"
   ]
  },
  {
   "cell_type": "code",
   "execution_count": null,
   "id": "0c8b4aab",
   "metadata": {},
   "outputs": [],
   "source": [
    "#126\n",
    "우편번호 = input(\"우편번호: \")\n",
    "우편번호 = 우편번호[:3]\n",
    "if 우편번호 in [\"010\", \"011\", \"012\"]:\n",
    "    print(\"강북구\")\n",
    "elif 우편번호 in [\"014\", \"015\", \"016\"]:\n",
    "    print(\"도봉구\")\n",
    "else:\n",
    "    print(\"노원구\")"
   ]
  },
  {
   "cell_type": "code",
   "execution_count": null,
   "id": "432f6d95",
   "metadata": {},
   "outputs": [],
   "source": [
    "#127\n",
    "주민번호 = input(\"주민등록번호: \")\n",
    "주민번호 = 주민번호.split(\"-\")[1]\n",
    "if 주민번호[0] == \"1\" or 주민번호[0] == \"3\":\n",
    "    print(\"남자\")\n",
    "else:\n",
    "    print(\"여자\")"
   ]
  },
  {
   "cell_type": "code",
   "execution_count": null,
   "id": "d90e8302",
   "metadata": {
    "ExecuteTime": {
     "end_time": "2024-03-05T13:08:14.958346Z",
     "start_time": "2024-03-05T13:08:14.400954Z"
    }
   },
   "outputs": [],
   "source": [
    "#128\n",
    "주민번호 = input(\"주민등록번호: \")\n",
    "뒷자리 = 주민번호.split(\"-\")[1]\n",
    "if 0 <= int(뒷자리[1:3]) <= 8:\n",
    "    print(\"서울입니다.\")\n",
    "else:\n",
    "    print(\"서울이 아닙니다.\")"
   ]
  },
  {
   "cell_type": "code",
   "execution_count": null,
   "id": "ca203ea0",
   "metadata": {
    "ExecuteTime": {
     "end_time": "2024-03-05T13:08:41.801223Z",
     "start_time": "2024-03-05T13:08:34.562580Z"
    }
   },
   "outputs": [],
   "source": [
    "#129\n",
    "num = input(\"주민등록번호: \")\n",
    "계산1 = int(num[0]) * 2 + int(num[1]) * 3 + int(num[2]) * 4 + int(num[3]) * 5 + int(num[4]) * 6 + \\\n",
    "        int(num[5]) * 7 + int(num[7]) * 8 + int(num[8]) * 9 + int(num[9]) * 2 + int(num[10])* 3 + \\\n",
    "        int(num[11])* 4 + int(num[12]) * 5\n",
    "계산2 = 11 - (계산1 % 11)\n",
    "계산3 = str(계산2)\n",
    "\n",
    "if num[-1] == 계산3[-1]:\n",
    "    print(\"유효한 주민등록번호입니다.\")\n",
    "else:\n",
    "    print(\"유효하지 않은 주민등록번호입니다.\")"
   ]
  },
  {
   "cell_type": "code",
   "execution_count": null,
   "id": "6058e97b",
   "metadata": {
    "ExecuteTime": {
     "end_time": "2024-03-05T13:08:55.332322Z",
     "start_time": "2024-03-05T13:08:54.445464Z"
    }
   },
   "outputs": [],
   "source": [
    "#130\n",
    "import requests\n",
    "btc = requests.get(\"https://api.bithumb.com/public/ticker/\").json()['data']\n",
    "\n",
    "변동폭 = float(btc['max_price']) - float(btc['min_price'])\n",
    "시가 = float(btc['opening_price'])\n",
    "최고가 = float(btc['max_price'])\n",
    "\n",
    "if (시가+변동폭) > 최고가:\n",
    "    print(\"상승장\")\n",
    "else:\n",
    "    print(\"하락장\")"
   ]
  },
  {
   "cell_type": "markdown",
   "id": "ed98291d",
   "metadata": {},
   "source": [
    "# 파이썬 반복문"
   ]
  },
  {
   "cell_type": "code",
   "execution_count": null,
   "id": "c9343d4c",
   "metadata": {
    "ExecuteTime": {
     "end_time": "2024-03-05T13:09:26.071278Z",
     "start_time": "2024-03-05T13:09:26.067776Z"
    }
   },
   "outputs": [],
   "source": [
    "#131\n",
    "#출력 결과 예측 : 사과, 귤, 수박이 차례대로 출력된다. (정답)\n",
    "과일 = [\"사과\", \"귤\", \"수박\"]\n",
    "for 변수 in 과일:\n",
    "    print(변수)"
   ]
  },
  {
   "cell_type": "code",
   "execution_count": null,
   "id": "0341775b",
   "metadata": {
    "ExecuteTime": {
     "end_time": "2024-03-05T13:10:40.915117Z",
     "start_time": "2024-03-05T13:10:40.911713Z"
    }
   },
   "outputs": [],
   "source": [
    "#132\n",
    "#출력 결과 예측 : \"사과\", \"귤\", \"수박\"으로 출력된다 (오답)\n",
    "과일 = [\"사과\", \"귤\", \"수박\"]\n",
    "for 변수 in 과일:\n",
    "  print(\"#####\")\n",
    "#for문의 핵심은 들여쓰기된 코드가 자료구조에 저장된 개수만큼 반복된다."
   ]
  },
  {
   "cell_type": "code",
   "execution_count": null,
   "id": "ad327240",
   "metadata": {
    "ExecuteTime": {
     "end_time": "2024-03-05T13:13:38.149221Z",
     "start_time": "2024-03-05T13:13:38.145653Z"
    }
   },
   "outputs": [],
   "source": [
    "#133\n",
    "for 변수 in [\"A\", \"B\", \"C\"]:\n",
    "  print(변수)\n",
    "\n",
    "print(\"A\")\n",
    "print(\"B\")\n",
    "print(\"C\")"
   ]
  },
  {
   "cell_type": "code",
   "execution_count": null,
   "id": "48b2e54a",
   "metadata": {
    "ExecuteTime": {
     "end_time": "2024-03-05T13:13:58.713062Z",
     "start_time": "2024-03-05T13:13:58.709963Z"
    }
   },
   "outputs": [],
   "source": [
    "#134\n",
    "for 변수 in [\"A\", \"B\", \"C\"]:\n",
    "  print(\"출력:\", 변수)\n",
    "\n",
    "print(\"출력:\", \"A\")\n",
    "print(\"출력:\", \"B\")\n",
    "print(\"출력:\", \"C\")"
   ]
  },
  {
   "cell_type": "code",
   "execution_count": null,
   "id": "07311e93",
   "metadata": {
    "ExecuteTime": {
     "end_time": "2024-03-05T13:15:09.194632Z",
     "start_time": "2024-03-05T13:15:09.189983Z"
    }
   },
   "outputs": [],
   "source": [
    "#135\n",
    "for 변수 in [\"A\", \"B\", \"C\"]:\n",
    "  b = 변수.lower()\n",
    "  print(\"변환:\", b)\n",
    "    \n",
    "변수 = \"A\"\n",
    "b = 변수.lower()\n",
    "print(\"변환:\", b)\n",
    "변수 = \"B\"\n",
    "b = 변수.lower()\n",
    "print(\"변환:\", b)\n",
    "변수 = \"C\"\n",
    "b = 변수.lower()\n",
    "print(\"변환:\", b)"
   ]
  },
  {
   "cell_type": "code",
   "execution_count": null,
   "id": "f2bba6ed",
   "metadata": {
    "ExecuteTime": {
     "end_time": "2024-03-05T13:16:37.300481Z",
     "start_time": "2024-03-05T13:16:37.296961Z"
    }
   },
   "outputs": [],
   "source": [
    "#136\n",
    "#내가 쓴 정답\n",
    "for 변수 in [10, 20, 30]:\n",
    "  print(\"변수 =\", 변수)\n",
    "#교안 정답\n",
    "리스트 = [10, 20, 30]\n",
    "for 변수 in 리스트:\n",
    "  print(변수)"
   ]
  },
  {
   "cell_type": "code",
   "execution_count": null,
   "id": "ff787afc",
   "metadata": {
    "ExecuteTime": {
     "end_time": "2024-03-05T13:17:38.336970Z",
     "start_time": "2024-03-05T13:17:38.333197Z"
    }
   },
   "outputs": [],
   "source": [
    "#137\n",
    "t1 = (10, 20, 30)\n",
    "for 변수 in (10, 20, 30):\n",
    "    print(변수)"
   ]
  },
  {
   "cell_type": "code",
   "execution_count": null,
   "id": "0fab833f",
   "metadata": {
    "ExecuteTime": {
     "end_time": "2024-03-05T13:18:27.960944Z",
     "start_time": "2024-03-05T13:18:27.957761Z"
    }
   },
   "outputs": [],
   "source": [
    "#138\n",
    "list = [10, 20, 30]\n",
    "for 변수 in list:\n",
    "    print(\"-------\")"
   ]
  },
  {
   "cell_type": "code",
   "execution_count": null,
   "id": "1d11f8fd",
   "metadata": {
    "ExecuteTime": {
     "end_time": "2024-03-05T13:19:12.885695Z",
     "start_time": "2024-03-05T13:19:12.882650Z"
    }
   },
   "outputs": [],
   "source": [
    "#139\n",
    "print(\"++++\")\n",
    "list = [10, 20, 30]\n",
    "for 변수 in list:\n",
    "    print(변수)"
   ]
  },
  {
   "cell_type": "code",
   "execution_count": null,
   "id": "45c4499a",
   "metadata": {
    "ExecuteTime": {
     "end_time": "2024-03-05T13:19:51.376919Z",
     "start_time": "2024-03-05T13:19:51.373346Z"
    }
   },
   "outputs": [],
   "source": [
    "#140\n",
    "list = [1, 2, 3, 4]\n",
    "for 변수 in list:\n",
    "    print(\"-------\")"
   ]
  },
  {
   "cell_type": "code",
   "execution_count": null,
   "id": "2e8c445f",
   "metadata": {
    "ExecuteTime": {
     "end_time": "2024-03-05T13:21:57.471508Z",
     "start_time": "2024-03-05T13:21:57.467715Z"
    }
   },
   "outputs": [],
   "source": [
    "#141\n",
    "리스트 = [100, 200, 300]\n",
    "for 변수 in 리스트:\n",
    "    print(변수 + 10)"
   ]
  },
  {
   "cell_type": "code",
   "execution_count": null,
   "id": "0f37ffd3",
   "metadata": {
    "ExecuteTime": {
     "end_time": "2024-03-05T13:22:33.694718Z",
     "start_time": "2024-03-05T13:22:33.691296Z"
    }
   },
   "outputs": [],
   "source": [
    "#142\n",
    "리스트 = [\"김밥\", \"라면\", \"튀김\"]\n",
    "for 변수 in 리스트:\n",
    "    print(\"오늘의 메뉴:\", 변수)"
   ]
  },
  {
   "cell_type": "code",
   "execution_count": null,
   "id": "e691acb8",
   "metadata": {
    "ExecuteTime": {
     "end_time": "2024-03-05T13:23:00.110515Z",
     "start_time": "2024-03-05T13:23:00.107104Z"
    }
   },
   "outputs": [],
   "source": [
    "#143\n",
    "리스트 = [\"SK하이닉스\", \"삼성전자\", \"LG전자\"]\n",
    "for 변수 in 리스트:\n",
    "    print(len(변수))"
   ]
  },
  {
   "cell_type": "code",
   "execution_count": null,
   "id": "3a0774b9",
   "metadata": {
    "ExecuteTime": {
     "end_time": "2024-03-05T13:23:19.689812Z",
     "start_time": "2024-03-05T13:23:19.686446Z"
    }
   },
   "outputs": [],
   "source": [
    "#144\n",
    "리스트 = ['dog', 'cat', 'parrot']\n",
    "for 변수 in 리스트:\n",
    "    print(변수, len(변수))"
   ]
  },
  {
   "cell_type": "code",
   "execution_count": null,
   "id": "eecb8402",
   "metadata": {
    "ExecuteTime": {
     "end_time": "2024-03-05T13:23:55.774842Z",
     "start_time": "2024-03-05T13:23:55.771105Z"
    }
   },
   "outputs": [],
   "source": [
    "#145\n",
    "리스트 = ['dog', 'cat', 'parrot']\n",
    "for 변수 in 리스트:\n",
    "    print(변수[0])"
   ]
  },
  {
   "cell_type": "code",
   "execution_count": null,
   "id": "f2c5abb5",
   "metadata": {
    "ExecuteTime": {
     "end_time": "2024-03-05T13:25:13.453549Z",
     "start_time": "2024-03-05T13:25:13.449816Z"
    }
   },
   "outputs": [],
   "source": [
    "#146\n",
    "리스트 = [1, 2, 3]\n",
    "for 변수 in 리스트:\n",
    "    print(\"3 *\", 변수)\n",
    "    #교안에 적힌 다른 답안\n",
    "    print(\"3 x \" + str(변수))"
   ]
  },
  {
   "cell_type": "code",
   "execution_count": null,
   "id": "8d23f616",
   "metadata": {
    "ExecuteTime": {
     "end_time": "2024-03-05T13:26:50.627010Z",
     "start_time": "2024-03-05T13:26:50.623513Z"
    }
   },
   "outputs": [],
   "source": [
    "#147\n",
    "리스트 = [1, 2, 3]\n",
    "for 변수 in 리스트:\n",
    "    print(\"3 *\", 변수, \"=\", 3 * 변수)\n",
    "#교안에 적힌 다른 답안\n",
    "리스트 = [1, 2, 3]\n",
    "for 변수 in 리스트:\n",
    "  print(\"3 x {} = {}\".format(변수, 3 * 변수))"
   ]
  },
  {
   "cell_type": "code",
   "execution_count": null,
   "id": "3ff649ad",
   "metadata": {
    "ExecuteTime": {
     "end_time": "2024-03-05T13:28:44.005298Z",
     "start_time": "2024-03-05T13:28:44.001193Z"
    }
   },
   "outputs": [],
   "source": [
    "#148\n",
    "#내가 쓴 정답\n",
    "리스트 = [\"가\", \"나\", \"다\", \"라\"]\n",
    "리스트 = 리스트[1:]\n",
    "for 변수 in 리스트:\n",
    "    print(변수)\n",
    "    \n",
    "#교안 정답\n",
    "리스트 = [\"가\", \"나\", \"다\", \"라\"]\n",
    "for 변수 in 리스트[1:]:\n",
    "  print(변수)"
   ]
  },
  {
   "cell_type": "code",
   "execution_count": null,
   "id": "51875552",
   "metadata": {
    "ExecuteTime": {
     "end_time": "2024-03-05T13:31:15.827158Z",
     "start_time": "2024-03-05T13:31:15.824200Z"
    }
   },
   "outputs": [],
   "source": [
    "#149\n",
    "#내가 쓴 정답\n",
    "리스트 = [\"가\", \"나\", \"다\", \"라\"]\n",
    "리스트 = 리스트[::2]\n",
    "for 변수 in 리스트:\n",
    "    print(리스트)\n",
    "#교안 정답\n",
    "리스트 = [\"가\", \"나\", \"다\", \"라\"]\n",
    "for 변수 in 리스트[::2]:\n",
    "  print(변수)"
   ]
  },
  {
   "cell_type": "code",
   "execution_count": null,
   "id": "c7bdfddf",
   "metadata": {
    "ExecuteTime": {
     "end_time": "2024-03-05T13:32:08.541606Z",
     "start_time": "2024-03-05T13:32:08.538613Z"
    }
   },
   "outputs": [],
   "source": [
    "#150\n",
    "리스트 = [\"가\", \"나\", \"다\", \"라\"]\n",
    "for 변수 in 리스트[: :-1]:\n",
    "  print(변수)"
   ]
  },
  {
   "cell_type": "code",
   "execution_count": null,
   "id": "ee6adcb2",
   "metadata": {
    "ExecuteTime": {
     "end_time": "2024-03-06T15:08:11.221216Z",
     "start_time": "2024-03-06T15:08:11.217186Z"
    }
   },
   "outputs": [],
   "source": [
    "#151\n",
    "리스트 = [3, -20, -3, 44]\n",
    "for 변수 in 리스트:\n",
    "    if 변수 < 0 : \n",
    "        print(변수)"
   ]
  },
  {
   "cell_type": "code",
   "execution_count": null,
   "id": "d034ad8d",
   "metadata": {
    "ExecuteTime": {
     "end_time": "2024-03-06T15:09:54.365706Z",
     "start_time": "2024-03-06T15:09:54.362617Z"
    }
   },
   "outputs": [],
   "source": [
    "#152\n",
    "리스트 = [3, 100, 23, 44]\n",
    "for 변수 in 리스트:\n",
    "    if 변수 % 3 == 0:\n",
    "        print(변수)"
   ]
  },
  {
   "cell_type": "code",
   "execution_count": null,
   "id": "a5b80d5b",
   "metadata": {
    "ExecuteTime": {
     "end_time": "2024-03-06T15:10:59.319857Z",
     "start_time": "2024-03-06T15:10:59.316975Z"
    }
   },
   "outputs": [],
   "source": [
    "#153\n",
    "리스트 = [13, 21, 12, 14, 30, 18]\n",
    "for 변수 in 리스트:\n",
    "    if 변수 % 3 == 0 and 변수 < 20:\n",
    "        print(변수)"
   ]
  },
  {
   "cell_type": "code",
   "execution_count": null,
   "id": "207a5f12",
   "metadata": {
    "ExecuteTime": {
     "end_time": "2024-03-06T15:12:43.920388Z",
     "start_time": "2024-03-06T15:12:43.916866Z"
    }
   },
   "outputs": [],
   "source": [
    "#154\n",
    "리스트 = [\"I\", \"study\", \"python\", \"language\", \"!\"]\n",
    "for 변수 in 리스트:\n",
    "    if len(변수) >= 3:\n",
    "        print(변수)"
   ]
  },
  {
   "cell_type": "code",
   "execution_count": null,
   "id": "bdc0ee7c",
   "metadata": {
    "ExecuteTime": {
     "end_time": "2024-03-06T15:18:58.975421Z",
     "start_time": "2024-03-06T15:18:58.972173Z"
    }
   },
   "outputs": [],
   "source": [
    "#155\n",
    "#오답\n",
    "리스트 = [\"A\", \"b\", \"c\", \"D\"]\n",
    "for 변수 in 리스트:\n",
    "    if 변수.isupper() == True:\n",
    "        print(변수)\n",
    "        \n",
    "#정답\n",
    "리스트 = [\"A\", \"b\", \"c\", \"D\"]\n",
    "for 변수 in 리스트:\n",
    "  if 변수.isupper():\n",
    "    print(변수)"
   ]
  },
  {
   "cell_type": "code",
   "execution_count": null,
   "id": "36a7031f",
   "metadata": {
    "ExecuteTime": {
     "end_time": "2024-03-06T15:17:40.086544Z",
     "start_time": "2024-03-06T15:17:40.083180Z"
    }
   },
   "outputs": [],
   "source": [
    "#156\n",
    "리스트 = [\"A\", \"b\", \"c\", \"D\"]\n",
    "for 변수 in 리스트:\n",
    "    if 변수.islower():\n",
    "        print(변수)"
   ]
  },
  {
   "cell_type": "code",
   "execution_count": null,
   "id": "cb908a3b",
   "metadata": {
    "ExecuteTime": {
     "end_time": "2024-03-06T15:22:14.193650Z",
     "start_time": "2024-03-06T15:22:14.190616Z"
    }
   },
   "outputs": [],
   "source": [
    "#157\n",
    "리스트 = ['dog', 'cat', 'parrot']\n",
    "for 변수 in 리스트:\n",
    "    print(변수[0].upper(), 변수[1:])"
   ]
  },
  {
   "cell_type": "code",
   "execution_count": null,
   "id": "07698727",
   "metadata": {
    "ExecuteTime": {
     "end_time": "2024-03-06T15:27:20.368194Z",
     "start_time": "2024-03-06T15:27:20.364782Z"
    }
   },
   "outputs": [],
   "source": [
    "#158\n",
    "#1차 시도\n",
    "리스트 = ['hello.py', 'ex01.py', 'intro.hwp']\n",
    "for 변수 in 리스트:\n",
    "    print(변수.split(\".\"))\n",
    "    \n",
    "#2차 시도 (교안 참고 / 분할 한 뒤에 추출)\n",
    "리스트 = ['hello.py', 'ex01.py', 'intro.hwp']\n",
    "for 변수 in 리스트:\n",
    "    split = 변수.split(\".\")\n",
    "    print(split[0])"
   ]
  },
  {
   "cell_type": "code",
   "execution_count": null,
   "id": "a5e3711d",
   "metadata": {
    "ExecuteTime": {
     "end_time": "2024-03-06T15:30:47.995677Z",
     "start_time": "2024-03-06T15:30:47.991927Z"
    }
   },
   "outputs": [],
   "source": [
    "#159\n",
    "#1차 시도 \n",
    "리스트 = ['intra.h', 'intra.c', 'define.h', 'run.py']\n",
    "for 변수 in 리스트:\n",
    "    split = 변수.split(\".\")\n",
    "    if split[1] == \"h\":\n",
    "        print(변수)"
   ]
  },
  {
   "cell_type": "code",
   "execution_count": null,
   "id": "85e77f9a",
   "metadata": {
    "ExecuteTime": {
     "end_time": "2024-03-06T15:31:59.658053Z",
     "start_time": "2024-03-06T15:31:59.654676Z"
    }
   },
   "outputs": [],
   "source": [
    "#160\n",
    "리스트 = ['intra.h', 'intra.c', 'define.h', 'run.py']\n",
    "for 변수 in 리스트:\n",
    "    split = 변수.split(\".\")\n",
    "    if split[1] == \"h\" or \"c\":\n",
    "        print(변수)"
   ]
  },
  {
   "cell_type": "code",
   "execution_count": null,
   "id": "7a66b764",
   "metadata": {
    "ExecuteTime": {
     "end_time": "2024-03-06T15:34:52.647312Z",
     "start_time": "2024-03-06T15:34:52.643589Z"
    }
   },
   "outputs": [],
   "source": [
    "#161\n",
    "for i in range(100):\n",
    "    print(i)"
   ]
  },
  {
   "cell_type": "code",
   "execution_count": null,
   "id": "43ed016a",
   "metadata": {
    "ExecuteTime": {
     "end_time": "2024-03-06T15:35:58.741566Z",
     "start_time": "2024-03-06T15:35:58.739135Z"
    }
   },
   "outputs": [],
   "source": [
    "#162\n",
    "for i in range(2002, 2050, 4):\n",
    "    print(i)\n",
    "    \n",
    "#교안 정답 = 2051\n",
    "for x in range(2002, 2051, 4) :\n",
    "    print (x)"
   ]
  },
  {
   "cell_type": "code",
   "execution_count": null,
   "id": "525fe8ab",
   "metadata": {
    "ExecuteTime": {
     "end_time": "2024-03-06T15:37:52.519933Z",
     "start_time": "2024-03-06T15:37:52.517377Z"
    }
   },
   "outputs": [],
   "source": [
    "#163\n",
    "for i in range(1, 30, 3) :\n",
    "    print (i + 2)"
   ]
  },
  {
   "cell_type": "code",
   "execution_count": null,
   "id": "96b1c2ee",
   "metadata": {
    "ExecuteTime": {
     "end_time": "2024-03-06T15:38:52.549086Z",
     "start_time": "2024-03-06T15:38:52.545583Z"
    }
   },
   "outputs": [],
   "source": [
    "#164\n",
    "for i in range(99, 0, -1) :\n",
    "    print (i)"
   ]
  },
  {
   "cell_type": "code",
   "execution_count": null,
   "id": "112ee967",
   "metadata": {
    "ExecuteTime": {
     "end_time": "2024-03-06T15:40:15.966898Z",
     "start_time": "2024-03-06T15:40:15.963036Z"
    }
   },
   "outputs": [],
   "source": [
    "#165\n",
    "for i in range(10):\n",
    "    print(i / 10)"
   ]
  },
  {
   "cell_type": "code",
   "execution_count": null,
   "id": "35b40508",
   "metadata": {
    "ExecuteTime": {
     "end_time": "2024-03-06T15:41:45.158921Z",
     "start_time": "2024-03-06T15:41:45.155673Z"
    }
   },
   "outputs": [],
   "source": [
    "#166\n",
    "for i in range(1, 10):\n",
    "    print(\"3 * \", i, \"=\", i * 3)"
   ]
  },
  {
   "cell_type": "code",
   "execution_count": null,
   "id": "ba51f792",
   "metadata": {
    "ExecuteTime": {
     "end_time": "2024-03-06T15:42:17.916146Z",
     "start_time": "2024-03-06T15:42:17.913434Z"
    }
   },
   "outputs": [],
   "source": [
    "#167\n",
    "for i in range(1, 10, 2):\n",
    "    print(\"3 * \", i, \"=\", i * 3)"
   ]
  },
  {
   "cell_type": "code",
   "execution_count": null,
   "id": "68aeb8b8",
   "metadata": {
    "ExecuteTime": {
     "end_time": "2024-03-06T15:43:37.634529Z",
     "start_time": "2024-03-06T15:43:37.622619Z"
    }
   },
   "outputs": [],
   "source": [
    "#168\n",
    "for i in range(1, 10):\n",
    "    print(\"합 : \", sum(i))\n",
    "    \n",
    "#교안 정답\n",
    "hab = 0\n",
    "for i in range(1, 11):\n",
    "    hab += i\n",
    "print (\"합 :\", hab)"
   ]
  },
  {
   "cell_type": "code",
   "execution_count": null,
   "id": "27ebb6ea",
   "metadata": {
    "ExecuteTime": {
     "end_time": "2024-03-06T15:45:59.711302Z",
     "start_time": "2024-03-06T15:45:59.708202Z"
    }
   },
   "outputs": [],
   "source": [
    "#169\n",
    "hab = 0\n",
    "for i in range(1, 11, 2):\n",
    "    hab += i\n",
    "print (\"합 :\", hab)"
   ]
  },
  {
   "cell_type": "code",
   "execution_count": null,
   "id": "c18d65d8",
   "metadata": {
    "ExecuteTime": {
     "end_time": "2024-03-06T15:47:38.598148Z",
     "start_time": "2024-03-06T15:47:38.595332Z"
    }
   },
   "outputs": [],
   "source": [
    "#170\n",
    "#1차 시도\n",
    "x = 1\n",
    "for i in range(1, 11):\n",
    "    x *= i\n",
    "print (x)\n",
    "\n",
    "# + 누락\n",
    "x = 1\n",
    "for i in range(1, 11):\n",
    "    x *= i\n",
    "print (x)"
   ]
  },
  {
   "cell_type": "code",
   "execution_count": null,
   "id": "26c337e6",
   "metadata": {
    "ExecuteTime": {
     "end_time": "2024-03-06T15:51:33.179281Z",
     "start_time": "2024-03-06T15:51:33.176635Z"
    }
   },
   "outputs": [],
   "source": [
    "#171\n",
    "price_list = [32100, 32150, 32000, 32500]\n",
    "for i in range(4):\n",
    "    print(price_list[i])"
   ]
  },
  {
   "cell_type": "code",
   "execution_count": null,
   "id": "7593cdc8",
   "metadata": {
    "ExecuteTime": {
     "end_time": "2024-03-06T15:52:43.901775Z",
     "start_time": "2024-03-06T15:52:43.898687Z"
    }
   },
   "outputs": [],
   "source": [
    "#172\n",
    "price_list = [32100, 32150, 32000, 32500]\n",
    "for i in range(4):\n",
    "    print(i, price_list[i])"
   ]
  },
  {
   "cell_type": "code",
   "execution_count": null,
   "id": "2548df4f",
   "metadata": {
    "ExecuteTime": {
     "end_time": "2024-03-06T15:53:34.423180Z",
     "start_time": "2024-03-06T15:53:34.419420Z"
    }
   },
   "outputs": [],
   "source": [
    "#173\n",
    "price_list = [32100, 32150, 32000, 32500]\n",
    "for i in range(4):\n",
    "    print(3-i, price_list[i])\n",
    "\n",
    "#교안 다른 정답\n",
    "for i in range(len(price_list)):\n",
    "    print((len(price_list) - 1) - i, price_list[i])"
   ]
  },
  {
   "cell_type": "code",
   "execution_count": null,
   "id": "bffe9313",
   "metadata": {
    "ExecuteTime": {
     "end_time": "2024-03-06T15:57:52.659186Z",
     "start_time": "2024-03-06T15:57:52.655650Z"
    }
   },
   "outputs": [],
   "source": [
    "#174\n",
    "price_list = [32100, 32150, 32000, 32500]\n",
    "for i in range(1, 4):\n",
    "    print(90 + i * 10, price_list[i])"
   ]
  },
  {
   "cell_type": "code",
   "execution_count": null,
   "id": "8553cb04",
   "metadata": {
    "ExecuteTime": {
     "end_time": "2024-03-06T15:59:26.264496Z",
     "start_time": "2024-03-06T15:59:26.260840Z"
    }
   },
   "outputs": [],
   "source": [
    "#175\n",
    "my_list = [\"가\", \"나\", \"다\", \"라\"]\n",
    "for i in range(0, 3):\n",
    "    print(my_list[i], my_list[i+1])"
   ]
  },
  {
   "cell_type": "code",
   "execution_count": null,
   "id": "9efc52ca",
   "metadata": {
    "ExecuteTime": {
     "end_time": "2024-03-06T16:00:56.553985Z",
     "start_time": "2024-03-06T16:00:56.550730Z"
    }
   },
   "outputs": [],
   "source": [
    "#176\n",
    "my_list = [\"가\", \"나\", \"다\", \"라\", \"마\"]\n",
    "for i in range(0, 3):\n",
    "    print(my_list[i], my_list[i+1], my_list[i+2])"
   ]
  },
  {
   "cell_type": "code",
   "execution_count": null,
   "id": "b1f44231",
   "metadata": {
    "ExecuteTime": {
     "end_time": "2024-03-06T16:04:12.616771Z",
     "start_time": "2024-03-06T16:04:12.613225Z"
    }
   },
   "outputs": [],
   "source": [
    "#177\n",
    "my_list = [\"가\", \"나\", \"다\", \"라\"]\n",
    "for i in range(len(my_list) - 1):\n",
    "    print(my_list[len(my_list) - 1 - i], my_list[len(my_list) - 2 - i])"
   ]
  },
  {
   "cell_type": "code",
   "execution_count": null,
   "id": "eefb2337",
   "metadata": {
    "ExecuteTime": {
     "end_time": "2024-03-06T16:09:43.009349Z",
     "start_time": "2024-03-06T16:09:42.993706Z"
    }
   },
   "outputs": [],
   "source": [
    "#178\n",
    "#내가 쓴 정답 (오답)\n",
    "my_list = [100, 200, 400, 800]\n",
    "for i in range(len(my_list) +1):\n",
    "    print(my_list[i + 1] - my_list[i])\n",
    "    \n",
    "#교안 정답 \n",
    "for i in range(len(my_list) - 1):\n",
    "    print(abs(my_list[i+1] - my_list[i]))"
   ]
  },
  {
   "cell_type": "code",
   "execution_count": null,
   "id": "764ccb3d",
   "metadata": {
    "ExecuteTime": {
     "end_time": "2024-03-06T16:10:52.884559Z",
     "start_time": "2024-03-06T16:10:52.869999Z"
    }
   },
   "outputs": [],
   "source": [
    "#179\n",
    "#잘 모르겠어서 답안을 봤는데 abs가 적혀 있어서 일단 패스\n",
    "for i in range(1, len(my_list) - 1):\n",
    "    print(abs(my_list[i-1] + my_list[i] + my_list[i+1]) / 3)"
   ]
  },
  {
   "cell_type": "code",
   "execution_count": null,
   "id": "a3cdc70a",
   "metadata": {},
   "outputs": [],
   "source": [
    "#180\n",
    "#교안 정답 (일단 패스)\n",
    "volatility = []\n",
    "for i in range(len(low_prices)) :\n",
    "    volatility.append(high_prices[i] - low_prices[i])"
   ]
  },
  {
   "cell_type": "code",
   "execution_count": null,
   "id": "42c61c18",
   "metadata": {
    "ExecuteTime": {
     "end_time": "2024-03-06T16:13:08.754434Z",
     "start_time": "2024-03-06T16:13:08.751393Z"
    }
   },
   "outputs": [],
   "source": [
    "#181\n",
    "apart = [ [\"101호\", \"102호\"], [\"201호\", \"202호\"], [\"301호\", \"302호\"] ]"
   ]
  },
  {
   "cell_type": "code",
   "execution_count": null,
   "id": "c8c2bafe",
   "metadata": {
    "ExecuteTime": {
     "end_time": "2024-03-06T16:14:44.819477Z",
     "start_time": "2024-03-06T16:14:44.817097Z"
    }
   },
   "outputs": [],
   "source": [
    "#182\n",
    "stock = [ [\"시가\", 100, 200, 300], [\"종가\", 80, 210, 330] ]"
   ]
  },
  {
   "cell_type": "code",
   "execution_count": null,
   "id": "f9b5b546",
   "metadata": {
    "ExecuteTime": {
     "end_time": "2024-03-06T16:16:56.502190Z",
     "start_time": "2024-03-06T16:16:56.499861Z"
    }
   },
   "outputs": [],
   "source": [
    "#183\n",
    "stock = {\n",
    "    \"시가\" : [100, 200, 300], \"종가\" : [80, 210, 330]\n",
    "}"
   ]
  },
  {
   "cell_type": "code",
   "execution_count": null,
   "id": "be7be32c",
   "metadata": {},
   "outputs": [],
   "source": [
    "#184\n",
    "stock = {\"10/10\": [80, 110, 70, 90], \"10/11\": [210, 230, 190, 200] }"
   ]
  },
  {
   "cell_type": "code",
   "execution_count": null,
   "id": "81ae5570",
   "metadata": {
    "ExecuteTime": {
     "end_time": "2024-03-06T16:20:50.932031Z",
     "start_time": "2024-03-06T16:20:50.928768Z"
    }
   },
   "outputs": [],
   "source": [
    "#185\n",
    "#내가 쓴 답(오답)\n",
    "apart = [ [101, 102], [201, 202], [301, 302] ]\n",
    "print(\n",
    "    apart[0][0], \"호\", \n",
    "    apart[0][1], \"호\", \n",
    "    apart[1][0], \"호\", \n",
    "    apart[1][1], \"호\",\n",
    "    apart[2][0], \"호\", \n",
    "    apart[2][1], \"호\", \n",
    ")\n",
    "\n",
    "#교안 정답\n",
    "apart = [ [101, 102], [201, 202], [301, 302] ]\n",
    "for row in apart:\n",
    "    for col in row:\n",
    "        print(col, \"호\")"
   ]
  },
  {
   "cell_type": "code",
   "execution_count": null,
   "id": "595290e3",
   "metadata": {
    "ExecuteTime": {
     "end_time": "2024-03-06T16:21:56.204828Z",
     "start_time": "2024-03-06T16:21:56.201705Z"
    }
   },
   "outputs": [],
   "source": [
    "#186\n",
    "#잘 몰라서 답안 확인함\n",
    "for row in apart[::-1]:\n",
    "    for col in row:\n",
    "        print(col, \"호\")"
   ]
  },
  {
   "cell_type": "code",
   "execution_count": null,
   "id": "d06cecf1",
   "metadata": {
    "ExecuteTime": {
     "end_time": "2024-03-06T16:25:07.640182Z",
     "start_time": "2024-03-06T16:25:07.636611Z"
    }
   },
   "outputs": [],
   "source": [
    "#187\n",
    "for row in apart[::-1]:\n",
    "    for col in row[::-1]:\n",
    "        print(col, \"호\")"
   ]
  },
  {
   "cell_type": "code",
   "execution_count": null,
   "id": "d5410744",
   "metadata": {
    "ExecuteTime": {
     "end_time": "2024-03-06T16:26:12.825649Z",
     "start_time": "2024-03-06T16:26:12.822914Z"
    }
   },
   "outputs": [],
   "source": [
    "#188\n",
    "apart = [ [101, 102], [201, 202], [301, 302] ]\n",
    "for row in apart:\n",
    "    for col in row:\n",
    "        print(col, \"호\")\n",
    "        print(\"--------\")"
   ]
  },
  {
   "cell_type": "code",
   "execution_count": null,
   "id": "f0ba7d66",
   "metadata": {
    "ExecuteTime": {
     "end_time": "2024-03-06T16:27:55.810212Z",
     "start_time": "2024-03-06T16:27:55.807270Z"
    }
   },
   "outputs": [],
   "source": [
    "#189\n",
    "for row in apart:\n",
    "    for col in row:\n",
    "        print(col, \"호\")\n",
    "    print(\"-----\")"
   ]
  },
  {
   "cell_type": "code",
   "execution_count": null,
   "id": "443d1365",
   "metadata": {
    "ExecuteTime": {
     "end_time": "2024-03-06T16:27:38.577610Z",
     "start_time": "2024-03-06T16:27:38.574145Z"
    }
   },
   "outputs": [],
   "source": [
    "#190\n",
    "for row in apart:\n",
    "    for col in row:\n",
    "        print(col, \"호\")\n",
    "print(\"-----\")"
   ]
  },
  {
   "cell_type": "code",
   "execution_count": null,
   "id": "7478b684",
   "metadata": {
    "ExecuteTime": {
     "end_time": "2024-03-06T16:28:58.714352Z",
     "start_time": "2024-03-06T16:28:58.710659Z"
    }
   },
   "outputs": [],
   "source": [
    "#191\n",
    "data = [\n",
    "    [ 2000,  3050,  2050,  1980],\n",
    "    [ 7500,  2050,  2050,  1980],\n",
    "    [15450, 15050, 15550, 14900]\n",
    "]\n",
    "\n",
    "for line in data:\n",
    "    for column in line:\n",
    "        print(column * 1.00014)"
   ]
  },
  {
   "cell_type": "code",
   "execution_count": null,
   "id": "c42f45b6",
   "metadata": {
    "ExecuteTime": {
     "end_time": "2024-03-06T16:29:38.682882Z",
     "start_time": "2024-03-06T16:29:38.679584Z"
    }
   },
   "outputs": [],
   "source": [
    "#192\n",
    "data = [\n",
    "    [ 2000,  3050,  2050,  1980],\n",
    "    [ 7500,  2050,  2050,  1980],\n",
    "    [15450, 15050, 15550, 14900]\n",
    "]\n",
    "\n",
    "for line in data:\n",
    "    for column in line:\n",
    "        print(column * 1.00014)\n",
    "    print(\"-\" * 4)"
   ]
  },
  {
   "cell_type": "code",
   "execution_count": null,
   "id": "3e088b10",
   "metadata": {
    "ExecuteTime": {
     "end_time": "2024-03-06T16:30:40.440606Z",
     "start_time": "2024-03-06T16:30:40.437100Z"
    }
   },
   "outputs": [],
   "source": [
    "#193\n",
    "data = [\n",
    "    [ 2000,  3050,  2050,  1980],\n",
    "    [ 7500,  2050,  2050,  1980],\n",
    "    [15450, 15050, 15550, 14900]\n",
    "]\n",
    "\n",
    "result = []\n",
    "for line in data:\n",
    "    for column in line:\n",
    "        result.append(column * 1.00014)\n",
    "print(result)"
   ]
  },
  {
   "cell_type": "code",
   "execution_count": null,
   "id": "e770f14d",
   "metadata": {
    "ExecuteTime": {
     "end_time": "2024-03-06T16:32:19.631512Z",
     "start_time": "2024-03-06T16:32:19.628184Z"
    }
   },
   "outputs": [],
   "source": [
    "#194\n",
    "data = [\n",
    "    [ 2000,  3050,  2050,  1980],\n",
    "    [ 7500,  2050,  2050,  1980],\n",
    "    [15450, 15050, 15550, 14900]\n",
    "]\n",
    "\n",
    "result = []\n",
    "for line in data:\n",
    "    sub = []\n",
    "    for column in line:\n",
    "        sub.append(column * 1.00014)\n",
    "    result.append(sub)\n",
    "print(result)"
   ]
  },
  {
   "cell_type": "code",
   "execution_count": null,
   "id": "5ff2318a",
   "metadata": {
    "ExecuteTime": {
     "end_time": "2024-03-06T16:33:28.549732Z",
     "start_time": "2024-03-06T16:33:28.546933Z"
    }
   },
   "outputs": [],
   "source": [
    "#195\n",
    "ohlc = [[\"open\", \"high\", \"low\", \"close\"],\n",
    "        [100, 110, 70, 100],\n",
    "        [200, 210, 180, 190],\n",
    "        [300, 310, 300, 310]]\n",
    "\n",
    "for row in ohlc[1:]:\n",
    "    print(row[3])"
   ]
  },
  {
   "cell_type": "code",
   "execution_count": null,
   "id": "10de8ee7",
   "metadata": {
    "ExecuteTime": {
     "end_time": "2024-03-06T12:34:08.891848Z",
     "start_time": "2024-03-06T12:34:08.888123Z"
    }
   },
   "outputs": [],
   "source": [
    "#196\n",
    "ohlc = [[\"open\", \"high\", \"low\", \"close\"],\n",
    "        [100, 110, 70, 100],\n",
    "        [200, 210, 180, 190],\n",
    "        [300, 310, 300, 310]]\n",
    "for i in ohlc[1:]:\n",
    "    if i[3] > 150:\n",
    "        print(i[3])"
   ]
  },
  {
   "cell_type": "code",
   "execution_count": null,
   "id": "42bd7f92",
   "metadata": {
    "ExecuteTime": {
     "end_time": "2024-03-06T12:37:43.191258Z",
     "start_time": "2024-03-06T12:37:43.187489Z"
    }
   },
   "outputs": [],
   "source": [
    "#197\n",
    "ohlc = [[\"open\", \"high\", \"low\", \"close\"],\n",
    "        [100, 110, 70, 100],\n",
    "        [200, 210, 180, 190],\n",
    "        [300, 310, 300, 310]]\n",
    "for i in ohlc[0:]:\n",
    "    if i[3] >= i[0] :\n",
    "        print(i[3])"
   ]
  },
  {
   "cell_type": "code",
   "execution_count": null,
   "id": "6c7eae11",
   "metadata": {},
   "outputs": [],
   "source": [
    "#198\n",
    "ohlc = [[\"open\", \"high\", \"low\", \"close\"],\n",
    "        [100, 110, 70, 100],\n",
    "        [200, 210, 180, 190],\n",
    "        [300, 310, 300, 310]]\n",
    "\n",
    "#1차 답안 (교안 참고)\n",
    "volatility = []\n",
    "for row in ohlc[1:]:\n",
    "    volatility.append(row[1]-row[2])\n",
    "    \n",
    "#2차 답안(교안 참고)\n",
    "volatility = []\n",
    "for i in range(1, len(ohlc)):\n",
    "    volatility.append(ohlc[i][1]-ohlc[i][2])\n",
    "print(volatility)"
   ]
  },
  {
   "cell_type": "code",
   "execution_count": null,
   "id": "c73b1884",
   "metadata": {
    "ExecuteTime": {
     "end_time": "2024-03-06T12:40:41.187378Z",
     "start_time": "2024-03-06T12:40:41.183746Z"
    }
   },
   "outputs": [],
   "source": [
    "#199\n",
    "ohlc = [[\"open\", \"high\", \"low\", \"close\"],\n",
    "        [100, 110, 70, 100],\n",
    "        [200, 210, 180, 190],\n",
    "        [300, 310, 300, 310]]\n",
    "for i in ohlc[0:]:\n",
    "    if i[3] > i[0]:\n",
    "        print(i[1] - i[2])"
   ]
  },
  {
   "cell_type": "code",
   "execution_count": null,
   "id": "38531bb1",
   "metadata": {
    "ExecuteTime": {
     "end_time": "2024-03-06T12:44:41.166138Z",
     "start_time": "2024-03-06T12:44:41.151745Z"
    }
   },
   "outputs": [],
   "source": [
    "#200\n",
    "#내가 쓴 정답 (오답)\n",
    "ohlc = [[\"open\", \"high\", \"low\", \"close\"],\n",
    "        [100, 110, 70, 100],\n",
    "        [200, 210, 180, 190],\n",
    "        [300, 310, 300, 310]]\n",
    "for i in ohlc[0:]:\n",
    "    print(sum(i[0]-i[3]))\n",
    "\n",
    "#교안 정답\n",
    "profit = 0\n",
    "for row in ohlc[1:]:\n",
    "    profit += (row[3] - row[0])"
   ]
  },
  {
   "cell_type": "code",
   "execution_count": null,
   "id": "eabc998d",
   "metadata": {
    "ExecuteTime": {
     "end_time": "2024-03-07T12:55:36.928016Z",
     "start_time": "2024-03-07T12:55:36.925347Z"
    }
   },
   "outputs": [],
   "source": [
    "#201\n",
    "def print_coin():\n",
    "    print(\"비트코인\")"
   ]
  },
  {
   "cell_type": "code",
   "execution_count": null,
   "id": "ecee452d",
   "metadata": {
    "ExecuteTime": {
     "end_time": "2024-03-07T12:55:39.551157Z",
     "start_time": "2024-03-07T12:55:39.547565Z"
    }
   },
   "outputs": [],
   "source": [
    "#202\n",
    "print_coin()"
   ]
  },
  {
   "cell_type": "code",
   "execution_count": null,
   "id": "ec053241",
   "metadata": {
    "ExecuteTime": {
     "end_time": "2024-03-07T12:50:05.549749Z",
     "start_time": "2024-03-07T12:50:05.546759Z"
    }
   },
   "outputs": [],
   "source": [
    "#203\n",
    "for i in range(100):\n",
    "    print_coin()"
   ]
  },
  {
   "cell_type": "code",
   "execution_count": null,
   "id": "e44c2317",
   "metadata": {
    "ExecuteTime": {
     "end_time": "2024-03-07T12:59:54.555662Z",
     "start_time": "2024-03-07T12:59:54.552911Z"
    }
   },
   "outputs": [],
   "source": [
    "#204\n",
    "def print_coins():\n",
    "    for i in range(100):\n",
    "        print(\"비트코인\")"
   ]
  },
  {
   "cell_type": "code",
   "execution_count": null,
   "id": "d9b151fa",
   "metadata": {
    "ExecuteTime": {
     "end_time": "2024-03-07T13:00:00.022328Z",
     "start_time": "2024-03-07T13:00:00.018935Z"
    }
   },
   "outputs": [],
   "source": [
    "print_coins()"
   ]
  },
  {
   "cell_type": "code",
   "execution_count": null,
   "id": "86ef003c",
   "metadata": {
    "ExecuteTime": {
     "end_time": "2024-03-07T13:03:20.474626Z",
     "start_time": "2024-03-07T13:03:20.460995Z"
    }
   },
   "outputs": [],
   "source": [
    "#205\n",
    "hello()\n",
    "def hello():\n",
    "    print(\"Hi\")"
   ]
  },
  {
   "cell_type": "code",
   "execution_count": null,
   "id": "757239ec",
   "metadata": {
    "ExecuteTime": {
     "end_time": "2024-03-07T13:03:26.691507Z",
     "start_time": "2024-03-07T13:03:26.688826Z"
    }
   },
   "outputs": [],
   "source": [
    "def hello():\n",
    "    print(\"Hi\")"
   ]
  },
  {
   "cell_type": "code",
   "execution_count": null,
   "id": "588124f2",
   "metadata": {
    "ExecuteTime": {
     "end_time": "2024-03-07T13:04:14.063916Z",
     "start_time": "2024-03-07T13:04:14.060897Z"
    }
   },
   "outputs": [],
   "source": [
    "hello()"
   ]
  },
  {
   "cell_type": "code",
   "execution_count": null,
   "id": "82c5afcf",
   "metadata": {
    "ExecuteTime": {
     "end_time": "2024-03-07T13:05:44.471118Z",
     "start_time": "2024-03-07T13:05:44.468231Z"
    }
   },
   "outputs": [],
   "source": [
    "#206\n",
    "#실행 결과 추측 : A, C, A가 출력될 것이다.  (오답)\n",
    "def message() :\n",
    "    print(\"A\")\n",
    "    print(\"B\")\n",
    "\n",
    "message()\n",
    "print(\"C\")\n",
    "message()"
   ]
  },
  {
   "cell_type": "code",
   "execution_count": null,
   "id": "f25e16c1",
   "metadata": {
    "ExecuteTime": {
     "end_time": "2024-03-07T13:11:48.998356Z",
     "start_time": "2024-03-07T13:11:48.994553Z"
    }
   },
   "outputs": [],
   "source": [
    "#207\n",
    "#출력 결과 예상 : A C B\n",
    "print(\"A\")\n",
    "\n",
    "def message() :\n",
    "    print(\"B\")\n",
    "\n",
    "print(\"C\")\n",
    "message()"
   ]
  },
  {
   "cell_type": "code",
   "execution_count": null,
   "id": "232eab21",
   "metadata": {
    "ExecuteTime": {
     "end_time": "2024-03-07T13:27:43.267994Z",
     "start_time": "2024-03-07T13:27:43.264342Z"
    }
   },
   "outputs": [],
   "source": [
    "#208\n",
    "print(\"A\")\n",
    "def message1() :\n",
    "    print(\"B\")\n",
    "print(\"C\")\n",
    "def message2() :\n",
    "    print(\"D\")\n",
    "message1()\n",
    "print(\"E\")\n",
    "message2()\n",
    "\n",
    "#출력 결과 예상  : A C B E D"
   ]
  },
  {
   "cell_type": "code",
   "execution_count": null,
   "id": "ccc12d90",
   "metadata": {
    "ExecuteTime": {
     "end_time": "2024-03-07T13:29:44.751283Z",
     "start_time": "2024-03-07T13:29:44.748103Z"
    }
   },
   "outputs": [],
   "source": [
    "#209\n",
    "def message1():\n",
    "    print(\"A\")\n",
    "\n",
    "def message2():\n",
    "    print(\"B\")\n",
    "    message1()\n",
    "\n",
    "message2()\n",
    "\n",
    "#추출 결과 예측 B A "
   ]
  },
  {
   "cell_type": "code",
   "execution_count": null,
   "id": "45f4b8a2",
   "metadata": {
    "ExecuteTime": {
     "end_time": "2024-03-07T13:32:24.135945Z",
     "start_time": "2024-03-07T13:32:24.132337Z"
    }
   },
   "outputs": [],
   "source": [
    "#210\n",
    "def message1():\n",
    "    print(\"A\")\n",
    "\n",
    "def message2():\n",
    "    print(\"B\")\n",
    "\n",
    "def message3():\n",
    "    for i in range (3) :\n",
    "        message2()\n",
    "        print(\"C\")\n",
    "    message1()\n",
    "\n",
    "message3()\n",
    "\n",
    "#추출 결과 예측 B C B C B C A "
   ]
  },
  {
   "cell_type": "code",
   "execution_count": null,
   "id": "dd4c426d",
   "metadata": {
    "ExecuteTime": {
     "end_time": "2024-03-07T13:33:43.545970Z",
     "start_time": "2024-03-07T13:33:43.541671Z"
    }
   },
   "outputs": [],
   "source": [
    "#211\n",
    "def 함수(문자열) :\n",
    "    print(문자열)\n",
    "\n",
    "함수(\"안녕\")\n",
    "함수(\"Hi\")\n",
    "\n",
    "#추출 결과 예상 : 안녕 HI"
   ]
  },
  {
   "cell_type": "code",
   "execution_count": null,
   "id": "e2c0300e",
   "metadata": {
    "ExecuteTime": {
     "end_time": "2024-03-07T13:38:06.938659Z",
     "start_time": "2024-03-07T13:38:06.935860Z"
    }
   },
   "outputs": [],
   "source": [
    "#212\n",
    "def 함수(a, b) :\n",
    "    print(a + b)\n",
    "\n",
    "함수(3, 4)\n",
    "함수(7, 8)\n",
    "\n",
    "#추출 결과 예상 : 7 15"
   ]
  },
  {
   "cell_type": "code",
   "execution_count": null,
   "id": "2094b28e",
   "metadata": {
    "ExecuteTime": {
     "end_time": "2024-03-07T13:39:18.656673Z",
     "start_time": "2024-03-07T13:39:18.642096Z"
    }
   },
   "outputs": [],
   "source": [
    "#213\n",
    "def 함수(문자열) :\n",
    "    print(문자열)\n",
    "\n",
    "함수()\n",
    "#오류 발생 원인 : 문자열을 불러오는 함수를 정의했는데 함수()로 호출해서?\n",
    "#교안 정답 : 함수를 호출할 때 하나의 파라미터를 입력해야 한다"
   ]
  },
  {
   "cell_type": "code",
   "execution_count": null,
   "id": "43990011",
   "metadata": {
    "ExecuteTime": {
     "end_time": "2024-03-07T13:42:13.024448Z",
     "start_time": "2024-03-07T13:42:13.020836Z"
    }
   },
   "outputs": [],
   "source": [
    "#214\n",
    "def 함수(a, b) :\n",
    "    print(a + b)\n",
    "\n",
    "(\"안녕\", 3)\n",
    "\n",
    "#에러 발생 원인 : 3이 아니라 문자열을 불러올 수 있어서\n",
    "#교안 정답 : 문자열과 숫자를 더할 수 없기 때문\n",
    "\n",
    "함수(\"안녕\", \"반가워\")\n",
    "함수(2, 3)"
   ]
  },
  {
   "cell_type": "code",
   "execution_count": null,
   "id": "dbc561fb",
   "metadata": {
    "ExecuteTime": {
     "end_time": "2024-03-07T13:45:09.722977Z",
     "start_time": "2024-03-07T13:45:09.718977Z"
    }
   },
   "outputs": [],
   "source": [
    "#215\n",
    "#내가 작성한 정답 (오답) -> string 누락\n",
    "def print_with_smile():\n",
    "    print(  \":D\")\n",
    "    \n",
    "print_with_smile()"
   ]
  },
  {
   "cell_type": "code",
   "execution_count": null,
   "id": "5a8b9e7e",
   "metadata": {
    "ExecuteTime": {
     "end_time": "2024-03-07T13:47:13.521927Z",
     "start_time": "2024-03-07T13:47:13.519118Z"
    }
   },
   "outputs": [],
   "source": [
    "#216\n",
    "def print_with_smile (string) :\n",
    "    print (string + \":D\")\n",
    "    \n",
    "print_with_smile(\"안녕하세요 \")"
   ]
  },
  {
   "cell_type": "code",
   "execution_count": null,
   "id": "5f7be8da",
   "metadata": {
    "ExecuteTime": {
     "end_time": "2024-03-07T13:49:23.280474Z",
     "start_time": "2024-03-07T13:49:23.276084Z"
    }
   },
   "outputs": [],
   "source": [
    "#217\n",
    "def print_upper_price(int) :\n",
    "    print(int * 1.3)\n",
    "\n",
    "print_upper_price(10000)"
   ]
  },
  {
   "cell_type": "code",
   "execution_count": null,
   "id": "461beda9",
   "metadata": {},
   "outputs": [],
   "source": [
    "#218\n",
    "#1차 시도 =  (a, b) 누락\n",
    "def print_sum():\n",
    "    print(a + b)\n",
    "    \n",
    "def print_sum(a, b):\n",
    "    print(a + b)"
   ]
  },
  {
   "cell_type": "code",
   "execution_count": null,
   "id": "a0095bb3",
   "metadata": {
    "ExecuteTime": {
     "end_time": "2024-03-07T13:52:41.476329Z",
     "start_time": "2024-03-07T13:52:41.472926Z"
    }
   },
   "outputs": [],
   "source": [
    "#219\n",
    "def print_arithmetic_operation(a, b) :\n",
    "    print(\n",
    "        a + b, a - b, a * b, a / b\n",
    "    )\n",
    "    \n",
    "print_arithmetic_operation(3, 4)"
   ]
  },
  {
   "cell_type": "code",
   "execution_count": null,
   "id": "b3fb4437",
   "metadata": {
    "ExecuteTime": {
     "end_time": "2024-03-07T13:53:38.234883Z",
     "start_time": "2024-03-07T13:53:38.230660Z"
    }
   },
   "outputs": [],
   "source": [
    "#교안 정답\n",
    "def print_arithmetic_operation(a, b):\n",
    "    print(a, \"+\", b, \"=\", a + b)\n",
    "    print(a, \"-\", b, \"=\", a - b)\n",
    "    print(a, \"*\", b, \"=\", a * b)\n",
    "    print(a, \"/\", b, \"=\", a / b)\n",
    "\n",
    "print_arithmetic_operation(3, 4)"
   ]
  },
  {
   "cell_type": "code",
   "execution_count": null,
   "id": "c38ff23e",
   "metadata": {
    "ExecuteTime": {
     "end_time": "2024-03-07T13:58:57.779373Z",
     "start_time": "2024-03-07T13:58:57.775304Z"
    }
   },
   "outputs": [],
   "source": [
    "#220\n",
    "#내가 쓴 정답 : 에러 발생 \n",
    "def print_max(a, b, c) :\n",
    "    if a > b and a > c :\n",
    "        print(a)\n",
    "    elif b > a and b > c :\n",
    "        print(b)\n",
    "    else c > a and c > b :\n",
    "        print(c)\n",
    "\n",
    "print_max(2, 3, 4)"
   ]
  },
  {
   "cell_type": "code",
   "execution_count": null,
   "id": "c71a43e2",
   "metadata": {
    "ExecuteTime": {
     "end_time": "2024-03-07T13:59:41.243403Z",
     "start_time": "2024-03-07T13:59:41.239199Z"
    }
   },
   "outputs": [],
   "source": [
    "#else를 elif로 바꾸고 else를 추가\n",
    "def print_max(a, b, c) :\n",
    "    if a > b and a > c :\n",
    "        print(a)\n",
    "    elif b > a and b > c :\n",
    "        print(b)\n",
    "    elif c > a and c > b :\n",
    "        print(c)\n",
    "    else : \n",
    "        print(\"확인이 불가합니다\")\n",
    "\n",
    "print_max(2, 3, 4)"
   ]
  },
  {
   "cell_type": "code",
   "execution_count": null,
   "id": "f7545042",
   "metadata": {
    "ExecuteTime": {
     "end_time": "2024-03-07T14:01:06.053800Z",
     "start_time": "2024-03-07T14:01:06.049944Z"
    }
   },
   "outputs": [],
   "source": [
    "#교안 정답\n",
    "def print_max(a, b, c) :\n",
    "    max_val = 0\n",
    "    if a > max_val :\n",
    "        max_val = a\n",
    "    if b > max_val :\n",
    "        max_val = b\n",
    "    if c > max_val :\n",
    "        max_val = c\n",
    "    print(max_val)\n",
    "\n",
    "print_max(3, 3, 3)"
   ]
  },
  {
   "cell_type": "code",
   "execution_count": null,
   "id": "85219125",
   "metadata": {
    "ExecuteTime": {
     "end_time": "2024-03-07T14:03:25.902889Z",
     "start_time": "2024-03-07T14:03:25.899415Z"
    }
   },
   "outputs": [],
   "source": [
    "#221\n",
    "#내가 쓴 정답 : 에러 발생\n",
    "def print_reverse(\"a\") :\n",
    "    print(a.reverse())\n",
    "\n",
    "print_reverse(\"python\")"
   ]
  },
  {
   "cell_type": "code",
   "execution_count": null,
   "id": "8ab1efb2",
   "metadata": {
    "ExecuteTime": {
     "end_time": "2024-03-07T14:04:50.895945Z",
     "start_time": "2024-03-07T14:04:50.892009Z"
    }
   },
   "outputs": [],
   "source": [
    "#교안 정답\n",
    "def print_reverse(a) :\n",
    "    print(a[::-1])\n",
    "\n",
    "print_reverse(\"python\")"
   ]
  },
  {
   "cell_type": "code",
   "execution_count": null,
   "id": "c8856625",
   "metadata": {
    "ExecuteTime": {
     "end_time": "2024-03-07T14:09:51.048003Z",
     "start_time": "2024-03-07T14:09:51.044743Z"
    }
   },
   "outputs": [],
   "source": [
    "#222\n",
    "def print_score(a):\n",
    "    print(sum(a) / len(a))\n",
    "\n",
    "print_score([40, 50, 60])"
   ]
  },
  {
   "cell_type": "code",
   "execution_count": null,
   "id": "2e1a10cf",
   "metadata": {
    "ExecuteTime": {
     "end_time": "2024-03-07T14:11:40.631596Z",
     "start_time": "2024-03-07T14:11:40.628515Z"
    }
   },
   "outputs": [],
   "source": [
    "#223\n",
    "def print_even(a):\n",
    "    print(a[1::2])\n",
    "\n",
    "print_even([1, 2, 3, 4, 5, 8, 19])"
   ]
  },
  {
   "cell_type": "code",
   "execution_count": null,
   "id": "9db359c8",
   "metadata": {
    "ExecuteTime": {
     "end_time": "2024-03-07T14:12:40.935754Z",
     "start_time": "2024-03-07T14:12:40.932246Z"
    }
   },
   "outputs": [],
   "source": [
    "#교안 정답\n",
    "def print_even (my_list) :\n",
    "    for a in my_list :\n",
    "        if a % 2 == 0 :\n",
    "            print(a)\n",
    "            \n",
    "print_even([2, 4, 5, 7, 8, 9])"
   ]
  },
  {
   "cell_type": "code",
   "execution_count": null,
   "id": "58915e1c",
   "metadata": {
    "ExecuteTime": {
     "end_time": "2024-03-07T14:44:24.384263Z",
     "start_time": "2024-03-07T14:44:24.380324Z"
    }
   },
   "outputs": [],
   "source": [
    "#224\n",
    "def print_keys(a) :\n",
    "    print(a.keys())\n",
    "\n",
    "print_keys({\"이름\" : \"김말똥\", \"나이\" : 30, \"성별\" : 0})"
   ]
  },
  {
   "cell_type": "code",
   "execution_count": null,
   "id": "1752a0c1",
   "metadata": {
    "ExecuteTime": {
     "end_time": "2024-03-07T14:53:22.340503Z",
     "start_time": "2024-03-07T14:53:22.337232Z"
    }
   },
   "outputs": [],
   "source": [
    "#225\n",
    "my_dict = {\"10/26\" : [100, 130, 100, 100],\n",
    "           \"10/27\" : [10, 12, 10, 11]}\n",
    "\n",
    "def print_value_by_key(a) :\n",
    "    print(my_dict[a])\n",
    "\n",
    "print_value_by_key(\"10/27\")"
   ]
  },
  {
   "cell_type": "code",
   "execution_count": 1,
   "id": "19d2326b",
   "metadata": {
    "ExecuteTime": {
     "end_time": "2024-03-07T15:32:26.582290Z",
     "start_time": "2024-03-07T15:32:26.578278Z"
    }
   },
   "outputs": [
    {
     "name": "stdout",
     "output_type": "stream",
     "text": [
      "아이엠어보\n",
      "이유알어걸\n"
     ]
    }
   ],
   "source": [
    "#226\n",
    "def print_5xn(s) :\n",
    "    while len(s) != 0:\n",
    "        print(s[:5])\n",
    "        s = s[5:]\n",
    "    \n",
    "print_5xn(\"아이엠어보이유알어걸\")"
   ]
  },
  {
   "cell_type": "code",
   "execution_count": null,
   "id": "6ffdb2a7",
   "metadata": {},
   "outputs": [],
   "source": [
    "#교안 정답\n",
    "def print_5xn(line):\n",
    "    chunk_num = int(len(line) / 5)\n",
    "    for x in range(chunk_num + 1) :\n",
    "        print(line[x * 5: x * 5 + 5])"
   ]
  },
  {
   "cell_type": "code",
   "execution_count": 2,
   "id": "c20e54fa",
   "metadata": {
    "ExecuteTime": {
     "end_time": "2024-03-07T15:35:28.433279Z",
     "start_time": "2024-03-07T15:35:28.429969Z"
    }
   },
   "outputs": [
    {
     "name": "stdout",
     "output_type": "stream",
     "text": [
      "아이엠\n",
      "어보이\n",
      "유알어\n",
      "걸\n"
     ]
    }
   ],
   "source": [
    "#227\n",
    "def print_mxn(a, b) :\n",
    "    while len(a) != 0:\n",
    "        print(a[:b])\n",
    "        a = a[b:]\n",
    "\n",
    "print_mxn(\"아이엠어보이유알어걸\", 3)"
   ]
  },
  {
   "cell_type": "code",
   "execution_count": null,
   "id": "b9675fc2",
   "metadata": {},
   "outputs": [],
   "source": [
    "#교안 정답\n",
    "def print_mxn(line, num):\n",
    "    chunk_num = int(len(line) / num)\n",
    "    for x in range(chunk_num + 1) :\n",
    "        print(line[x * num: x * num + num])"
   ]
  },
  {
   "cell_type": "code",
   "execution_count": null,
   "id": "aeccba01",
   "metadata": {
    "ExecuteTime": {
     "end_time": "2024-03-07T14:21:39.594229Z",
     "start_time": "2024-03-07T14:21:39.590664Z"
    }
   },
   "outputs": [],
   "source": [
    "#228\n",
    "#내가 쓴 정답 (오답)\n",
    "def calc_monthly_salary(annual_salary) :\n",
    "    print(annual_salary / 12)\n",
    "\n",
    "calc_monthly_salary(12000000)\n",
    "\n",
    "#교안 정답\n",
    "def calc_monthly_salary(annual_pay) :\n",
    "    monthly_pay = int(annual_pay / 12)\n",
    "    return monthly_pay"
   ]
  },
  {
   "cell_type": "code",
   "execution_count": null,
   "id": "8357bbca",
   "metadata": {
    "ExecuteTime": {
     "end_time": "2024-03-07T14:20:14.901587Z",
     "start_time": "2024-03-07T14:20:14.897776Z"
    }
   },
   "outputs": [],
   "source": [
    "#229\n",
    "def my_print (a, b) :\n",
    "    print(\"왼쪽:\", a)\n",
    "    print(\"오른쪽:\", b)\n",
    "\n",
    "my_print(a=100, b=200)\n",
    "\n",
    "# 추측 : \"왼쪽 : 100\", \"오른쪽 : 200\" (정답)"
   ]
  },
  {
   "cell_type": "code",
   "execution_count": null,
   "id": "442b2f5c",
   "metadata": {
    "ExecuteTime": {
     "end_time": "2024-03-07T14:19:14.571408Z",
     "start_time": "2024-03-07T14:19:14.567756Z"
    }
   },
   "outputs": [],
   "source": [
    "#230\n",
    "def my_print (a, b) :\n",
    "    print(\"왼쪽:\", a)\n",
    "    print(\"오른쪽:\", b)\n",
    "\n",
    "my_print(b=100, a=200)\n",
    "\n",
    "#추측 : \"왼쪽 : 200\", \"오른쪽 : 100\" (정답)"
   ]
  },
  {
   "cell_type": "code",
   "execution_count": null,
   "id": "b208ef17",
   "metadata": {
    "ExecuteTime": {
     "end_time": "2024-03-07T15:00:00.525903Z",
     "start_time": "2024-03-07T15:00:00.522360Z"
    }
   },
   "outputs": [],
   "source": [
    "#231\n",
    "def n_plus_1 (n) :\n",
    "    result = n + 1\n",
    "\n",
    "n_plus_1(3)\n",
    "print (result)\n",
    "\n",
    "# 추측 : 에러 발생\n",
    "# 이유 : result는 로컬변수인데 글로벌에서 호출했기 때문\n",
    "# 오류를 해결하려면 def 안에 print(result)를 넣는다\n",
    "\n",
    "def n_plus_1 (n) :\n",
    "    result = n + 1\n",
    "    print (result)\n",
    "    \n",
    "n_plus_1(3)"
   ]
  },
  {
   "cell_type": "code",
   "execution_count": null,
   "id": "340ef186",
   "metadata": {
    "ExecuteTime": {
     "end_time": "2024-03-07T15:01:25.611300Z",
     "start_time": "2024-03-07T15:01:25.608050Z"
    }
   },
   "outputs": [],
   "source": [
    "#232\n",
    "#내가 쓴 답안 = 공백 존재\n",
    "def make_url(a) :\n",
    "    print(\"www.\", a, \".com\")\n",
    "    \n",
    "make_url(\"naver\")"
   ]
  },
  {
   "cell_type": "code",
   "execution_count": null,
   "id": "0ad84cf4",
   "metadata": {
    "ExecuteTime": {
     "end_time": "2024-03-07T15:02:01.205406Z",
     "start_time": "2024-03-07T15:02:01.201903Z"
    }
   },
   "outputs": [],
   "source": [
    "#교안 답안\n",
    "def make_url(string) :\n",
    "    return \"www.\" + string + \".com\"\n",
    "\n",
    "make_url(\"naver\")"
   ]
  },
  {
   "cell_type": "code",
   "execution_count": null,
   "id": "d7aced1f",
   "metadata": {
    "ExecuteTime": {
     "end_time": "2024-03-07T15:04:53.805234Z",
     "start_time": "2024-03-07T15:04:53.801731Z"
    }
   },
   "outputs": [],
   "source": [
    "#233\n",
    "#1차 답안\n",
    "def make_list(a) :\n",
    "    print([a])\n",
    "    \n",
    "make_list(\"abcd\")"
   ]
  },
  {
   "cell_type": "code",
   "execution_count": null,
   "id": "fdcc0fa8",
   "metadata": {
    "ExecuteTime": {
     "end_time": "2024-03-07T15:06:37.711854Z",
     "start_time": "2024-03-07T15:06:37.708036Z"
    }
   },
   "outputs": [],
   "source": [
    "#교안 답안 = list 함수 \n",
    "def make_list (string) :\n",
    "    return list(string)\n",
    "    \n",
    "make_list(\"abcd\")"
   ]
  },
  {
   "cell_type": "code",
   "execution_count": null,
   "id": "f59f78d7",
   "metadata": {
    "ExecuteTime": {
     "end_time": "2024-03-07T15:14:07.595443Z",
     "start_time": "2024-03-07T15:14:07.590777Z"
    }
   },
   "outputs": [],
   "source": [
    "#234\n",
    "#교안 답안\n",
    "def pickup_even(a) :\n",
    "    answer = []\n",
    "    for i in a :\n",
    "        if i % 2 == 0 :\n",
    "            answer.append(i)\n",
    "    return answer\n",
    "\n",
    "pickup_even([3, 4, 5, 6, 7, 8])"
   ]
  },
  {
   "cell_type": "code",
   "execution_count": null,
   "id": "3a395b88",
   "metadata": {
    "ExecuteTime": {
     "end_time": "2024-03-07T15:16:58.636185Z",
     "start_time": "2024-03-07T15:16:58.633457Z"
    }
   },
   "outputs": [],
   "source": [
    "#235\n",
    "#내가 쓴 답안\n",
    "def convert_int(a) :\n",
    "    print(a.replace(\",\", \"\"))\n",
    "    \n",
    "convert_int(\"1,234,567\")"
   ]
  },
  {
   "cell_type": "code",
   "execution_count": null,
   "id": "8dc76200",
   "metadata": {
    "ExecuteTime": {
     "end_time": "2024-03-07T15:18:20.961782Z",
     "start_time": "2024-03-07T15:18:20.957824Z"
    }
   },
   "outputs": [],
   "source": [
    "#교안 정답\n",
    "def convert_int(a) :\n",
    "    return int(a.replace(\",\", \"\"))\n",
    "    \n",
    "convert_int(\"1,234,567\")"
   ]
  },
  {
   "cell_type": "code",
   "execution_count": null,
   "id": "1efc800f",
   "metadata": {
    "ExecuteTime": {
     "end_time": "2024-03-07T15:20:01.120343Z",
     "start_time": "2024-03-07T15:20:01.116461Z"
    }
   },
   "outputs": [],
   "source": [
    "#236\n",
    "def 함수(num) :\n",
    "    return num + 4\n",
    "\n",
    "a = 함수(10)\n",
    "b = 함수(a)\n",
    "c = 함수(b)\n",
    "print(c)\n",
    "\n",
    "#실행 결과 예측 : def 밖에 있으니 print(C)만 동작해서 \"C\"일 줄 알았다\n",
    "\n",
    "#교안 정답\n",
    "a = 10 + 4 = 14\n",
    "b = 14 + 4 = 18\n",
    "c = 18 + 4 = 22\n",
    "print(c) = 22"
   ]
  },
  {
   "cell_type": "code",
   "execution_count": null,
   "id": "55063fb4",
   "metadata": {
    "ExecuteTime": {
     "end_time": "2024-03-07T15:23:30.689450Z",
     "start_time": "2024-03-07T15:23:30.684206Z"
    }
   },
   "outputs": [],
   "source": [
    "#237\n",
    "def 함수(num) :\n",
    "    return num + 4\n",
    "\n",
    "c = 함수(함수(함수(10)))\n",
    "print(c)\n",
    "\n",
    "#결과 예측 : 22 (정답)"
   ]
  },
  {
   "cell_type": "code",
   "execution_count": null,
   "id": "2bf185d4",
   "metadata": {
    "ExecuteTime": {
     "end_time": "2024-03-07T15:24:38.538307Z",
     "start_time": "2024-03-07T15:24:38.534237Z"
    }
   },
   "outputs": [],
   "source": [
    "#238\n",
    "def 함수1(num) :\n",
    "    return num + 4\n",
    "\n",
    "def 함수2(num) :\n",
    "    return num * 10\n",
    "\n",
    "a = 함수1(10)\n",
    "c = 함수2(a)\n",
    "print(c)\n",
    "\n",
    "#결과 예측 : a = 14, c = 140 -> 140"
   ]
  },
  {
   "cell_type": "code",
   "execution_count": null,
   "id": "7bcaaa84",
   "metadata": {
    "ExecuteTime": {
     "end_time": "2024-03-07T15:26:14.422102Z",
     "start_time": "2024-03-07T15:26:14.418889Z"
    }
   },
   "outputs": [],
   "source": [
    "#239\n",
    "def 함수1(num) :\n",
    "    return num + 4\n",
    "\n",
    "def 함수2(num) :\n",
    "    num = num + 2\n",
    "    return 함수1(num)\n",
    "\n",
    "c = 함수2(10)\n",
    "print(c)\n",
    "\n",
    "#결과 예측 : 16"
   ]
  },
  {
   "cell_type": "code",
   "execution_count": null,
   "id": "a2a890b1",
   "metadata": {
    "ExecuteTime": {
     "end_time": "2024-03-07T15:28:05.900765Z",
     "start_time": "2024-03-07T15:28:05.896818Z"
    }
   },
   "outputs": [],
   "source": [
    "#240\n",
    "def 함수0(num) :\n",
    "    return num * 2\n",
    "\n",
    "def 함수1(num) :\n",
    "    return 함수0(num + 2)\n",
    "\n",
    "def 함수2(num) :\n",
    "    num = num + 10\n",
    "    return 함수1(num)\n",
    "\n",
    "c = 함수2(2)\n",
    "print(c)\n",
    "\n",
    "#결과 예측 : 28"
   ]
  },
  {
   "cell_type": "code",
   "execution_count": null,
   "id": "18a58084",
   "metadata": {},
   "outputs": [],
   "source": [
    "#251\n",
    "클래스와 객체에 대해 설명해봅시다.\n",
    "\n",
    "#내가 쓴 정답\n",
    "클래스 = 빵 틀\n",
    "객체 = 빵\n",
    "\n",
    "#교안 정답\n",
    "클래스는 일종의 설계도로, 하나의 타입을 정의하는 방법입니다. \n",
    "클래스에는 관련있는 데이터와 함수를 한 데 모아 정의할 수 있습니다. \n",
    "클래스로 만들어진 결과물을 객체라고합니다."
   ]
  },
  {
   "cell_type": "code",
   "execution_count": null,
   "id": "8209fcfe",
   "metadata": {},
   "outputs": [],
   "source": [
    "#252\n",
    "class Human:\n",
    "    pass"
   ]
  },
  {
   "cell_type": "code",
   "execution_count": null,
   "id": "ba7c8b3d",
   "metadata": {},
   "outputs": [],
   "source": [
    "#253\n",
    "class Human:\n",
    "    pass\n",
    "\n",
    "areum = Human()"
   ]
  },
  {
   "cell_type": "code",
   "execution_count": 2,
   "id": "2da3a733",
   "metadata": {
    "ExecuteTime": {
     "end_time": "2024-03-11T11:13:58.252751Z",
     "start_time": "2024-03-11T11:13:58.249430Z"
    }
   },
   "outputs": [
    {
     "name": "stdout",
     "output_type": "stream",
     "text": [
      "응애응애\n"
     ]
    }
   ],
   "source": [
    "#254\n",
    "class Human:\n",
    "    def __init__(self):\n",
    "        print(\"응애응애\")\n",
    "\n",
    "areum = Human()"
   ]
  },
  {
   "cell_type": "code",
   "execution_count": 7,
   "id": "30d27020",
   "metadata": {
    "ExecuteTime": {
     "end_time": "2024-03-11T11:16:36.327701Z",
     "start_time": "2024-03-11T11:16:36.323401Z"
    }
   },
   "outputs": [
    {
     "name": "stdout",
     "output_type": "stream",
     "text": [
      "아름\n"
     ]
    }
   ],
   "source": [
    "#255\n",
    "class Human:\n",
    "    def __init__(self, name, age, gender):\n",
    "        self.name = name\n",
    "        self.age = age\n",
    "        self.gender = gender\n",
    "\n",
    "areum = Human(\"아름\", 25, \"여자\")\n",
    "print(areum.name)"
   ]
  },
  {
   "cell_type": "code",
   "execution_count": 8,
   "id": "b2ea33c3",
   "metadata": {
    "ExecuteTime": {
     "end_time": "2024-03-11T11:17:03.525913Z",
     "start_time": "2024-03-11T11:17:03.522387Z"
    }
   },
   "outputs": [
    {
     "name": "stdout",
     "output_type": "stream",
     "text": [
      "아름\n",
      "25\n",
      "여자\n"
     ]
    }
   ],
   "source": [
    "#256\n",
    "class Human:\n",
    "    def __init__(self, name, age, gender):\n",
    "        self.name = name\n",
    "        self.age = age\n",
    "        self.gender = gender\n",
    "\n",
    "areum = Human(\"아름\", 25, \"여자\")\n",
    "print(areum.name)\n",
    "print(areum.age)\n",
    "print(areum.gender)"
   ]
  },
  {
   "cell_type": "code",
   "execution_count": 13,
   "id": "43582bcf",
   "metadata": {
    "ExecuteTime": {
     "end_time": "2024-03-11T11:21:40.438799Z",
     "start_time": "2024-03-11T11:21:40.435206Z"
    }
   },
   "outputs": [
    {
     "name": "stdout",
     "output_type": "stream",
     "text": [
      "이름: 아름 나이: 25 성별: 여자\n"
     ]
    }
   ],
   "source": [
    "#257\n",
    "#교안에서는 보기 좋게 나열하기 위해 format을 썼지만 안 써도 동작 한다 \n",
    "class Human:\n",
    "    def __init__(self, name, age, gender):\n",
    "        self.name = name\n",
    "        self.age = age\n",
    "        self.gender = gender\n",
    "\n",
    "    def who(self):\n",
    "        print(\"이름: {} 나이: {} 성별: {}\".format(self.name, self.age, self.gender))\n",
    "\n",
    "areum = Human(\"아름\", 25, \"여자\")\n",
    "areum.who()"
   ]
  },
  {
   "cell_type": "code",
   "execution_count": 70,
   "id": "b3ef6633",
   "metadata": {
    "ExecuteTime": {
     "end_time": "2024-03-11T12:50:30.281804Z",
     "start_time": "2024-03-11T12:50:30.276703Z"
    }
   },
   "outputs": [
    {
     "name": "stdout",
     "output_type": "stream",
     "text": [
      "조아름 25 여자\n",
      "이름: 조아름 나이: 25 성별: 여자\n"
     ]
    }
   ],
   "source": [
    "#이렇게 써도 괜찮다!\n",
    "class Human:\n",
    "    def __init__(self,name,age,sex):\n",
    "        self.name = name\n",
    "        self.age = age\n",
    "        self.sex = sex\n",
    "        \n",
    "    def who(self):\n",
    "        print(\"이름:\",self.name,\"나이:\",self.age,\"성별:\",self.sex)\n",
    "\n",
    "areum = Human(\"조아름\",25,\"여자\")\n",
    "print(areum.name,areum.age,areum.sex)\n",
    "areum.who()"
   ]
  },
  {
   "cell_type": "code",
   "execution_count": 17,
   "id": "084e31f8",
   "metadata": {
    "ExecuteTime": {
     "end_time": "2024-03-11T11:25:58.008849Z",
     "start_time": "2024-03-11T11:25:58.003557Z"
    }
   },
   "outputs": [
    {
     "name": "stdout",
     "output_type": "stream",
     "text": [
      "이름: 불명 나이: 미상 성별: 모름\n"
     ]
    }
   ],
   "source": [
    "#258\n",
    "class Human:\n",
    "    def __init__(self, name, age, gender):\n",
    "        self.name = name\n",
    "        self.age = age\n",
    "        self.gender = gender\n",
    "\n",
    "    def who(self):\n",
    "        print(\"이름: {} 나이: {} 성별: {}\".format(self.name, self.age, self.gender))\n",
    "\n",
    "    def setInfo(self, name, age, gender):\n",
    "        self.name = name\n",
    "        self.age = age\n",
    "        self.gender = gender"
   ]
  },
  {
   "cell_type": "code",
   "execution_count": 18,
   "id": "a1b8729e",
   "metadata": {
    "ExecuteTime": {
     "end_time": "2024-03-11T11:27:45.345964Z",
     "start_time": "2024-03-11T11:27:45.341501Z"
    }
   },
   "outputs": [
    {
     "name": "stdout",
     "output_type": "stream",
     "text": [
      "나의 죽음을 알리지마라\n"
     ]
    }
   ],
   "source": [
    "#259\n",
    "class Human:\n",
    "    def __init__(self, name, age, gender):\n",
    "        self.name = name\n",
    "        self.age = age\n",
    "        self.gender = gender\n",
    "\n",
    "    def __del__(self):\n",
    "        print(\"나의 죽음을 알리지마라\")\n",
    "\n",
    "    def who(self):\n",
    "        print(\"이름: {} 나이: {} 성별: {}\".format(self.name, self.age, self.gender))\n",
    "\n",
    "    def setInfo(self, name, age, gender):\n",
    "        self.name = name\n",
    "        self.age = age\n",
    "        self.gender = gender\n",
    "\n",
    "areum = Human(\"아름\", 25, \"여자\")\n",
    "del(areum)"
   ]
  },
  {
   "cell_type": "code",
   "execution_count": 22,
   "id": "1c1ccc47",
   "metadata": {
    "ExecuteTime": {
     "end_time": "2024-03-11T11:29:26.651821Z",
     "start_time": "2024-03-11T11:29:26.639320Z"
    }
   },
   "outputs": [
    {
     "ename": "TypeError",
     "evalue": "OMG.print() takes 0 positional arguments but 1 was given",
     "output_type": "error",
     "traceback": [
      "\u001b[1;31m---------------------------------------------------------------------------\u001b[0m",
      "\u001b[1;31mTypeError\u001b[0m                                 Traceback (most recent call last)",
      "Cell \u001b[1;32mIn[22], line 7\u001b[0m\n\u001b[0;32m      4\u001b[0m         \u001b[38;5;28mprint\u001b[39m(\u001b[38;5;124m\"\u001b[39m\u001b[38;5;124mOh my god\u001b[39m\u001b[38;5;124m\"\u001b[39m)\n\u001b[0;32m      6\u001b[0m mystock \u001b[38;5;241m=\u001b[39m OMG()\n\u001b[1;32m----> 7\u001b[0m mystock\u001b[38;5;241m.\u001b[39mprint()\n\u001b[0;32m      8\u001b[0m OMG\u001b[38;5;241m.\u001b[39mprint(mystock)\n",
      "\u001b[1;31mTypeError\u001b[0m: OMG.print() takes 0 positional arguments but 1 was given"
     ]
    }
   ],
   "source": [
    "#260\n",
    "class OMG : \n",
    "    def print() :\n",
    "        print(\"Oh my god\")\n",
    "\n",
    "mystock = OMG()\n",
    "mystock.print() # OMG.print(mystock)"
   ]
  },
  {
   "cell_type": "code",
   "execution_count": null,
   "id": "d732c0ed",
   "metadata": {},
   "outputs": [],
   "source": [
    "#261\n",
    "class Stock :\n",
    "    pass"
   ]
  },
  {
   "cell_type": "code",
   "execution_count": 33,
   "id": "7c502304",
   "metadata": {
    "ExecuteTime": {
     "end_time": "2024-03-11T11:42:28.090734Z",
     "start_time": "2024-03-11T11:42:28.086460Z"
    }
   },
   "outputs": [
    {
     "ename": "IndentationError",
     "evalue": "expected an indented block after function definition on line 3 (3551101914.py, line 4)",
     "output_type": "error",
     "traceback": [
      "\u001b[1;36m  Cell \u001b[1;32mIn[33], line 4\u001b[1;36m\u001b[0m\n\u001b[1;33m    self.name = name\u001b[0m\n\u001b[1;37m    ^\u001b[0m\n\u001b[1;31mIndentationError\u001b[0m\u001b[1;31m:\u001b[0m expected an indented block after function definition on line 3\n"
     ]
    }
   ],
   "source": [
    "#262\n",
    "class Stock:\n",
    "    def __init__(self, name, code):\n",
    "        self.name = name\n",
    "        self.code = code\n",
    "\n",
    "삼성 = Stock(\"삼성전자\", \"005930\")\n",
    "print(삼성.name)\n",
    "print(삼성.code)"
   ]
  },
  {
   "cell_type": "code",
   "execution_count": 34,
   "id": "509c117c",
   "metadata": {
    "ExecuteTime": {
     "end_time": "2024-03-11T11:44:15.579369Z",
     "start_time": "2024-03-11T11:44:15.575768Z"
    }
   },
   "outputs": [
    {
     "name": "stdout",
     "output_type": "stream",
     "text": [
      "삼성전자\n"
     ]
    }
   ],
   "source": [
    "#263\n",
    "class Stock:\n",
    "    def __init__(self, name, code):\n",
    "        self.name = name\n",
    "        self.code = code\n",
    "\n",
    "    def set_name(self, name):\n",
    "        self.name = name\n",
    "\n",
    "a = Stock(None, None)\n",
    "a.set_name(\"삼성전자\")  # Stock.set_name(a, \"삼성전자\")\n",
    "print(a.name)"
   ]
  },
  {
   "cell_type": "code",
   "execution_count": 35,
   "id": "2d605f1d",
   "metadata": {
    "ExecuteTime": {
     "end_time": "2024-03-11T11:45:37.458930Z",
     "start_time": "2024-03-11T11:45:37.455178Z"
    }
   },
   "outputs": [
    {
     "name": "stdout",
     "output_type": "stream",
     "text": [
      "005930\n"
     ]
    }
   ],
   "source": [
    "#264\n",
    "class Stock:\n",
    "    def __init__(self, name, code):\n",
    "        self.name = name\n",
    "        self.code = code\n",
    "\n",
    "    def set_name(self, name):\n",
    "        self.name = name\n",
    "        \n",
    "    def set_code(self, code):\n",
    "        self.code = code       \n",
    "\n",
    "a = Stock(None, None)\n",
    "a.set_code(\"005930\")\n",
    "print(a.code)"
   ]
  },
  {
   "cell_type": "code",
   "execution_count": 40,
   "id": "e7029653",
   "metadata": {
    "ExecuteTime": {
     "end_time": "2024-03-11T11:48:49.486886Z",
     "start_time": "2024-03-11T11:48:49.482866Z"
    }
   },
   "outputs": [
    {
     "name": "stdout",
     "output_type": "stream",
     "text": [
      "삼성전자\n",
      "005930\n",
      "삼성전자\n",
      "005930\n"
     ]
    }
   ],
   "source": [
    "#265\n",
    "class Stock:\n",
    "    def __init__(self, name, code):\n",
    "        self.name = name\n",
    "        self.code = code\n",
    "\n",
    "    def set_name(self, name):\n",
    "        self.name = name\n",
    "        \n",
    "    def set_code(self, code):\n",
    "        self.code = code   \n",
    "        \n",
    "    def get_name(self):\n",
    "        return self.name\n",
    "    \n",
    "    def get_code(self):\n",
    "        return self.code\n",
    "\n",
    "삼성 = Stock(\"삼성전자\", \"005930\")\n",
    "print(삼성.name)\n",
    "print(삼성.code)\n",
    "print(삼성.get_name())\n",
    "print(삼성.get_code())"
   ]
  },
  {
   "cell_type": "code",
   "execution_count": null,
   "id": "cdd862e7",
   "metadata": {},
   "outputs": [],
   "source": [
    "#266\n",
    "class Stock:\n",
    "    def __init__(self, name, code, per, pbr, 배당수익률):\n",
    "        self.name = name\n",
    "        self.code = code\n",
    "        self.per = per\n",
    "        self.pbr = pbr\n",
    "        self.배당수익률 = 배당수익률\n",
    "\n",
    "    def set_name(self, name):\n",
    "        self.name = name\n",
    "\n",
    "    def set_code(self, code):\n",
    "        self.code = code\n",
    "\n",
    "    def get_name(self):\n",
    "        return self.name\n",
    "\n",
    "    def get_code(self):\n",
    "        return self.code"
   ]
  },
  {
   "cell_type": "code",
   "execution_count": 73,
   "id": "1b28bcfc",
   "metadata": {
    "ExecuteTime": {
     "end_time": "2024-03-11T12:58:33.254465Z",
     "start_time": "2024-03-11T12:58:33.249655Z"
    }
   },
   "outputs": [
    {
     "name": "stdout",
     "output_type": "stream",
     "text": [
      "삼성전자\n",
      "005930\n",
      "15.79\n",
      "1.33\n",
      "2.83\n"
     ]
    }
   ],
   "source": [
    "#267\n",
    "class Stock:\n",
    "    def __init__(self, name, code, per, pbr, 배당수익률):\n",
    "        self.name = name\n",
    "        self.code = code\n",
    "        self.per = per\n",
    "        self.pbr = pbr\n",
    "        self.배당수익률 = 배당수익률\n",
    "\n",
    "    def set_name(self, name):\n",
    "        self.name = name\n",
    "\n",
    "    def set_code(self, code):\n",
    "        self.code = code\n",
    "\n",
    "    def get_name(self):\n",
    "        return self.name\n",
    "\n",
    "    def get_code(self):\n",
    "        return self.code\n",
    "    \n",
    "a = Stock(\"삼성전자\", \"005930\", 15.79, 1.33, 2.83)\n",
    "print(a.name)\n",
    "print(a.code)\n",
    "print(a.per)\n",
    "print(a.pbr)\n",
    "print(a.배당수익률)"
   ]
  },
  {
   "cell_type": "code",
   "execution_count": null,
   "id": "358a603d",
   "metadata": {},
   "outputs": [],
   "source": [
    "#268\n",
    "class Stock:\n",
    "    def __init__(self, name, code, per, pbr, dividend):\n",
    "        self.name = name\n",
    "        self.code = code\n",
    "        self.per = per\n",
    "        self.pbr = pbr\n",
    "        self.dividend = dividend\n",
    "\n",
    "    def set_name(self, name):\n",
    "        self.name = name\n",
    "\n",
    "    def set_code(self, code):\n",
    "        self.code = code\n",
    "\n",
    "    def get_name(self):\n",
    "        return self.name\n",
    "\n",
    "    def get_code(self):\n",
    "        return self.code\n",
    "\n",
    "    def set_per(self, per):\n",
    "        self.per = per\n",
    "\n",
    "    def set_pbr(self, pbr):\n",
    "        self.pbr = pbr\n",
    "\n",
    "    def set_dividend(self, dividend):\n",
    "        self.dividend = dividend"
   ]
  },
  {
   "cell_type": "code",
   "execution_count": 74,
   "id": "74b82abb",
   "metadata": {
    "ExecuteTime": {
     "end_time": "2024-03-11T12:58:43.670937Z",
     "start_time": "2024-03-11T12:58:43.666156Z"
    }
   },
   "outputs": [
    {
     "name": "stdout",
     "output_type": "stream",
     "text": [
      "12.75\n"
     ]
    }
   ],
   "source": [
    "#269\n",
    "class Stock:\n",
    "    def __init__(self, name, code, per, pbr, dividend):\n",
    "        self.name = name\n",
    "        self.code = code\n",
    "        self.per = per\n",
    "        self.pbr = pbr\n",
    "        self.dividend = dividend\n",
    "\n",
    "    def set_name(self, name):\n",
    "        self.name = name\n",
    "\n",
    "    def set_code(self, code):\n",
    "        self.code = code\n",
    "\n",
    "    def get_name(self):\n",
    "        return self.name\n",
    "\n",
    "    def get_code(self):\n",
    "        return self.code\n",
    "\n",
    "    def set_per(self, per):\n",
    "        self.per = per\n",
    "\n",
    "    def set_pbr(self, pbr):\n",
    "        self.pbr = pbr\n",
    "\n",
    "    def set_dividend(self, dividend):\n",
    "        self.dividend = dividend\n",
    "\n",
    "a = Stock(\"삼성전자\", \"005930\", 15.79, 1.33, 2.83)\n",
    "a.set_per(12.75)\n",
    "print(a.per)"
   ]
  },
  {
   "cell_type": "code",
   "execution_count": null,
   "id": "8d81ae80",
   "metadata": {},
   "outputs": [],
   "source": [
    "#270\n",
    "종목 = []\n",
    "\n",
    "삼성 = Stock(\"삼성전자\", \"005930\", 15.79, 1.33, 2.83)\n",
    "현대차 = Stock(\"현대차\", \"005380\", 8.70, 0.35, 4.27)\n",
    "LG전자 = Stock(\"LG전자\", \"066570\", 317.34, 0.69, 1.37)\n",
    "\n",
    "종목.append(삼성)\n",
    "종목.append(현대차)\n",
    "종목.append(LG전자)\n",
    "\n",
    "for i in 종목:\n",
    "    print(i.code, i.per)        # i-> Stock 클래스의 객체를 바인딩하기 때문"
   ]
  },
  {
   "cell_type": "code",
   "execution_count": 75,
   "id": "49709f55",
   "metadata": {
    "ExecuteTime": {
     "end_time": "2024-03-11T13:01:50.654017Z",
     "start_time": "2024-03-11T13:01:50.649999Z"
    }
   },
   "outputs": [],
   "source": [
    "#271\n",
    "#1차 시도 와르르 무너짐 \n",
    "class Account:\n",
    "    def __init__(self, 은행이름, 예금주, 계좌번호, 잔액):\n",
    "        self.은행이름 = 은행이름\n",
    "        self.예금주 = 예금주\n",
    "        self.계좌번호 = 계좌번호\n",
    "        self.잔액 = 잔액\n",
    "        \n",
    "    def 정보(self):\n",
    "        print(\"은행이름: \", self.은행이름)\n",
    "        print(\"가격: \", self.계좌번호)"
   ]
  },
  {
   "cell_type": "code",
   "execution_count": 93,
   "id": "c35bc8da",
   "metadata": {
    "ExecuteTime": {
     "end_time": "2024-03-11T13:34:03.392412Z",
     "start_time": "2024-03-11T13:34:03.368182Z"
    }
   },
   "outputs": [
    {
     "name": "stdout",
     "output_type": "stream",
     "text": [
      "은행이름 :  sc은행\n",
      "계좌번호 :  414-80-290903\n"
     ]
    },
    {
     "ename": "TypeError",
     "evalue": "'Account' object is not callable",
     "output_type": "error",
     "traceback": [
      "\u001b[1;31m---------------------------------------------------------------------------\u001b[0m",
      "\u001b[1;31mTypeError\u001b[0m                                 Traceback (most recent call last)",
      "Cell \u001b[1;32mIn[93], line 22\u001b[0m\n\u001b[0;32m     19\u001b[0m         \u001b[38;5;28mprint\u001b[39m(\u001b[38;5;124m\"\u001b[39m\u001b[38;5;124m계좌번호 : \u001b[39m\u001b[38;5;124m\"\u001b[39m, \u001b[38;5;28mself\u001b[39m\u001b[38;5;241m.\u001b[39m계좌번호)\n\u001b[0;32m     21\u001b[0m a \u001b[38;5;241m=\u001b[39m Account(\u001b[38;5;124m\"\u001b[39m\u001b[38;5;124m원수림\u001b[39m\u001b[38;5;124m\"\u001b[39m, \u001b[38;5;241m100\u001b[39m)\n\u001b[1;32m---> 22\u001b[0m \u001b[38;5;28mprint\u001b[39m(a())\n",
      "\u001b[1;31mTypeError\u001b[0m: 'Account' object is not callable"
     ]
    }
   ],
   "source": [
    "#2차 시도\n",
    "\n",
    "#Account 클래스를 생성한 후 생성자를 구현해보세요. \n",
    "#생성자에서는 예금주와 초기 잔액만 입력 받습니다.\n",
    "import random\n",
    "\n",
    "class Account:\n",
    "    def __init__(self, 예금주, 초기잔액):\n",
    "        self.예금주 = 예금주\n",
    "        self.초기잔액 = 초기잔액\n",
    "        self.은행 = \"sc은행\"\n",
    "        print(\"은행이름 : \", self.은행)\n",
    "    \n",
    "        first_part = str(random.randint(100, 999))  # 3자리 랜덤 숫자 생성\n",
    "        second_part = str(random.randint(10, 99))   # 2자리 랜덤 숫자 생성\n",
    "        third_part = str(random.randint(100000, 999999))  # 6자리 랜덤 숫자 생성\n",
    "        self.계좌번호 = first_part + \"-\" + second_part + \"-\" + third_part\n",
    "        \n",
    "        print(\"계좌번호 : \", self.계좌번호)\n",
    "        \n",
    "a = Account(\"원수림\", 100)\n",
    "print(a())"
   ]
  },
  {
   "cell_type": "code",
   "execution_count": 49,
   "id": "19e89e24",
   "metadata": {
    "ExecuteTime": {
     "end_time": "2024-03-11T12:02:33.440290Z",
     "start_time": "2024-03-11T12:02:33.436775Z"
    }
   },
   "outputs": [
    {
     "name": "stdout",
     "output_type": "stream",
     "text": [
      "2\n",
      "1000\n"
     ]
    }
   ],
   "source": [
    "#281\n",
    "class 차:\n",
    "    def __init__(self, 바퀴, 가격):\n",
    "        self.바퀴 = 바퀴\n",
    "        self.가격 = 가격\n",
    "\n",
    "car = 차(2, 1000)\n",
    "print(car.바퀴)\n",
    "print(car.가격)"
   ]
  },
  {
   "cell_type": "code",
   "execution_count": 50,
   "id": "57ee7aff",
   "metadata": {
    "ExecuteTime": {
     "end_time": "2024-03-11T12:04:17.170494Z",
     "start_time": "2024-03-11T12:04:17.165894Z"
    }
   },
   "outputs": [
    {
     "ename": "SyntaxError",
     "evalue": "incomplete input (88320972.py, line 11)",
     "output_type": "error",
     "traceback": [
      "\u001b[1;36m  Cell \u001b[1;32mIn[50], line 11\u001b[1;36m\u001b[0m\n\u001b[1;33m    class 자전거(차):\u001b[0m\n\u001b[1;37m                 ^\u001b[0m\n\u001b[1;31mSyntaxError\u001b[0m\u001b[1;31m:\u001b[0m incomplete input\n"
     ]
    }
   ],
   "source": [
    "#282\n",
    "class 차:\n",
    "    def __init__(self, 바퀴, 가격):\n",
    "        self.바퀴 = 바퀴\n",
    "        self.가격 = 가격\n",
    "\n",
    "car = 차(2, 1000)\n",
    "print(car.바퀴)\n",
    "print(car.가격)\n",
    "\n",
    "class 자전거(차):"
   ]
  },
  {
   "cell_type": "code",
   "execution_count": 57,
   "id": "daeb5fe4",
   "metadata": {
    "ExecuteTime": {
     "end_time": "2024-03-11T12:07:25.706159Z",
     "start_time": "2024-03-11T12:07:25.702711Z"
    }
   },
   "outputs": [
    {
     "name": "stdout",
     "output_type": "stream",
     "text": [
      "100\n"
     ]
    }
   ],
   "source": [
    "#283\n",
    "class 차:\n",
    "    def __init__(self, 바퀴, 가격):\n",
    "        self.바퀴 = 바퀴\n",
    "        self.가격 = 가격\n",
    "        \n",
    "class 자전차(차):\n",
    "    def __init__(self, 바퀴, 가격):\n",
    "        self.바퀴 = 바퀴\n",
    "        self.가격 = 가격\n",
    "\n",
    "bicycle = 자전차(2, 100)\n",
    "print(bicycle.가격)"
   ]
  },
  {
   "cell_type": "code",
   "execution_count": 59,
   "id": "2f180b28",
   "metadata": {
    "ExecuteTime": {
     "end_time": "2024-03-11T12:08:49.530170Z",
     "start_time": "2024-03-11T12:08:49.526037Z"
    }
   },
   "outputs": [
    {
     "name": "stdout",
     "output_type": "stream",
     "text": [
      "시마노\n"
     ]
    }
   ],
   "source": [
    "#284\n",
    "class 차:\n",
    "    def __init__(self, 바퀴, 가격):\n",
    "        self.바퀴 = 바퀴\n",
    "        self.가격 = 가격\n",
    "        \n",
    "class 자전차(차):\n",
    "    def __init__(self, 바퀴, 가격, 구동계):\n",
    "        self.바퀴 = 바퀴\n",
    "        self.가격 = 가격\n",
    "        self.구동계 = 구동계\n",
    "\n",
    "bicycle = 자전차(2, 100, \"시마노\")\n",
    "print(bicycle.구동계)"
   ]
  },
  {
   "cell_type": "code",
   "execution_count": 60,
   "id": "5a8a2a02",
   "metadata": {
    "ExecuteTime": {
     "end_time": "2024-03-11T12:11:11.197054Z",
     "start_time": "2024-03-11T12:11:11.181704Z"
    }
   },
   "outputs": [
    {
     "ename": "TypeError",
     "evalue": "자동차.__init__() missing 1 required positional argument: '정보'",
     "output_type": "error",
     "traceback": [
      "\u001b[1;31m---------------------------------------------------------------------------\u001b[0m",
      "\u001b[1;31mTypeError\u001b[0m                                 Traceback (most recent call last)",
      "Cell \u001b[1;32mIn[60], line 13\u001b[0m\n\u001b[0;32m     10\u001b[0m         \u001b[38;5;28mself\u001b[39m\u001b[38;5;241m.\u001b[39m가격 \u001b[38;5;241m=\u001b[39m 가격\n\u001b[0;32m     11\u001b[0m         \u001b[38;5;28mself\u001b[39m\u001b[38;5;241m.\u001b[39m정보 \u001b[38;5;241m=\u001b[39m 바퀴수, 가격\n\u001b[1;32m---> 13\u001b[0m car \u001b[38;5;241m=\u001b[39m 자동차(\u001b[38;5;241m4\u001b[39m, \u001b[38;5;241m1000\u001b[39m)\n\u001b[0;32m     14\u001b[0m \u001b[38;5;28mprint\u001b[39m(car\u001b[38;5;241m.\u001b[39m정보())\n",
      "\u001b[1;31mTypeError\u001b[0m: 자동차.__init__() missing 1 required positional argument: '정보'"
     ]
    }
   ],
   "source": [
    "#285\n",
    "#1차 답안\n",
    "class 차:\n",
    "    def __init__(self, 바퀴, 가격):\n",
    "        self.바퀴 = 바퀴\n",
    "        self.가격 = 가격\n",
    "\n",
    "class 자동차(차):\n",
    "    def __init__(self, 바퀴수, 가격, 정보):\n",
    "        self.바퀴수 = 바퀴수\n",
    "        self.가격 = 가격\n",
    "        self.정보 = 바퀴수, 가격\n",
    "\n",
    "car = 자동차(4, 1000)\n",
    "print(car.정보())"
   ]
  },
  {
   "cell_type": "code",
   "execution_count": 61,
   "id": "d7ae4687",
   "metadata": {
    "ExecuteTime": {
     "end_time": "2024-03-11T12:11:49.529467Z",
     "start_time": "2024-03-11T12:11:49.524236Z"
    }
   },
   "outputs": [
    {
     "name": "stdout",
     "output_type": "stream",
     "text": [
      "바퀴수  4\n",
      "가격  1000\n"
     ]
    }
   ],
   "source": [
    "#교안 정답\n",
    "class 차:\n",
    "    def __init__(self, 바퀴, 가격):\n",
    "        self.바퀴 = 바퀴\n",
    "        self.가격 = 가격\n",
    "\n",
    "\n",
    "class 자동차(차):\n",
    "    def __init__(self, 바퀴, 가격):\n",
    "        super().__init__(바퀴, 가격)\n",
    "\n",
    "    def 정보(self):\n",
    "        print(\"바퀴수 \", self.바퀴)\n",
    "        print(\"가격 \", self.가격)\n",
    "\n",
    "\n",
    "car = 자동차(4, 1000)\n",
    "car.정보()"
   ]
  },
  {
   "cell_type": "code",
   "execution_count": 62,
   "id": "02c5c4ee",
   "metadata": {
    "ExecuteTime": {
     "end_time": "2024-03-11T12:16:58.728158Z",
     "start_time": "2024-03-11T12:16:58.724156Z"
    }
   },
   "outputs": [
    {
     "name": "stdout",
     "output_type": "stream",
     "text": [
      "바퀴수  2\n",
      "가격  100\n"
     ]
    }
   ],
   "source": [
    "#286\n",
    "class 차:\n",
    "    def __init__(self, 바퀴, 가격):\n",
    "        self.바퀴 = 바퀴\n",
    "        self.가격 = 가격\n",
    "\n",
    "    def 정보(self):\n",
    "        print(\"바퀴수 \", self.바퀴)\n",
    "        print(\"가격 \", self.가격)\n",
    "\n",
    "class 자동차(차):\n",
    "    def __init__(self, 바퀴, 가격):\n",
    "        super().__init__(바퀴, 가격)\n",
    "\n",
    "class 자전차(차):\n",
    "    def __init__(self, 바퀴, 가격, 구동계):\n",
    "        super().__init__(바퀴, 가격)\n",
    "        self.구동계 = 구동계\n",
    "\n",
    "bicycle = 자전차(2, 100, \"시마노\")\n",
    "bicycle.정보()"
   ]
  },
  {
   "cell_type": "code",
   "execution_count": 64,
   "id": "04b9c9f7",
   "metadata": {
    "ExecuteTime": {
     "end_time": "2024-03-11T12:19:27.597655Z",
     "start_time": "2024-03-11T12:19:27.592405Z"
    }
   },
   "outputs": [
    {
     "name": "stdout",
     "output_type": "stream",
     "text": [
      "바퀴수  2\n",
      "가격  100\n",
      "구동계 시마노\n"
     ]
    }
   ],
   "source": [
    "#287\n",
    "class 차:\n",
    "    def __init__(self, 바퀴, 가격):\n",
    "        self.바퀴 = 바퀴\n",
    "        self.가격 = 가격\n",
    "\n",
    "    def 정보(self):\n",
    "        print(\"바퀴수 \", self.바퀴)\n",
    "        print(\"가격 \", self.가격)\n",
    "        print(\"구동계\", self.구동계)\n",
    "\n",
    "class 자동차(차):\n",
    "    def __init__(self, 바퀴, 가격):\n",
    "        super().__init__(바퀴, 가격)\n",
    "\n",
    "class 자전차(차):\n",
    "    def __init__(self, 바퀴, 가격, 구동계):\n",
    "        super().__init__(바퀴, 가격)\n",
    "        self.구동계 = 구동계\n",
    "\n",
    "bicycle = 자전차(2, 100, \"시마노\")\n",
    "bicycle.정보()"
   ]
  },
  {
   "cell_type": "code",
   "execution_count": 65,
   "id": "3c925b37",
   "metadata": {
    "ExecuteTime": {
     "end_time": "2024-03-11T12:21:28.727592Z",
     "start_time": "2024-03-11T12:21:28.723533Z"
    }
   },
   "outputs": [
    {
     "name": "stdout",
     "output_type": "stream",
     "text": [
      "자식호출\n"
     ]
    }
   ],
   "source": [
    "#288\n",
    "class 부모:\n",
    "  def 호출(self):\n",
    "    print(\"부모호출\")\n",
    "\n",
    "class 자식(부모):\n",
    "  def 호출(self):\n",
    "    print(\"자식호출\")\n",
    "    \n",
    "나 = 자식()\n",
    "나.호출()"
   ]
  },
  {
   "cell_type": "code",
   "execution_count": 68,
   "id": "c1ac0459",
   "metadata": {
    "ExecuteTime": {
     "end_time": "2024-03-11T12:22:57.264930Z",
     "start_time": "2024-03-11T12:22:57.261409Z"
    }
   },
   "outputs": [
    {
     "name": "stdout",
     "output_type": "stream",
     "text": [
      "자식생성\n"
     ]
    }
   ],
   "source": [
    "#289\n",
    "class 부모:\n",
    "  def __init__(self):\n",
    "    print(\"부모생성\")\n",
    "\n",
    "class 자식(부모):\n",
    "  def __init__(self):\n",
    "    print(\"자식생성\")\n",
    "\n",
    "나 = 자식()"
   ]
  },
  {
   "cell_type": "code",
   "execution_count": 69,
   "id": "65d74ed2",
   "metadata": {
    "ExecuteTime": {
     "end_time": "2024-03-11T12:23:43.362753Z",
     "start_time": "2024-03-11T12:23:43.359689Z"
    }
   },
   "outputs": [
    {
     "name": "stdout",
     "output_type": "stream",
     "text": [
      "자식생성\n",
      "부모생성\n"
     ]
    }
   ],
   "source": [
    "#290\n",
    "class 부모:\n",
    "  def __init__(self):\n",
    "    print(\"부모생성\")\n",
    "\n",
    "class 자식(부모):\n",
    "  def __init__(self):\n",
    "    print(\"자식생성\")\n",
    "    super().__init__()\n",
    "\n",
    "나 = 자식()"
   ]
  },
  {
   "cell_type": "code",
   "execution_count": 95,
   "id": "58a72960",
   "metadata": {
    "ExecuteTime": {
     "end_time": "2024-03-11T13:43:45.279454Z",
     "start_time": "2024-03-11T13:43:45.275728Z"
    }
   },
   "outputs": [
    {
     "name": "stdout",
     "output_type": "stream",
     "text": [
      "아이엠어보\n",
      "이유알어걸\n"
     ]
    }
   ],
   "source": []
  }
 ],
 "metadata": {
  "kernelspec": {
   "display_name": "Python 3 (ipykernel)",
   "language": "python",
   "name": "python3"
  },
  "language_info": {
   "codemirror_mode": {
    "name": "ipython",
    "version": 3
   },
   "file_extension": ".py",
   "mimetype": "text/x-python",
   "name": "python",
   "nbconvert_exporter": "python",
   "pygments_lexer": "ipython3",
   "version": "3.11.5"
  },
  "toc": {
   "base_numbering": 1,
   "nav_menu": {},
   "number_sections": true,
   "sideBar": true,
   "skip_h1_title": false,
   "title_cell": "Table of Contents",
   "title_sidebar": "Contents",
   "toc_cell": false,
   "toc_position": {},
   "toc_section_display": true,
   "toc_window_display": false
  },
  "varInspector": {
   "cols": {
    "lenName": 16,
    "lenType": 16,
    "lenVar": 40
   },
   "kernels_config": {
    "python": {
     "delete_cmd_postfix": "",
     "delete_cmd_prefix": "del ",
     "library": "var_list.py",
     "varRefreshCmd": "print(var_dic_list())"
    },
    "r": {
     "delete_cmd_postfix": ") ",
     "delete_cmd_prefix": "rm(",
     "library": "var_list.r",
     "varRefreshCmd": "cat(var_dic_list()) "
    }
   },
   "types_to_exclude": [
    "module",
    "function",
    "builtin_function_or_method",
    "instance",
    "_Feature"
   ],
   "window_display": false
  }
 },
 "nbformat": 4,
 "nbformat_minor": 5
}
