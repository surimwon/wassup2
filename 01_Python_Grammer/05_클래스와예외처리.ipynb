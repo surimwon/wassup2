{
 "cells": [
  {
   "cell_type": "markdown",
   "id": "1ea3f881",
   "metadata": {},
   "source": [
    "# 파이썬 날개 달기"
   ]
  },
  {
   "cell_type": "markdown",
   "id": "9749cead",
   "metadata": {},
   "source": [
    "## 클래스"
   ]
  },
  {
   "cell_type": "markdown",
   "id": "07c38377",
   "metadata": {},
   "source": [
    "### 클래스는 왜 필요한가?"
   ]
  },
  {
   "cell_type": "code",
   "execution_count": 3,
   "id": "b869a27a",
   "metadata": {
    "ExecuteTime": {
     "end_time": "2024-03-11T01:05:36.337859Z",
     "start_time": "2024-03-11T01:05:36.333457Z"
    }
   },
   "outputs": [
    {
     "name": "stdout",
     "output_type": "stream",
     "text": [
      "3\n",
      "7\n"
     ]
    }
   ],
   "source": [
    "# 계산기 프로그램을 함수로 만들어보자 \n",
    "result = 0\n",
    "\n",
    "def add(num):\n",
    "    #global이 없다면 누적합이 안 되기 때문에 필요함 \n",
    "    global result\n",
    "    result += num  # 결괏값(result)에 입력값(num) 더하기\n",
    "    return result  # 결괏값 리턴\n",
    "\n",
    "print(add(3))\n",
    "print(add(4))"
   ]
  },
  {
   "cell_type": "code",
   "execution_count": 2,
   "id": "55b2d324",
   "metadata": {
    "ExecuteTime": {
     "end_time": "2024-03-11T01:05:03.269388Z",
     "start_time": "2024-03-11T01:05:03.241672Z"
    }
   },
   "outputs": [
    {
     "ename": "UnboundLocalError",
     "evalue": "cannot access local variable 'result' where it is not associated with a value",
     "output_type": "error",
     "traceback": [
      "\u001b[1;31m---------------------------------------------------------------------------\u001b[0m",
      "\u001b[1;31mUnboundLocalError\u001b[0m                         Traceback (most recent call last)",
      "Cell \u001b[1;32mIn[2], line 9\u001b[0m\n\u001b[0;32m      6\u001b[0m     result \u001b[38;5;241m+\u001b[39m\u001b[38;5;241m=\u001b[39m num  \u001b[38;5;66;03m# 결괏값(result)에 입력값(num) 더하기\u001b[39;00m\n\u001b[0;32m      7\u001b[0m     \u001b[38;5;28;01mreturn\u001b[39;00m result  \u001b[38;5;66;03m# 결괏값 리턴\u001b[39;00m\n\u001b[1;32m----> 9\u001b[0m \u001b[38;5;28mprint\u001b[39m(add(\u001b[38;5;241m3\u001b[39m))\n\u001b[0;32m     10\u001b[0m \u001b[38;5;28mprint\u001b[39m(add(\u001b[38;5;241m4\u001b[39m))\n",
      "Cell \u001b[1;32mIn[2], line 6\u001b[0m, in \u001b[0;36madd\u001b[1;34m(num)\u001b[0m\n\u001b[0;32m      5\u001b[0m \u001b[38;5;28;01mdef\u001b[39;00m \u001b[38;5;21madd\u001b[39m(num):\n\u001b[1;32m----> 6\u001b[0m     result \u001b[38;5;241m+\u001b[39m\u001b[38;5;241m=\u001b[39m num  \u001b[38;5;66;03m# 결괏값(result)에 입력값(num) 더하기\u001b[39;00m\n\u001b[0;32m      7\u001b[0m     \u001b[38;5;28;01mreturn\u001b[39;00m result\n",
      "\u001b[1;31mUnboundLocalError\u001b[0m: cannot access local variable 'result' where it is not associated with a value"
     ]
    }
   ],
   "source": [
    "# globla이 없으면 에러가 발생한다는 것을 알 수 있음 \n",
    "result = 0\n",
    "#global result 여기에 들어가도 동일하게 에러 발생 \n",
    "\n",
    "def add(num):\n",
    "    result += num  # 결괏값(result)에 입력값(num) 더하기\n",
    "    return result  # 결괏값 리턴\n",
    "\n",
    "print(add(3))\n",
    "print(add(4))"
   ]
  },
  {
   "cell_type": "code",
   "execution_count": 4,
   "id": "301824cc",
   "metadata": {
    "ExecuteTime": {
     "end_time": "2024-03-11T01:06:12.803487Z",
     "start_time": "2024-03-11T01:06:12.799966Z"
    }
   },
   "outputs": [
    {
     "name": "stdout",
     "output_type": "stream",
     "text": [
      "3\n",
      "7\n",
      "3\n",
      "10\n"
     ]
    }
   ],
   "source": [
    "# 만약 한 프로그램에서 2대의 계산기가 필요하다면?\n",
    "result1 = 0\n",
    "def add1(num):  # 계산기1\n",
    "    global result1\n",
    "    result1 += num\n",
    "    return result1\n",
    "\n",
    "result2 = 0\n",
    "def add2(num):  # 계산기2\n",
    "    global result2\n",
    "    result2 += num\n",
    "    return result2\n",
    "\n",
    "print(add1(3))\n",
    "print(add1(4))\n",
    "print(add2(3))\n",
    "print(add2(7))"
   ]
  },
  {
   "cell_type": "code",
   "execution_count": 6,
   "id": "1e8a4123",
   "metadata": {
    "ExecuteTime": {
     "end_time": "2024-03-11T01:09:39.969733Z",
     "start_time": "2024-03-11T01:09:39.965871Z"
    }
   },
   "outputs": [
    {
     "name": "stdout",
     "output_type": "stream",
     "text": [
      "3\n",
      "7\n",
      "3\n",
      "10\n"
     ]
    }
   ],
   "source": [
    "#class는 한 번만 지정해주고 (클래스는 빵틀)\n",
    "class Calculator:\n",
    "    def __init__(self):\n",
    "        self.result = 0\n",
    "\n",
    "    def add(self, num):\n",
    "        self.result += num\n",
    "        return self.result\n",
    "\n",
    "#cal1, cal2라는 instance를 만들어서 사용하면 각자 동작 가능 (인스턴스는 빵)\n",
    "cal1 = Calculator()\n",
    "cal2 = Calculator()\n",
    "\n",
    "print(cal1.add(3))\n",
    "print(cal1.add(4))\n",
    "print(cal2.add(3))\n",
    "print(cal2.add(7))"
   ]
  },
  {
   "cell_type": "markdown",
   "id": "468722e6",
   "metadata": {},
   "source": [
    "### 클래스와 객체 "
   ]
  },
  {
   "cell_type": "code",
   "execution_count": 7,
   "id": "f8966fc7",
   "metadata": {
    "ExecuteTime": {
     "end_time": "2024-03-11T01:18:08.054998Z",
     "start_time": "2024-03-11T01:18:08.052086Z"
    }
   },
   "outputs": [],
   "source": [
    "class Cookie:\n",
    "    pass"
   ]
  },
  {
   "cell_type": "code",
   "execution_count": 9,
   "id": "789321c9",
   "metadata": {
    "ExecuteTime": {
     "end_time": "2024-03-11T01:18:22.145258Z",
     "start_time": "2024-03-11T01:18:22.139870Z"
    }
   },
   "outputs": [
    {
     "data": {
      "text/plain": [
       "<__main__.Cookie at 0x1ef0193d6d0>"
      ]
     },
     "execution_count": 9,
     "metadata": {},
     "output_type": "execute_result"
    }
   ],
   "source": [
    "a = Cookie()\n",
    "a"
   ]
  },
  {
   "cell_type": "markdown",
   "id": "634857b9",
   "metadata": {},
   "source": [
    "### 사칙 연산 클래스 만들기"
   ]
  },
  {
   "cell_type": "code",
   "execution_count": null,
   "id": "f5e654a7",
   "metadata": {},
   "outputs": [],
   "source": [
    "a = FourCal()"
   ]
  },
  {
   "cell_type": "code",
   "execution_count": null,
   "id": "1b0d1252",
   "metadata": {},
   "outputs": [],
   "source": [
    "#클래스 안에 동작하는 기능 = 매서드 \n",
    "a.setdata(4, 2)"
   ]
  },
  {
   "cell_type": "code",
   "execution_count": 11,
   "id": "3a954ca3",
   "metadata": {
    "ExecuteTime": {
     "end_time": "2024-03-11T01:25:36.503976Z",
     "start_time": "2024-03-11T01:25:36.500968Z"
    }
   },
   "outputs": [],
   "source": [
    "#클래스 구조 만들기\n",
    "#변수와 구분하기 위해 Class는 첫 글자가 반드시 대문자여야 한다\n",
    "\n",
    "class FourCal:\n",
    "    pass"
   ]
  },
  {
   "cell_type": "code",
   "execution_count": 12,
   "id": "86692350",
   "metadata": {
    "ExecuteTime": {
     "end_time": "2024-03-11T01:25:37.470278Z",
     "start_time": "2024-03-11T01:25:37.464922Z"
    }
   },
   "outputs": [
    {
     "data": {
      "text/plain": [
       "(<__main__.FourCal at 0x1ef003f56d0>, __main__.FourCal)"
      ]
     },
     "execution_count": 12,
     "metadata": {},
     "output_type": "execute_result"
    }
   ],
   "source": [
    "#대문자로 시작하는 표기법을 카멜(낙타 혹 같아서)표기법이라고 함\n",
    "a = FourCal()\n",
    "a, type(a)"
   ]
  },
  {
   "cell_type": "code",
   "execution_count": null,
   "id": "16e0dd87",
   "metadata": {},
   "outputs": [],
   "source": [
    "#four_cal_ : snake 표기법이라고 함(언더바를 활용해서 나열하는 방식)"
   ]
  },
  {
   "cell_type": "code",
   "execution_count": 15,
   "id": "1a751d3b",
   "metadata": {
    "ExecuteTime": {
     "end_time": "2024-03-11T01:38:21.366096Z",
     "start_time": "2024-03-11T01:38:21.362296Z"
    }
   },
   "outputs": [],
   "source": [
    "#데이터 입력해주기(키는? 몸무게는? 성별은?)\n",
    "#함수처럼 괄호 안에 넣어주는 게 아니라, 매서드를 통해 구현\n",
    "class FourCal:\n",
    "    def setdata(self, first, second):\n",
    "        self.first = first\n",
    "        self.second = second"
   ]
  },
  {
   "cell_type": "code",
   "execution_count": 16,
   "id": "5573c573",
   "metadata": {
    "ExecuteTime": {
     "end_time": "2024-03-11T01:38:22.323175Z",
     "start_time": "2024-03-11T01:38:22.319953Z"
    }
   },
   "outputs": [],
   "source": [
    "#실행 방식 1) 이렇게 할 수도 있지만\n",
    "a = FourCal()\n",
    "a.setdata(3, 4)"
   ]
  },
  {
   "cell_type": "code",
   "execution_count": 17,
   "id": "b105c4a7",
   "metadata": {
    "ExecuteTime": {
     "end_time": "2024-03-11T01:38:23.078422Z",
     "start_time": "2024-03-11T01:38:23.062665Z"
    }
   },
   "outputs": [
    {
     "ename": "TypeError",
     "evalue": "FourCal.setdata() missing 1 required positional argument: 'second'",
     "output_type": "error",
     "traceback": [
      "\u001b[1;31m---------------------------------------------------------------------------\u001b[0m",
      "\u001b[1;31mTypeError\u001b[0m                                 Traceback (most recent call last)",
      "Cell \u001b[1;32mIn[17], line 2\u001b[0m\n\u001b[0;32m      1\u001b[0m \u001b[38;5;66;03m#실행 방식2) 다이렉트로 꽂아버려도 된다\u001b[39;00m\n\u001b[1;32m----> 2\u001b[0m FourCal\u001b[38;5;241m.\u001b[39msetdata(\u001b[38;5;241m3\u001b[39m, \u001b[38;5;241m4\u001b[39m)\n\u001b[0;32m      3\u001b[0m \u001b[38;5;66;03m#동작은 안 함 -> 인간아! 달리기 해봐. -> 인간이 누군데? -> 선언 해줘야 함\u001b[39;00m\n\u001b[0;32m      4\u001b[0m FourCal\u001b[38;5;241m.\u001b[39msetdata(a, \u001b[38;5;241m3\u001b[39m, \u001b[38;5;241m4\u001b[39m)\n",
      "\u001b[1;31mTypeError\u001b[0m: FourCal.setdata() missing 1 required positional argument: 'second'"
     ]
    }
   ],
   "source": [
    "#실행 방식2) 다이렉트로 꽂아버려도 된다\n",
    "FourCal.setdata(3, 4)\n",
    "#동작은 안 함 -> 인간아! 달리기 해봐. -> 인간이 누군데? -> 선언 해줘야 함\n",
    "FourCal.setdata(a, 3, 4)"
   ]
  },
  {
   "cell_type": "code",
   "execution_count": 18,
   "id": "6f465c65",
   "metadata": {
    "ExecuteTime": {
     "end_time": "2024-03-11T01:38:24.809402Z",
     "start_time": "2024-03-11T01:38:24.804869Z"
    }
   },
   "outputs": [
    {
     "data": {
      "text/plain": [
       "3"
      ]
     },
     "execution_count": 18,
     "metadata": {},
     "output_type": "execute_result"
    }
   ],
   "source": [
    "a.first"
   ]
  },
  {
   "cell_type": "code",
   "execution_count": 19,
   "id": "8d671565",
   "metadata": {
    "ExecuteTime": {
     "end_time": "2024-03-11T01:38:29.426843Z",
     "start_time": "2024-03-11T01:38:29.422747Z"
    }
   },
   "outputs": [
    {
     "data": {
      "text/plain": [
       "4"
      ]
     },
     "execution_count": 19,
     "metadata": {},
     "output_type": "execute_result"
    }
   ],
   "source": [
    "a.second"
   ]
  },
  {
   "cell_type": "code",
   "execution_count": 20,
   "id": "88783dcb",
   "metadata": {
    "ExecuteTime": {
     "end_time": "2024-03-11T01:40:18.979033Z",
     "start_time": "2024-03-11T01:40:18.976361Z"
    }
   },
   "outputs": [],
   "source": [
    "a = FourCal()\n",
    "b = FourCal()"
   ]
  },
  {
   "cell_type": "code",
   "execution_count": 21,
   "id": "1fa8998c",
   "metadata": {
    "ExecuteTime": {
     "end_time": "2024-03-11T01:40:26.835045Z",
     "start_time": "2024-03-11T01:40:26.831743Z"
    }
   },
   "outputs": [
    {
     "data": {
      "text/plain": [
       "4"
      ]
     },
     "execution_count": 21,
     "metadata": {},
     "output_type": "execute_result"
    }
   ],
   "source": [
    "a.setdata(4, 2)\n",
    "a.first"
   ]
  },
  {
   "cell_type": "code",
   "execution_count": 22,
   "id": "1926eab5",
   "metadata": {
    "ExecuteTime": {
     "end_time": "2024-03-11T01:40:48.381546Z",
     "start_time": "2024-03-11T01:40:48.377520Z"
    }
   },
   "outputs": [
    {
     "data": {
      "text/plain": [
       "3"
      ]
     },
     "execution_count": 22,
     "metadata": {},
     "output_type": "execute_result"
    }
   ],
   "source": [
    "b.setdata(3, 7)\n",
    "b.first"
   ]
  },
  {
   "cell_type": "markdown",
   "id": "e886d762",
   "metadata": {},
   "source": [
    "### 더하기 기능 만들기"
   ]
  },
  {
   "cell_type": "code",
   "execution_count": 23,
   "id": "f68f9fb8",
   "metadata": {
    "ExecuteTime": {
     "end_time": "2024-03-11T01:42:57.916480Z",
     "start_time": "2024-03-11T01:42:57.912440Z"
    }
   },
   "outputs": [],
   "source": [
    "# 인풋 아웃풋이 준비되었으니 기능을 만들면 된다\n",
    "class FourCal:\n",
    "    def setdata(self, first, second):\n",
    "        self.first = first\n",
    "        self.second = second\n",
    "    def add(self):\n",
    "        result = self.first + self.second\n",
    "        return result\n",
    "# print가 아니라 return을 쓰는 이유 = 데이터를 전달하기 위함 (전역변수로 쓰기 위함)"
   ]
  },
  {
   "cell_type": "code",
   "execution_count": 24,
   "id": "7b972ee0",
   "metadata": {
    "ExecuteTime": {
     "end_time": "2024-03-11T01:44:24.791335Z",
     "start_time": "2024-03-11T01:44:24.788945Z"
    }
   },
   "outputs": [],
   "source": [
    "a = FourCal()\n",
    "a.setdata(4, 2)"
   ]
  },
  {
   "cell_type": "code",
   "execution_count": 25,
   "id": "044a4f9b",
   "metadata": {
    "ExecuteTime": {
     "end_time": "2024-03-11T01:44:30.160308Z",
     "start_time": "2024-03-11T01:44:30.155713Z"
    }
   },
   "outputs": [
    {
     "data": {
      "text/plain": [
       "6"
      ]
     },
     "execution_count": 25,
     "metadata": {},
     "output_type": "execute_result"
    }
   ],
   "source": [
    "a.add()"
   ]
  },
  {
   "cell_type": "code",
   "execution_count": 26,
   "id": "c3932cd3",
   "metadata": {
    "ExecuteTime": {
     "end_time": "2024-03-11T01:45:06.936895Z",
     "start_time": "2024-03-11T01:45:06.907550Z"
    }
   },
   "outputs": [
    {
     "data": {
      "text/plain": [
       "6"
      ]
     },
     "execution_count": 26,
     "metadata": {},
     "output_type": "execute_result"
    }
   ],
   "source": [
    "c = a.add()\n",
    "c"
   ]
  },
  {
   "cell_type": "markdown",
   "id": "0e4e8ad5",
   "metadata": {},
   "source": [
    "### 곱하기, 빼기, 나누기 기능 만들기"
   ]
  },
  {
   "cell_type": "code",
   "execution_count": 37,
   "id": "4da56aad",
   "metadata": {
    "ExecuteTime": {
     "end_time": "2024-03-11T01:48:25.710801Z",
     "start_time": "2024-03-11T01:48:25.706258Z"
    }
   },
   "outputs": [],
   "source": [
    "class FourCal:\n",
    "    def setdata(self, first, second):\n",
    "        self.first = first\n",
    "        self.second = second\n",
    "    def minus(self):\n",
    "        result = self.first - self.second\n",
    "        return result\n",
    "    def sub(self):\n",
    "        result = self.first * self.second\n",
    "        return result\n",
    "    def div(self):\n",
    "        result = self.first / self.second\n",
    "        return result"
   ]
  },
  {
   "cell_type": "code",
   "execution_count": 38,
   "id": "5fdffe45",
   "metadata": {
    "ExecuteTime": {
     "end_time": "2024-03-11T01:48:29.192995Z",
     "start_time": "2024-03-11T01:48:29.190424Z"
    }
   },
   "outputs": [],
   "source": [
    "a = FourCal()\n",
    "a.setdata(4, 2)"
   ]
  },
  {
   "cell_type": "code",
   "execution_count": 35,
   "id": "c175610d",
   "metadata": {
    "ExecuteTime": {
     "end_time": "2024-03-11T01:47:56.901324Z",
     "start_time": "2024-03-11T01:47:56.897328Z"
    }
   },
   "outputs": [
    {
     "data": {
      "text/plain": [
       "2"
      ]
     },
     "execution_count": 35,
     "metadata": {},
     "output_type": "execute_result"
    }
   ],
   "source": [
    "a.minus()"
   ]
  },
  {
   "cell_type": "code",
   "execution_count": 36,
   "id": "8cb76de2",
   "metadata": {
    "ExecuteTime": {
     "end_time": "2024-03-11T01:47:58.511036Z",
     "start_time": "2024-03-11T01:47:58.507676Z"
    }
   },
   "outputs": [
    {
     "data": {
      "text/plain": [
       "8"
      ]
     },
     "execution_count": 36,
     "metadata": {},
     "output_type": "execute_result"
    }
   ],
   "source": [
    "a.sub()"
   ]
  },
  {
   "cell_type": "code",
   "execution_count": 39,
   "id": "8ddf7860",
   "metadata": {
    "ExecuteTime": {
     "end_time": "2024-03-11T01:48:34.649408Z",
     "start_time": "2024-03-11T01:48:34.645429Z"
    }
   },
   "outputs": [
    {
     "data": {
      "text/plain": [
       "2.0"
      ]
     },
     "execution_count": 39,
     "metadata": {},
     "output_type": "execute_result"
    }
   ],
   "source": [
    "a.div()"
   ]
  },
  {
   "cell_type": "code",
   "execution_count": 60,
   "id": "c651cbe6",
   "metadata": {
    "ExecuteTime": {
     "end_time": "2024-03-11T02:14:26.271988Z",
     "start_time": "2024-03-11T02:14:26.248865Z"
    }
   },
   "outputs": [
    {
     "ename": "TypeError",
     "evalue": "FourCal.__init__() missing 2 required positional arguments: 'first' and 'second'",
     "output_type": "error",
     "traceback": [
      "\u001b[1;31m---------------------------------------------------------------------------\u001b[0m",
      "\u001b[1;31mTypeError\u001b[0m                                 Traceback (most recent call last)",
      "Cell \u001b[1;32mIn[60], line 1\u001b[0m\n\u001b[1;32m----> 1\u001b[0m a \u001b[38;5;241m=\u001b[39m FourCal()\n\u001b[0;32m      2\u001b[0m b \u001b[38;5;241m=\u001b[39m FourCal()\n\u001b[0;32m      3\u001b[0m a\u001b[38;5;241m.\u001b[39msetdata(\u001b[38;5;241m4\u001b[39m, \u001b[38;5;241m2\u001b[39m)\n",
      "\u001b[1;31mTypeError\u001b[0m: FourCal.__init__() missing 2 required positional arguments: 'first' and 'second'"
     ]
    }
   ],
   "source": [
    "a = FourCal()\n",
    "b = FourCal()\n",
    "a.setdata(4, 2)\n",
    "b.setdata(3, 8)\n",
    "print(a.add(), a.minus(), a.sub(), a.div())\n",
    "print(b.add(), b.minus(), b.sub(), b.div())"
   ]
  },
  {
   "cell_type": "markdown",
   "id": "1bb519f5",
   "metadata": {},
   "source": [
    "### 생성자"
   ]
  },
  {
   "cell_type": "code",
   "execution_count": 59,
   "id": "bb27cf5b",
   "metadata": {
    "ExecuteTime": {
     "end_time": "2024-03-11T02:14:24.620982Z",
     "start_time": "2024-03-11T02:14:24.602743Z"
    }
   },
   "outputs": [
    {
     "ename": "TypeError",
     "evalue": "FourCal.__init__() missing 2 required positional arguments: 'first' and 'second'",
     "output_type": "error",
     "traceback": [
      "\u001b[1;31m---------------------------------------------------------------------------\u001b[0m",
      "\u001b[1;31mTypeError\u001b[0m                                 Traceback (most recent call last)",
      "Cell \u001b[1;32mIn[59], line 2\u001b[0m\n\u001b[0;32m      1\u001b[0m \u001b[38;5;66;03m#에러 발생 원인 : 데이터가 없어서 \u001b[39;00m\n\u001b[1;32m----> 2\u001b[0m a \u001b[38;5;241m=\u001b[39m FourCal()\n\u001b[0;32m      3\u001b[0m a\u001b[38;5;241m.\u001b[39madd()\n",
      "\u001b[1;31mTypeError\u001b[0m: FourCal.__init__() missing 2 required positional arguments: 'first' and 'second'"
     ]
    }
   ],
   "source": [
    "#에러 발생 원인 : 데이터가 없어서 \n",
    "a = FourCal()\n",
    "a.add()"
   ]
  },
  {
   "cell_type": "code",
   "execution_count": 58,
   "id": "1ffdcff8",
   "metadata": {
    "ExecuteTime": {
     "end_time": "2024-03-11T02:14:22.421872Z",
     "start_time": "2024-03-11T02:14:22.416603Z"
    }
   },
   "outputs": [],
   "source": [
    "#__init__ 생성자로 인식되어 객체가 생성되는 시점에 자동으로 호출된다 \n",
    "class FourCal:\n",
    "    def __init__(self, first, second):\n",
    "        self.first = first\n",
    "        self.second = second\n",
    "    def setdata(self, first, second):\n",
    "        self.first = first\n",
    "        self.second = second\n",
    "    def add(self):\n",
    "        result = self.first + self.second\n",
    "        return result\n",
    "    def minus(self):\n",
    "        result = self.first * self.second\n",
    "        return result\n",
    "    def sub(self):\n",
    "        result = self.first - self.second\n",
    "        return result\n",
    "    def div(self):\n",
    "        result = self.first / self.second\n",
    "        return result"
   ]
  },
  {
   "cell_type": "code",
   "execution_count": 46,
   "id": "e87e6532",
   "metadata": {
    "ExecuteTime": {
     "end_time": "2024-03-11T02:05:14.175296Z",
     "start_time": "2024-03-11T02:05:14.156466Z"
    }
   },
   "outputs": [
    {
     "ename": "TypeError",
     "evalue": "FourCal.__init__() missing 2 required positional arguments: 'first' and 'second'",
     "output_type": "error",
     "traceback": [
      "\u001b[1;31m---------------------------------------------------------------------------\u001b[0m",
      "\u001b[1;31mTypeError\u001b[0m                                 Traceback (most recent call last)",
      "Cell \u001b[1;32mIn[46], line 1\u001b[0m\n\u001b[1;32m----> 1\u001b[0m a \u001b[38;5;241m=\u001b[39m FourCal()\n",
      "\u001b[1;31mTypeError\u001b[0m: FourCal.__init__() missing 2 required positional arguments: 'first' and 'second'"
     ]
    }
   ],
   "source": [
    "a = FourCal()"
   ]
  },
  {
   "cell_type": "code",
   "execution_count": 49,
   "id": "41154214",
   "metadata": {
    "ExecuteTime": {
     "end_time": "2024-03-11T02:07:23.609907Z",
     "start_time": "2024-03-11T02:07:23.600481Z"
    }
   },
   "outputs": [],
   "source": [
    "a = FourCal(4, 2)\n",
    "# a.setdata(4, 2) 안 해도 됨 "
   ]
  },
  {
   "cell_type": "code",
   "execution_count": 50,
   "id": "ae729640",
   "metadata": {
    "ExecuteTime": {
     "end_time": "2024-03-11T02:07:29.188518Z",
     "start_time": "2024-03-11T02:07:29.177931Z"
    }
   },
   "outputs": [
    {
     "data": {
      "text/plain": [
       "4"
      ]
     },
     "execution_count": 50,
     "metadata": {},
     "output_type": "execute_result"
    }
   ],
   "source": [
    "a.first"
   ]
  },
  {
   "cell_type": "code",
   "execution_count": 51,
   "id": "8865a867",
   "metadata": {
    "ExecuteTime": {
     "end_time": "2024-03-11T02:07:35.018678Z",
     "start_time": "2024-03-11T02:07:35.014540Z"
    }
   },
   "outputs": [
    {
     "data": {
      "text/plain": [
       "2"
      ]
     },
     "execution_count": 51,
     "metadata": {},
     "output_type": "execute_result"
    }
   ],
   "source": [
    "a.second"
   ]
  },
  {
   "cell_type": "code",
   "execution_count": 52,
   "id": "06a7a501",
   "metadata": {
    "ExecuteTime": {
     "end_time": "2024-03-11T02:08:31.088042Z",
     "start_time": "2024-03-11T02:08:31.064365Z"
    }
   },
   "outputs": [
    {
     "data": {
      "text/plain": [
       "6"
      ]
     },
     "execution_count": 52,
     "metadata": {},
     "output_type": "execute_result"
    }
   ],
   "source": [
    "a.add()"
   ]
  },
  {
   "cell_type": "markdown",
   "id": "8c8cc35a",
   "metadata": {},
   "source": [
    "### 클래스의 상속"
   ]
  },
  {
   "cell_type": "code",
   "execution_count": 56,
   "id": "41844256",
   "metadata": {
    "ExecuteTime": {
     "end_time": "2024-03-11T02:14:10.390608Z",
     "start_time": "2024-03-11T02:14:10.387564Z"
    }
   },
   "outputs": [],
   "source": [
    "#괄호 안에 상속하고자 하는 대상을 넣어주면 된다 \n",
    "class MoreFourCal(FourCal):\n",
    "    pass"
   ]
  },
  {
   "cell_type": "code",
   "execution_count": 57,
   "id": "09ea6b31",
   "metadata": {
    "ExecuteTime": {
     "end_time": "2024-03-11T02:14:11.234773Z",
     "start_time": "2024-03-11T02:14:11.219615Z"
    }
   },
   "outputs": [
    {
     "ename": "AttributeError",
     "evalue": "'int' object has no attribute 'a'",
     "output_type": "error",
     "traceback": [
      "\u001b[1;31m---------------------------------------------------------------------------\u001b[0m",
      "\u001b[1;31mAttributeError\u001b[0m                            Traceback (most recent call last)",
      "Cell \u001b[1;32mIn[57], line 2\u001b[0m\n\u001b[0;32m      1\u001b[0m a \u001b[38;5;241m=\u001b[39m MoreFourCal(\u001b[38;5;241m4\u001b[39m, \u001b[38;5;241m2\u001b[39m)\n\u001b[1;32m----> 2\u001b[0m \u001b[38;5;28mprint\u001b[39m(a\u001b[38;5;241m.\u001b[39madd(), a\u001b[38;5;241m.\u001b[39mminus()\u001b[38;5;241m.\u001b[39m a\u001b[38;5;241m.\u001b[39msub(), a\u001b[38;5;241m.\u001b[39mdiv())\n",
      "\u001b[1;31mAttributeError\u001b[0m: 'int' object has no attribute 'a'"
     ]
    }
   ],
   "source": [
    "a = MoreFourCal(4, 2)\n",
    "print(a.add(), a.minus(). a.sub(), a.div())"
   ]
  },
  {
   "cell_type": "code",
   "execution_count": 61,
   "id": "04185fdf",
   "metadata": {
    "ExecuteTime": {
     "end_time": "2024-03-11T02:15:09.881071Z",
     "start_time": "2024-03-11T02:15:09.877394Z"
    }
   },
   "outputs": [],
   "source": [
    "class MoreFourCal(FourCal):\n",
    "    def pow(self):\n",
    "        result = self.first ** self.second\n",
    "        return result"
   ]
  },
  {
   "cell_type": "code",
   "execution_count": 62,
   "id": "8d1422be",
   "metadata": {
    "ExecuteTime": {
     "end_time": "2024-03-11T02:15:20.608586Z",
     "start_time": "2024-03-11T02:15:20.604772Z"
    }
   },
   "outputs": [
    {
     "data": {
      "text/plain": [
       "16"
      ]
     },
     "execution_count": 62,
     "metadata": {},
     "output_type": "execute_result"
    }
   ],
   "source": [
    "a = MoreFourCal(4, 2)\n",
    "a.pow()"
   ]
  },
  {
   "cell_type": "markdown",
   "id": "aff2bdfe",
   "metadata": {
    "ExecuteTime": {
     "end_time": "2024-03-11T02:19:48.082468Z",
     "start_time": "2024-03-11T02:19:48.079742Z"
    }
   },
   "source": [
    "### 메서드 오버라이딩"
   ]
  },
  {
   "cell_type": "code",
   "execution_count": 64,
   "id": "56a224e1",
   "metadata": {
    "ExecuteTime": {
     "end_time": "2024-03-11T02:31:51.358084Z",
     "start_time": "2024-03-11T02:31:51.326735Z"
    }
   },
   "outputs": [
    {
     "ename": "ZeroDivisionError",
     "evalue": "division by zero",
     "output_type": "error",
     "traceback": [
      "\u001b[1;31m---------------------------------------------------------------------------\u001b[0m",
      "\u001b[1;31mZeroDivisionError\u001b[0m                         Traceback (most recent call last)",
      "Cell \u001b[1;32mIn[64], line 2\u001b[0m\n\u001b[0;32m      1\u001b[0m a \u001b[38;5;241m=\u001b[39m FourCal(\u001b[38;5;241m4\u001b[39m, \u001b[38;5;241m0\u001b[39m)\n\u001b[1;32m----> 2\u001b[0m a\u001b[38;5;241m.\u001b[39mdiv()\n",
      "Cell \u001b[1;32mIn[58], line 19\u001b[0m, in \u001b[0;36mFourCal.div\u001b[1;34m(self)\u001b[0m\n\u001b[0;32m     18\u001b[0m \u001b[38;5;28;01mdef\u001b[39;00m \u001b[38;5;21mdiv\u001b[39m(\u001b[38;5;28mself\u001b[39m):\n\u001b[1;32m---> 19\u001b[0m     result \u001b[38;5;241m=\u001b[39m \u001b[38;5;28mself\u001b[39m\u001b[38;5;241m.\u001b[39mfirst \u001b[38;5;241m/\u001b[39m \u001b[38;5;28mself\u001b[39m\u001b[38;5;241m.\u001b[39msecond\n\u001b[0;32m     20\u001b[0m     \u001b[38;5;28;01mreturn\u001b[39;00m result\n",
      "\u001b[1;31mZeroDivisionError\u001b[0m: division by zero"
     ]
    }
   ],
   "source": [
    "a = FourCal(4, 0)\n",
    "a.div()"
   ]
  },
  {
   "cell_type": "code",
   "execution_count": 66,
   "id": "834f2c03",
   "metadata": {
    "ExecuteTime": {
     "end_time": "2024-03-11T02:33:15.245073Z",
     "start_time": "2024-03-11T02:33:15.241146Z"
    }
   },
   "outputs": [],
   "source": [
    "class SafeFourCal(FourCal):\n",
    "    def div(self):\n",
    "        if self.second == 0:  # 나누는 값이 0인 경우 0을 리턴하도록 수정\n",
    "            return 0\n",
    "        else:\n",
    "            return self.first / self.second"
   ]
  },
  {
   "cell_type": "code",
   "execution_count": 67,
   "id": "5fa5fd99",
   "metadata": {
    "ExecuteTime": {
     "end_time": "2024-03-11T02:33:51.968058Z",
     "start_time": "2024-03-11T02:33:51.950428Z"
    }
   },
   "outputs": [
    {
     "data": {
      "text/plain": [
       "0"
      ]
     },
     "execution_count": 67,
     "metadata": {},
     "output_type": "execute_result"
    }
   ],
   "source": [
    "a = SafeFourCal(4, 0)\n",
    "a.div()"
   ]
  },
  {
   "cell_type": "markdown",
   "id": "91195c1e",
   "metadata": {},
   "source": [
    "### 클래스 변수"
   ]
  },
  {
   "cell_type": "code",
   "execution_count": 68,
   "id": "891242a0",
   "metadata": {
    "ExecuteTime": {
     "end_time": "2024-03-11T02:34:21.890655Z",
     "start_time": "2024-03-11T02:34:21.887275Z"
    }
   },
   "outputs": [],
   "source": [
    "class Family:\n",
    "    lastname = \"김\""
   ]
  },
  {
   "cell_type": "code",
   "execution_count": 69,
   "id": "5e17375f",
   "metadata": {
    "ExecuteTime": {
     "end_time": "2024-03-11T02:35:08.458633Z",
     "start_time": "2024-03-11T02:35:08.454912Z"
    }
   },
   "outputs": [
    {
     "data": {
      "text/plain": [
       "'김'"
      ]
     },
     "execution_count": 69,
     "metadata": {},
     "output_type": "execute_result"
    }
   ],
   "source": [
    "Family.lastname"
   ]
  },
  {
   "cell_type": "code",
   "execution_count": 70,
   "id": "a2ee24c4",
   "metadata": {
    "ExecuteTime": {
     "end_time": "2024-03-11T02:35:51.501274Z",
     "start_time": "2024-03-11T02:35:51.497982Z"
    }
   },
   "outputs": [
    {
     "data": {
      "text/plain": [
       "'김'"
      ]
     },
     "execution_count": 70,
     "metadata": {},
     "output_type": "execute_result"
    }
   ],
   "source": [
    "a = Family()\n",
    "b = Family()\n",
    "a.lastname"
   ]
  },
  {
   "cell_type": "code",
   "execution_count": 71,
   "id": "756274bf",
   "metadata": {
    "ExecuteTime": {
     "end_time": "2024-03-11T02:36:16.941824Z",
     "start_time": "2024-03-11T02:36:16.937020Z"
    }
   },
   "outputs": [
    {
     "data": {
      "text/plain": [
       "'김'"
      ]
     },
     "execution_count": 71,
     "metadata": {},
     "output_type": "execute_result"
    }
   ],
   "source": [
    "b.lastname"
   ]
  },
  {
   "cell_type": "code",
   "execution_count": 75,
   "id": "fa8e70f9",
   "metadata": {
    "ExecuteTime": {
     "end_time": "2024-03-11T02:37:11.209587Z",
     "start_time": "2024-03-11T02:37:11.206080Z"
    }
   },
   "outputs": [],
   "source": [
    "Family.lastname = \"박\""
   ]
  },
  {
   "cell_type": "code",
   "execution_count": 76,
   "id": "b5a825c6",
   "metadata": {
    "ExecuteTime": {
     "end_time": "2024-03-11T02:37:17.309436Z",
     "start_time": "2024-03-11T02:37:17.305321Z"
    }
   },
   "outputs": [
    {
     "data": {
      "text/plain": [
       "'박'"
      ]
     },
     "execution_count": 76,
     "metadata": {},
     "output_type": "execute_result"
    }
   ],
   "source": [
    "a.lastname"
   ]
  },
  {
   "cell_type": "code",
   "execution_count": 77,
   "id": "b85b000d",
   "metadata": {
    "ExecuteTime": {
     "end_time": "2024-03-11T02:37:37.016076Z",
     "start_time": "2024-03-11T02:37:37.012364Z"
    }
   },
   "outputs": [
    {
     "data": {
      "text/plain": [
       "'박'"
      ]
     },
     "execution_count": 77,
     "metadata": {},
     "output_type": "execute_result"
    }
   ],
   "source": [
    "b.lastname"
   ]
  },
  {
   "cell_type": "code",
   "execution_count": 82,
   "id": "8d3ff50a",
   "metadata": {
    "ExecuteTime": {
     "end_time": "2024-03-11T02:38:48.630338Z",
     "start_time": "2024-03-11T02:38:48.616548Z"
    }
   },
   "outputs": [
    {
     "ename": "AttributeError",
     "evalue": "'str' object has no attribute 'lastname'",
     "output_type": "error",
     "traceback": [
      "\u001b[1;31m---------------------------------------------------------------------------\u001b[0m",
      "\u001b[1;31mAttributeError\u001b[0m                            Traceback (most recent call last)",
      "Cell \u001b[1;32mIn[82], line 1\u001b[0m\n\u001b[1;32m----> 1\u001b[0m a\u001b[38;5;241m.\u001b[39mlastname \u001b[38;5;241m=\u001b[39m \u001b[38;5;124m\"\u001b[39m\u001b[38;5;124m최\u001b[39m\u001b[38;5;124m\"\u001b[39m\n\u001b[0;32m      2\u001b[0m a\u001b[38;5;241m.\u001b[39mlastname\n",
      "\u001b[1;31mAttributeError\u001b[0m: 'str' object has no attribute 'lastname'"
     ]
    }
   ],
   "source": [
    "a.lastname = \"최\"\n",
    "a.lastname"
   ]
  },
  {
   "cell_type": "code",
   "execution_count": 80,
   "id": "8b7c9373",
   "metadata": {
    "ExecuteTime": {
     "end_time": "2024-03-11T02:38:19.632835Z",
     "start_time": "2024-03-11T02:38:19.618996Z"
    }
   },
   "outputs": [
    {
     "ename": "AttributeError",
     "evalue": "'str' object has no attribute 'lastname'",
     "output_type": "error",
     "traceback": [
      "\u001b[1;31m---------------------------------------------------------------------------\u001b[0m",
      "\u001b[1;31mAttributeError\u001b[0m                            Traceback (most recent call last)",
      "Cell \u001b[1;32mIn[80], line 1\u001b[0m\n\u001b[1;32m----> 1\u001b[0m a\u001b[38;5;241m.\u001b[39mlastname\n",
      "\u001b[1;31mAttributeError\u001b[0m: 'str' object has no attribute 'lastname'"
     ]
    }
   ],
   "source": [
    "a.lastname"
   ]
  },
  {
   "cell_type": "code",
   "execution_count": null,
   "id": "5a84ecfc",
   "metadata": {},
   "outputs": [],
   "source": []
  }
 ],
 "metadata": {
  "kernelspec": {
   "display_name": "Python 3 (ipykernel)",
   "language": "python",
   "name": "python3"
  },
  "language_info": {
   "codemirror_mode": {
    "name": "ipython",
    "version": 3
   },
   "file_extension": ".py",
   "mimetype": "text/x-python",
   "name": "python",
   "nbconvert_exporter": "python",
   "pygments_lexer": "ipython3",
   "version": "3.11.5"
  },
  "toc": {
   "base_numbering": 1,
   "nav_menu": {},
   "number_sections": true,
   "sideBar": true,
   "skip_h1_title": false,
   "title_cell": "Table of Contents",
   "title_sidebar": "Contents",
   "toc_cell": false,
   "toc_position": {},
   "toc_section_display": true,
   "toc_window_display": false
  },
  "varInspector": {
   "cols": {
    "lenName": 16,
    "lenType": 16,
    "lenVar": 40
   },
   "kernels_config": {
    "python": {
     "delete_cmd_postfix": "",
     "delete_cmd_prefix": "del ",
     "library": "var_list.py",
     "varRefreshCmd": "print(var_dic_list())"
    },
    "r": {
     "delete_cmd_postfix": ") ",
     "delete_cmd_prefix": "rm(",
     "library": "var_list.r",
     "varRefreshCmd": "cat(var_dic_list()) "
    }
   },
   "types_to_exclude": [
    "module",
    "function",
    "builtin_function_or_method",
    "instance",
    "_Feature"
   ],
   "window_display": false
  }
 },
 "nbformat": 4,
 "nbformat_minor": 5
}
