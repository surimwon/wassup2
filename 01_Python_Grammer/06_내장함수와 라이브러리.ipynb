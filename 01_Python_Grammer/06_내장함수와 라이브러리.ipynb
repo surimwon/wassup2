{
 "cells": [
  {
   "cell_type": "markdown",
   "id": "367cf026",
   "metadata": {},
   "source": [
    "# 내장 함수"
   ]
  },
  {
   "cell_type": "markdown",
   "id": "88f306bc",
   "metadata": {},
   "source": [
    "## abs"
   ]
  },
  {
   "cell_type": "code",
   "execution_count": 1,
   "id": "081e37c1",
   "metadata": {
    "ExecuteTime": {
     "end_time": "2024-03-12T01:06:18.989606Z",
     "start_time": "2024-03-12T01:06:18.984426Z"
    }
   },
   "outputs": [
    {
     "data": {
      "text/plain": [
       "3"
      ]
     },
     "execution_count": 1,
     "metadata": {},
     "output_type": "execute_result"
    }
   ],
   "source": [
    "abs(-3)"
   ]
  },
  {
   "cell_type": "code",
   "execution_count": 2,
   "id": "e5e1052d",
   "metadata": {
    "ExecuteTime": {
     "end_time": "2024-03-12T01:06:25.997081Z",
     "start_time": "2024-03-12T01:06:25.993364Z"
    }
   },
   "outputs": [
    {
     "data": {
      "text/plain": [
       "1.2"
      ]
     },
     "execution_count": 2,
     "metadata": {},
     "output_type": "execute_result"
    }
   ],
   "source": [
    "abs(-1.2)"
   ]
  },
  {
   "cell_type": "markdown",
   "id": "5c4a52d8",
   "metadata": {},
   "source": [
    "## all"
   ]
  },
  {
   "cell_type": "code",
   "execution_count": 1,
   "id": "e575a9e8",
   "metadata": {
    "ExecuteTime": {
     "end_time": "2024-03-12T11:54:55.688353Z",
     "start_time": "2024-03-12T11:54:55.682785Z"
    }
   },
   "outputs": [
    {
     "data": {
      "text/plain": [
       "True"
      ]
     },
     "execution_count": 1,
     "metadata": {},
     "output_type": "execute_result"
    }
   ],
   "source": [
    "all([1, 2, 3])"
   ]
  },
  {
   "cell_type": "code",
   "execution_count": 2,
   "id": "01cbbee8",
   "metadata": {
    "ExecuteTime": {
     "end_time": "2024-03-12T11:54:56.769424Z",
     "start_time": "2024-03-12T11:54:56.765854Z"
    }
   },
   "outputs": [
    {
     "data": {
      "text/plain": [
       "False"
      ]
     },
     "execution_count": 2,
     "metadata": {},
     "output_type": "execute_result"
    }
   ],
   "source": [
    "#0은 값이 존재하지 않으니 false\n",
    "all([1, 2, 3, 0])"
   ]
  },
  {
   "cell_type": "code",
   "execution_count": 5,
   "id": "4dd9a0de",
   "metadata": {
    "ExecuteTime": {
     "end_time": "2024-03-12T01:07:39.787037Z",
     "start_time": "2024-03-12T01:07:39.782763Z"
    }
   },
   "outputs": [
    {
     "data": {
      "text/plain": [
       "True"
      ]
     },
     "execution_count": 5,
     "metadata": {},
     "output_type": "execute_result"
    }
   ],
   "source": [
    "all([])"
   ]
  },
  {
   "cell_type": "markdown",
   "id": "eea5878b",
   "metadata": {
    "ExecuteTime": {
     "end_time": "2024-03-12T01:07:53.016870Z",
     "start_time": "2024-03-12T01:07:53.014257Z"
    }
   },
   "source": [
    "## any"
   ]
  },
  {
   "cell_type": "code",
   "execution_count": 7,
   "id": "4272e473",
   "metadata": {
    "ExecuteTime": {
     "end_time": "2024-03-12T01:09:16.964601Z",
     "start_time": "2024-03-12T01:09:16.960625Z"
    }
   },
   "outputs": [
    {
     "data": {
      "text/plain": [
       "True"
      ]
     },
     "execution_count": 7,
     "metadata": {},
     "output_type": "execute_result"
    }
   ],
   "source": [
    "any([1, 2, 3, 0])"
   ]
  },
  {
   "cell_type": "code",
   "execution_count": 8,
   "id": "72b7eb7d",
   "metadata": {
    "ExecuteTime": {
     "end_time": "2024-03-12T01:09:28.073120Z",
     "start_time": "2024-03-12T01:09:28.068429Z"
    }
   },
   "outputs": [
    {
     "data": {
      "text/plain": [
       "False"
      ]
     },
     "execution_count": 8,
     "metadata": {},
     "output_type": "execute_result"
    }
   ],
   "source": [
    "any([0, \"\"])"
   ]
  },
  {
   "cell_type": "code",
   "execution_count": 9,
   "id": "018af86c",
   "metadata": {
    "ExecuteTime": {
     "end_time": "2024-03-12T01:09:43.619320Z",
     "start_time": "2024-03-12T01:09:43.615553Z"
    }
   },
   "outputs": [
    {
     "data": {
      "text/plain": [
       "False"
      ]
     },
     "execution_count": 9,
     "metadata": {},
     "output_type": "execute_result"
    }
   ],
   "source": [
    "any([])"
   ]
  },
  {
   "cell_type": "markdown",
   "id": "84243fca",
   "metadata": {
    "ExecuteTime": {
     "end_time": "2024-03-12T01:10:18.346084Z",
     "start_time": "2024-03-12T01:10:18.342793Z"
    }
   },
   "source": [
    "### chr"
   ]
  },
  {
   "cell_type": "code",
   "execution_count": 12,
   "id": "127cd1a0",
   "metadata": {
    "ExecuteTime": {
     "end_time": "2024-03-12T01:10:40.122900Z",
     "start_time": "2024-03-12T01:10:40.119147Z"
    }
   },
   "outputs": [
    {
     "data": {
      "text/plain": [
       "'a'"
      ]
     },
     "execution_count": 12,
     "metadata": {},
     "output_type": "execute_result"
    }
   ],
   "source": [
    "chr(97)"
   ]
  },
  {
   "cell_type": "code",
   "execution_count": 13,
   "id": "cf269ae5",
   "metadata": {
    "ExecuteTime": {
     "end_time": "2024-03-12T01:10:40.990740Z",
     "start_time": "2024-03-12T01:10:40.987449Z"
    }
   },
   "outputs": [
    {
     "data": {
      "text/plain": [
       "'가'"
      ]
     },
     "execution_count": 13,
     "metadata": {},
     "output_type": "execute_result"
    }
   ],
   "source": [
    "chr(44032)"
   ]
  },
  {
   "cell_type": "markdown",
   "id": "777686b6",
   "metadata": {
    "ExecuteTime": {
     "end_time": "2024-03-12T01:13:00.311394Z",
     "start_time": "2024-03-12T01:13:00.308164Z"
    }
   },
   "source": [
    "### dir"
   ]
  },
  {
   "cell_type": "code",
   "execution_count": 15,
   "id": "3a5e02e5",
   "metadata": {
    "ExecuteTime": {
     "end_time": "2024-03-12T01:13:08.884632Z",
     "start_time": "2024-03-12T01:13:08.880854Z"
    }
   },
   "outputs": [
    {
     "data": {
      "text/plain": [
       "['__add__',\n",
       " '__class__',\n",
       " '__class_getitem__',\n",
       " '__contains__',\n",
       " '__delattr__',\n",
       " '__delitem__',\n",
       " '__dir__',\n",
       " '__doc__',\n",
       " '__eq__',\n",
       " '__format__',\n",
       " '__ge__',\n",
       " '__getattribute__',\n",
       " '__getitem__',\n",
       " '__getstate__',\n",
       " '__gt__',\n",
       " '__hash__',\n",
       " '__iadd__',\n",
       " '__imul__',\n",
       " '__init__',\n",
       " '__init_subclass__',\n",
       " '__iter__',\n",
       " '__le__',\n",
       " '__len__',\n",
       " '__lt__',\n",
       " '__mul__',\n",
       " '__ne__',\n",
       " '__new__',\n",
       " '__reduce__',\n",
       " '__reduce_ex__',\n",
       " '__repr__',\n",
       " '__reversed__',\n",
       " '__rmul__',\n",
       " '__setattr__',\n",
       " '__setitem__',\n",
       " '__sizeof__',\n",
       " '__str__',\n",
       " '__subclasshook__',\n",
       " 'append',\n",
       " 'clear',\n",
       " 'copy',\n",
       " 'count',\n",
       " 'extend',\n",
       " 'index',\n",
       " 'insert',\n",
       " 'pop',\n",
       " 'remove',\n",
       " 'reverse',\n",
       " 'sort']"
      ]
     },
     "execution_count": 15,
     "metadata": {},
     "output_type": "execute_result"
    }
   ],
   "source": [
    "dir([1, 2, 3])"
   ]
  },
  {
   "cell_type": "code",
   "execution_count": 16,
   "id": "2a0be6cb",
   "metadata": {
    "ExecuteTime": {
     "end_time": "2024-03-12T01:13:14.586970Z",
     "start_time": "2024-03-12T01:13:14.581875Z"
    }
   },
   "outputs": [
    {
     "data": {
      "text/plain": [
       "['__class__',\n",
       " '__class_getitem__',\n",
       " '__contains__',\n",
       " '__delattr__',\n",
       " '__delitem__',\n",
       " '__dir__',\n",
       " '__doc__',\n",
       " '__eq__',\n",
       " '__format__',\n",
       " '__ge__',\n",
       " '__getattribute__',\n",
       " '__getitem__',\n",
       " '__getstate__',\n",
       " '__gt__',\n",
       " '__hash__',\n",
       " '__init__',\n",
       " '__init_subclass__',\n",
       " '__ior__',\n",
       " '__iter__',\n",
       " '__le__',\n",
       " '__len__',\n",
       " '__lt__',\n",
       " '__ne__',\n",
       " '__new__',\n",
       " '__or__',\n",
       " '__reduce__',\n",
       " '__reduce_ex__',\n",
       " '__repr__',\n",
       " '__reversed__',\n",
       " '__ror__',\n",
       " '__setattr__',\n",
       " '__setitem__',\n",
       " '__sizeof__',\n",
       " '__str__',\n",
       " '__subclasshook__',\n",
       " 'clear',\n",
       " 'copy',\n",
       " 'fromkeys',\n",
       " 'get',\n",
       " 'items',\n",
       " 'keys',\n",
       " 'pop',\n",
       " 'popitem',\n",
       " 'setdefault',\n",
       " 'update',\n",
       " 'values']"
      ]
     },
     "execution_count": 16,
     "metadata": {},
     "output_type": "execute_result"
    }
   ],
   "source": [
    "dir({'1':'a'})"
   ]
  },
  {
   "cell_type": "markdown",
   "id": "b17a005f",
   "metadata": {},
   "source": [
    "### divmod"
   ]
  },
  {
   "cell_type": "code",
   "execution_count": 17,
   "id": "dde5cce2",
   "metadata": {
    "ExecuteTime": {
     "end_time": "2024-03-12T01:13:33.082272Z",
     "start_time": "2024-03-12T01:13:33.077067Z"
    }
   },
   "outputs": [
    {
     "data": {
      "text/plain": [
       "(2, 1)"
      ]
     },
     "execution_count": 17,
     "metadata": {},
     "output_type": "execute_result"
    }
   ],
   "source": [
    "divmod(7, 3)"
   ]
  },
  {
   "cell_type": "code",
   "execution_count": 18,
   "id": "84023cc7",
   "metadata": {
    "ExecuteTime": {
     "end_time": "2024-03-12T01:15:24.662727Z",
     "start_time": "2024-03-12T01:15:24.652504Z"
    }
   },
   "outputs": [
    {
     "data": {
      "text/plain": [
       "2"
      ]
     },
     "execution_count": 18,
     "metadata": {},
     "output_type": "execute_result"
    }
   ],
   "source": [
    "7 // 3"
   ]
  },
  {
   "cell_type": "code",
   "execution_count": 19,
   "id": "9823007f",
   "metadata": {
    "ExecuteTime": {
     "end_time": "2024-03-12T01:15:29.175952Z",
     "start_time": "2024-03-12T01:15:29.169746Z"
    }
   },
   "outputs": [
    {
     "data": {
      "text/plain": [
       "1"
      ]
     },
     "execution_count": 19,
     "metadata": {},
     "output_type": "execute_result"
    }
   ],
   "source": [
    "7 % 3"
   ]
  },
  {
   "cell_type": "markdown",
   "id": "82131572",
   "metadata": {},
   "source": [
    "### enumerate"
   ]
  },
  {
   "cell_type": "code",
   "execution_count": 25,
   "id": "f263cdef",
   "metadata": {
    "ExecuteTime": {
     "end_time": "2024-03-12T01:17:26.777618Z",
     "start_time": "2024-03-12T01:17:26.774656Z"
    }
   },
   "outputs": [
    {
     "name": "stdout",
     "output_type": "stream",
     "text": [
      "0 body\n",
      "1 foo\n",
      "2 bar\n"
     ]
    }
   ],
   "source": [
    "#굉장히 중요\n",
    "#열거하다, 순서가 있는 데이터를 입력으로 받아 인덱스 값을 포함하는 객체를 리턴\n",
    "for i, name in enumerate(['body', 'foo', 'bar']):\n",
    "    print(i, name)"
   ]
  },
  {
   "cell_type": "markdown",
   "id": "077160b7",
   "metadata": {
    "ExecuteTime": {
     "end_time": "2024-03-12T01:16:31.126049Z",
     "start_time": "2024-03-12T01:16:31.123384Z"
    }
   },
   "source": [
    "### eval"
   ]
  },
  {
   "cell_type": "code",
   "execution_count": 22,
   "id": "a3440196",
   "metadata": {
    "ExecuteTime": {
     "end_time": "2024-03-12T01:16:45.661873Z",
     "start_time": "2024-03-12T01:16:45.658018Z"
    }
   },
   "outputs": [
    {
     "data": {
      "text/plain": [
       "3"
      ]
     },
     "execution_count": 22,
     "metadata": {},
     "output_type": "execute_result"
    }
   ],
   "source": [
    "eval('1+2')"
   ]
  },
  {
   "cell_type": "code",
   "execution_count": 23,
   "id": "2b465767",
   "metadata": {
    "ExecuteTime": {
     "end_time": "2024-03-12T01:16:52.128576Z",
     "start_time": "2024-03-12T01:16:52.124378Z"
    }
   },
   "outputs": [
    {
     "data": {
      "text/plain": [
       "'hia'"
      ]
     },
     "execution_count": 23,
     "metadata": {},
     "output_type": "execute_result"
    }
   ],
   "source": [
    "eval(\"'hi' + 'a'\")"
   ]
  },
  {
   "cell_type": "code",
   "execution_count": 24,
   "id": "af7f8bc4",
   "metadata": {
    "ExecuteTime": {
     "end_time": "2024-03-12T01:16:59.731137Z",
     "start_time": "2024-03-12T01:16:59.727526Z"
    }
   },
   "outputs": [
    {
     "data": {
      "text/plain": [
       "(1, 1)"
      ]
     },
     "execution_count": 24,
     "metadata": {},
     "output_type": "execute_result"
    }
   ],
   "source": [
    "eval('divmod(4, 3)')"
   ]
  },
  {
   "cell_type": "markdown",
   "id": "00b4e88d",
   "metadata": {},
   "source": [
    "### filter"
   ]
  },
  {
   "cell_type": "code",
   "execution_count": 26,
   "id": "ac337555",
   "metadata": {
    "ExecuteTime": {
     "end_time": "2024-03-12T01:22:08.289566Z",
     "start_time": "2024-03-12T01:22:08.286076Z"
    }
   },
   "outputs": [
    {
     "name": "stdout",
     "output_type": "stream",
     "text": [
      "[1, 2, 6]\n"
     ]
    }
   ],
   "source": [
    "#중요하니까 외워 \n",
    "def positive(l): \n",
    "    result = [] \n",
    "    for i in l: \n",
    "        if i > 0: \n",
    "            result.append(i) \n",
    "    return result\n",
    "\n",
    "print(positive([1,-3,2,0,-5,6]))"
   ]
  },
  {
   "cell_type": "code",
   "execution_count": 29,
   "id": "6698e43f",
   "metadata": {
    "ExecuteTime": {
     "end_time": "2024-03-12T01:25:14.135832Z",
     "start_time": "2024-03-12T01:25:14.132348Z"
    }
   },
   "outputs": [
    {
     "name": "stdout",
     "output_type": "stream",
     "text": [
      "[1, 2, 6]\n"
     ]
    }
   ],
   "source": [
    "#데이터 전처리 할 때 많이 쓴다 \n",
    "def positive(x):\n",
    "    return x > 0\n",
    "\n",
    "print(list(filter(positive, [1, -3, 2, 0, -5, 6])))\n",
    "# 대괄호 안에는 반복 가능한 객체인 이터러블 요소가 들어가고, \n",
    "# positive 자리에는 bool 정보가 들어감\n",
    "\n",
    "#객체로 반환하기 때문에 출력 결과가 리스트로 나온다 "
   ]
  },
  {
   "cell_type": "code",
   "execution_count": 30,
   "id": "7e1e3a3f",
   "metadata": {
    "ExecuteTime": {
     "end_time": "2024-03-12T01:26:07.029409Z",
     "start_time": "2024-03-12T01:26:07.025496Z"
    }
   },
   "outputs": [
    {
     "data": {
      "text/plain": [
       "<filter at 0x1c03af09210>"
      ]
     },
     "execution_count": 30,
     "metadata": {},
     "output_type": "execute_result"
    }
   ],
   "source": [
    "filter(positive, [1, -3, 2, 0, -5, 6])"
   ]
  },
  {
   "cell_type": "code",
   "execution_count": null,
   "id": "62c54a2c",
   "metadata": {},
   "outputs": [],
   "source": [
    "list(filter(positive, [1, -3, 2, 0, -5, 6]))"
   ]
  },
  {
   "cell_type": "code",
   "execution_count": 32,
   "id": "5c83fd4e",
   "metadata": {
    "ExecuteTime": {
     "end_time": "2024-03-12T01:27:23.999002Z",
     "start_time": "2024-03-12T01:27:23.994736Z"
    }
   },
   "outputs": [
    {
     "data": {
      "text/plain": [
       "[1, 2, 6]"
      ]
     },
     "execution_count": 32,
     "metadata": {},
     "output_type": "execute_result"
    }
   ],
   "source": [
    "#일회성 함수 람다로 만들어서 간편하게 사용\n",
    "list(filter(lambda x: x > 0, [1, -3, 2, 0, -5, 6]))"
   ]
  },
  {
   "cell_type": "markdown",
   "id": "fcfc95ad",
   "metadata": {},
   "source": [
    "### int"
   ]
  },
  {
   "cell_type": "code",
   "execution_count": 36,
   "id": "9e93e6ad",
   "metadata": {
    "ExecuteTime": {
     "end_time": "2024-03-12T01:28:37.457480Z",
     "start_time": "2024-03-12T01:28:37.453839Z"
    }
   },
   "outputs": [
    {
     "data": {
      "text/plain": [
       "(3, int)"
      ]
     },
     "execution_count": 36,
     "metadata": {},
     "output_type": "execute_result"
    }
   ],
   "source": [
    "a = int('3')\n",
    "a, type(a)"
   ]
  },
  {
   "cell_type": "code",
   "execution_count": 37,
   "id": "faa0e13f",
   "metadata": {
    "ExecuteTime": {
     "end_time": "2024-03-12T01:28:48.497478Z",
     "start_time": "2024-03-12T01:28:48.492365Z"
    }
   },
   "outputs": [
    {
     "data": {
      "text/plain": [
       "(3, int)"
      ]
     },
     "execution_count": 37,
     "metadata": {},
     "output_type": "execute_result"
    }
   ],
   "source": [
    "# float = 소수\n",
    "a = int(3.14)\n",
    "a, type(a)"
   ]
  },
  {
   "cell_type": "markdown",
   "id": "c46e4507",
   "metadata": {},
   "source": [
    "### isinstance"
   ]
  },
  {
   "cell_type": "code",
   "execution_count": 38,
   "id": "c8223c69",
   "metadata": {
    "ExecuteTime": {
     "end_time": "2024-03-12T01:29:40.213197Z",
     "start_time": "2024-03-12T01:29:40.208403Z"
    }
   },
   "outputs": [
    {
     "data": {
      "text/plain": [
       "True"
      ]
     },
     "execution_count": 38,
     "metadata": {},
     "output_type": "execute_result"
    }
   ],
   "source": [
    "class Person: pass\n",
    "a = Person()\n",
    "isinstance(a, Person)"
   ]
  },
  {
   "cell_type": "code",
   "execution_count": 39,
   "id": "c73577dd",
   "metadata": {
    "ExecuteTime": {
     "end_time": "2024-03-12T01:29:46.844896Z",
     "start_time": "2024-03-12T01:29:46.840412Z"
    }
   },
   "outputs": [
    {
     "data": {
      "text/plain": [
       "False"
      ]
     },
     "execution_count": 39,
     "metadata": {},
     "output_type": "execute_result"
    }
   ],
   "source": [
    "b = 3\n",
    "isinstance(b, Person)"
   ]
  },
  {
   "cell_type": "markdown",
   "id": "c2383373",
   "metadata": {},
   "source": [
    "### map"
   ]
  },
  {
   "cell_type": "code",
   "execution_count": 40,
   "id": "fcdf53d0",
   "metadata": {
    "ExecuteTime": {
     "end_time": "2024-03-12T01:31:47.892336Z",
     "start_time": "2024-03-12T01:31:47.888414Z"
    }
   },
   "outputs": [
    {
     "name": "stdout",
     "output_type": "stream",
     "text": [
      "[2, 4, 6, 8]\n"
     ]
    }
   ],
   "source": [
    "#중요!\n",
    "#이터러블 = 데이터 -> 객체 , 반복 가능\n",
    "def two_times(numberList):\n",
    "    result = []\n",
    "    for number in numberList:\n",
    "        result.append(number*2)\n",
    "    return result\n",
    "\n",
    "result = two_times([1, 2, 3, 4])\n",
    "print(result)"
   ]
  },
  {
   "cell_type": "code",
   "execution_count": 41,
   "id": "83c7f461",
   "metadata": {
    "ExecuteTime": {
     "end_time": "2024-03-12T01:34:40.746891Z",
     "start_time": "2024-03-12T01:34:40.724637Z"
    }
   },
   "outputs": [
    {
     "data": {
      "text/plain": [
       "[2, 4, 6, 8]"
      ]
     },
     "execution_count": 41,
     "metadata": {},
     "output_type": "execute_result"
    }
   ],
   "source": [
    "def two_times(x): \n",
    "    return x*2\n",
    "\n",
    "list(map(two_times, [1, 2, 3, 4]))"
   ]
  },
  {
   "cell_type": "code",
   "execution_count": 42,
   "id": "3aadeba7",
   "metadata": {
    "ExecuteTime": {
     "end_time": "2024-03-12T01:34:55.541640Z",
     "start_time": "2024-03-12T01:34:55.535648Z"
    }
   },
   "outputs": [
    {
     "data": {
      "text/plain": [
       "[2, 4, 6, 8]"
      ]
     },
     "execution_count": 42,
     "metadata": {},
     "output_type": "execute_result"
    }
   ],
   "source": [
    "list(map(lambda a: a*2, [1, 2, 3, 4]))"
   ]
  },
  {
   "cell_type": "markdown",
   "id": "007a34d6",
   "metadata": {},
   "source": [
    "### max"
   ]
  },
  {
   "cell_type": "code",
   "execution_count": 44,
   "id": "4ea08012",
   "metadata": {
    "ExecuteTime": {
     "end_time": "2024-03-12T01:38:57.860280Z",
     "start_time": "2024-03-12T01:38:57.855822Z"
    }
   },
   "outputs": [
    {
     "data": {
      "text/plain": [
       "3"
      ]
     },
     "execution_count": 44,
     "metadata": {},
     "output_type": "execute_result"
    }
   ],
   "source": [
    "max([1, 2, 3])"
   ]
  },
  {
   "cell_type": "code",
   "execution_count": 45,
   "id": "39048453",
   "metadata": {
    "ExecuteTime": {
     "end_time": "2024-03-12T01:39:01.518275Z",
     "start_time": "2024-03-12T01:39:01.501274Z"
    }
   },
   "outputs": [
    {
     "data": {
      "text/plain": [
       "'y'"
      ]
     },
     "execution_count": 45,
     "metadata": {},
     "output_type": "execute_result"
    }
   ],
   "source": [
    "max(\"python\")"
   ]
  },
  {
   "cell_type": "markdown",
   "id": "00c542e7",
   "metadata": {},
   "source": []
  },
  {
   "cell_type": "markdown",
   "id": "15458ce8",
   "metadata": {},
   "source": [
    "### min"
   ]
  },
  {
   "cell_type": "code",
   "execution_count": 46,
   "id": "92cbe3da",
   "metadata": {
    "ExecuteTime": {
     "end_time": "2024-03-12T01:39:23.786313Z",
     "start_time": "2024-03-12T01:39:23.782857Z"
    }
   },
   "outputs": [
    {
     "data": {
      "text/plain": [
       "1"
      ]
     },
     "execution_count": 46,
     "metadata": {},
     "output_type": "execute_result"
    }
   ],
   "source": [
    "min([1, 2, 3])"
   ]
  },
  {
   "cell_type": "code",
   "execution_count": 47,
   "id": "f5609f40",
   "metadata": {
    "ExecuteTime": {
     "end_time": "2024-03-12T01:39:27.381491Z",
     "start_time": "2024-03-12T01:39:27.366055Z"
    }
   },
   "outputs": [
    {
     "data": {
      "text/plain": [
       "'h'"
      ]
     },
     "execution_count": 47,
     "metadata": {},
     "output_type": "execute_result"
    }
   ],
   "source": [
    "min(\"python\")"
   ]
  },
  {
   "cell_type": "markdown",
   "id": "d0ac6bd6",
   "metadata": {},
   "source": [
    "### pow"
   ]
  },
  {
   "cell_type": "code",
   "execution_count": 48,
   "id": "bce8b231",
   "metadata": {
    "ExecuteTime": {
     "end_time": "2024-03-12T01:40:16.493297Z",
     "start_time": "2024-03-12T01:40:16.489118Z"
    }
   },
   "outputs": [
    {
     "data": {
      "text/plain": [
       "16"
      ]
     },
     "execution_count": 48,
     "metadata": {},
     "output_type": "execute_result"
    }
   ],
   "source": [
    "pow(2, 4)"
   ]
  },
  {
   "cell_type": "markdown",
   "id": "97068862",
   "metadata": {},
   "source": [
    "### range"
   ]
  },
  {
   "cell_type": "code",
   "execution_count": 49,
   "id": "84a02672",
   "metadata": {
    "ExecuteTime": {
     "end_time": "2024-03-12T01:40:55.871607Z",
     "start_time": "2024-03-12T01:40:55.868100Z"
    }
   },
   "outputs": [
    {
     "data": {
      "text/plain": [
       "[0, 1, 2, 3, 4]"
      ]
     },
     "execution_count": 49,
     "metadata": {},
     "output_type": "execute_result"
    }
   ],
   "source": [
    "# 인수가 하나일 경우\n",
    "list(range(5))"
   ]
  },
  {
   "cell_type": "code",
   "execution_count": 50,
   "id": "bf4b692d",
   "metadata": {
    "ExecuteTime": {
     "end_time": "2024-03-12T01:41:08.147383Z",
     "start_time": "2024-03-12T01:41:08.134975Z"
    }
   },
   "outputs": [
    {
     "data": {
      "text/plain": [
       "[5, 6, 7, 8, 9]"
      ]
     },
     "execution_count": 50,
     "metadata": {},
     "output_type": "execute_result"
    }
   ],
   "source": [
    "#인수가 두 개일 경우\n",
    "list(range(5, 10))"
   ]
  },
  {
   "cell_type": "code",
   "execution_count": 51,
   "id": "2dcb4d0a",
   "metadata": {
    "ExecuteTime": {
     "end_time": "2024-03-12T01:41:23.876104Z",
     "start_time": "2024-03-12T01:41:23.870813Z"
    }
   },
   "outputs": [
    {
     "data": {
      "text/plain": [
       "[1, 3, 5, 7, 9]"
      ]
     },
     "execution_count": 51,
     "metadata": {},
     "output_type": "execute_result"
    }
   ],
   "source": [
    "#인수가 세 개일 경우\n",
    "list(range(1, 10, 2))"
   ]
  },
  {
   "cell_type": "code",
   "execution_count": 52,
   "id": "2083912c",
   "metadata": {
    "ExecuteTime": {
     "end_time": "2024-03-12T01:41:36.755184Z",
     "start_time": "2024-03-12T01:41:36.751679Z"
    }
   },
   "outputs": [
    {
     "data": {
      "text/plain": [
       "[0, -1, -2, -3, -4, -5, -6, -7, -8, -9]"
      ]
     },
     "execution_count": 52,
     "metadata": {},
     "output_type": "execute_result"
    }
   ],
   "source": [
    "list(range(0, -10, -1))"
   ]
  },
  {
   "cell_type": "markdown",
   "id": "3767c8d2",
   "metadata": {},
   "source": [
    "### round"
   ]
  },
  {
   "cell_type": "code",
   "execution_count": 53,
   "id": "1834f903",
   "metadata": {
    "ExecuteTime": {
     "end_time": "2024-03-12T01:41:53.304808Z",
     "start_time": "2024-03-12T01:41:53.300852Z"
    }
   },
   "outputs": [
    {
     "data": {
      "text/plain": [
       "5"
      ]
     },
     "execution_count": 53,
     "metadata": {},
     "output_type": "execute_result"
    }
   ],
   "source": [
    "round(4.6)"
   ]
  },
  {
   "cell_type": "code",
   "execution_count": 54,
   "id": "0ea6f6c3",
   "metadata": {
    "ExecuteTime": {
     "end_time": "2024-03-12T01:41:58.425328Z",
     "start_time": "2024-03-12T01:41:58.420659Z"
    }
   },
   "outputs": [
    {
     "data": {
      "text/plain": [
       "5.68"
      ]
     },
     "execution_count": 54,
     "metadata": {},
     "output_type": "execute_result"
    }
   ],
   "source": [
    "round(5.678, 2)"
   ]
  },
  {
   "cell_type": "markdown",
   "id": "f9354b8b",
   "metadata": {
    "ExecuteTime": {
     "end_time": "2024-03-12T01:42:09.752072Z",
     "start_time": "2024-03-12T01:42:09.748913Z"
    }
   },
   "source": [
    "### sorted"
   ]
  },
  {
   "cell_type": "code",
   "execution_count": 56,
   "id": "38f4bbfb",
   "metadata": {
    "ExecuteTime": {
     "end_time": "2024-03-12T01:42:21.603723Z",
     "start_time": "2024-03-12T01:42:21.593830Z"
    }
   },
   "outputs": [
    {
     "data": {
      "text/plain": [
       "[1, 2, 3]"
      ]
     },
     "execution_count": 56,
     "metadata": {},
     "output_type": "execute_result"
    }
   ],
   "source": [
    "sorted([3, 1, 2])"
   ]
  },
  {
   "cell_type": "code",
   "execution_count": 57,
   "id": "c4c913e9",
   "metadata": {
    "ExecuteTime": {
     "end_time": "2024-03-12T01:42:36.681701Z",
     "start_time": "2024-03-12T01:42:36.677180Z"
    }
   },
   "outputs": [
    {
     "data": {
      "text/plain": [
       "['a', 'b', 'c']"
      ]
     },
     "execution_count": 57,
     "metadata": {},
     "output_type": "execute_result"
    }
   ],
   "source": [
    "sorted(['a', 'c', 'b'])"
   ]
  },
  {
   "cell_type": "code",
   "execution_count": 58,
   "id": "ea10deec",
   "metadata": {
    "ExecuteTime": {
     "end_time": "2024-03-12T01:42:41.587248Z",
     "start_time": "2024-03-12T01:42:41.583691Z"
    }
   },
   "outputs": [
    {
     "data": {
      "text/plain": [
       "['e', 'o', 'r', 'z']"
      ]
     },
     "execution_count": 58,
     "metadata": {},
     "output_type": "execute_result"
    }
   ],
   "source": [
    "sorted(\"zero\")"
   ]
  },
  {
   "cell_type": "code",
   "execution_count": 60,
   "id": "b618a2af",
   "metadata": {
    "ExecuteTime": {
     "end_time": "2024-03-12T01:43:22.792749Z",
     "start_time": "2024-03-12T01:43:22.789612Z"
    }
   },
   "outputs": [
    {
     "data": {
      "text/plain": [
       "[1, 2, 3]"
      ]
     },
     "execution_count": 60,
     "metadata": {},
     "output_type": "execute_result"
    }
   ],
   "source": [
    "sorted((3, 2, 1))"
   ]
  },
  {
   "cell_type": "markdown",
   "id": "64d414da",
   "metadata": {},
   "source": []
  },
  {
   "cell_type": "markdown",
   "id": "48f20114",
   "metadata": {},
   "source": [
    "### sum"
   ]
  },
  {
   "cell_type": "code",
   "execution_count": 61,
   "id": "fd85482e",
   "metadata": {
    "ExecuteTime": {
     "end_time": "2024-03-12T01:45:15.916413Z",
     "start_time": "2024-03-12T01:45:15.905662Z"
    }
   },
   "outputs": [
    {
     "data": {
      "text/plain": [
       "6"
      ]
     },
     "execution_count": 61,
     "metadata": {},
     "output_type": "execute_result"
    }
   ],
   "source": [
    "sum([1,2,3])"
   ]
  },
  {
   "cell_type": "code",
   "execution_count": 62,
   "id": "66f32150",
   "metadata": {
    "ExecuteTime": {
     "end_time": "2024-03-12T01:45:19.842811Z",
     "start_time": "2024-03-12T01:45:19.839237Z"
    }
   },
   "outputs": [
    {
     "data": {
      "text/plain": [
       "15"
      ]
     },
     "execution_count": 62,
     "metadata": {},
     "output_type": "execute_result"
    }
   ],
   "source": [
    "sum((4,5,6))"
   ]
  },
  {
   "cell_type": "markdown",
   "id": "f84d2a58",
   "metadata": {},
   "source": [
    "### zip"
   ]
  },
  {
   "cell_type": "code",
   "execution_count": 63,
   "id": "5e545707",
   "metadata": {
    "ExecuteTime": {
     "end_time": "2024-03-12T01:46:01.213474Z",
     "start_time": "2024-03-12T01:46:01.210063Z"
    }
   },
   "outputs": [
    {
     "data": {
      "text/plain": [
       "[(1, 4), (2, 5), (3, 6)]"
      ]
     },
     "execution_count": 63,
     "metadata": {},
     "output_type": "execute_result"
    }
   ],
   "source": [
    "# 진짜 중요함!!!!\n",
    "list(zip([1, 2, 3], [4, 5, 6]))"
   ]
  },
  {
   "cell_type": "code",
   "execution_count": 64,
   "id": "9d464c42",
   "metadata": {
    "ExecuteTime": {
     "end_time": "2024-03-12T01:46:09.014738Z",
     "start_time": "2024-03-12T01:46:09.010234Z"
    }
   },
   "outputs": [
    {
     "data": {
      "text/plain": [
       "[(1, 4, 7), (2, 5, 8), (3, 6, 9)]"
      ]
     },
     "execution_count": 64,
     "metadata": {},
     "output_type": "execute_result"
    }
   ],
   "source": [
    "list(zip([1, 2, 3], [4, 5, 6], [7, 8, 9]))"
   ]
  },
  {
   "cell_type": "code",
   "execution_count": 65,
   "id": "b99b2005",
   "metadata": {
    "ExecuteTime": {
     "end_time": "2024-03-12T01:46:13.036437Z",
     "start_time": "2024-03-12T01:46:13.031082Z"
    }
   },
   "outputs": [
    {
     "data": {
      "text/plain": [
       "[('a', 'd'), ('b', 'e'), ('c', 'f')]"
      ]
     },
     "execution_count": 65,
     "metadata": {},
     "output_type": "execute_result"
    }
   ],
   "source": [
    "list(zip(\"abc\", \"def\"))"
   ]
  },
  {
   "cell_type": "markdown",
   "id": "c81dabb3",
   "metadata": {},
   "source": [
    "## 라이브러리"
   ]
  },
  {
   "cell_type": "markdown",
   "id": "0a2c28bd",
   "metadata": {},
   "source": [
    "### datetime.date"
   ]
  },
  {
   "cell_type": "code",
   "execution_count": 68,
   "id": "26f5f663",
   "metadata": {
    "ExecuteTime": {
     "end_time": "2024-03-12T02:11:30.965343Z",
     "start_time": "2024-03-12T02:11:30.962222Z"
    }
   },
   "outputs": [],
   "source": [
    "#import = 모듈이나 패키지를 쓰겠다고 선언하는 선언문\n",
    "import datetime"
   ]
  },
  {
   "cell_type": "code",
   "execution_count": 73,
   "id": "39b1b589",
   "metadata": {
    "ExecuteTime": {
     "end_time": "2024-03-12T02:12:53.729326Z",
     "start_time": "2024-03-12T02:12:53.724875Z"
    }
   },
   "outputs": [
    {
     "data": {
      "text/plain": [
       "datetime.date(2024, 3, 12)"
      ]
     },
     "execution_count": 73,
     "metadata": {},
     "output_type": "execute_result"
    }
   ],
   "source": [
    "day1 = datetime.date(2024,3,12)\n",
    "day1"
   ]
  },
  {
   "cell_type": "code",
   "execution_count": 74,
   "id": "8380af63",
   "metadata": {
    "ExecuteTime": {
     "end_time": "2024-03-12T02:12:55.591518Z",
     "start_time": "2024-03-12T02:12:55.587491Z"
    },
    "scrolled": true
   },
   "outputs": [
    {
     "data": {
      "text/plain": [
       "datetime.date(2024, 1, 22)"
      ]
     },
     "execution_count": 74,
     "metadata": {},
     "output_type": "execute_result"
    }
   ],
   "source": [
    "day2 = datetime.date(2024,1,22)\n",
    "day2"
   ]
  },
  {
   "cell_type": "code",
   "execution_count": 75,
   "id": "06011419",
   "metadata": {
    "ExecuteTime": {
     "end_time": "2024-03-12T02:12:57.277675Z",
     "start_time": "2024-03-12T02:12:57.273020Z"
    }
   },
   "outputs": [
    {
     "data": {
      "text/plain": [
       "datetime.timedelta(days=50)"
      ]
     },
     "execution_count": 75,
     "metadata": {},
     "output_type": "execute_result"
    }
   ],
   "source": [
    "diff = day1 - day2\n",
    "diff"
   ]
  },
  {
   "cell_type": "code",
   "execution_count": 76,
   "id": "a491377c",
   "metadata": {
    "ExecuteTime": {
     "end_time": "2024-03-12T02:12:58.529031Z",
     "start_time": "2024-03-12T02:12:58.525703Z"
    }
   },
   "outputs": [
    {
     "data": {
      "text/plain": [
       "50"
      ]
     },
     "execution_count": 76,
     "metadata": {},
     "output_type": "execute_result"
    }
   ],
   "source": [
    "diff.days\n",
    "#days는 객체 변수"
   ]
  },
  {
   "cell_type": "code",
   "execution_count": 77,
   "id": "ace6ff19",
   "metadata": {
    "ExecuteTime": {
     "end_time": "2024-03-12T02:13:26.790997Z",
     "start_time": "2024-03-12T02:13:26.785934Z"
    }
   },
   "outputs": [
    {
     "data": {
      "text/plain": [
       "0"
      ]
     },
     "execution_count": 77,
     "metadata": {},
     "output_type": "execute_result"
    }
   ],
   "source": [
    "#요일 구하기\n",
    "day = datetime.date(2024, 1, 22)\n",
    "day.weekday()\n",
    "#weekday()는 메서드 "
   ]
  },
  {
   "cell_type": "code",
   "execution_count": 78,
   "id": "759b2b72",
   "metadata": {
    "ExecuteTime": {
     "end_time": "2024-03-12T02:14:55.105416Z",
     "start_time": "2024-03-12T02:14:55.101018Z"
    }
   },
   "outputs": [
    {
     "data": {
      "text/plain": [
       "1"
      ]
     },
     "execution_count": 78,
     "metadata": {},
     "output_type": "execute_result"
    }
   ],
   "source": [
    "day.isoweekday()"
   ]
  },
  {
   "cell_type": "markdown",
   "id": "4f2e6b1f",
   "metadata": {},
   "source": [
    "### time"
   ]
  },
  {
   "cell_type": "code",
   "execution_count": 79,
   "id": "65f59b40",
   "metadata": {
    "ExecuteTime": {
     "end_time": "2024-03-12T02:16:17.732825Z",
     "start_time": "2024-03-12T02:16:17.728992Z"
    }
   },
   "outputs": [
    {
     "data": {
      "text/plain": [
       "1710209777.729995"
      ]
     },
     "execution_count": 79,
     "metadata": {},
     "output_type": "execute_result"
    }
   ],
   "source": [
    "import time\n",
    "time.time()\n",
    "#time이라는 모듈 안에 time이라는 함수를 사용할거야 "
   ]
  },
  {
   "cell_type": "markdown",
   "id": "39ed71cb",
   "metadata": {},
   "source": []
  },
  {
   "cell_type": "code",
   "execution_count": 80,
   "id": "a8e5eb6c",
   "metadata": {
    "ExecuteTime": {
     "end_time": "2024-03-12T02:17:14.151303Z",
     "start_time": "2024-03-12T02:17:14.147304Z"
    }
   },
   "outputs": [
    {
     "data": {
      "text/plain": [
       "time.struct_time(tm_year=2024, tm_mon=3, tm_mday=12, tm_hour=11, tm_min=17, tm_sec=14, tm_wday=1, tm_yday=72, tm_isdst=0)"
      ]
     },
     "execution_count": 80,
     "metadata": {},
     "output_type": "execute_result"
    }
   ],
   "source": [
    "#time.localtime\n",
    "time.localtime(time.time())"
   ]
  },
  {
   "cell_type": "code",
   "execution_count": 82,
   "id": "34090b2e",
   "metadata": {
    "ExecuteTime": {
     "end_time": "2024-03-12T02:17:59.704662Z",
     "start_time": "2024-03-12T02:17:59.701135Z"
    }
   },
   "outputs": [
    {
     "data": {
      "text/plain": [
       "'Tue Mar 12 11:17:59 2024'"
      ]
     },
     "execution_count": 82,
     "metadata": {},
     "output_type": "execute_result"
    }
   ],
   "source": [
    "#time.asctime\n",
    "time.asctime(time.localtime(time.time()))"
   ]
  },
  {
   "cell_type": "code",
   "execution_count": 83,
   "id": "5c2ff8de",
   "metadata": {
    "ExecuteTime": {
     "end_time": "2024-03-12T02:18:23.819001Z",
     "start_time": "2024-03-12T02:18:23.815410Z"
    }
   },
   "outputs": [
    {
     "data": {
      "text/plain": [
       "'Tue Mar 12 11:18:23 2024'"
      ]
     },
     "execution_count": 83,
     "metadata": {},
     "output_type": "execute_result"
    }
   ],
   "source": [
    "#time.ctime\n",
    "time.ctime()"
   ]
  },
  {
   "cell_type": "code",
   "execution_count": 85,
   "id": "44198ebd",
   "metadata": {
    "ExecuteTime": {
     "end_time": "2024-03-12T02:20:41.606566Z",
     "start_time": "2024-03-12T02:20:41.601853Z"
    }
   },
   "outputs": [
    {
     "data": {
      "text/plain": [
       "'03/12/24'"
      ]
     },
     "execution_count": 85,
     "metadata": {},
     "output_type": "execute_result"
    }
   ],
   "source": [
    "# time.strftime\n",
    "import time\n",
    "time.strftime('%x', time.localtime(time.time()))"
   ]
  },
  {
   "cell_type": "code",
   "execution_count": 86,
   "id": "f55f6c75",
   "metadata": {
    "ExecuteTime": {
     "end_time": "2024-03-12T02:20:45.690254Z",
     "start_time": "2024-03-12T02:20:45.686536Z"
    }
   },
   "outputs": [
    {
     "data": {
      "text/plain": [
       "'Tue Mar 12 11:20:45 2024'"
      ]
     },
     "execution_count": 86,
     "metadata": {},
     "output_type": "execute_result"
    }
   ],
   "source": [
    "time.strftime('%c', time.localtime(time.time()))"
   ]
  },
  {
   "cell_type": "markdown",
   "id": "a42523cd",
   "metadata": {},
   "source": [
    "### time.sleep"
   ]
  },
  {
   "cell_type": "code",
   "execution_count": 88,
   "id": "356c10b1",
   "metadata": {
    "ExecuteTime": {
     "end_time": "2024-03-12T02:24:33.898197Z",
     "start_time": "2024-03-12T02:24:28.889024Z"
    }
   },
   "outputs": [
    {
     "name": "stdout",
     "output_type": "stream",
     "text": [
      "0\n",
      "1\n",
      "2\n",
      "3\n",
      "4\n",
      "5\n",
      "6\n",
      "7\n",
      "8\n",
      "9\n"
     ]
    }
   ],
   "source": [
    "#데이터 수집할 때 많이 쓰는 함수\n",
    "#잠깐 텀을 줘, 쉬어 라는 뜻\n",
    "import time\n",
    "for i in range(10):\n",
    "    print(i)\n",
    "    time.sleep(0.5)"
   ]
  },
  {
   "cell_type": "code",
   "execution_count": 89,
   "id": "86e400a4",
   "metadata": {
    "ExecuteTime": {
     "end_time": "2024-03-12T02:28:53.427196Z",
     "start_time": "2024-03-12T02:28:53.406747Z"
    }
   },
   "outputs": [
    {
     "data": {
      "text/plain": [
       "time.struct_time(tm_year=2024, tm_mon=3, tm_mday=12, tm_hour=11, tm_min=28, tm_sec=53, tm_wday=1, tm_yday=72, tm_isdst=0)"
      ]
     },
     "execution_count": 89,
     "metadata": {},
     "output_type": "execute_result"
    }
   ],
   "source": [
    "time.localtime()"
   ]
  },
  {
   "cell_type": "code",
   "execution_count": 90,
   "id": "290efb61",
   "metadata": {
    "ExecuteTime": {
     "end_time": "2024-03-12T02:29:01.396384Z",
     "start_time": "2024-03-12T02:29:01.392886Z"
    }
   },
   "outputs": [
    {
     "data": {
      "text/plain": [
       "'Tue Mar 12 11:29:01 2024'"
      ]
     },
     "execution_count": 90,
     "metadata": {},
     "output_type": "execute_result"
    }
   ],
   "source": [
    "time.asctime()"
   ]
  },
  {
   "cell_type": "code",
   "execution_count": 91,
   "id": "d8154baa",
   "metadata": {
    "ExecuteTime": {
     "end_time": "2024-03-12T02:29:07.775714Z",
     "start_time": "2024-03-12T02:29:07.771697Z"
    }
   },
   "outputs": [
    {
     "data": {
      "text/plain": [
       "'Tue Mar 12 11:29:07 2024'"
      ]
     },
     "execution_count": 91,
     "metadata": {},
     "output_type": "execute_result"
    }
   ],
   "source": [
    "time.strftime('%c')"
   ]
  },
  {
   "cell_type": "markdown",
   "id": "0b9a7768",
   "metadata": {},
   "source": [
    "### random"
   ]
  },
  {
   "cell_type": "code",
   "execution_count": 93,
   "id": "70278303",
   "metadata": {
    "ExecuteTime": {
     "end_time": "2024-03-12T02:29:41.790539Z",
     "start_time": "2024-03-12T02:29:41.786586Z"
    }
   },
   "outputs": [
    {
     "data": {
      "text/plain": [
       "0.4695323780334285"
      ]
     },
     "execution_count": 93,
     "metadata": {},
     "output_type": "execute_result"
    }
   ],
   "source": [
    "import random\n",
    "random.random()"
   ]
  },
  {
   "cell_type": "code",
   "execution_count": 94,
   "id": "e1ab2861",
   "metadata": {
    "ExecuteTime": {
     "end_time": "2024-03-12T02:30:26.235288Z",
     "start_time": "2024-03-12T02:30:26.231189Z"
    }
   },
   "outputs": [
    {
     "data": {
      "text/plain": [
       "1"
      ]
     },
     "execution_count": 94,
     "metadata": {},
     "output_type": "execute_result"
    }
   ],
   "source": [
    "random.randint(1, 10)"
   ]
  },
  {
   "cell_type": "code",
   "execution_count": 95,
   "id": "bbb9538c",
   "metadata": {
    "ExecuteTime": {
     "end_time": "2024-03-12T02:30:32.611314Z",
     "start_time": "2024-03-12T02:30:32.605426Z"
    }
   },
   "outputs": [
    {
     "data": {
      "text/plain": [
       "4"
      ]
     },
     "execution_count": 95,
     "metadata": {},
     "output_type": "execute_result"
    }
   ],
   "source": [
    "random.randint(1, 55)"
   ]
  },
  {
   "cell_type": "code",
   "execution_count": 97,
   "id": "8406d07c",
   "metadata": {
    "ExecuteTime": {
     "end_time": "2024-03-12T02:32:55.732027Z",
     "start_time": "2024-03-12T02:32:55.727817Z"
    }
   },
   "outputs": [
    {
     "data": {
      "text/plain": [
       "[2, 4, 1, 3, 5]"
      ]
     },
     "execution_count": 97,
     "metadata": {},
     "output_type": "execute_result"
    }
   ],
   "source": [
    "data = [1, 2, 3, 4, 5]\n",
    "random.sample(data, len(data))"
   ]
  },
  {
   "cell_type": "markdown",
   "id": "a7a5377d",
   "metadata": {},
   "source": [
    "### glob"
   ]
  },
  {
   "cell_type": "code",
   "execution_count": null,
   "id": "99652d33",
   "metadata": {},
   "outputs": [],
   "source": [
    "# 데이터 수집하게 되면 파이 상으로 만들어지기도 할텐데\n",
    "# 데이터 핸들링 할 때, 특정 디렉토리에 있는 파일을 조회할 때"
   ]
  },
  {
   "cell_type": "code",
   "execution_count": 102,
   "id": "a83570d8",
   "metadata": {
    "ExecuteTime": {
     "end_time": "2024-03-12T02:37:08.132117Z",
     "start_time": "2024-03-12T02:37:08.120755Z"
    }
   },
   "outputs": [
    {
     "data": {
      "text/plain": [
       "'C:\\\\workspace\\\\wassup2\\\\python'"
      ]
     },
     "execution_count": 102,
     "metadata": {},
     "output_type": "execute_result"
    }
   ],
   "source": [
    "pwd"
   ]
  },
  {
   "cell_type": "code",
   "execution_count": 101,
   "id": "148f51a3",
   "metadata": {
    "ExecuteTime": {
     "end_time": "2024-03-12T02:36:56.521920Z",
     "start_time": "2024-03-12T02:36:56.519461Z"
    }
   },
   "outputs": [],
   "source": [
    "import glob"
   ]
  },
  {
   "cell_type": "code",
   "execution_count": 103,
   "id": "99e9c65b",
   "metadata": {
    "ExecuteTime": {
     "end_time": "2024-03-12T02:38:39.824939Z",
     "start_time": "2024-03-12T02:38:39.820426Z"
    }
   },
   "outputs": [
    {
     "data": {
      "text/plain": [
       "['C:\\\\workspace\\\\wassup2\\\\python\\\\00_마크다운.ipynb',\n",
       " 'C:\\\\workspace\\\\wassup2\\\\python\\\\01_자료형&변수_연습문제_0304.ipynb',\n",
       " 'C:\\\\workspace\\\\wassup2\\\\python\\\\01_자료형과변수.ipynb',\n",
       " 'C:\\\\workspace\\\\wassup2\\\\python\\\\02_제어문.ipynb',\n",
       " 'C:\\\\workspace\\\\wassup2\\\\python\\\\03_코딩연습_전화번호프로그램_실습용.ipynb',\n",
       " 'C:\\\\workspace\\\\wassup2\\\\python\\\\04_함수&입출력_연습문제_실습용.ipynb',\n",
       " 'C:\\\\workspace\\\\wassup2\\\\python\\\\04_함수와입출력.ipynb',\n",
       " 'C:\\\\workspace\\\\wassup2\\\\python\\\\05_클래스와예외처리.ipynb',\n",
       " 'C:\\\\workspace\\\\wassup2\\\\python\\\\06_내장함수와 라이브러리.ipynb',\n",
       " 'C:\\\\workspace\\\\wassup2\\\\python\\\\practice_0306.ipynb',\n",
       " 'C:\\\\workspace\\\\wassup2\\\\python\\\\Untitled.ipynb',\n",
       " 'C:\\\\workspace\\\\wassup2\\\\python\\\\wikidocs_0307.ipynb']"
      ]
     },
     "execution_count": 103,
     "metadata": {},
     "output_type": "execute_result"
    }
   ],
   "source": [
    "glob.glob('C:\\\\workspace\\\\wassup2\\\\python\\*.ipynb')"
   ]
  },
  {
   "cell_type": "code",
   "execution_count": 106,
   "id": "d835f433",
   "metadata": {
    "ExecuteTime": {
     "end_time": "2024-03-12T02:43:45.769249Z",
     "start_time": "2024-03-12T02:43:45.764887Z"
    }
   },
   "outputs": [
    {
     "name": "stdout",
     "output_type": "stream",
     "text": [
      "C:\\workspace\\wassup2\\python\\00_마크다운.ipynb\n",
      "C:\\workspace\\wassup2\\python\\01_자료형&변수_연습문제_0304.ipynb\n",
      "C:\\workspace\\wassup2\\python\\01_자료형과변수.ipynb\n",
      "C:\\workspace\\wassup2\\python\\02_제어문.ipynb\n",
      "C:\\workspace\\wassup2\\python\\03_코딩연습_전화번호프로그램_실습용.ipynb\n",
      "C:\\workspace\\wassup2\\python\\04_함수&입출력_연습문제_실습용.ipynb\n",
      "C:\\workspace\\wassup2\\python\\04_함수와입출력.ipynb\n",
      "C:\\workspace\\wassup2\\python\\05_클래스와예외처리.ipynb\n",
      "C:\\workspace\\wassup2\\python\\06_내장함수와 라이브러리.ipynb\n",
      "C:\\workspace\\wassup2\\python\\practice_0306.ipynb\n",
      "C:\\workspace\\wassup2\\python\\Untitled.ipynb\n",
      "C:\\workspace\\wassup2\\python\\wikidocs_0307.ipynb\n"
     ]
    }
   ],
   "source": [
    "import glob\n",
    "\n",
    "for files in glob.glob('C:\\\\workspace\\\\wassup2\\\\python\\\\*.ipynb'):\n",
    "    print(files)"
   ]
  },
  {
   "cell_type": "code",
   "execution_count": 4,
   "id": "a4efe9ce",
   "metadata": {
    "ExecuteTime": {
     "end_time": "2024-03-12T12:39:15.484415Z",
     "start_time": "2024-03-12T12:39:15.480444Z"
    }
   },
   "outputs": [
    {
     "name": "stdout",
     "output_type": "stream",
     "text": [
      "00_마크다운\n",
      "01_자료형&변수_연습문제_0304\n",
      "01_자료형과변수\n",
      "02_제어문\n",
      "03_코딩연습_전화번호프로그램_실습용\n",
      "04_함수&입출력_연습문제_실습용\n",
      "04_함수와입출력\n",
      "05_클래스와예외처리\n",
      "06_내장함수와 라이브러리\n",
      "practice_0306\n",
      "Untitled\n",
      "wikidocs_0307\n"
     ]
    }
   ],
   "source": [
    "import glob\n",
    "\n",
    "for file_path in glob.glob('C:\\\\workspace\\\\wassup2\\\\python\\\\*.ipynb'):\n",
    "    file_name = file_path.split('\\\\')[-1].split('.')[0]\n",
    "    print(file_name)"
   ]
  },
  {
   "cell_type": "code",
   "execution_count": 110,
   "id": "8c1ff005",
   "metadata": {
    "ExecuteTime": {
     "end_time": "2024-03-12T02:49:01.666150Z",
     "start_time": "2024-03-12T02:49:01.641956Z"
    }
   },
   "outputs": [
    {
     "ename": "NameError",
     "evalue": "name 'file' is not defined",
     "output_type": "error",
     "traceback": [
      "\u001b[1;31m---------------------------------------------------------------------------\u001b[0m",
      "\u001b[1;31mNameError\u001b[0m                                 Traceback (most recent call last)",
      "Cell \u001b[1;32mIn[110], line 3\u001b[0m\n\u001b[0;32m      1\u001b[0m filepath \u001b[38;5;241m=\u001b[39m glob\u001b[38;5;241m.\u001b[39mglob(\u001b[38;5;124m'\u001b[39m\u001b[38;5;124mC:\u001b[39m\u001b[38;5;130;01m\\\\\u001b[39;00m\u001b[38;5;124mworkspace\u001b[39m\u001b[38;5;130;01m\\\\\u001b[39;00m\u001b[38;5;124mwassup2\u001b[39m\u001b[38;5;130;01m\\\\\u001b[39;00m\u001b[38;5;124mpython\u001b[39m\u001b[38;5;130;01m\\\\\u001b[39;00m\u001b[38;5;124m*.ipynb\u001b[39m\u001b[38;5;124m'\u001b[39m)\n\u001b[0;32m      2\u001b[0m \u001b[38;5;28;01mfor\u001b[39;00m file_path \u001b[38;5;129;01min\u001b[39;00m filepath:\n\u001b[1;32m----> 3\u001b[0m     \u001b[38;5;28mprint\u001b[39m(file\u001b[38;5;241m.\u001b[39msplit(\u001b[38;5;124m'\u001b[39m\u001b[38;5;130;01m\\\\\u001b[39;00m\u001b[38;5;124m'\u001b[39m)[\u001b[38;5;241m-\u001b[39m\u001b[38;5;241m1\u001b[39m]\u001b[38;5;241m.\u001b[39msplit(\u001b[38;5;124m'\u001b[39m\u001b[38;5;124m.\u001b[39m\u001b[38;5;124m'\u001b[39m)[\u001b[38;5;241m0\u001b[39m])\n",
      "\u001b[1;31mNameError\u001b[0m: name 'file' is not defined"
     ]
    }
   ],
   "source": [
    "filepath = glob.glob('C:\\\\workspace\\\\wassup2\\\\python\\\\*.ipynb')\n",
    "for file_path in filepath:\n",
    "    print(file.split('\\\\')[-1].split('.')[0])"
   ]
  },
  {
   "cell_type": "markdown",
   "id": "13aa2adc",
   "metadata": {},
   "source": [
    "### os"
   ]
  },
  {
   "cell_type": "code",
   "execution_count": 2,
   "id": "7d3c94fe",
   "metadata": {
    "ExecuteTime": {
     "end_time": "2024-03-13T00:18:51.884630Z",
     "start_time": "2024-03-13T00:18:51.878247Z"
    }
   },
   "outputs": [
    {
     "data": {
      "text/plain": [
       "environ{'ACSETUPSVCPORT': '23210',\n",
       "        'ACSVCPORT': '17532',\n",
       "        'ALLUSERSPROFILE': 'C:\\\\ProgramData',\n",
       "        'APPDATA': 'C:\\\\Users\\\\User\\\\AppData\\\\Roaming',\n",
       "        'COMMONPROGRAMFILES': 'C:\\\\Program Files\\\\Common Files',\n",
       "        'COMMONPROGRAMFILES(X86)': 'C:\\\\Program Files (x86)\\\\Common Files',\n",
       "        'COMMONPROGRAMW6432': 'C:\\\\Program Files\\\\Common Files',\n",
       "        'COMPUTERNAME': 'DESKTOP-V6VRUO2',\n",
       "        'COMSPEC': 'C:\\\\WINDOWS\\\\system32\\\\cmd.exe',\n",
       "        'DRIVERDATA': 'C:\\\\Windows\\\\System32\\\\Drivers\\\\DriverData',\n",
       "        'FPS_BROWSER_APP_PROFILE_STRING': 'Internet Explorer',\n",
       "        'FPS_BROWSER_USER_PROFILE_STRING': 'Default',\n",
       "        'HOMEDRIVE': 'C:',\n",
       "        'HOMEPATH': '\\\\Users\\\\User',\n",
       "        'INTEL_DEV_REDIST': 'C:\\\\Program Files (x86)\\\\Common Files\\\\Intel\\\\Shared Libraries\\\\',\n",
       "        'LOCALAPPDATA': 'C:\\\\Users\\\\User\\\\AppData\\\\Local',\n",
       "        'LOGONSERVER': '\\\\\\\\DESKTOP-V6VRUO2',\n",
       "        'MIC_LD_LIBRARY_PATH': 'C:\\\\Program Files (x86)\\\\Common Files\\\\Intel\\\\Shared Libraries\\\\compiler\\\\lib\\\\mic',\n",
       "        'NUMBER_OF_PROCESSORS': '16',\n",
       "        'ONEDRIVE': 'C:\\\\Users\\\\User\\\\OneDrive',\n",
       "        'OS': 'Windows_NT',\n",
       "        'PATH': 'C:\\\\Users\\\\User\\\\anaconda3;C:\\\\Users\\\\User\\\\anaconda3\\\\Library\\\\mingw-w64\\\\bin;C:\\\\Users\\\\User\\\\anaconda3\\\\Library\\\\usr\\\\bin;C:\\\\Users\\\\User\\\\anaconda3\\\\Library\\\\bin;C:\\\\Users\\\\User\\\\anaconda3\\\\Scripts;C:\\\\Program Files\\\\MySQL\\\\MySQL Server 8.0\\\\bin;C:\\\\Program Files (x86)\\\\Common Files\\\\Intel\\\\Shared Libraries\\\\redist\\\\intel64\\\\compiler;C:\\\\Windows\\\\system32;C:\\\\Windows;C:\\\\Windows\\\\System32\\\\Wbem;C:\\\\Windows\\\\System32\\\\WindowsPowerShell\\\\v1.0\\\\;C:\\\\Windows\\\\System32\\\\OpenSSH\\\\;C:\\\\Program Files (x86)\\\\Windows Kits\\\\10\\\\Windows Performance Toolkit\\\\;C:\\\\Program Files (x86)\\\\Windows Kits\\\\10\\\\Microsoft Application Virtualization\\\\Sequencer\\\\;C:\\\\Program Files (x86)\\\\NVIDIA Corporation\\\\PhysX\\\\Common;C:\\\\WINDOWS\\\\system32;C:\\\\WINDOWS;C:\\\\WINDOWS\\\\System32\\\\Wbem;C:\\\\WINDOWS\\\\System32\\\\WindowsPowerShell\\\\v1.0\\\\;C:\\\\WINDOWS\\\\System32\\\\OpenSSH\\\\;C:\\\\Program Files\\\\NVIDIA Corporation\\\\NVIDIA NvDLISR;C:\\\\Program Files\\\\dotnet\\\\;C:\\\\WINDOWS\\\\system32;C:\\\\WINDOWS;C:\\\\WINDOWS\\\\System32\\\\Wbem;C:\\\\WINDOWS\\\\System32\\\\WindowsPowerShell\\\\v1.0\\\\;C:\\\\WINDOWS\\\\System32\\\\OpenSSH\\\\;C:\\\\Program Files\\\\Git\\\\cmd;C:\\\\Program Files\\\\MySQL\\\\MySQL Shell 8.0\\\\bin\\\\;C:\\\\Users\\\\User\\\\anaconda3;C:\\\\Users\\\\User\\\\anaconda3\\\\Library\\\\mingw-w64\\\\bin;C:\\\\Users\\\\User\\\\anaconda3\\\\Library\\\\usr\\\\bin;C:\\\\Users\\\\User\\\\anaconda3\\\\Library\\\\bin;C:\\\\Users\\\\User\\\\anaconda3\\\\Scripts;C:\\\\Users\\\\User\\\\AppData\\\\Local\\\\Microsoft\\\\WindowsApps;C:\\\\Program Files\\\\Bandizip\\\\;C:\\\\Users\\\\User\\\\AppData\\\\Local\\\\Programs\\\\Microsoft VS Code\\\\bin',\n",
       "        'PATHEXT': '.COM;.EXE;.BAT;.CMD;.VBS;.VBE;.JS;.JSE;.WSF;.WSH;.MSC',\n",
       "        'PROCESSOR_ARCHITECTURE': 'AMD64',\n",
       "        'PROCESSOR_IDENTIFIER': 'AMD64 Family 25 Model 80 Stepping 0, AuthenticAMD',\n",
       "        'PROCESSOR_LEVEL': '25',\n",
       "        'PROCESSOR_REVISION': '5000',\n",
       "        'PROGRAMDATA': 'C:\\\\ProgramData',\n",
       "        'PROGRAMFILES': 'C:\\\\Program Files',\n",
       "        'PROGRAMFILES(X86)': 'C:\\\\Program Files (x86)',\n",
       "        'PROGRAMW6432': 'C:\\\\Program Files',\n",
       "        'PSMODULEPATH': '%ProgramFiles%\\\\WindowsPowerShell\\\\Modules;C:\\\\WINDOWS\\\\system32\\\\WindowsPowerShell\\\\v1.0\\\\Modules;C:\\\\Program Files (x86)\\\\Windows Kits\\\\10\\\\Microsoft Application Virtualization\\\\Sequencer\\\\AppvPkgConverter;C:\\\\Program Files (x86)\\\\Windows Kits\\\\10\\\\Microsoft Application Virtualization\\\\Sequencer\\\\AppvSequencer;C:\\\\Program Files (x86)\\\\Windows Kits\\\\10\\\\Microsoft Application Virtualization\\\\',\n",
       "        'PUBLIC': 'C:\\\\Users\\\\Public',\n",
       "        'RLSSVCPORT': '22112',\n",
       "        'SYSTEMDRIVE': 'C:',\n",
       "        'SYSTEMROOT': 'C:\\\\WINDOWS',\n",
       "        'TEMP': 'C:\\\\Users\\\\User\\\\AppData\\\\Local\\\\Temp',\n",
       "        'TMP': 'C:\\\\Users\\\\User\\\\AppData\\\\Local\\\\Temp',\n",
       "        'USERDOMAIN': 'DESKTOP-V6VRUO2',\n",
       "        'USERDOMAIN_ROAMINGPROFILE': 'DESKTOP-V6VRUO2',\n",
       "        'USERNAME': 'User',\n",
       "        'USERPROFILE': 'C:\\\\Users\\\\User',\n",
       "        'WINDIR': 'C:\\\\WINDOWS',\n",
       "        'ZES_ENABLE_SYSMAN': '1',\n",
       "        'CONDA_PREFIX': 'C:\\\\Users\\\\User\\\\anaconda3',\n",
       "        'PYDEVD_USE_FRAME_EVAL': 'NO',\n",
       "        'JPY_INTERRUPT_EVENT': '4052',\n",
       "        'IPY_INTERRUPT_EVENT': '4052',\n",
       "        'JPY_PARENT_PID': '3816',\n",
       "        'TERM': 'xterm-color',\n",
       "        'CLICOLOR': '1',\n",
       "        'FORCE_COLOR': '1',\n",
       "        'CLICOLOR_FORCE': '1',\n",
       "        'PAGER': 'cat',\n",
       "        'GIT_PAGER': 'cat',\n",
       "        'MPLBACKEND': 'module://matplotlib_inline.backend_inline'}"
      ]
     },
     "execution_count": 2,
     "metadata": {},
     "output_type": "execute_result"
    }
   ],
   "source": [
    "import os\n",
    "os.environ"
   ]
  },
  {
   "cell_type": "code",
   "execution_count": 3,
   "id": "8dd64d1c",
   "metadata": {
    "ExecuteTime": {
     "end_time": "2024-03-13T00:18:59.399817Z",
     "start_time": "2024-03-13T00:18:59.394808Z"
    }
   },
   "outputs": [
    {
     "data": {
      "text/plain": [
       "'C:\\\\Users\\\\User\\\\anaconda3;C:\\\\Users\\\\User\\\\anaconda3\\\\Library\\\\mingw-w64\\\\bin;C:\\\\Users\\\\User\\\\anaconda3\\\\Library\\\\usr\\\\bin;C:\\\\Users\\\\User\\\\anaconda3\\\\Library\\\\bin;C:\\\\Users\\\\User\\\\anaconda3\\\\Scripts;C:\\\\Program Files\\\\MySQL\\\\MySQL Server 8.0\\\\bin;C:\\\\Program Files (x86)\\\\Common Files\\\\Intel\\\\Shared Libraries\\\\redist\\\\intel64\\\\compiler;C:\\\\Windows\\\\system32;C:\\\\Windows;C:\\\\Windows\\\\System32\\\\Wbem;C:\\\\Windows\\\\System32\\\\WindowsPowerShell\\\\v1.0\\\\;C:\\\\Windows\\\\System32\\\\OpenSSH\\\\;C:\\\\Program Files (x86)\\\\Windows Kits\\\\10\\\\Windows Performance Toolkit\\\\;C:\\\\Program Files (x86)\\\\Windows Kits\\\\10\\\\Microsoft Application Virtualization\\\\Sequencer\\\\;C:\\\\Program Files (x86)\\\\NVIDIA Corporation\\\\PhysX\\\\Common;C:\\\\WINDOWS\\\\system32;C:\\\\WINDOWS;C:\\\\WINDOWS\\\\System32\\\\Wbem;C:\\\\WINDOWS\\\\System32\\\\WindowsPowerShell\\\\v1.0\\\\;C:\\\\WINDOWS\\\\System32\\\\OpenSSH\\\\;C:\\\\Program Files\\\\NVIDIA Corporation\\\\NVIDIA NvDLISR;C:\\\\Program Files\\\\dotnet\\\\;C:\\\\WINDOWS\\\\system32;C:\\\\WINDOWS;C:\\\\WINDOWS\\\\System32\\\\Wbem;C:\\\\WINDOWS\\\\System32\\\\WindowsPowerShell\\\\v1.0\\\\;C:\\\\WINDOWS\\\\System32\\\\OpenSSH\\\\;C:\\\\Program Files\\\\Git\\\\cmd;C:\\\\Program Files\\\\MySQL\\\\MySQL Shell 8.0\\\\bin\\\\;C:\\\\Users\\\\User\\\\anaconda3;C:\\\\Users\\\\User\\\\anaconda3\\\\Library\\\\mingw-w64\\\\bin;C:\\\\Users\\\\User\\\\anaconda3\\\\Library\\\\usr\\\\bin;C:\\\\Users\\\\User\\\\anaconda3\\\\Library\\\\bin;C:\\\\Users\\\\User\\\\anaconda3\\\\Scripts;C:\\\\Users\\\\User\\\\AppData\\\\Local\\\\Microsoft\\\\WindowsApps;C:\\\\Program Files\\\\Bandizip\\\\;C:\\\\Users\\\\User\\\\AppData\\\\Local\\\\Programs\\\\Microsoft VS Code\\\\bin'"
      ]
     },
     "execution_count": 3,
     "metadata": {},
     "output_type": "execute_result"
    }
   ],
   "source": [
    "os.environ['PATH']"
   ]
  },
  {
   "cell_type": "code",
   "execution_count": 4,
   "id": "c45a02db",
   "metadata": {
    "ExecuteTime": {
     "end_time": "2024-03-13T00:19:20.023650Z",
     "start_time": "2024-03-13T00:19:20.019108Z"
    }
   },
   "outputs": [
    {
     "data": {
      "text/plain": [
       "'C:\\\\workspace\\\\wassup2\\\\python'"
      ]
     },
     "execution_count": 4,
     "metadata": {},
     "output_type": "execute_result"
    }
   ],
   "source": [
    "os.getcwd()"
   ]
  },
  {
   "cell_type": "code",
   "execution_count": 5,
   "id": "005751ff",
   "metadata": {
    "ExecuteTime": {
     "end_time": "2024-03-13T00:19:26.290039Z",
     "start_time": "2024-03-13T00:19:26.202910Z"
    }
   },
   "outputs": [
    {
     "data": {
      "text/plain": [
       "0"
      ]
     },
     "execution_count": 5,
     "metadata": {},
     "output_type": "execute_result"
    }
   ],
   "source": [
    "os.system(\"dir\")"
   ]
  },
  {
   "cell_type": "markdown",
   "id": "699fe2fa",
   "metadata": {},
   "source": [
    "### json"
   ]
  },
  {
   "cell_type": "code",
   "execution_count": 10,
   "id": "825fe975",
   "metadata": {
    "ExecuteTime": {
     "end_time": "2024-03-13T00:32:20.442734Z",
     "start_time": "2024-03-13T00:32:20.439188Z"
    }
   },
   "outputs": [
    {
     "data": {
      "text/plain": [
       "{'name': '홍길동', 'birth': '0525', 'age': 30}"
      ]
     },
     "execution_count": 10,
     "metadata": {},
     "output_type": "execute_result"
    }
   ],
   "source": [
    "{\n",
    "    \"name\": \"홍길동\",\n",
    "    \"birth\": \"0525\",\n",
    "    \"age\": 30\n",
    "}"
   ]
  },
  {
   "cell_type": "code",
   "execution_count": 16,
   "id": "9448a3f1",
   "metadata": {
    "ExecuteTime": {
     "end_time": "2024-03-13T00:36:45.117401Z",
     "start_time": "2024-03-13T00:36:45.113248Z"
    }
   },
   "outputs": [
    {
     "name": "stdout",
     "output_type": "stream",
     "text": [
      "<class 'dict'> {'name': '홍길동', 'birth': '0525', 'age': 30}\n"
     ]
    }
   ],
   "source": [
    "import json\n",
    "with open('C:\\workspace\\wassup2\\python\\myinfo.json', encoding='utf-8') as f:\n",
    "    data = json.load(f)\n",
    "print(type(data), data)"
   ]
  },
  {
   "cell_type": "code",
   "execution_count": 13,
   "id": "a253887d",
   "metadata": {
    "ExecuteTime": {
     "end_time": "2024-03-13T00:34:48.442956Z",
     "start_time": "2024-03-13T00:34:48.438944Z"
    }
   },
   "outputs": [],
   "source": [
    "import json\n",
    "data = {'name': '홍길동', 'birth': '0525', 'age': 30}\n",
    "with open('myinfo.json', 'w') as f:\n",
    "    json.dump(data, f)"
   ]
  },
  {
   "cell_type": "code",
   "execution_count": 18,
   "id": "bdf1b513",
   "metadata": {
    "ExecuteTime": {
     "end_time": "2024-03-13T00:38:26.234975Z",
     "start_time": "2024-03-13T00:38:26.229917Z"
    }
   },
   "outputs": [
    {
     "data": {
      "text/plain": [
       "'{\"name\": \"홍길동\", \"birth\": \"0525\", \"age\": 30}'"
      ]
     },
     "execution_count": 18,
     "metadata": {},
     "output_type": "execute_result"
    }
   ],
   "source": [
    "d = {'name': '홍길동', 'birth': '0525', 'age': 30}\n",
    "json_data = json.dumps(d, ensure_ascii=False)\n",
    "json_data"
   ]
  },
  {
   "cell_type": "code",
   "execution_count": 19,
   "id": "7ec9083c",
   "metadata": {
    "ExecuteTime": {
     "end_time": "2024-03-13T00:38:40.867329Z",
     "start_time": "2024-03-13T00:38:40.863994Z"
    }
   },
   "outputs": [
    {
     "data": {
      "text/plain": [
       "{'name': '홍길동', 'birth': '0525', 'age': 30}"
      ]
     },
     "execution_count": 19,
     "metadata": {},
     "output_type": "execute_result"
    }
   ],
   "source": [
    "json.loads(json_data)"
   ]
  },
  {
   "cell_type": "markdown",
   "id": "5fb01438",
   "metadata": {},
   "source": [
    "### urllib"
   ]
  },
  {
   "cell_type": "code",
   "execution_count": 21,
   "id": "79793891",
   "metadata": {
    "ExecuteTime": {
     "end_time": "2024-03-13T00:40:32.754254Z",
     "start_time": "2024-03-13T00:40:32.750633Z"
    }
   },
   "outputs": [],
   "source": [
    "# 정적 웹페이지 리퀘스트 할 때 사용\n",
    "import urllib.request\n",
    "\n",
    "def get_wikidocs(page):\n",
    "    resource = 'https://wikidocs.net/{}'.format(page)\n",
    "    with urllib.request.urlopen(resource) as s:\n",
    "        with open('wikidocs_%s.html' % page, 'wb') as f:\n",
    "            f.write(s.read())"
   ]
  },
  {
   "cell_type": "code",
   "execution_count": 22,
   "id": "42934ec5",
   "metadata": {
    "ExecuteTime": {
     "end_time": "2024-03-13T00:40:34.260211Z",
     "start_time": "2024-03-13T00:40:33.861397Z"
    }
   },
   "outputs": [],
   "source": [
    "get_wikidocs(33)"
   ]
  },
  {
   "cell_type": "markdown",
   "id": "642e2a81",
   "metadata": {
    "ExecuteTime": {
     "end_time": "2024-03-13T00:41:47.482209Z",
     "start_time": "2024-03-13T00:41:47.479947Z"
    }
   },
   "source": [
    "### webbrowser"
   ]
  },
  {
   "cell_type": "code",
   "execution_count": 24,
   "id": "502331f9",
   "metadata": {
    "ExecuteTime": {
     "end_time": "2024-03-13T00:42:12.793835Z",
     "start_time": "2024-03-13T00:42:12.598374Z"
    }
   },
   "outputs": [
    {
     "data": {
      "text/plain": [
       "True"
      ]
     },
     "execution_count": 24,
     "metadata": {},
     "output_type": "execute_result"
    }
   ],
   "source": [
    "import webbrowser\n",
    "\n",
    "webbrowser.open_new('http://python.org')"
   ]
  },
  {
   "cell_type": "markdown",
   "id": "e87c1c0f",
   "metadata": {},
   "source": [
    "### pip"
   ]
  },
  {
   "cell_type": "code",
   "execution_count": 25,
   "id": "28ffa6ff",
   "metadata": {
    "ExecuteTime": {
     "end_time": "2024-03-13T00:47:13.221187Z",
     "start_time": "2024-03-13T00:47:07.845082Z"
    }
   },
   "outputs": [
    {
     "name": "stdout",
     "output_type": "stream",
     "text": [
      "Package                           Version\n",
      "--------------------------------- ---------------\n",
      "aiobotocore                       2.5.0\n",
      "aiofiles                          22.1.0\n",
      "aiohttp                           3.8.5\n",
      "aioitertools                      0.7.1\n",
      "aiosignal                         1.2.0\n",
      "aiosqlite                         0.18.0\n",
      "alabaster                         0.7.12\n",
      "anaconda-anon-usage               0.4.2\n",
      "anaconda-catalogs                 0.2.0\n",
      "anaconda-client                   1.12.1\n",
      "anaconda-cloud-auth               0.1.3\n",
      "anaconda-navigator                2.5.0\n",
      "anaconda-project                  0.11.1\n",
      "anyio                             3.5.0\n",
      "appdirs                           1.4.4\n",
      "argon2-cffi                       21.3.0\n",
      "argon2-cffi-bindings              21.2.0\n",
      "arrow                             1.2.3\n",
      "astroid                           2.14.2\n",
      "astropy                           5.1\n",
      "asttokens                         2.0.5\n",
      "async-timeout                     4.0.2\n",
      "atomicwrites                      1.4.0\n",
      "attrs                             22.1.0\n",
      "Automat                           20.2.0\n",
      "autopep8                          1.6.0\n",
      "Babel                             2.11.0\n",
      "backcall                          0.2.0\n",
      "backports.functools-lru-cache     1.6.4\n",
      "backports.tempfile                1.0\n",
      "backports.weakref                 1.0.post1\n",
      "bcrypt                            3.2.0\n",
      "beautifulsoup4                    4.12.2\n",
      "binaryornot                       0.4.4\n",
      "black                             0.0\n",
      "bleach                            4.1.0\n",
      "bokeh                             3.2.1\n",
      "boltons                           23.0.0\n",
      "botocore                          1.29.76\n",
      "Bottleneck                        1.3.5\n",
      "brotlipy                          0.7.0\n",
      "certifi                           2023.7.22\n",
      "cffi                              1.15.1\n",
      "chardet                           4.0.0\n",
      "charset-normalizer                2.0.4\n",
      "click                             8.0.4\n",
      "cloudpickle                       2.2.1\n",
      "clyent                            1.2.2\n",
      "colorama                          0.4.6\n",
      "colorcet                          3.0.1\n",
      "comm                              0.1.2\n",
      "conda                             23.7.4\n",
      "conda-build                       3.26.1\n",
      "conda-content-trust               0.2.0\n",
      "conda_index                       0.3.0\n",
      "conda-libmamba-solver             23.7.0\n",
      "conda-pack                        0.6.0\n",
      "conda-package-handling            2.2.0\n",
      "conda_package_streaming           0.9.0\n",
      "conda-repo-cli                    1.0.75\n",
      "conda-token                       0.4.0\n",
      "conda-verify                      3.4.2\n",
      "constantly                        15.1.0\n",
      "contourpy                         1.0.5\n",
      "cookiecutter                      1.7.3\n",
      "cryptography                      41.0.3\n",
      "cssselect                         1.1.0\n",
      "cycler                            0.11.0\n",
      "cytoolz                           0.12.0\n",
      "daal4py                           2023.1.1\n",
      "dask                              2023.6.0\n",
      "datasets                          2.12.0\n",
      "datashader                        0.15.2\n",
      "datashape                         0.5.4\n",
      "debugpy                           1.6.7\n",
      "decorator                         5.1.1\n",
      "defusedxml                        0.7.1\n",
      "diff-match-patch                  20200713\n",
      "dill                              0.3.6\n",
      "distributed                       2023.6.0\n",
      "docstring-to-markdown             0.11\n",
      "docutils                          0.18.1\n",
      "entrypoints                       0.4\n",
      "et-xmlfile                        1.1.0\n",
      "executing                         0.8.3\n",
      "fastjsonschema                    2.16.2\n",
      "filelock                          3.9.0\n",
      "flake8                            6.0.0\n",
      "Flask                             2.2.2\n",
      "fonttools                         4.25.0\n",
      "frozenlist                        1.3.3\n",
      "fsspec                            2023.4.0\n",
      "future                            0.18.3\n",
      "gensim                            4.3.0\n",
      "glob2                             0.7\n",
      "greenlet                          2.0.1\n",
      "h5py                              3.9.0\n",
      "HeapDict                          1.0.1\n",
      "holoviews                         1.17.1\n",
      "huggingface-hub                   0.15.1\n",
      "hvplot                            0.8.4\n",
      "hyperlink                         21.0.0\n",
      "idna                              3.4\n",
      "imagecodecs                       2023.1.23\n",
      "imageio                           2.26.0\n",
      "imagesize                         1.4.1\n",
      "imbalanced-learn                  0.10.1\n",
      "importlib-metadata                6.0.0\n",
      "incremental                       21.3.0\n",
      "inflection                        0.5.1\n",
      "iniconfig                         1.1.1\n",
      "intake                            0.6.8\n",
      "intervaltree                      3.1.0\n",
      "ipykernel                         6.25.0\n",
      "ipython                           8.15.0\n",
      "ipython-genutils                  0.2.0\n",
      "ipywidgets                        8.0.4\n",
      "isort                             5.9.3\n",
      "itemadapter                       0.3.0\n",
      "itemloaders                       1.0.4\n",
      "itsdangerous                      2.0.1\n",
      "jaraco.classes                    3.2.1\n",
      "jedi                              0.18.1\n",
      "jellyfish                         1.0.1\n",
      "Jinja2                            3.1.2\n",
      "jinja2-time                       0.2.0\n",
      "jmespath                          0.10.0\n",
      "joblib                            1.2.0\n",
      "json5                             0.9.6\n",
      "jsonpatch                         1.32\n",
      "jsonpointer                       2.1\n",
      "jsonschema                        4.17.3\n",
      "jupyter                           1.0.0\n",
      "jupyter_client                    7.4.9\n",
      "jupyter-console                   6.6.3\n",
      "jupyter-contrib-core              0.4.2\n",
      "jupyter-contrib-nbextensions      0.7.0\n",
      "jupyter_core                      5.3.0\n",
      "jupyter-events                    0.6.3\n",
      "jupyter-highlight-selected-word   0.2.0\n",
      "jupyter-nbextensions-configurator 0.6.3\n",
      "jupyter-server                    1.23.4\n",
      "jupyter_server_fileid             0.9.0\n",
      "jupyter_server_ydoc               0.8.0\n",
      "jupyter-ydoc                      0.2.4\n",
      "jupyterlab                        3.6.3\n",
      "jupyterlab-pygments               0.1.2\n",
      "jupyterlab_server                 2.22.0\n",
      "jupyterlab-widgets                3.0.5\n",
      "jupyterthemes                     0.20.0\n",
      "kaleido                           0.2.1\n",
      "keyring                           23.13.1\n",
      "kiwisolver                        1.4.4\n",
      "lazy_loader                       0.2\n",
      "lazy-object-proxy                 1.6.0\n",
      "lesscpy                           0.15.1\n",
      "libarchive-c                      2.9\n",
      "libmambapy                        1.5.1\n",
      "linkify-it-py                     2.0.0\n",
      "llvmlite                          0.40.0\n",
      "lmdb                              1.4.1\n",
      "locket                            1.0.0\n",
      "lxml                              4.9.3\n",
      "lz4                               4.3.2\n",
      "Markdown                          3.4.1\n",
      "markdown-it-py                    2.2.0\n",
      "MarkupSafe                        2.1.1\n",
      "matplotlib                        3.7.2\n",
      "matplotlib-inline                 0.1.6\n",
      "mccabe                            0.7.0\n",
      "mdit-py-plugins                   0.3.0\n",
      "mdurl                             0.1.0\n",
      "menuinst                          1.4.19\n",
      "mistune                           0.8.4\n",
      "mkl-fft                           1.3.8\n",
      "mkl-random                        1.2.4\n",
      "mkl-service                       2.4.0\n",
      "more-itertools                    8.12.0\n",
      "mpmath                            1.3.0\n",
      "msgpack                           1.0.3\n",
      "multidict                         6.0.2\n",
      "multipledispatch                  0.6.0\n",
      "multiprocess                      0.70.14\n",
      "munkres                           1.1.4\n",
      "mypy-extensions                   1.0.0\n",
      "navigator-updater                 0.4.0\n",
      "nbclassic                         0.5.5\n",
      "nbclient                          0.5.13\n",
      "nbconvert                         6.5.4\n",
      "nbformat                          5.9.2\n",
      "nest-asyncio                      1.5.6\n",
      "networkx                          3.1\n",
      "nltk                              3.8.1\n",
      "notebook                          6.5.4\n",
      "notebook_shim                     0.2.2\n",
      "numba                             0.57.1\n",
      "numexpr                           2.8.4\n",
      "numpy                             1.24.3\n",
      "numpydoc                          1.5.0\n",
      "openpyxl                          3.0.10\n",
      "packaging                         23.1\n",
      "pandas                            2.0.3\n",
      "pandocfilters                     1.5.0\n",
      "panel                             1.2.3\n",
      "param                             1.13.0\n",
      "paramiko                          2.8.1\n",
      "parsel                            1.6.0\n",
      "parso                             0.8.3\n",
      "partd                             1.4.0\n",
      "pathlib                           1.0.1\n",
      "pathspec                          0.10.3\n",
      "patsy                             0.5.3\n",
      "pep8                              1.7.1\n",
      "pexpect                           4.8.0\n",
      "pickleshare                       0.7.5\n",
      "Pillow                            9.4.0\n",
      "pip                               23.2.1\n",
      "pkce                              1.0.3\n",
      "pkginfo                           1.9.6\n",
      "platformdirs                      3.10.0\n",
      "plotly                            5.9.0\n",
      "pluggy                            1.0.0\n",
      "ply                               3.11\n",
      "poyo                              0.5.0\n",
      "prometheus-client                 0.14.1\n",
      "prompt-toolkit                    3.0.36\n",
      "Protego                           0.1.16\n",
      "psutil                            5.9.0\n",
      "ptyprocess                        0.7.0\n",
      "pure-eval                         0.2.2\n",
      "py-cpuinfo                        8.0.0\n",
      "pyarrow                           11.0.0\n",
      "pyasn1                            0.4.8\n",
      "pyasn1-modules                    0.2.8\n",
      "pycodestyle                       2.10.0\n",
      "pycosat                           0.6.4\n",
      "pycparser                         2.21\n",
      "pyct                              0.5.0\n",
      "pycurl                            7.45.2\n",
      "pydantic                          1.10.8\n",
      "PyDispatcher                      2.0.5\n",
      "pydocstyle                        6.3.0\n",
      "pyerfa                            2.0.0\n",
      "pyflakes                          3.0.1\n",
      "Pygments                          2.15.1\n",
      "PyJWT                             2.4.0\n",
      "pylint                            2.16.2\n",
      "pylint-venv                       2.3.0\n",
      "pyls-spyder                       0.4.0\n",
      "PyNaCl                            1.5.0\n",
      "pyodbc                            4.0.34\n",
      "pyOpenSSL                         23.2.0\n",
      "pyparsing                         3.0.9\n",
      "PyQt5                             5.15.7\n",
      "PyQt5-sip                         12.11.0\n",
      "PyQtWebEngine                     5.15.4\n",
      "pyrsistent                        0.18.0\n",
      "PySocks                           1.7.1\n",
      "pytest                            7.4.0\n",
      "python-dateutil                   2.8.2\n",
      "python-dotenv                     0.21.0\n",
      "python-json-logger                2.0.7\n",
      "python-lsp-black                  1.2.1\n",
      "python-lsp-jsonrpc                1.0.0\n",
      "python-lsp-server                 1.7.2\n",
      "python-slugify                    5.0.2\n",
      "python-snappy                     0.6.1\n",
      "pytoolconfig                      1.2.5\n",
      "pytz                              2023.3.post1\n",
      "pyviz-comms                       2.3.0\n",
      "PyWavelets                        1.4.1\n",
      "pywin32                           305.1\n",
      "pywin32-ctypes                    0.2.0\n",
      "pywinpty                          2.0.10\n",
      "PyYAML                            6.0\n",
      "pyzmq                             23.2.0\n",
      "QDarkStyle                        3.0.2\n",
      "qstylizer                         0.2.2\n",
      "QtAwesome                         1.2.2\n",
      "qtconsole                         5.4.2\n",
      "QtPy                              2.2.0\n",
      "queuelib                          1.5.0\n",
      "regex                             2022.7.9\n",
      "requests                          2.31.0\n",
      "requests-file                     1.5.1\n",
      "requests-toolbelt                 1.0.0\n",
      "responses                         0.13.3\n",
      "rfc3339-validator                 0.1.4\n",
      "rfc3986-validator                 0.1.1\n",
      "rope                              1.7.0\n",
      "Rtree                             1.0.1\n",
      "ruamel.yaml                       0.17.21\n",
      "ruamel-yaml-conda                 0.17.21\n",
      "s3fs                              2023.4.0\n",
      "safetensors                       0.3.2\n",
      "scikit-image                      0.20.0\n",
      "scikit-learn                      1.3.0\n",
      "scikit-learn-intelex              20230426.121932\n",
      "scipy                             1.11.1\n",
      "Scrapy                            2.8.0\n",
      "seaborn                           0.12.2\n",
      "Send2Trash                        1.8.0\n",
      "service-identity                  18.1.0\n",
      "setuptools                        68.0.0\n",
      "sip                               6.6.2\n",
      "six                               1.16.0\n",
      "smart-open                        5.2.1\n",
      "sniffio                           1.2.0\n",
      "snowballstemmer                   2.2.0\n",
      "sortedcontainers                  2.4.0\n",
      "soupsieve                         2.4\n",
      "Sphinx                            5.0.2\n",
      "sphinxcontrib-applehelp           1.0.2\n",
      "sphinxcontrib-devhelp             1.0.2\n",
      "sphinxcontrib-htmlhelp            2.0.0\n",
      "sphinxcontrib-jsmath              1.0.1\n",
      "sphinxcontrib-qthelp              1.0.3\n",
      "sphinxcontrib-serializinghtml     1.1.5\n",
      "spyder                            5.4.3\n",
      "spyder-kernels                    2.4.4\n",
      "SQLAlchemy                        1.4.39\n",
      "stack-data                        0.2.0\n",
      "statsmodels                       0.14.0\n",
      "sympy                             1.11.1\n",
      "tables                            3.8.0\n",
      "tabulate                          0.8.10\n",
      "TBB                               0.2\n",
      "tblib                             1.7.0\n",
      "tenacity                          8.2.2\n",
      "terminado                         0.17.1\n",
      "text-unidecode                    1.3\n",
      "textdistance                      4.2.1\n",
      "threadpoolctl                     2.2.0\n",
      "three-merge                       0.1.1\n",
      "tifffile                          2023.4.12\n",
      "tinycss2                          1.2.1\n",
      "tldextract                        3.2.0\n",
      "tokenizers                        0.13.2\n",
      "toml                              0.10.2\n",
      "tomlkit                           0.11.1\n",
      "toolz                             0.12.0\n",
      "tornado                           6.3.2\n",
      "tqdm                              4.65.0\n",
      "traitlets                         5.7.1\n",
      "transformers                      4.32.1\n",
      "Twisted                           22.10.0\n",
      "twisted-iocpsupport               1.0.2\n",
      "typing_extensions                 4.7.1\n",
      "tzdata                            2023.3\n",
      "uc-micro-py                       1.0.1\n",
      "ujson                             5.4.0\n",
      "Unidecode                         1.2.0\n",
      "urllib3                           1.26.16\n",
      "w3lib                             1.21.0\n",
      "watchdog                          2.1.6\n",
      "wcwidth                           0.2.5\n",
      "webencodings                      0.5.1\n",
      "websocket-client                  0.58.0\n",
      "Werkzeug                          2.2.3\n",
      "whatthepatch                      1.0.2\n",
      "wheel                             0.38.4\n",
      "widgetsnbextension                4.0.5\n",
      "win-inet-pton                     1.1.0\n",
      "wrapt                             1.14.1\n",
      "xarray                            2023.6.0\n",
      "xlwings                           0.29.1\n",
      "xxhash                            2.0.2\n",
      "xyzservices                       2022.9.0\n",
      "y-py                              0.5.9\n",
      "yapf                              0.31.0\n",
      "yarl                              1.8.1\n",
      "ypy-websocket                     0.8.2\n",
      "zict                              2.2.0\n",
      "zipp                              3.11.0\n",
      "zope.interface                    5.4.0\n",
      "zstandard                         0.19.0\n",
      "Note: you may need to restart the kernel to use updated packages.\n"
     ]
    }
   ],
   "source": [
    "pip list"
   ]
  },
  {
   "cell_type": "markdown",
   "id": "db0d7f1f",
   "metadata": {},
   "source": [
    "### Faker"
   ]
  },
  {
   "cell_type": "code",
   "execution_count": 28,
   "id": "c6d9446e",
   "metadata": {
    "ExecuteTime": {
     "end_time": "2024-03-13T01:01:01.853376Z",
     "start_time": "2024-03-13T01:00:49.062871Z"
    }
   },
   "outputs": [
    {
     "name": "stdout",
     "output_type": "stream",
     "text": [
      "Collecting Faker\n",
      "  Obtaining dependency information for Faker from https://files.pythonhosted.org/packages/c5/ad/87c165d63be249db767227109d35e22cde75c9c941d69edc1b175f4928f0/Faker-24.1.0-py3-none-any.whl.metadata\n",
      "  Downloading Faker-24.1.0-py3-none-any.whl.metadata (15 kB)\n",
      "Requirement already satisfied: python-dateutil>=2.4 in c:\\users\\user\\anaconda3\\lib\\site-packages (from Faker) (2.8.2)\n",
      "Requirement already satisfied: six>=1.5 in c:\\users\\user\\anaconda3\\lib\\site-packages (from python-dateutil>=2.4->Faker) (1.16.0)\n",
      "Downloading Faker-24.1.0-py3-none-any.whl (1.8 MB)\n",
      "   ---------------------------------------- 0.0/1.8 MB ? eta -:--:--\n",
      "    --------------------------------------- 0.0/1.8 MB 1.3 MB/s eta 0:00:02\n",
      "   ---------- ----------------------------- 0.4/1.8 MB 6.8 MB/s eta 0:00:01\n",
      "   ---------------------- ----------------- 1.0/1.8 MB 8.8 MB/s eta 0:00:01\n",
      "   ---------------------------------- ----- 1.5/1.8 MB 9.6 MB/s eta 0:00:01\n",
      "   ---------------------------------------- 1.8/1.8 MB 9.3 MB/s eta 0:00:00\n",
      "Installing collected packages: Faker\n",
      "Successfully installed Faker-24.1.0\n",
      "Note: you may need to restart the kernel to use updated packages.\n"
     ]
    }
   ],
   "source": [
    "pip install Faker"
   ]
  },
  {
   "cell_type": "code",
   "execution_count": 29,
   "id": "7f9c4915",
   "metadata": {
    "ExecuteTime": {
     "end_time": "2024-03-13T01:06:07.677450Z",
     "start_time": "2024-03-13T01:06:07.536816Z"
    }
   },
   "outputs": [],
   "source": [
    "from faker import Faker\n",
    "fake = Faker()"
   ]
  },
  {
   "cell_type": "code",
   "execution_count": 30,
   "id": "d59b1a31",
   "metadata": {
    "ExecuteTime": {
     "end_time": "2024-03-13T01:06:19.319338Z",
     "start_time": "2024-03-13T01:06:19.315404Z"
    }
   },
   "outputs": [
    {
     "data": {
      "text/plain": [
       "'Evan Evans'"
      ]
     },
     "execution_count": 30,
     "metadata": {},
     "output_type": "execute_result"
    }
   ],
   "source": [
    "fake.name()"
   ]
  },
  {
   "cell_type": "code",
   "execution_count": 31,
   "id": "2a44311a",
   "metadata": {
    "ExecuteTime": {
     "end_time": "2024-03-13T01:06:41.445058Z",
     "start_time": "2024-03-13T01:06:41.439982Z"
    }
   },
   "outputs": [
    {
     "data": {
      "text/plain": [
       "'77171 Hughes Drive\\nLawrencetown, GU 65810'"
      ]
     },
     "execution_count": 31,
     "metadata": {},
     "output_type": "execute_result"
    }
   ],
   "source": [
    "fake.address()"
   ]
  },
  {
   "cell_type": "code",
   "execution_count": 32,
   "id": "256a2861",
   "metadata": {
    "ExecuteTime": {
     "end_time": "2024-03-13T01:07:09.615433Z",
     "start_time": "2024-03-13T01:07:09.480012Z"
    }
   },
   "outputs": [
    {
     "data": {
      "text/plain": [
       "'구승현'"
      ]
     },
     "execution_count": 32,
     "metadata": {},
     "output_type": "execute_result"
    }
   ],
   "source": [
    "fake = Faker('ko-KR')\n",
    "fake.name()"
   ]
  },
  {
   "cell_type": "code",
   "execution_count": 33,
   "id": "35f82663",
   "metadata": {
    "ExecuteTime": {
     "end_time": "2024-03-13T01:07:17.066221Z",
     "start_time": "2024-03-13T01:07:17.062875Z"
    }
   },
   "outputs": [
    {
     "data": {
      "text/plain": [
       "'세종특별자치시 북구 도산대거리 (현주문동)'"
      ]
     },
     "execution_count": 33,
     "metadata": {},
     "output_type": "execute_result"
    }
   ],
   "source": [
    "fake.address()"
   ]
  },
  {
   "cell_type": "code",
   "execution_count": 35,
   "id": "716a2058",
   "metadata": {
    "ExecuteTime": {
     "end_time": "2024-03-13T01:07:45.322158Z",
     "start_time": "2024-03-13T01:07:45.315358Z"
    }
   },
   "outputs": [
    {
     "data": {
      "text/plain": [
       "[('박아름', '대전광역시 동구 선릉69로'),\n",
       " ('권민석', '전라북도 원주시 양재천가 (성훈이면)'),\n",
       " ('황서윤', '인천광역시 중구 압구정거리 (하윤김읍)'),\n",
       " ('김아름', '서울특별시 성동구 잠실499로'),\n",
       " ('강정수', '경상남도 안산시 단원구 가락로'),\n",
       " ('김민준', '대구광역시 강서구 오금4거리 (지민김백동)'),\n",
       " ('김정호', '경상남도 홍성군 석촌호수5거리 (서영나면)'),\n",
       " ('강준영', '경상북도 서천군 봉은사001가 (성민장읍)'),\n",
       " ('황지현', '충청남도 가평군 오금길'),\n",
       " ('백종수', '울산광역시 서초구 가락길 (은서백리)'),\n",
       " ('안정식', '경기도 삼척시 도산대길'),\n",
       " ('김재현', '울산광역시 서대문구 논현70가 (진호박노리)'),\n",
       " ('윤민재', '강원도 증평군 석촌호수거리 (혜진김최읍)'),\n",
       " ('이상철', '경상남도 수원시 팔달구 삼성6거리'),\n",
       " ('최민지', '전라남도 양주시 테헤란로 (영수허면)'),\n",
       " ('노현숙', '대전광역시 동대문구 백제고분길 (준호류황면)'),\n",
       " ('윤미정', '울산광역시 강북구 압구정806길 (현주허이면)'),\n",
       " ('이예원', '대전광역시 관악구 도산대길'),\n",
       " ('김준영', '울산광역시 동구 서초중앙07가 (예지박최마을)'),\n",
       " ('강명자', '전라북도 고양시 백제고분길 (영진최안리)'),\n",
       " ('이시우', '경기도 수원시 석촌호수03로'),\n",
       " ('구지혜', '울산광역시 동구 백제고분길'),\n",
       " ('박정순', '부산광역시 동작구 서초대206로 (주원정김마을)'),\n",
       " ('최예진', '부산광역시 관악구 반포대3가 (성훈이리)'),\n",
       " ('박시우', '세종특별자치시 마포구 테헤란로'),\n",
       " ('김수민', '대전광역시 관악구 학동가 (채원서이읍)'),\n",
       " ('강영진', '광주광역시 양천구 언주69거리'),\n",
       " ('차도윤', '부산광역시 동작구 가락1가'),\n",
       " ('김정순', '경기도 고양시 테헤란거리'),\n",
       " ('박은영', '충청북도 부여군 영동대311거리 (종수최고면)')]"
      ]
     },
     "execution_count": 35,
     "metadata": {},
     "output_type": "execute_result"
    }
   ],
   "source": [
    "test_data = [(fake.name(), fake.address()) for i in range(30)]\n",
    "test_data"
   ]
  },
  {
   "cell_type": "code",
   "execution_count": 53,
   "id": "179884c9",
   "metadata": {
    "ExecuteTime": {
     "end_time": "2024-03-13T01:09:07.982992Z",
     "start_time": "2024-03-13T01:09:07.977886Z"
    }
   },
   "outputs": [
    {
     "data": {
      "text/plain": [
       "'조절 가능한 휴대형 성공'"
      ]
     },
     "execution_count": 53,
     "metadata": {},
     "output_type": "execute_result"
    }
   ],
   "source": [
    "fake.catch_phrase()"
   ]
  },
  {
   "cell_type": "code",
   "execution_count": null,
   "id": "e17e45b5",
   "metadata": {},
   "outputs": [],
   "source": []
  },
  {
   "cell_type": "code",
   "execution_count": null,
   "id": "2d0aa52d",
   "metadata": {},
   "outputs": [],
   "source": []
  },
  {
   "cell_type": "code",
   "execution_count": null,
   "id": "a52347fa",
   "metadata": {},
   "outputs": [],
   "source": []
  },
  {
   "cell_type": "code",
   "execution_count": null,
   "id": "1f5260f6",
   "metadata": {},
   "outputs": [],
   "source": []
  },
  {
   "cell_type": "code",
   "execution_count": null,
   "id": "d7e1bbf8",
   "metadata": {},
   "outputs": [],
   "source": []
  },
  {
   "cell_type": "code",
   "execution_count": null,
   "id": "fbc91033",
   "metadata": {},
   "outputs": [],
   "source": []
  },
  {
   "cell_type": "code",
   "execution_count": null,
   "id": "f2120799",
   "metadata": {},
   "outputs": [],
   "source": []
  },
  {
   "cell_type": "code",
   "execution_count": null,
   "id": "8dedf4a7",
   "metadata": {},
   "outputs": [],
   "source": []
  },
  {
   "cell_type": "code",
   "execution_count": null,
   "id": "1c6e1dc9",
   "metadata": {},
   "outputs": [],
   "source": []
  }
 ],
 "metadata": {
  "kernelspec": {
   "display_name": "Python 3 (ipykernel)",
   "language": "python",
   "name": "python3"
  },
  "language_info": {
   "codemirror_mode": {
    "name": "ipython",
    "version": 3
   },
   "file_extension": ".py",
   "mimetype": "text/x-python",
   "name": "python",
   "nbconvert_exporter": "python",
   "pygments_lexer": "ipython3",
   "version": "3.11.5"
  },
  "toc": {
   "base_numbering": 1,
   "nav_menu": {},
   "number_sections": true,
   "sideBar": true,
   "skip_h1_title": false,
   "title_cell": "Table of Contents",
   "title_sidebar": "Contents",
   "toc_cell": false,
   "toc_position": {},
   "toc_section_display": true,
   "toc_window_display": false
  },
  "varInspector": {
   "cols": {
    "lenName": 16,
    "lenType": 16,
    "lenVar": 40
   },
   "kernels_config": {
    "python": {
     "delete_cmd_postfix": "",
     "delete_cmd_prefix": "del ",
     "library": "var_list.py",
     "varRefreshCmd": "print(var_dic_list())"
    },
    "r": {
     "delete_cmd_postfix": ") ",
     "delete_cmd_prefix": "rm(",
     "library": "var_list.r",
     "varRefreshCmd": "cat(var_dic_list()) "
    }
   },
   "types_to_exclude": [
    "module",
    "function",
    "builtin_function_or_method",
    "instance",
    "_Feature"
   ],
   "window_display": false
  }
 },
 "nbformat": 4,
 "nbformat_minor": 5
}
